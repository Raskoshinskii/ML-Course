{
 "cells": [
  {
   "cell_type": "markdown",
   "id": "ae67d687",
   "metadata": {},
   "source": [
    "## Метрики в задаче регрессии 📏\n",
    "Как гласит одна замечательная фраза: \"Если ты не знаешь как что-то измерить, то ты не можешь это улучшить\". Действительно, сложно спорить. Дело в том, что цель любой ML-модели - осуществлять верные предсказания, чтобы хорошо решать определенную бизнес задачу. Я рекомендую избегать результаты экспериментов, где просто говорят, что модель \"хорошо\" или \"адекватно\" работает. Что значит \"хорошо\" или \"плохо\"? Это сколько? \n",
    "\n",
    "Как видишь, такие термины лишены деталей, которые усложняют процесс интерпретации и улучшения модели. Вместо этого было бы идеально описывать результаты своих экспериментов фразами:\n",
    "- \"В среднем модель ошибается на 10.000 руб. при прогнозировании стоимости автомобиля\"\n",
    "- \"В среднем модель ошибается на 15% от истинной цены услуги\" \n",
    "- ...\n",
    "\n",
    "Именно для этого и используются метрики.\n",
    "\n",
    "- Метрика — это некоторая математическая формула, позволяющая оценить насколько хорошо модель выполняет свою задачу. Например, точность предсказаний или качество классификации.\n",
    "\n",
    "Метрик в ML очень много, но в рамках этого ноутбука мы сфокусируемся на основных метркиах для решения задачи регрессии. Многие метрики уже имплементированы в sklearn в разделе [metrics](https://scikit-learn.org/stable/api/sklearn.metrics.html)"
   ]
  },
  {
   "cell_type": "code",
   "execution_count": 19,
   "id": "d14400a6",
   "metadata": {},
   "outputs": [],
   "source": [
    "import numpy as np\n",
    "import pandas as pd\n",
    "import warnings\n",
    "\n",
    "SEED = 23\n",
    "warnings.filterwarnings('ignore')"
   ]
  },
  {
   "cell_type": "markdown",
   "id": "d1fb8e64",
   "metadata": {},
   "source": [
    "## Данные 📊\n",
    "Я предлагаю использовать несложный датасет по оценке стоимостей автомобилей. Это неплохой вариант для нашей темы, так как целевая переменная будет содержать информацию о дешевых и дорогих автомобмилях, что отлично подходит для сравнения таких метрик как $MAE$ и $RMSE$. Датасет содержит информацию о ценах на автомобили, произведенные в США. Более подробно с датасетом можно ознакомиться [здесь](https://www.kaggle.com/datasets/hellbuoy/car-price-prediction?select=CarPrice_Assignment.csv).\n"
   ]
  },
  {
   "cell_type": "code",
   "execution_count": 27,
   "id": "cce6a389",
   "metadata": {},
   "outputs": [
    {
     "data": {
      "text/html": [
       "<div>\n",
       "<style scoped>\n",
       "    .dataframe tbody tr th:only-of-type {\n",
       "        vertical-align: middle;\n",
       "    }\n",
       "\n",
       "    .dataframe tbody tr th {\n",
       "        vertical-align: top;\n",
       "    }\n",
       "\n",
       "    .dataframe thead th {\n",
       "        text-align: right;\n",
       "    }\n",
       "</style>\n",
       "<table border=\"1\" class=\"dataframe\">\n",
       "  <thead>\n",
       "    <tr style=\"text-align: right;\">\n",
       "      <th></th>\n",
       "      <th>car_ID</th>\n",
       "      <th>symboling</th>\n",
       "      <th>CarName</th>\n",
       "      <th>fueltype</th>\n",
       "      <th>aspiration</th>\n",
       "      <th>doornumber</th>\n",
       "      <th>carbody</th>\n",
       "      <th>drivewheel</th>\n",
       "      <th>enginelocation</th>\n",
       "      <th>wheelbase</th>\n",
       "      <th>...</th>\n",
       "      <th>enginesize</th>\n",
       "      <th>fuelsystem</th>\n",
       "      <th>boreratio</th>\n",
       "      <th>stroke</th>\n",
       "      <th>compressionratio</th>\n",
       "      <th>horsepower</th>\n",
       "      <th>peakrpm</th>\n",
       "      <th>citympg</th>\n",
       "      <th>highwaympg</th>\n",
       "      <th>price</th>\n",
       "    </tr>\n",
       "  </thead>\n",
       "  <tbody>\n",
       "    <tr>\n",
       "      <th>0</th>\n",
       "      <td>1</td>\n",
       "      <td>3</td>\n",
       "      <td>alfa-romero giulia</td>\n",
       "      <td>gas</td>\n",
       "      <td>std</td>\n",
       "      <td>two</td>\n",
       "      <td>convertible</td>\n",
       "      <td>rwd</td>\n",
       "      <td>front</td>\n",
       "      <td>88.6</td>\n",
       "      <td>...</td>\n",
       "      <td>130</td>\n",
       "      <td>mpfi</td>\n",
       "      <td>3.47</td>\n",
       "      <td>2.68</td>\n",
       "      <td>9.0</td>\n",
       "      <td>111</td>\n",
       "      <td>5000</td>\n",
       "      <td>21</td>\n",
       "      <td>27</td>\n",
       "      <td>13495.0</td>\n",
       "    </tr>\n",
       "    <tr>\n",
       "      <th>1</th>\n",
       "      <td>2</td>\n",
       "      <td>3</td>\n",
       "      <td>alfa-romero stelvio</td>\n",
       "      <td>gas</td>\n",
       "      <td>std</td>\n",
       "      <td>two</td>\n",
       "      <td>convertible</td>\n",
       "      <td>rwd</td>\n",
       "      <td>front</td>\n",
       "      <td>88.6</td>\n",
       "      <td>...</td>\n",
       "      <td>130</td>\n",
       "      <td>mpfi</td>\n",
       "      <td>3.47</td>\n",
       "      <td>2.68</td>\n",
       "      <td>9.0</td>\n",
       "      <td>111</td>\n",
       "      <td>5000</td>\n",
       "      <td>21</td>\n",
       "      <td>27</td>\n",
       "      <td>16500.0</td>\n",
       "    </tr>\n",
       "    <tr>\n",
       "      <th>2</th>\n",
       "      <td>3</td>\n",
       "      <td>1</td>\n",
       "      <td>alfa-romero Quadrifoglio</td>\n",
       "      <td>gas</td>\n",
       "      <td>std</td>\n",
       "      <td>two</td>\n",
       "      <td>hatchback</td>\n",
       "      <td>rwd</td>\n",
       "      <td>front</td>\n",
       "      <td>94.5</td>\n",
       "      <td>...</td>\n",
       "      <td>152</td>\n",
       "      <td>mpfi</td>\n",
       "      <td>2.68</td>\n",
       "      <td>3.47</td>\n",
       "      <td>9.0</td>\n",
       "      <td>154</td>\n",
       "      <td>5000</td>\n",
       "      <td>19</td>\n",
       "      <td>26</td>\n",
       "      <td>16500.0</td>\n",
       "    </tr>\n",
       "    <tr>\n",
       "      <th>3</th>\n",
       "      <td>4</td>\n",
       "      <td>2</td>\n",
       "      <td>audi 100 ls</td>\n",
       "      <td>gas</td>\n",
       "      <td>std</td>\n",
       "      <td>four</td>\n",
       "      <td>sedan</td>\n",
       "      <td>fwd</td>\n",
       "      <td>front</td>\n",
       "      <td>99.8</td>\n",
       "      <td>...</td>\n",
       "      <td>109</td>\n",
       "      <td>mpfi</td>\n",
       "      <td>3.19</td>\n",
       "      <td>3.40</td>\n",
       "      <td>10.0</td>\n",
       "      <td>102</td>\n",
       "      <td>5500</td>\n",
       "      <td>24</td>\n",
       "      <td>30</td>\n",
       "      <td>13950.0</td>\n",
       "    </tr>\n",
       "    <tr>\n",
       "      <th>4</th>\n",
       "      <td>5</td>\n",
       "      <td>2</td>\n",
       "      <td>audi 100ls</td>\n",
       "      <td>gas</td>\n",
       "      <td>std</td>\n",
       "      <td>four</td>\n",
       "      <td>sedan</td>\n",
       "      <td>4wd</td>\n",
       "      <td>front</td>\n",
       "      <td>99.4</td>\n",
       "      <td>...</td>\n",
       "      <td>136</td>\n",
       "      <td>mpfi</td>\n",
       "      <td>3.19</td>\n",
       "      <td>3.40</td>\n",
       "      <td>8.0</td>\n",
       "      <td>115</td>\n",
       "      <td>5500</td>\n",
       "      <td>18</td>\n",
       "      <td>22</td>\n",
       "      <td>17450.0</td>\n",
       "    </tr>\n",
       "  </tbody>\n",
       "</table>\n",
       "<p>5 rows × 26 columns</p>\n",
       "</div>"
      ],
      "text/plain": [
       "   car_ID  symboling                   CarName fueltype aspiration doornumber  \\\n",
       "0       1          3        alfa-romero giulia      gas        std        two   \n",
       "1       2          3       alfa-romero stelvio      gas        std        two   \n",
       "2       3          1  alfa-romero Quadrifoglio      gas        std        two   \n",
       "3       4          2               audi 100 ls      gas        std       four   \n",
       "4       5          2                audi 100ls      gas        std       four   \n",
       "\n",
       "       carbody drivewheel enginelocation  wheelbase  ...  enginesize  \\\n",
       "0  convertible        rwd          front       88.6  ...         130   \n",
       "1  convertible        rwd          front       88.6  ...         130   \n",
       "2    hatchback        rwd          front       94.5  ...         152   \n",
       "3        sedan        fwd          front       99.8  ...         109   \n",
       "4        sedan        4wd          front       99.4  ...         136   \n",
       "\n",
       "   fuelsystem  boreratio  stroke compressionratio horsepower  peakrpm citympg  \\\n",
       "0        mpfi       3.47    2.68              9.0        111     5000      21   \n",
       "1        mpfi       3.47    2.68              9.0        111     5000      21   \n",
       "2        mpfi       2.68    3.47              9.0        154     5000      19   \n",
       "3        mpfi       3.19    3.40             10.0        102     5500      24   \n",
       "4        mpfi       3.19    3.40              8.0        115     5500      18   \n",
       "\n",
       "   highwaympg    price  \n",
       "0          27  13495.0  \n",
       "1          27  16500.0  \n",
       "2          26  16500.0  \n",
       "3          30  13950.0  \n",
       "4          22  17450.0  \n",
       "\n",
       "[5 rows x 26 columns]"
      ]
     },
     "execution_count": 27,
     "metadata": {},
     "output_type": "execute_result"
    }
   ],
   "source": [
    "data = pd.read_csv('../data/regression/usa_car_prices.csv')\n",
    "data.head()"
   ]
  },
  {
   "cell_type": "markdown",
   "id": "efe05578",
   "metadata": {},
   "source": [
    "- В датасете 26 фичей. Логично предположить, что не все из них важны и для построения лучше модели необходимо сделать отбор признаков - _feature selection_. В рамках нашей темы это будет избыточно, поэтому я просто сфокусируюсь на нескольких числовых признаках которые отберу по-своему предпочтению:\n",
    "    - _Кол-во лошадиных сил | horsepower_\n",
    "    - _Длина авто | carlength_\n",
    "    - _Объем двигателя | enginesize_\n",
    "    - _Вес авто_ | curbweight_\n",
    "    - _Цена автомобиля | price_"
   ]
  },
  {
   "cell_type": "code",
   "execution_count": 28,
   "id": "fbf6dfb5",
   "metadata": {},
   "outputs": [
    {
     "data": {
      "text/html": [
       "<div>\n",
       "<style scoped>\n",
       "    .dataframe tbody tr th:only-of-type {\n",
       "        vertical-align: middle;\n",
       "    }\n",
       "\n",
       "    .dataframe tbody tr th {\n",
       "        vertical-align: top;\n",
       "    }\n",
       "\n",
       "    .dataframe thead th {\n",
       "        text-align: right;\n",
       "    }\n",
       "</style>\n",
       "<table border=\"1\" class=\"dataframe\">\n",
       "  <thead>\n",
       "    <tr style=\"text-align: right;\">\n",
       "      <th></th>\n",
       "      <th>horsepower</th>\n",
       "      <th>carlength</th>\n",
       "      <th>enginesize</th>\n",
       "      <th>curbweight</th>\n",
       "      <th>price</th>\n",
       "    </tr>\n",
       "  </thead>\n",
       "  <tbody>\n",
       "    <tr>\n",
       "      <th>0</th>\n",
       "      <td>111</td>\n",
       "      <td>168.8</td>\n",
       "      <td>130</td>\n",
       "      <td>2548</td>\n",
       "      <td>13495.0</td>\n",
       "    </tr>\n",
       "    <tr>\n",
       "      <th>1</th>\n",
       "      <td>111</td>\n",
       "      <td>168.8</td>\n",
       "      <td>130</td>\n",
       "      <td>2548</td>\n",
       "      <td>16500.0</td>\n",
       "    </tr>\n",
       "    <tr>\n",
       "      <th>2</th>\n",
       "      <td>154</td>\n",
       "      <td>171.2</td>\n",
       "      <td>152</td>\n",
       "      <td>2823</td>\n",
       "      <td>16500.0</td>\n",
       "    </tr>\n",
       "    <tr>\n",
       "      <th>3</th>\n",
       "      <td>102</td>\n",
       "      <td>176.6</td>\n",
       "      <td>109</td>\n",
       "      <td>2337</td>\n",
       "      <td>13950.0</td>\n",
       "    </tr>\n",
       "    <tr>\n",
       "      <th>4</th>\n",
       "      <td>115</td>\n",
       "      <td>176.6</td>\n",
       "      <td>136</td>\n",
       "      <td>2824</td>\n",
       "      <td>17450.0</td>\n",
       "    </tr>\n",
       "  </tbody>\n",
       "</table>\n",
       "</div>"
      ],
      "text/plain": [
       "   horsepower  carlength  enginesize  curbweight    price\n",
       "0         111      168.8         130        2548  13495.0\n",
       "1         111      168.8         130        2548  16500.0\n",
       "2         154      171.2         152        2823  16500.0\n",
       "3         102      176.6         109        2337  13950.0\n",
       "4         115      176.6         136        2824  17450.0"
      ]
     },
     "execution_count": 28,
     "metadata": {},
     "output_type": "execute_result"
    }
   ],
   "source": [
    "# отбираем признаки\n",
    "features = [\n",
    "    'horsepower',\n",
    "    'carlength',\n",
    "    'enginesize',\n",
    "    'curbweight',\n",
    "    'price'\n",
    "]\n",
    "\n",
    "df = data[features]\n",
    "df.head()"
   ]
  },
  {
   "cell_type": "markdown",
   "id": "385c9bce",
   "metadata": {},
   "source": [
    "Давай обучим простую модель регресии и сравним прогнозы модели с известными значениями"
   ]
  },
  {
   "cell_type": "code",
   "execution_count": 42,
   "id": "f1b98faf",
   "metadata": {},
   "outputs": [
    {
     "data": {
      "text/html": [
       "<div>\n",
       "<style scoped>\n",
       "    .dataframe tbody tr th:only-of-type {\n",
       "        vertical-align: middle;\n",
       "    }\n",
       "\n",
       "    .dataframe tbody tr th {\n",
       "        vertical-align: top;\n",
       "    }\n",
       "\n",
       "    .dataframe thead th {\n",
       "        text-align: right;\n",
       "    }\n",
       "</style>\n",
       "<table border=\"1\" class=\"dataframe\">\n",
       "  <thead>\n",
       "    <tr style=\"text-align: right;\">\n",
       "      <th></th>\n",
       "      <th>true</th>\n",
       "      <th>pred</th>\n",
       "      <th>error</th>\n",
       "    </tr>\n",
       "  </thead>\n",
       "  <tbody>\n",
       "    <tr>\n",
       "      <th>74</th>\n",
       "      <td>45400.0</td>\n",
       "      <td>33459.814874</td>\n",
       "      <td>11940.185126</td>\n",
       "    </tr>\n",
       "    <tr>\n",
       "      <th>51</th>\n",
       "      <td>6095.0</td>\n",
       "      <td>5441.606425</td>\n",
       "      <td>653.393575</td>\n",
       "    </tr>\n",
       "    <tr>\n",
       "      <th>46</th>\n",
       "      <td>11048.0</td>\n",
       "      <td>12783.570040</td>\n",
       "      <td>-1735.570040</td>\n",
       "    </tr>\n",
       "    <tr>\n",
       "      <th>14</th>\n",
       "      <td>24565.0</td>\n",
       "      <td>18848.847159</td>\n",
       "      <td>5716.152841</td>\n",
       "    </tr>\n",
       "    <tr>\n",
       "      <th>18</th>\n",
       "      <td>5151.0</td>\n",
       "      <td>205.239611</td>\n",
       "      <td>4945.760389</td>\n",
       "    </tr>\n",
       "  </tbody>\n",
       "</table>\n",
       "</div>"
      ],
      "text/plain": [
       "       true          pred         error\n",
       "74  45400.0  33459.814874  11940.185126\n",
       "51   6095.0   5441.606425    653.393575\n",
       "46  11048.0  12783.570040  -1735.570040\n",
       "14  24565.0  18848.847159   5716.152841\n",
       "18   5151.0    205.239611   4945.760389"
      ]
     },
     "execution_count": 42,
     "metadata": {},
     "output_type": "execute_result"
    }
   ],
   "source": [
    "from sklearn.linear_model import LinearRegression\n",
    "from sklearn.model_selection import train_test_split\n",
    "from sklearn.preprocessing import StandardScaler\n",
    "\n",
    "# как всегда, вначале разобьем данные на train и test\n",
    "X = df.drop('price', axis=1)\n",
    "y = df['price']\n",
    "X_train, X_test, y_train, y_test = train_test_split(X, y, test_size=0.3, random_state=SEED, shuffle=True)\n",
    "\n",
    "# осуществляем масштабирование\n",
    "scaler = StandardScaler()\n",
    "X_train_scaled = scaler.fit_transform(X_train)\n",
    "X_test_scaled = scaler.transform(X_test)\n",
    "\n",
    "# обучим модель\n",
    "model = LinearRegression()\n",
    "model.fit(X_train_scaled, y_train)\n",
    "\n",
    "# спрогнозируем на test\n",
    "y_pred = model.predict(X_test_scaled)\n",
    "\n",
    "# cформируем таблицу с истинными и предсказанными значениями\n",
    "metrics_results = pd.DataFrame({'true': y_test, 'pred': y_pred.flatten()})\n",
    "metrics_results['error'] = metrics_results['true'] - metrics_results['pred']\n",
    "metrics_results.head()"
   ]
  },
  {
   "cell_type": "markdown",
   "id": "7df46ca3",
   "metadata": {},
   "source": [
    "Отлично, теперь у нас есть ошибка на каждом объекте выборки. Однако, мы ведь не можем судить о качестве модели, используя лишь 1 объект? Необходимо учитывать все объекты, какие есть варианты?\n",
    "- _\"Суммирование отклонения_\": не подходит, так как произойдет компенсация ошибки. Например, если отклонения -2 и 2, то сумма равна 0. Получается что ошибки нет, однако это не так\n",
    "- _\"Квадрат отклонения_\": подходит, компенсации ошибки не не произойдет\n",
    "- _\"Абсолютное отклонение_\": подходит, компенсации ошибки ткакже не происходит"
   ]
  },
  {
   "cell_type": "code",
   "execution_count": 57,
   "id": "78ba6d77",
   "metadata": {},
   "outputs": [
    {
     "name": "stdout",
     "output_type": "stream",
     "text": [
      "Сумма отклонений: 67038.65\n",
      "Сумма квадратов отклонений: 1078337927.81\n",
      "Сумма абсолютных отклонений: 178092.24\n"
     ]
    }
   ],
   "source": [
    "# давай посмотрим какие ошибки мы получим, используя методы выше\n",
    "sum_error = metrics_results['error'].sum().item()\n",
    "sum_squared_error= (metrics_results['error'] ** 2).sum().item()\n",
    "sum_abs_error = metrics_results['error'].abs().sum().item()\n",
    "\n",
    "print(f\"Сумма отклонений: {sum_error:.2f}\")\n",
    "print(f\"Сумма квадратов отклонений: {sum_squared_error:.2f}\")\n",
    "print(f\"Сумма абсолютных отклонений: {sum_abs_error:.2f}\")"
   ]
  },
  {
   "cell_type": "markdown",
   "id": "110be065",
   "metadata": {},
   "source": [
    "Полученные ошибки - накопительные, а нам бы желательно понимать как, например, модель ошибается в среднем, поэтому давай просто усредним полученные значения. "
   ]
  },
  {
   "cell_type": "code",
   "execution_count": 58,
   "id": "cbe1a130",
   "metadata": {},
   "outputs": [
    {
     "name": "stdout",
     "output_type": "stream",
     "text": [
      "Средняя сумма отклонений: 1081.27\n",
      "Средняя сумма квадратов отклонений: 17392547.22\n",
      "Средняя сумма абсолютных отклонений: 2872.46\n"
     ]
    }
   ],
   "source": [
    "n = metrics_results.shape[0]\n",
    "mean_sum_error = sum_error / n\n",
    "mean_squared_error = sum_squared_error / n\n",
    "mean_abs_error = sum_abs_error / n\n",
    "\n",
    "print(f\"Средняя сумма отклонений: {mean_sum_error:.2f}\")\n",
    "print(f\"Средняя сумма квадратов отклонений: {mean_squared_error:.2f}\")\n",
    "print(f\"Средняя сумма абсолютных отклонений: {mean_abs_error:.2f}\")"
   ]
  },
  {
   "cell_type": "markdown",
   "id": "6e41e74c",
   "metadata": {},
   "source": [
    "Теперь полученные метрики отражают <u>усредненную</u> ошибку модели для всех объектов выборки, то что нам нужно! Как мы обсудили выше - некорректо использовать \"среднюю сумму отклонения\" из-за компенсации. Оставшивеся 2 метрики действительно используются в машинном обучении и называются соответственно _среднеквадратичная_ и _среднеабсолютная_ ошибки о которых мы поговорим далее"
   ]
  },
  {
   "cell_type": "markdown",
   "id": "e3145be2",
   "metadata": {},
   "source": [
    "## Среднеквадратичная ошибка | Mean Squared Error | MSE\n",
    "$$ MSE = \\frac{1}{n}\\sum_{i=1}^{n} (y_i - \\hat{y}_i)^2$$\n",
    "\n",
    "$MSE$ — одна из самых популярных метрик для регрессионных моделей. Она измеряет средний квадрат разницы между реальными значениями $y_i$ и предсказаниями $\\hat{y}_i$.\n",
    "\n",
    "Интуитивно, $MSE$ показывает, как сильно в среднем ошибается модель. Давай взглянем на вид функциональной зависимсоти ошибки. Ну так как это квадратичная ошибка, то график должен быть похож на параболу"
   ]
  },
  {
   "cell_type": "code",
   "execution_count": 70,
   "id": "17c89d1d",
   "metadata": {},
   "outputs": [
    {
     "data": {
      "application/vnd.plotly.v1+json": {
       "config": {
        "plotlyServerURL": "https://plot.ly"
       },
       "data": [
        {
         "hovertemplate": "Отклонение=%{x}<br>Ошибка=%{y}<extra></extra>",
         "legendgroup": "",
         "line": {
          "color": "#636efa",
          "dash": "solid"
         },
         "marker": {
          "symbol": "circle"
         },
         "mode": "lines",
         "name": "",
         "orientation": "v",
         "showlegend": false,
         "type": "scatter",
         "x": {
          "bdata": "CJsYNoQEtcBQm0eRyIe0wOBt4LV4nLHAoIAOl4/or8DgSt2PjISuwOAjDVWDY67AQA+eyF3CrMDIi5oqqfWmwNATBAAPgaLAuC+Y7/oWosBsc4Lf+NmhwEj/XkcX6p/AoGwouQ8xn8BgAhPyZySdwCCXr7hHHpvAUIlyhJFWlsDgYeclW8KSwGDB1mIwJI/AoDKMK0O1hcCwZMXLYBqDwKCyKMSp4ILAwN3J3lxbgcCgEuUIIz2AwKAzX7WYNXnAwCb/XclPZMAA9nsjb/JSwAD8rKs3vzPAAIBNl9XBM0AAaO884iRRQACYgYgT63ZAAMXz//PDfEBAQcvBgTZ/QMCn/SyCpYBAwKf9LIKlgEDYk+SAcWCEQOBxgwoma4RAsNWk8dPLhEDgQVzDCGyJQMSQ8w8QOZBAeBqV6niZkEDAZtZRiKKQQAS2ZMh7TZJAWHsSjvq+k0CgZRDyV7uUQOitUqphTp1AWA/fv2umoUDMp8Epp5elQPAv2s4aqqdAYsj5B4iXrEC29c1CQWqxQGgtaqenq7FAilrTqMJRs0CIUNIAGAS1QJbtLaGbd7VA3BmbICdUtkBIgyQvTs+2QLC17fvYt7dAYGg/gQxrvUB0WVWfUdjDQHSHULtc+sNAHLc2shdSx0AA3zMmgk/MQA==",
          "dtype": "f8"
         },
         "xaxis": "x",
         "y": {
          "bdata": "jyBgVNybe0HK0Zi99Vd6QRQy5rd6YnNBWrw+WTDRb0FlO8uXrBptQdDlMbbL22xBKfJHscDYaUHpKG+EJnlgQVt+98FyZlVBOduInNVzVEG/BMNYyupTQSnLzI491E9BCBjtrllnTkGVxPTRJYpKQfZXw641+0ZBxD22jeQvP0G/Bqf5hf41QZOjp6xGTi5BCkYj09VzHUENqNRg0c4WQbJO2ZHQRRZBoj3uCy/UEkHdrjqtL3sQQRFLFmAY3ANBUmRkSQXJ2UD4S8x002+2QPhLn3kRX3hAto9dg4dleECn7A3ItV6yQMkMo8L5aQBB9oLu7JrbCUF1A3Y/+HEOQbxa/mq0URFBvFr+arRREUE1WWsXYfMZQbqsb6esDhpBg1AnebYHG0EBPGlsOjIkQeboaKLrcjBBtmRC8bE4MUEAdK+wg0sxQbsFCb7N7zRBkrhtn3peOEEYpMZ27dw6QWRC/gHR1kpBXvRc9md4U0HO96I3tCNdQYLoRcYOgGFBzKcCnPuLaUH7ArVPjPRyQajbONr1g3NB95cjHdBTd0EEf0wOwJp7QQnk/6d2zXxB45LgNCYpf0H9IhN9SkKAQcR0pilolIFBMijoxWwLi0FWGNl3Lp2YQetI1tDp8ZhBsouxqdT+oEHwvIhP6QupQQ==",
          "dtype": "f8"
         },
         "yaxis": "y"
        },
        {
         "mode": "markers",
         "name": "points",
         "type": "scatter",
         "x": {
          "bdata": "CJsYNoQEtcBQm0eRyIe0wOBt4LV4nLHAoIAOl4/or8DgSt2PjISuwOAjDVWDY67AQA+eyF3CrMDIi5oqqfWmwNATBAAPgaLAuC+Y7/oWosBsc4Lf+NmhwEj/XkcX6p/AoGwouQ8xn8BgAhPyZySdwCCXr7hHHpvAUIlyhJFWlsDgYeclW8KSwGDB1mIwJI/AoDKMK0O1hcCwZMXLYBqDwKCyKMSp4ILAwN3J3lxbgcCgEuUIIz2AwKAzX7WYNXnAwCb/XclPZMAA9nsjb/JSwAD8rKs3vzPAAIBNl9XBM0AAaO884iRRQACYgYgT63ZAAMXz//PDfEBAQcvBgTZ/QMCn/SyCpYBAwKf9LIKlgEDYk+SAcWCEQOBxgwoma4RAsNWk8dPLhEDgQVzDCGyJQMSQ8w8QOZBAeBqV6niZkEDAZtZRiKKQQAS2ZMh7TZJAWHsSjvq+k0CgZRDyV7uUQOitUqphTp1AWA/fv2umoUDMp8Epp5elQPAv2s4aqqdAYsj5B4iXrEC29c1CQWqxQGgtaqenq7FAilrTqMJRs0CIUNIAGAS1QJbtLaGbd7VA3BmbICdUtkBIgyQvTs+2QLC17fvYt7dAYGg/gQxrvUB0WVWfUdjDQHSHULtc+sNAHLc2shdSx0AA3zMmgk/MQA==",
          "dtype": "f8"
         },
         "y": {
          "bdata": "jyBgVNybe0HK0Zi99Vd6QRQy5rd6YnNBWrw+WTDRb0FlO8uXrBptQdDlMbbL22xBKfJHscDYaUHpKG+EJnlgQVt+98FyZlVBOduInNVzVEG/BMNYyupTQSnLzI491E9BCBjtrllnTkGVxPTRJYpKQfZXw641+0ZBxD22jeQvP0G/Bqf5hf41QZOjp6xGTi5BCkYj09VzHUENqNRg0c4WQbJO2ZHQRRZBoj3uCy/UEkHdrjqtL3sQQRFLFmAY3ANBUmRkSQXJ2UD4S8x002+2QPhLn3kRX3hAto9dg4dleECn7A3ItV6yQMkMo8L5aQBB9oLu7JrbCUF1A3Y/+HEOQbxa/mq0URFBvFr+arRREUE1WWsXYfMZQbqsb6esDhpBg1AnebYHG0EBPGlsOjIkQeboaKLrcjBBtmRC8bE4MUEAdK+wg0sxQbsFCb7N7zRBkrhtn3peOEEYpMZ27dw6QWRC/gHR1kpBXvRc9md4U0HO96I3tCNdQYLoRcYOgGFBzKcCnPuLaUH7ArVPjPRyQajbONr1g3NB95cjHdBTd0EEf0wOwJp7QQnk/6d2zXxB45LgNCYpf0H9IhN9SkKAQcR0pilolIFBMijoxWwLi0FWGNl3Lp2YQetI1tDp8ZhBsouxqdT+oEHwvIhP6QupQQ==",
          "dtype": "f8"
         }
        }
       ],
       "layout": {
        "height": 700,
        "legend": {
         "tracegroupgap": 0
        },
        "showlegend": true,
        "template": {
         "data": {
          "bar": [
           {
            "error_x": {
             "color": "#2a3f5f"
            },
            "error_y": {
             "color": "#2a3f5f"
            },
            "marker": {
             "line": {
              "color": "#E5ECF6",
              "width": 0.5
             },
             "pattern": {
              "fillmode": "overlay",
              "size": 10,
              "solidity": 0.2
             }
            },
            "type": "bar"
           }
          ],
          "barpolar": [
           {
            "marker": {
             "line": {
              "color": "#E5ECF6",
              "width": 0.5
             },
             "pattern": {
              "fillmode": "overlay",
              "size": 10,
              "solidity": 0.2
             }
            },
            "type": "barpolar"
           }
          ],
          "carpet": [
           {
            "aaxis": {
             "endlinecolor": "#2a3f5f",
             "gridcolor": "white",
             "linecolor": "white",
             "minorgridcolor": "white",
             "startlinecolor": "#2a3f5f"
            },
            "baxis": {
             "endlinecolor": "#2a3f5f",
             "gridcolor": "white",
             "linecolor": "white",
             "minorgridcolor": "white",
             "startlinecolor": "#2a3f5f"
            },
            "type": "carpet"
           }
          ],
          "choropleth": [
           {
            "colorbar": {
             "outlinewidth": 0,
             "ticks": ""
            },
            "type": "choropleth"
           }
          ],
          "contour": [
           {
            "colorbar": {
             "outlinewidth": 0,
             "ticks": ""
            },
            "colorscale": [
             [
              0,
              "#0d0887"
             ],
             [
              0.1111111111111111,
              "#46039f"
             ],
             [
              0.2222222222222222,
              "#7201a8"
             ],
             [
              0.3333333333333333,
              "#9c179e"
             ],
             [
              0.4444444444444444,
              "#bd3786"
             ],
             [
              0.5555555555555556,
              "#d8576b"
             ],
             [
              0.6666666666666666,
              "#ed7953"
             ],
             [
              0.7777777777777778,
              "#fb9f3a"
             ],
             [
              0.8888888888888888,
              "#fdca26"
             ],
             [
              1,
              "#f0f921"
             ]
            ],
            "type": "contour"
           }
          ],
          "contourcarpet": [
           {
            "colorbar": {
             "outlinewidth": 0,
             "ticks": ""
            },
            "type": "contourcarpet"
           }
          ],
          "heatmap": [
           {
            "colorbar": {
             "outlinewidth": 0,
             "ticks": ""
            },
            "colorscale": [
             [
              0,
              "#0d0887"
             ],
             [
              0.1111111111111111,
              "#46039f"
             ],
             [
              0.2222222222222222,
              "#7201a8"
             ],
             [
              0.3333333333333333,
              "#9c179e"
             ],
             [
              0.4444444444444444,
              "#bd3786"
             ],
             [
              0.5555555555555556,
              "#d8576b"
             ],
             [
              0.6666666666666666,
              "#ed7953"
             ],
             [
              0.7777777777777778,
              "#fb9f3a"
             ],
             [
              0.8888888888888888,
              "#fdca26"
             ],
             [
              1,
              "#f0f921"
             ]
            ],
            "type": "heatmap"
           }
          ],
          "histogram": [
           {
            "marker": {
             "pattern": {
              "fillmode": "overlay",
              "size": 10,
              "solidity": 0.2
             }
            },
            "type": "histogram"
           }
          ],
          "histogram2d": [
           {
            "colorbar": {
             "outlinewidth": 0,
             "ticks": ""
            },
            "colorscale": [
             [
              0,
              "#0d0887"
             ],
             [
              0.1111111111111111,
              "#46039f"
             ],
             [
              0.2222222222222222,
              "#7201a8"
             ],
             [
              0.3333333333333333,
              "#9c179e"
             ],
             [
              0.4444444444444444,
              "#bd3786"
             ],
             [
              0.5555555555555556,
              "#d8576b"
             ],
             [
              0.6666666666666666,
              "#ed7953"
             ],
             [
              0.7777777777777778,
              "#fb9f3a"
             ],
             [
              0.8888888888888888,
              "#fdca26"
             ],
             [
              1,
              "#f0f921"
             ]
            ],
            "type": "histogram2d"
           }
          ],
          "histogram2dcontour": [
           {
            "colorbar": {
             "outlinewidth": 0,
             "ticks": ""
            },
            "colorscale": [
             [
              0,
              "#0d0887"
             ],
             [
              0.1111111111111111,
              "#46039f"
             ],
             [
              0.2222222222222222,
              "#7201a8"
             ],
             [
              0.3333333333333333,
              "#9c179e"
             ],
             [
              0.4444444444444444,
              "#bd3786"
             ],
             [
              0.5555555555555556,
              "#d8576b"
             ],
             [
              0.6666666666666666,
              "#ed7953"
             ],
             [
              0.7777777777777778,
              "#fb9f3a"
             ],
             [
              0.8888888888888888,
              "#fdca26"
             ],
             [
              1,
              "#f0f921"
             ]
            ],
            "type": "histogram2dcontour"
           }
          ],
          "mesh3d": [
           {
            "colorbar": {
             "outlinewidth": 0,
             "ticks": ""
            },
            "type": "mesh3d"
           }
          ],
          "parcoords": [
           {
            "line": {
             "colorbar": {
              "outlinewidth": 0,
              "ticks": ""
             }
            },
            "type": "parcoords"
           }
          ],
          "pie": [
           {
            "automargin": true,
            "type": "pie"
           }
          ],
          "scatter": [
           {
            "fillpattern": {
             "fillmode": "overlay",
             "size": 10,
             "solidity": 0.2
            },
            "type": "scatter"
           }
          ],
          "scatter3d": [
           {
            "line": {
             "colorbar": {
              "outlinewidth": 0,
              "ticks": ""
             }
            },
            "marker": {
             "colorbar": {
              "outlinewidth": 0,
              "ticks": ""
             }
            },
            "type": "scatter3d"
           }
          ],
          "scattercarpet": [
           {
            "marker": {
             "colorbar": {
              "outlinewidth": 0,
              "ticks": ""
             }
            },
            "type": "scattercarpet"
           }
          ],
          "scattergeo": [
           {
            "marker": {
             "colorbar": {
              "outlinewidth": 0,
              "ticks": ""
             }
            },
            "type": "scattergeo"
           }
          ],
          "scattergl": [
           {
            "marker": {
             "colorbar": {
              "outlinewidth": 0,
              "ticks": ""
             }
            },
            "type": "scattergl"
           }
          ],
          "scattermap": [
           {
            "marker": {
             "colorbar": {
              "outlinewidth": 0,
              "ticks": ""
             }
            },
            "type": "scattermap"
           }
          ],
          "scattermapbox": [
           {
            "marker": {
             "colorbar": {
              "outlinewidth": 0,
              "ticks": ""
             }
            },
            "type": "scattermapbox"
           }
          ],
          "scatterpolar": [
           {
            "marker": {
             "colorbar": {
              "outlinewidth": 0,
              "ticks": ""
             }
            },
            "type": "scatterpolar"
           }
          ],
          "scatterpolargl": [
           {
            "marker": {
             "colorbar": {
              "outlinewidth": 0,
              "ticks": ""
             }
            },
            "type": "scatterpolargl"
           }
          ],
          "scatterternary": [
           {
            "marker": {
             "colorbar": {
              "outlinewidth": 0,
              "ticks": ""
             }
            },
            "type": "scatterternary"
           }
          ],
          "surface": [
           {
            "colorbar": {
             "outlinewidth": 0,
             "ticks": ""
            },
            "colorscale": [
             [
              0,
              "#0d0887"
             ],
             [
              0.1111111111111111,
              "#46039f"
             ],
             [
              0.2222222222222222,
              "#7201a8"
             ],
             [
              0.3333333333333333,
              "#9c179e"
             ],
             [
              0.4444444444444444,
              "#bd3786"
             ],
             [
              0.5555555555555556,
              "#d8576b"
             ],
             [
              0.6666666666666666,
              "#ed7953"
             ],
             [
              0.7777777777777778,
              "#fb9f3a"
             ],
             [
              0.8888888888888888,
              "#fdca26"
             ],
             [
              1,
              "#f0f921"
             ]
            ],
            "type": "surface"
           }
          ],
          "table": [
           {
            "cells": {
             "fill": {
              "color": "#EBF0F8"
             },
             "line": {
              "color": "white"
             }
            },
            "header": {
             "fill": {
              "color": "#C8D4E3"
             },
             "line": {
              "color": "white"
             }
            },
            "type": "table"
           }
          ]
         },
         "layout": {
          "annotationdefaults": {
           "arrowcolor": "#2a3f5f",
           "arrowhead": 0,
           "arrowwidth": 1
          },
          "autotypenumbers": "strict",
          "coloraxis": {
           "colorbar": {
            "outlinewidth": 0,
            "ticks": ""
           }
          },
          "colorscale": {
           "diverging": [
            [
             0,
             "#8e0152"
            ],
            [
             0.1,
             "#c51b7d"
            ],
            [
             0.2,
             "#de77ae"
            ],
            [
             0.3,
             "#f1b6da"
            ],
            [
             0.4,
             "#fde0ef"
            ],
            [
             0.5,
             "#f7f7f7"
            ],
            [
             0.6,
             "#e6f5d0"
            ],
            [
             0.7,
             "#b8e186"
            ],
            [
             0.8,
             "#7fbc41"
            ],
            [
             0.9,
             "#4d9221"
            ],
            [
             1,
             "#276419"
            ]
           ],
           "sequential": [
            [
             0,
             "#0d0887"
            ],
            [
             0.1111111111111111,
             "#46039f"
            ],
            [
             0.2222222222222222,
             "#7201a8"
            ],
            [
             0.3333333333333333,
             "#9c179e"
            ],
            [
             0.4444444444444444,
             "#bd3786"
            ],
            [
             0.5555555555555556,
             "#d8576b"
            ],
            [
             0.6666666666666666,
             "#ed7953"
            ],
            [
             0.7777777777777778,
             "#fb9f3a"
            ],
            [
             0.8888888888888888,
             "#fdca26"
            ],
            [
             1,
             "#f0f921"
            ]
           ],
           "sequentialminus": [
            [
             0,
             "#0d0887"
            ],
            [
             0.1111111111111111,
             "#46039f"
            ],
            [
             0.2222222222222222,
             "#7201a8"
            ],
            [
             0.3333333333333333,
             "#9c179e"
            ],
            [
             0.4444444444444444,
             "#bd3786"
            ],
            [
             0.5555555555555556,
             "#d8576b"
            ],
            [
             0.6666666666666666,
             "#ed7953"
            ],
            [
             0.7777777777777778,
             "#fb9f3a"
            ],
            [
             0.8888888888888888,
             "#fdca26"
            ],
            [
             1,
             "#f0f921"
            ]
           ]
          },
          "colorway": [
           "#636efa",
           "#EF553B",
           "#00cc96",
           "#ab63fa",
           "#FFA15A",
           "#19d3f3",
           "#FF6692",
           "#B6E880",
           "#FF97FF",
           "#FECB52"
          ],
          "font": {
           "color": "#2a3f5f"
          },
          "geo": {
           "bgcolor": "white",
           "lakecolor": "white",
           "landcolor": "#E5ECF6",
           "showlakes": true,
           "showland": true,
           "subunitcolor": "white"
          },
          "hoverlabel": {
           "align": "left"
          },
          "hovermode": "closest",
          "mapbox": {
           "style": "light"
          },
          "paper_bgcolor": "white",
          "plot_bgcolor": "#E5ECF6",
          "polar": {
           "angularaxis": {
            "gridcolor": "white",
            "linecolor": "white",
            "ticks": ""
           },
           "bgcolor": "#E5ECF6",
           "radialaxis": {
            "gridcolor": "white",
            "linecolor": "white",
            "ticks": ""
           }
          },
          "scene": {
           "xaxis": {
            "backgroundcolor": "#E5ECF6",
            "gridcolor": "white",
            "gridwidth": 2,
            "linecolor": "white",
            "showbackground": true,
            "ticks": "",
            "zerolinecolor": "white"
           },
           "yaxis": {
            "backgroundcolor": "#E5ECF6",
            "gridcolor": "white",
            "gridwidth": 2,
            "linecolor": "white",
            "showbackground": true,
            "ticks": "",
            "zerolinecolor": "white"
           },
           "zaxis": {
            "backgroundcolor": "#E5ECF6",
            "gridcolor": "white",
            "gridwidth": 2,
            "linecolor": "white",
            "showbackground": true,
            "ticks": "",
            "zerolinecolor": "white"
           }
          },
          "shapedefaults": {
           "line": {
            "color": "#2a3f5f"
           }
          },
          "ternary": {
           "aaxis": {
            "gridcolor": "white",
            "linecolor": "white",
            "ticks": ""
           },
           "baxis": {
            "gridcolor": "white",
            "linecolor": "white",
            "ticks": ""
           },
           "bgcolor": "#E5ECF6",
           "caxis": {
            "gridcolor": "white",
            "linecolor": "white",
            "ticks": ""
           }
          },
          "title": {
           "x": 0.05
          },
          "xaxis": {
           "automargin": true,
           "gridcolor": "white",
           "linecolor": "white",
           "ticks": "",
           "title": {
            "standoff": 15
           },
           "zerolinecolor": "white",
           "zerolinewidth": 2
          },
          "yaxis": {
           "automargin": true,
           "gridcolor": "white",
           "linecolor": "white",
           "ticks": "",
           "title": {
            "standoff": 15
           },
           "zerolinecolor": "white",
           "zerolinewidth": 2
          }
         }
        },
        "title": {
         "text": "Квадратичная ошибка | Squared Error"
        },
        "width": 800,
        "xaxis": {
         "anchor": "y",
         "domain": [
          0,
          1
         ],
         "title": {
          "text": "Отклонение"
         }
        },
        "yaxis": {
         "anchor": "x",
         "domain": [
          0,
          1
         ],
         "title": {
          "text": "Ошибка"
         }
        }
       }
      }
     },
     "metadata": {},
     "output_type": "display_data"
    }
   ],
   "source": [
    "import plotly.express as px\n",
    "\n",
    "# ошибки\n",
    "error = metrics_results['error']\n",
    "squared_error = metrics_results['error'] ** 2\n",
    "\n",
    "# сортировка чтобы красиво отрисовалось\n",
    "error_df = pd.DataFrame({\n",
    "    \"error\": error,\n",
    "    \"squared_error\": squared_error\n",
    "}).sort_values(\"error\")\n",
    "\n",
    "fig = px.line(\n",
    "    error_df,\n",
    "    x=\"error\",\n",
    "    y=\"squared_error\",\n",
    "    title=\"Mean Squared Error\",\n",
    "    labels={\"error\": \"Отклонение\", \"squared_error\": \"Ошибка\"}\n",
    ")\n",
    "\n",
    "fig.add_scatter(\n",
    "    x=error_df[\"error\"], y=error_df[\"squared_error\"], mode=\"markers\", name=\"points\"\n",
    ")\n",
    "\n",
    "fig.update_layout(\n",
    "    height=700, width=800,\n",
    "    title_text=\"Квадратичная ошибка | Squared Error\",\n",
    "    showlegend=True\n",
    ")"
   ]
  },
  {
   "cell_type": "markdown",
   "id": "0a6e694c",
   "metadata": {},
   "source": [
    "Хмм, ну и где парабола? Да, график похож на нее, но почему правая чсть длинее левой? В чем может быть причина?\n",
    "\n",
    "<!-- Ответ\n",
    "Дело в том, что распределение цены авто не является нормальным/симметричным - есть небольшое кол-во наблюдений с большой ценой. Следовательно, это приводит к большим положительным отклонениям которые делают распределение ошибки несимметричным. Скорее всего распределение таргета имеет длинный правый хвост, на котором модель занижает прогноз. Если бы в выборке было достаточно дорогих авто, модель научилась бы лучше предсказывать их стоимость, и хвост распределения ошибок был бы более симметричным.\n",
    "-->"
   ]
  },
  {
   "cell_type": "code",
   "execution_count": 71,
   "id": "8dc82fdd",
   "metadata": {},
   "outputs": [],
   "source": [
    "# твои мысли 🧠"
   ]
  },
  {
   "cell_type": "markdown",
   "id": "ec79fc93",
   "metadata": {},
   "source": [
    "Чтобы убедиться, что ошибка действительно симметричная давай зафиксируем диапазон отклонения, например будем рассматривать только от $[-5.5k, 5.5k]$"
   ]
  },
  {
   "cell_type": "code",
   "execution_count": 77,
   "id": "073e2076",
   "metadata": {},
   "outputs": [
    {
     "data": {
      "application/vnd.plotly.v1+json": {
       "config": {
        "plotlyServerURL": "https://plot.ly"
       },
       "data": [
        {
         "hovertemplate": "Отклонение=%{x}<br>Ошибка=%{y}<extra></extra>",
         "legendgroup": "",
         "line": {
          "color": "#636efa",
          "dash": "solid"
         },
         "marker": {
          "symbol": "circle"
         },
         "mode": "lines",
         "name": "",
         "orientation": "v",
         "showlegend": false,
         "type": "scatter",
         "x": {
          "bdata": "CJsYNoQEtcBQm0eRyIe0wOBt4LV4nLHAoIAOl4/or8DgSt2PjISuwOAjDVWDY67AQA+eyF3CrMDIi5oqqfWmwNATBAAPgaLAuC+Y7/oWosBsc4Lf+NmhwEj/XkcX6p/AoGwouQ8xn8BgAhPyZySdwCCXr7hHHpvAUIlyhJFWlsDgYeclW8KSwGDB1mIwJI/AoDKMK0O1hcCwZMXLYBqDwKCyKMSp4ILAwN3J3lxbgcCgEuUIIz2AwKAzX7WYNXnAwCb/XclPZMAA9nsjb/JSwAD8rKs3vzPAAIBNl9XBM0AAaO884iRRQACYgYgT63ZAAMXz//PDfEBAQcvBgTZ/QMCn/SyCpYBAwKf9LIKlgEDYk+SAcWCEQOBxgwoma4RAsNWk8dPLhEDgQVzDCGyJQMSQ8w8QOZBAeBqV6niZkEDAZtZRiKKQQAS2ZMh7TZJAWHsSjvq+k0CgZRDyV7uUQOitUqphTp1AWA/fv2umoUDMp8Epp5elQPAv2s4aqqdAYsj5B4iXrEC29c1CQWqxQGgtaqenq7FAilrTqMJRs0CIUNIAGAS1QA==",
          "dtype": "f8"
         },
         "xaxis": "x",
         "y": {
          "bdata": "jyBgVNybe0HK0Zi99Vd6QRQy5rd6YnNBWrw+WTDRb0FlO8uXrBptQdDlMbbL22xBKfJHscDYaUHpKG+EJnlgQVt+98FyZlVBOduInNVzVEG/BMNYyupTQSnLzI491E9BCBjtrllnTkGVxPTRJYpKQfZXw641+0ZBxD22jeQvP0G/Bqf5hf41QZOjp6xGTi5BCkYj09VzHUENqNRg0c4WQbJO2ZHQRRZBoj3uCy/UEkHdrjqtL3sQQRFLFmAY3ANBUmRkSQXJ2UD4S8x002+2QPhLn3kRX3hAto9dg4dleECn7A3ItV6yQMkMo8L5aQBB9oLu7JrbCUF1A3Y/+HEOQbxa/mq0URFBvFr+arRREUE1WWsXYfMZQbqsb6esDhpBg1AnebYHG0EBPGlsOjIkQeboaKLrcjBBtmRC8bE4MUEAdK+wg0sxQbsFCb7N7zRBkrhtn3peOEEYpMZ27dw6QWRC/gHR1kpBXvRc9md4U0HO96I3tCNdQYLoRcYOgGFBzKcCnPuLaUH7ArVPjPRyQajbONr1g3NB95cjHdBTd0EEf0wOwJp7QQ==",
          "dtype": "f8"
         },
         "yaxis": "y"
        },
        {
         "mode": "markers",
         "name": "points",
         "type": "scatter",
         "x": {
          "bdata": "CJsYNoQEtcBQm0eRyIe0wOBt4LV4nLHAoIAOl4/or8DgSt2PjISuwOAjDVWDY67AQA+eyF3CrMDIi5oqqfWmwNATBAAPgaLAuC+Y7/oWosBsc4Lf+NmhwEj/XkcX6p/AoGwouQ8xn8BgAhPyZySdwCCXr7hHHpvAUIlyhJFWlsDgYeclW8KSwGDB1mIwJI/AoDKMK0O1hcCwZMXLYBqDwKCyKMSp4ILAwN3J3lxbgcCgEuUIIz2AwKAzX7WYNXnAwCb/XclPZMAA9nsjb/JSwAD8rKs3vzPAAIBNl9XBM0AAaO884iRRQACYgYgT63ZAAMXz//PDfEBAQcvBgTZ/QMCn/SyCpYBAwKf9LIKlgEDYk+SAcWCEQOBxgwoma4RAsNWk8dPLhEDgQVzDCGyJQMSQ8w8QOZBAeBqV6niZkEDAZtZRiKKQQAS2ZMh7TZJAWHsSjvq+k0CgZRDyV7uUQOitUqphTp1AWA/fv2umoUDMp8Epp5elQPAv2s4aqqdAYsj5B4iXrEC29c1CQWqxQGgtaqenq7FAilrTqMJRs0CIUNIAGAS1QA==",
          "dtype": "f8"
         },
         "y": {
          "bdata": "jyBgVNybe0HK0Zi99Vd6QRQy5rd6YnNBWrw+WTDRb0FlO8uXrBptQdDlMbbL22xBKfJHscDYaUHpKG+EJnlgQVt+98FyZlVBOduInNVzVEG/BMNYyupTQSnLzI491E9BCBjtrllnTkGVxPTRJYpKQfZXw641+0ZBxD22jeQvP0G/Bqf5hf41QZOjp6xGTi5BCkYj09VzHUENqNRg0c4WQbJO2ZHQRRZBoj3uCy/UEkHdrjqtL3sQQRFLFmAY3ANBUmRkSQXJ2UD4S8x002+2QPhLn3kRX3hAto9dg4dleECn7A3ItV6yQMkMo8L5aQBB9oLu7JrbCUF1A3Y/+HEOQbxa/mq0URFBvFr+arRREUE1WWsXYfMZQbqsb6esDhpBg1AnebYHG0EBPGlsOjIkQeboaKLrcjBBtmRC8bE4MUEAdK+wg0sxQbsFCb7N7zRBkrhtn3peOEEYpMZ27dw6QWRC/gHR1kpBXvRc9md4U0HO96I3tCNdQYLoRcYOgGFBzKcCnPuLaUH7ArVPjPRyQajbONr1g3NB95cjHdBTd0EEf0wOwJp7QQ==",
          "dtype": "f8"
         }
        }
       ],
       "layout": {
        "height": 700,
        "legend": {
         "tracegroupgap": 0
        },
        "showlegend": true,
        "template": {
         "data": {
          "bar": [
           {
            "error_x": {
             "color": "#2a3f5f"
            },
            "error_y": {
             "color": "#2a3f5f"
            },
            "marker": {
             "line": {
              "color": "#E5ECF6",
              "width": 0.5
             },
             "pattern": {
              "fillmode": "overlay",
              "size": 10,
              "solidity": 0.2
             }
            },
            "type": "bar"
           }
          ],
          "barpolar": [
           {
            "marker": {
             "line": {
              "color": "#E5ECF6",
              "width": 0.5
             },
             "pattern": {
              "fillmode": "overlay",
              "size": 10,
              "solidity": 0.2
             }
            },
            "type": "barpolar"
           }
          ],
          "carpet": [
           {
            "aaxis": {
             "endlinecolor": "#2a3f5f",
             "gridcolor": "white",
             "linecolor": "white",
             "minorgridcolor": "white",
             "startlinecolor": "#2a3f5f"
            },
            "baxis": {
             "endlinecolor": "#2a3f5f",
             "gridcolor": "white",
             "linecolor": "white",
             "minorgridcolor": "white",
             "startlinecolor": "#2a3f5f"
            },
            "type": "carpet"
           }
          ],
          "choropleth": [
           {
            "colorbar": {
             "outlinewidth": 0,
             "ticks": ""
            },
            "type": "choropleth"
           }
          ],
          "contour": [
           {
            "colorbar": {
             "outlinewidth": 0,
             "ticks": ""
            },
            "colorscale": [
             [
              0,
              "#0d0887"
             ],
             [
              0.1111111111111111,
              "#46039f"
             ],
             [
              0.2222222222222222,
              "#7201a8"
             ],
             [
              0.3333333333333333,
              "#9c179e"
             ],
             [
              0.4444444444444444,
              "#bd3786"
             ],
             [
              0.5555555555555556,
              "#d8576b"
             ],
             [
              0.6666666666666666,
              "#ed7953"
             ],
             [
              0.7777777777777778,
              "#fb9f3a"
             ],
             [
              0.8888888888888888,
              "#fdca26"
             ],
             [
              1,
              "#f0f921"
             ]
            ],
            "type": "contour"
           }
          ],
          "contourcarpet": [
           {
            "colorbar": {
             "outlinewidth": 0,
             "ticks": ""
            },
            "type": "contourcarpet"
           }
          ],
          "heatmap": [
           {
            "colorbar": {
             "outlinewidth": 0,
             "ticks": ""
            },
            "colorscale": [
             [
              0,
              "#0d0887"
             ],
             [
              0.1111111111111111,
              "#46039f"
             ],
             [
              0.2222222222222222,
              "#7201a8"
             ],
             [
              0.3333333333333333,
              "#9c179e"
             ],
             [
              0.4444444444444444,
              "#bd3786"
             ],
             [
              0.5555555555555556,
              "#d8576b"
             ],
             [
              0.6666666666666666,
              "#ed7953"
             ],
             [
              0.7777777777777778,
              "#fb9f3a"
             ],
             [
              0.8888888888888888,
              "#fdca26"
             ],
             [
              1,
              "#f0f921"
             ]
            ],
            "type": "heatmap"
           }
          ],
          "histogram": [
           {
            "marker": {
             "pattern": {
              "fillmode": "overlay",
              "size": 10,
              "solidity": 0.2
             }
            },
            "type": "histogram"
           }
          ],
          "histogram2d": [
           {
            "colorbar": {
             "outlinewidth": 0,
             "ticks": ""
            },
            "colorscale": [
             [
              0,
              "#0d0887"
             ],
             [
              0.1111111111111111,
              "#46039f"
             ],
             [
              0.2222222222222222,
              "#7201a8"
             ],
             [
              0.3333333333333333,
              "#9c179e"
             ],
             [
              0.4444444444444444,
              "#bd3786"
             ],
             [
              0.5555555555555556,
              "#d8576b"
             ],
             [
              0.6666666666666666,
              "#ed7953"
             ],
             [
              0.7777777777777778,
              "#fb9f3a"
             ],
             [
              0.8888888888888888,
              "#fdca26"
             ],
             [
              1,
              "#f0f921"
             ]
            ],
            "type": "histogram2d"
           }
          ],
          "histogram2dcontour": [
           {
            "colorbar": {
             "outlinewidth": 0,
             "ticks": ""
            },
            "colorscale": [
             [
              0,
              "#0d0887"
             ],
             [
              0.1111111111111111,
              "#46039f"
             ],
             [
              0.2222222222222222,
              "#7201a8"
             ],
             [
              0.3333333333333333,
              "#9c179e"
             ],
             [
              0.4444444444444444,
              "#bd3786"
             ],
             [
              0.5555555555555556,
              "#d8576b"
             ],
             [
              0.6666666666666666,
              "#ed7953"
             ],
             [
              0.7777777777777778,
              "#fb9f3a"
             ],
             [
              0.8888888888888888,
              "#fdca26"
             ],
             [
              1,
              "#f0f921"
             ]
            ],
            "type": "histogram2dcontour"
           }
          ],
          "mesh3d": [
           {
            "colorbar": {
             "outlinewidth": 0,
             "ticks": ""
            },
            "type": "mesh3d"
           }
          ],
          "parcoords": [
           {
            "line": {
             "colorbar": {
              "outlinewidth": 0,
              "ticks": ""
             }
            },
            "type": "parcoords"
           }
          ],
          "pie": [
           {
            "automargin": true,
            "type": "pie"
           }
          ],
          "scatter": [
           {
            "fillpattern": {
             "fillmode": "overlay",
             "size": 10,
             "solidity": 0.2
            },
            "type": "scatter"
           }
          ],
          "scatter3d": [
           {
            "line": {
             "colorbar": {
              "outlinewidth": 0,
              "ticks": ""
             }
            },
            "marker": {
             "colorbar": {
              "outlinewidth": 0,
              "ticks": ""
             }
            },
            "type": "scatter3d"
           }
          ],
          "scattercarpet": [
           {
            "marker": {
             "colorbar": {
              "outlinewidth": 0,
              "ticks": ""
             }
            },
            "type": "scattercarpet"
           }
          ],
          "scattergeo": [
           {
            "marker": {
             "colorbar": {
              "outlinewidth": 0,
              "ticks": ""
             }
            },
            "type": "scattergeo"
           }
          ],
          "scattergl": [
           {
            "marker": {
             "colorbar": {
              "outlinewidth": 0,
              "ticks": ""
             }
            },
            "type": "scattergl"
           }
          ],
          "scattermap": [
           {
            "marker": {
             "colorbar": {
              "outlinewidth": 0,
              "ticks": ""
             }
            },
            "type": "scattermap"
           }
          ],
          "scattermapbox": [
           {
            "marker": {
             "colorbar": {
              "outlinewidth": 0,
              "ticks": ""
             }
            },
            "type": "scattermapbox"
           }
          ],
          "scatterpolar": [
           {
            "marker": {
             "colorbar": {
              "outlinewidth": 0,
              "ticks": ""
             }
            },
            "type": "scatterpolar"
           }
          ],
          "scatterpolargl": [
           {
            "marker": {
             "colorbar": {
              "outlinewidth": 0,
              "ticks": ""
             }
            },
            "type": "scatterpolargl"
           }
          ],
          "scatterternary": [
           {
            "marker": {
             "colorbar": {
              "outlinewidth": 0,
              "ticks": ""
             }
            },
            "type": "scatterternary"
           }
          ],
          "surface": [
           {
            "colorbar": {
             "outlinewidth": 0,
             "ticks": ""
            },
            "colorscale": [
             [
              0,
              "#0d0887"
             ],
             [
              0.1111111111111111,
              "#46039f"
             ],
             [
              0.2222222222222222,
              "#7201a8"
             ],
             [
              0.3333333333333333,
              "#9c179e"
             ],
             [
              0.4444444444444444,
              "#bd3786"
             ],
             [
              0.5555555555555556,
              "#d8576b"
             ],
             [
              0.6666666666666666,
              "#ed7953"
             ],
             [
              0.7777777777777778,
              "#fb9f3a"
             ],
             [
              0.8888888888888888,
              "#fdca26"
             ],
             [
              1,
              "#f0f921"
             ]
            ],
            "type": "surface"
           }
          ],
          "table": [
           {
            "cells": {
             "fill": {
              "color": "#EBF0F8"
             },
             "line": {
              "color": "white"
             }
            },
            "header": {
             "fill": {
              "color": "#C8D4E3"
             },
             "line": {
              "color": "white"
             }
            },
            "type": "table"
           }
          ]
         },
         "layout": {
          "annotationdefaults": {
           "arrowcolor": "#2a3f5f",
           "arrowhead": 0,
           "arrowwidth": 1
          },
          "autotypenumbers": "strict",
          "coloraxis": {
           "colorbar": {
            "outlinewidth": 0,
            "ticks": ""
           }
          },
          "colorscale": {
           "diverging": [
            [
             0,
             "#8e0152"
            ],
            [
             0.1,
             "#c51b7d"
            ],
            [
             0.2,
             "#de77ae"
            ],
            [
             0.3,
             "#f1b6da"
            ],
            [
             0.4,
             "#fde0ef"
            ],
            [
             0.5,
             "#f7f7f7"
            ],
            [
             0.6,
             "#e6f5d0"
            ],
            [
             0.7,
             "#b8e186"
            ],
            [
             0.8,
             "#7fbc41"
            ],
            [
             0.9,
             "#4d9221"
            ],
            [
             1,
             "#276419"
            ]
           ],
           "sequential": [
            [
             0,
             "#0d0887"
            ],
            [
             0.1111111111111111,
             "#46039f"
            ],
            [
             0.2222222222222222,
             "#7201a8"
            ],
            [
             0.3333333333333333,
             "#9c179e"
            ],
            [
             0.4444444444444444,
             "#bd3786"
            ],
            [
             0.5555555555555556,
             "#d8576b"
            ],
            [
             0.6666666666666666,
             "#ed7953"
            ],
            [
             0.7777777777777778,
             "#fb9f3a"
            ],
            [
             0.8888888888888888,
             "#fdca26"
            ],
            [
             1,
             "#f0f921"
            ]
           ],
           "sequentialminus": [
            [
             0,
             "#0d0887"
            ],
            [
             0.1111111111111111,
             "#46039f"
            ],
            [
             0.2222222222222222,
             "#7201a8"
            ],
            [
             0.3333333333333333,
             "#9c179e"
            ],
            [
             0.4444444444444444,
             "#bd3786"
            ],
            [
             0.5555555555555556,
             "#d8576b"
            ],
            [
             0.6666666666666666,
             "#ed7953"
            ],
            [
             0.7777777777777778,
             "#fb9f3a"
            ],
            [
             0.8888888888888888,
             "#fdca26"
            ],
            [
             1,
             "#f0f921"
            ]
           ]
          },
          "colorway": [
           "#636efa",
           "#EF553B",
           "#00cc96",
           "#ab63fa",
           "#FFA15A",
           "#19d3f3",
           "#FF6692",
           "#B6E880",
           "#FF97FF",
           "#FECB52"
          ],
          "font": {
           "color": "#2a3f5f"
          },
          "geo": {
           "bgcolor": "white",
           "lakecolor": "white",
           "landcolor": "#E5ECF6",
           "showlakes": true,
           "showland": true,
           "subunitcolor": "white"
          },
          "hoverlabel": {
           "align": "left"
          },
          "hovermode": "closest",
          "mapbox": {
           "style": "light"
          },
          "paper_bgcolor": "white",
          "plot_bgcolor": "#E5ECF6",
          "polar": {
           "angularaxis": {
            "gridcolor": "white",
            "linecolor": "white",
            "ticks": ""
           },
           "bgcolor": "#E5ECF6",
           "radialaxis": {
            "gridcolor": "white",
            "linecolor": "white",
            "ticks": ""
           }
          },
          "scene": {
           "xaxis": {
            "backgroundcolor": "#E5ECF6",
            "gridcolor": "white",
            "gridwidth": 2,
            "linecolor": "white",
            "showbackground": true,
            "ticks": "",
            "zerolinecolor": "white"
           },
           "yaxis": {
            "backgroundcolor": "#E5ECF6",
            "gridcolor": "white",
            "gridwidth": 2,
            "linecolor": "white",
            "showbackground": true,
            "ticks": "",
            "zerolinecolor": "white"
           },
           "zaxis": {
            "backgroundcolor": "#E5ECF6",
            "gridcolor": "white",
            "gridwidth": 2,
            "linecolor": "white",
            "showbackground": true,
            "ticks": "",
            "zerolinecolor": "white"
           }
          },
          "shapedefaults": {
           "line": {
            "color": "#2a3f5f"
           }
          },
          "ternary": {
           "aaxis": {
            "gridcolor": "white",
            "linecolor": "white",
            "ticks": ""
           },
           "baxis": {
            "gridcolor": "white",
            "linecolor": "white",
            "ticks": ""
           },
           "bgcolor": "#E5ECF6",
           "caxis": {
            "gridcolor": "white",
            "linecolor": "white",
            "ticks": ""
           }
          },
          "title": {
           "x": 0.05
          },
          "xaxis": {
           "automargin": true,
           "gridcolor": "white",
           "linecolor": "white",
           "ticks": "",
           "title": {
            "standoff": 15
           },
           "zerolinecolor": "white",
           "zerolinewidth": 2
          },
          "yaxis": {
           "automargin": true,
           "gridcolor": "white",
           "linecolor": "white",
           "ticks": "",
           "title": {
            "standoff": 15
           },
           "zerolinecolor": "white",
           "zerolinewidth": 2
          }
         }
        },
        "title": {
         "text": "Квадратичная ошибка | Squared Error"
        },
        "width": 800,
        "xaxis": {
         "anchor": "y",
         "domain": [
          0,
          1
         ],
         "title": {
          "text": "Отклонение"
         }
        },
        "yaxis": {
         "anchor": "x",
         "domain": [
          0,
          1
         ],
         "title": {
          "text": "Ошибка"
         }
        }
       }
      }
     },
     "metadata": {},
     "output_type": "display_data"
    }
   ],
   "source": [
    "error_threshold = 5500\n",
    "squared_error_threshold = 30*10**6\n",
    "\n",
    "error_df_cut = error_df[error_df['error'] <= error_threshold]\n",
    "error_df_cut = error_df_cut[error_df_cut['squared_error'] <= squared_error_threshold]\n",
    "\n",
    "fig = px.line(\n",
    "    error_df_cut,\n",
    "    x=\"error\",\n",
    "    y=\"squared_error\",\n",
    "    title=\"Mean Squared Error\",\n",
    "    labels={\"error\": \"Отклонение\", \"squared_error\": \"Ошибка\"}\n",
    ")\n",
    "\n",
    "fig.add_scatter(\n",
    "    x=error_df_cut[\"error\"], y=error_df_cut[\"squared_error\"], mode=\"markers\", name=\"points\"\n",
    ")\n",
    "\n",
    "fig.update_layout(\n",
    "    height=700, width=800,\n",
    "    title_text=\"Квадратичная ошибка | Squared Error\",\n",
    "    showlegend=True\n",
    ")"
   ]
  },
  {
   "cell_type": "markdown",
   "id": "1e5e49fa",
   "metadata": {},
   "source": [
    "Вот теперь хорошо видно, что ошибка симметричаня. Заметь, что величина штрафа - нелинейная (квадртатичная). Выходит, чем сильнее ошибается модель, тем сильнее штраф. Отсюда мы встречаемся с первым минусом у $MSE$:\n",
    "\n",
    "- $MSE$ очень чувствительна к выбросам!\n",
    "\n",
    "Могу доказать на простом примере, смотри ..."
   ]
  },
  {
   "cell_type": "code",
   "execution_count": 129,
   "id": "1544658f",
   "metadata": {},
   "outputs": [
    {
     "name": "stdout",
     "output_type": "stream",
     "text": [
      "Минимальное абсолютное отклонение: 19.75\n",
      "Максимальное абсолютное отклонение: 14495.02\n"
     ]
    }
   ],
   "source": [
    "# давай добавим 2 новых столбца - абсолютное отклонение и квадаратичное\n",
    "metrics_results['error_abs'] = metrics_results['error'].abs()\n",
    "metrics_results['error_squared'] = metrics_results['error'] ** 2\n",
    "\n",
    "# найдем наблюдения с минимальным и максимальным абсолютными отклонениями\n",
    "min_error_abs = metrics_results['error_abs'].min()\n",
    "max_error_abs = metrics_results['error_abs'].max()\n",
    "\n",
    "min_max_error_df = metrics_results[\n",
    "    metrics_results['error_abs'].isin([min_error_abs, max_error_abs])\n",
    "]\n",
    "\n",
    "print(f\"Минимальное абсолютное отклонение: {min_error_abs:.2f}\")\n",
    "print(f\"Максимальное абсолютное отклонение: {max_error_abs:.2f}\")"
   ]
  },
  {
   "cell_type": "markdown",
   "id": "a356a96c",
   "metadata": {},
   "source": [
    "Данные наблюдения идеально подходят для демонстрации чувствительности $MSE$ к выбросам. Так как модель очень сильно ошибается на втором объекте, то его можно смело посчитать за выброс. Наша исходная модель совершает вот таки квадартичные ошибки на данных объектах:"
   ]
  },
  {
   "cell_type": "code",
   "execution_count": 117,
   "id": "8b938254",
   "metadata": {},
   "outputs": [
    {
     "name": "stdout",
     "output_type": "stream",
     "text": [
      "Ошибки: [389.94176637864393, 210105511.76706648]\n"
     ]
    }
   ],
   "source": [
    "errors_old = min_max_error_df['error_squared'].values.tolist()\n",
    "print('Ошибки:', errors_old)"
   ]
  },
  {
   "cell_type": "markdown",
   "id": "79c5ae11",
   "metadata": {},
   "source": [
    "Тепреь предположим, что мы улучшили нашу модель - добавили больше признаков и качество симметрично улучшилось - стало точнее на 10$ (взял цифру с потолка <смеющийся смайлик>)"
   ]
  },
  {
   "cell_type": "code",
   "execution_count": 133,
   "id": "cfdc8163",
   "metadata": {},
   "outputs": [
    {
     "data": {
      "text/html": [
       "<div>\n",
       "<style scoped>\n",
       "    .dataframe tbody tr th:only-of-type {\n",
       "        vertical-align: middle;\n",
       "    }\n",
       "\n",
       "    .dataframe tbody tr th {\n",
       "        vertical-align: top;\n",
       "    }\n",
       "\n",
       "    .dataframe thead th {\n",
       "        text-align: right;\n",
       "    }\n",
       "</style>\n",
       "<table border=\"1\" class=\"dataframe\">\n",
       "  <thead>\n",
       "    <tr style=\"text-align: right;\">\n",
       "      <th></th>\n",
       "      <th>model_version</th>\n",
       "      <th>true</th>\n",
       "      <th>pred</th>\n",
       "      <th>error_squared</th>\n",
       "      <th>error_abs</th>\n",
       "    </tr>\n",
       "  </thead>\n",
       "  <tbody>\n",
       "    <tr>\n",
       "      <th>157</th>\n",
       "      <td>A</td>\n",
       "      <td>7198.0</td>\n",
       "      <td>7217.746943</td>\n",
       "      <td>3.899418e+02</td>\n",
       "      <td>19.746943</td>\n",
       "    </tr>\n",
       "    <tr>\n",
       "      <th>128</th>\n",
       "      <td>A</td>\n",
       "      <td>37028.0</td>\n",
       "      <td>22532.983209</td>\n",
       "      <td>2.101055e+08</td>\n",
       "      <td>14495.016791</td>\n",
       "    </tr>\n",
       "  </tbody>\n",
       "</table>\n",
       "</div>"
      ],
      "text/plain": [
       "    model_version     true          pred  error_squared     error_abs\n",
       "157             A   7198.0   7217.746943   3.899418e+02     19.746943\n",
       "128             A  37028.0  22532.983209   2.101055e+08  14495.016791"
      ]
     },
     "execution_count": 133,
     "metadata": {},
     "output_type": "execute_result"
    }
   ],
   "source": [
    "# красиво оформим DataFrame - как буто результат эксперимента модели A\n",
    "columns = [\n",
    "    'true',\n",
    "    'pred',\n",
    "    'error_squared',\n",
    "    'error_abs'\n",
    "]\n",
    "\n",
    "model_a_results = min_max_error_df[columns].copy()\n",
    "model_a_results.insert(0, 'model_version', 'A') # добавляем версию модели\n",
    "model_a_results"
   ]
  },
  {
   "cell_type": "code",
   "execution_count": 136,
   "id": "fb4a2935",
   "metadata": {},
   "outputs": [
    {
     "data": {
      "text/html": [
       "<div>\n",
       "<style scoped>\n",
       "    .dataframe tbody tr th:only-of-type {\n",
       "        vertical-align: middle;\n",
       "    }\n",
       "\n",
       "    .dataframe tbody tr th {\n",
       "        vertical-align: top;\n",
       "    }\n",
       "\n",
       "    .dataframe thead th {\n",
       "        text-align: right;\n",
       "    }\n",
       "</style>\n",
       "<table border=\"1\" class=\"dataframe\">\n",
       "  <thead>\n",
       "    <tr style=\"text-align: right;\">\n",
       "      <th></th>\n",
       "      <th>model_version</th>\n",
       "      <th>true</th>\n",
       "      <th>pred</th>\n",
       "      <th>error_squared</th>\n",
       "      <th>error_abs</th>\n",
       "    </tr>\n",
       "  </thead>\n",
       "  <tbody>\n",
       "    <tr>\n",
       "      <th>0</th>\n",
       "      <td>B</td>\n",
       "      <td>7198.0</td>\n",
       "      <td>7207.7</td>\n",
       "      <td>9.409000e+01</td>\n",
       "      <td>9.7</td>\n",
       "    </tr>\n",
       "    <tr>\n",
       "      <th>1</th>\n",
       "      <td>B</td>\n",
       "      <td>37028.0</td>\n",
       "      <td>22542.9</td>\n",
       "      <td>2.098181e+08</td>\n",
       "      <td>14485.1</td>\n",
       "    </tr>\n",
       "  </tbody>\n",
       "</table>\n",
       "</div>"
      ],
      "text/plain": [
       "  model_version     true     pred  error_squared  error_abs\n",
       "0             B   7198.0   7207.7   9.409000e+01        9.7\n",
       "1             B  37028.0  22542.9   2.098181e+08    14485.1"
      ]
     },
     "execution_count": 136,
     "metadata": {},
     "output_type": "execute_result"
    }
   ],
   "source": [
    "# результат эксперимента модели B\n",
    "model_b_results = pd.DataFrame({\n",
    "    'model_version': ['B', 'B'],\n",
    "    'true': [7198.0, 37028.0],\n",
    "    'pred': [7207.7, 22542.9], # предсказание теперь точнее на 10$ для обоих объектов\n",
    "})\n",
    "\n",
    "# считаем квадратичную и абсолютные ошибки\n",
    "model_b_results['error_squared'] = (model_b_results['true'] - model_b_results['pred']) ** 2\n",
    "model_b_results['error_abs'] = (model_b_results['true'] - model_b_results['pred']).abs()\n",
    "model_b_results"
   ]
  },
  {
   "cell_type": "code",
   "execution_count": 137,
   "id": "b1260b84",
   "metadata": {},
   "outputs": [
    {
     "name": "stdout",
     "output_type": "stream",
     "text": [
      "Изменение квадратичной ошибки:  [295.8517663786475, 287389.75706651807]\n",
      "Изменение абсолютной ошибки:  [10.04694321606894, 9.91679085148644]\n"
     ]
    }
   ],
   "source": [
    "# теперь посчитаем на сколько уменьшилась квадратичная и абсолютная ошибки\n",
    "error_reduction_squared = model_a_results['error_squared'].values - model_b_results['error_squared'].values\n",
    "error_reduction_abs = model_a_results['error_abs'].values - model_b_results['error_abs'].values\n",
    "print('Изменение квадратичной ошибки: ', error_reduction_squared.tolist())\n",
    "print('Изменение абсолютной ошибки: ', error_reduction_abs.tolist())"
   ]
  },
  {
   "cell_type": "markdown",
   "id": "257eb43f",
   "metadata": {},
   "source": [
    "Видно, что сильнее всего (почти на 300к) изменилась ошибка на выбросе (второе наблюдение), а не на \"нормальном\" объекте. Следовательно, модели будет всегда выгоднее точнее предсказывать выброс, ценой большей ошибки на \"нормальных\" данных. Таким образом, модель будет всегда подстраиваться под выбросы, чтобы достичь наименьшего $MSE$. Как думаешь хорошо это или плохо?\n",
    "\n",
    "<!-- Ответ\n",
    "Это зависи от бизнес задачи. Необходимо задать вопрос бизнесу - \"Важно ли для нас хорошо предсказывать цену на выбросах или важна стабильная работа модели на основном сегменте цен?\". Поэтому далее возможны 2 сценария\n",
    "- Вариант А: Настраиваться на выбросы\n",
    "    - Лучше будет предсказывать редкие наблюдения, однако хуже будет прогноз на основных наблюдениях - скорее всего будет завышать прогноз\n",
    "- Вариант B: Игнорировать выбросы (их удаления или использование устойчивых функций потерь)\n",
    "    - Модель будет ошибаться на выбросах - не сможет хорошо их предсказать - скорее всего будет занижать прогноз, однако на основных наблюдениях модель будет точна\n",
    "-->"
   ]
  },
  {
   "cell_type": "code",
   "execution_count": null,
   "id": "6b69aa5d",
   "metadata": {},
   "outputs": [],
   "source": [
    "# твои мысли 🧠"
   ]
  },
  {
   "cell_type": "markdown",
   "id": "a396891c",
   "metadata": {},
   "source": [
    "А что с абсолютной ошибкой? Как видишь, для этой метрики модели не важно на каком объекте улучшать прогноз, так как итоговые ошибки равны. Поэтому $MAE$ устойчив к выбросам! Давай перейдем к следующим 2-м минусам метрики $MSE$, связанные с еденицами измерения и интерпретируемостью.\n",
    "\n",
    "#### _Проблема квадратных значений_\n",
    "\n",
    "Так как значение ошибки возводится в квадрат, то при интерпретации ошибки мы будем оперировать квадратными еденицами - квадратные доллары/рубли/штуки, ... Представь, ты обучил модель, а затем говоришь заказчику, что твоя модель в среднем ошибается на 5000 квадратных долларов. Не совсем понятно как это понимать, не так ли? \n",
    "\n",
    "Избавить от квадрата очень просто - извелкаем корень из итоговой ошибки (спасибо курсу школьной математики <смайл смех>) и все, теперь квадратные доллары  это снова привычные и понятные нам доллары\n",
    "\n",
    "#### _Проблема: ошибка в контексте - большая/маленькая?_\n",
    "\n",
    "Также при расчете $MSE$ и последующего извлечения корня мы получаем ошибку значение которой не дает информации о критичности - большая или маленькая? Например, получил ты $RMSE = 5000$. Это много или мало? Один из вариантов это сбегать к заказчику и спросить. А если он в отпуске или не отвечает? Как тогда поступить? К счастью, можно учесть масштаб целевой переменной и получить новую метрику - \"коэффициент детерминации R2\" который легко интерпретируется."
   ]
  },
  {
   "cell_type": "markdown",
   "id": "88940876",
   "metadata": {},
   "source": [
    "#### _Минусы RMSE_"
   ]
  },
  {
   "cell_type": "code",
   "execution_count": null,
   "id": "e1b8e5ec",
   "metadata": {},
   "outputs": [],
   "source": [
    "# TODO"
   ]
  },
  {
   "cell_type": "markdown",
   "id": "bcd09a68",
   "metadata": {},
   "source": [
    "## Корень из среднеквадратичной ошибки | Root Mean Squared Error | RMSE\n",
    "Мы уже затронули данную метрику выше - это просто квадратный корень из среднеквадратичной ошибки _MSE_\n",
    "\n",
    "$$ RMSE = \\sqrt{\\frac{1}{n} \\sum_{i=1}^{n} (y_i - \\hat{y}_i)^2} $$\n",
    "\n",
    "В отличие от $MSE$, величина $RMSE$ выражается в тех же единицах, что и целевая переменная. Это делает её более интерпретируемой: например, если мы предсказываем стоимость автомобилей в долларах, то $RMSE$ показывает среднюю ошибку прогноза в  настоящих долларах, вместо квадратных. Однако важно помнить, что само значение $RMSE$ не всегда говорит, много это или мало. Чтобы правильно оценить качество модели, необходимо сопоставлять $RMSE$ с разбросом целевой переменной - использовать метрику $R2$\n",
    "\n",
    "$RMSE$ отличается от $MSE$ только тем, что в него добавлен квадратный корень. Метрика унаследовала все недостатки $MSE$, но при этом имеет одно важное преимущество — величина ошибки выражается в тех же единицах, что и сама целевая переменная $y$"
   ]
  },
  {
   "cell_type": "markdown",
   "id": "d8cf451f",
   "metadata": {},
   "source": [
    "## Коэффициент Детерменации $R2$\n",
    "Это одна из наиболее популярных метрик качества регрессионных моделей. Как мы уже выясниили ранее, _RMSE_ не дает оценку критичности ошибки - большая или маленькая, поэтому если нормировать _\"MSE\"_ на дисперсию целевой перменной $y$, то получим абсолютно новую мерику - коэффициент детерменации, глядя на который можно легко понять на сколько хороша наша модель.\n",
    "\n",
    "R2 показывает, как хорошо модель объясняет дисперсию целевой переменной $y$ \n",
    "\n",
    "$$ R^2 = 1 - \\frac{\\sum_{i=1}^{n} (y_i - \\hat{y}_i)^2}{\\sum_{i=1}^{n} (y_i - \\bar{y})^2}$$\n",
    "\n",
    "- Числитель: используется не _MSE_, а _SSE - Sum Squared Error_, но интуация +/- как с _RMSE_\n",
    "- Знаменатель: используется дисперсия таргета $y$, еще называют _SST - Sum of Squeres Total_\n",
    "\n",
    "Выходит, что в идеале модель должна предсказывать либо идеально значения таргета, либо чтобы _SSE_ равнялся дисперсии $y$. Значение $R^2$ всегда лежит в интервале от $(-\\infty, 1]$, так как это нормированная метрика. А вот так необходимо интерпретировать полученные результаты:\n",
    "- $R^2 = 1$ - модель идеально предсказывает данные, без ошибок (редко бывает на практике)\n",
    "- $R^2 = 0$ - модель ничем не лучше прогноза \"средним\" - \"глупая модель\" (бывает на практике, необходимо избегать)\n",
    "- $R^2 < 0$ - модель хуже прогноза \"средним\" (бывает на практике, необходимо избегать)\n",
    "\n",
    "На практике $R2$ для \"разумной\" модели обычно лежит на отрезке от $[0, 1]$. Чем ближе к 1 тем лучше! Если $R^2 < 0$, то с моделью 100% что то не так - недообучение/переобучение, выбросы, возможно _train_ и _test_ имеют разные распределения, ... В таких случаях необходим детальный анализ данных и ошибок модели. Хочу отметить, что формулу выше можно переписать в более интерсном виде:\n",
    "\n",
    "\n",
    "$$ R^2 = 1 - \\frac{SSE}{SST} = 1 - \\frac{n\\cdot RMSE^2}{SST}, RMSE = \\sqrt{\\frac{SSE}{n}}$$\n",
    "\n",
    "$$R^2 = 1 - \\left( \\frac{RMSE_\\text{model}}{RMSE_{\\text{baseline}}} \\right)^2, RMSE_{\\text{baseline}} = \\sqrt{\\frac{\\mathrm{SST}}{n}}$$\n",
    "\n",
    "Фомулы выше доказывают, что $R2$ можно интерпретировать как показатель того, насколько модель предсказывает лучше, чем простая стратегия прогнозирования средним - часто используемая в качестве \"baseline\" решения.\n"
   ]
  },
  {
   "cell_type": "code",
   "execution_count": 151,
   "id": "2bf0aeeb",
   "metadata": {},
   "outputs": [
    {
     "name": "stdout",
     "output_type": "stream",
     "text": [
      "Коэффициент детерминации R2 | Test: 0.8101000960701704\n"
     ]
    }
   ],
   "source": [
    "# закодим метрику R2 и оценим качество нашей модели\n",
    "def r2_score(y_true, y_pred):\n",
    "    ss_res = np.sum((y_true - y_pred) ** 2)\n",
    "    ss_tot = np.sum((y_true - np.mean(y_true)) ** 2)\n",
    "    return 1 - (ss_res / ss_tot) if ss_tot != 0 else 0\n",
    "\n",
    "r2_score_test = r2_score(y_true=metrics_results['true'], y_pred=metrics_results['pred'])\n",
    "print('Коэффициент детерминации R2 | Test:', r2_score_test)"
   ]
  },
  {
   "cell_type": "markdown",
   "id": "5e7adae5",
   "metadata": {},
   "source": [
    "Получили довольно хороший результат, наша модель на 80% объясняет дисперсию целевой переменной. Лишь 20% отсутствует - можно подумать как усложнить модель. "
   ]
  },
  {
   "cell_type": "markdown",
   "id": "735ec6b5",
   "metadata": {},
   "source": [
    "#### Минусы R2\n",
    "\n",
    "_Зависимость от дисперсии целевой переменной_\n",
    "- Если дисперсия таргета $y$ маленькая, то даже модель с хорошим $RMSE$ даст низкий $R2$, и наоборот, при большой дисперсии таргета даже не очень точная модель может показать высокий $R2$\n",
    "\n",
    "_Чувствительность к выбросам_\n",
    "- Даже несколько выбросов могут резко уронить $R2$"
   ]
  },
  {
   "cell_type": "code",
   "execution_count": null,
   "id": "8af59b28",
   "metadata": {},
   "outputs": [],
   "source": []
  },
  {
   "cell_type": "code",
   "execution_count": null,
   "metadata": {},
   "outputs": [],
   "source": []
  },
  {
   "cell_type": "code",
   "execution_count": null,
   "id": "c44e99cb",
   "metadata": {},
   "outputs": [],
   "source": []
  },
  {
   "cell_type": "code",
   "execution_count": null,
   "id": "714b7812",
   "metadata": {},
   "outputs": [],
   "source": []
  },
  {
   "cell_type": "code",
   "execution_count": null,
   "id": "69099d4f",
   "metadata": {},
   "outputs": [],
   "source": []
  },
  {
   "cell_type": "code",
   "execution_count": null,
   "id": "a30b8e1e",
   "metadata": {},
   "outputs": [],
   "source": []
  },
  {
   "cell_type": "code",
   "execution_count": 144,
   "id": "62ea3ff5",
   "metadata": {},
   "outputs": [
    {
     "data": {
      "application/vnd.plotly.v1+json": {
       "config": {
        "plotlyServerURL": "https://plot.ly"
       },
       "data": [
        {
         "hovertemplate": "Отклонение=%{x}<br>Квадратный корень ошибки=%{y}<extra></extra>",
         "legendgroup": "",
         "line": {
          "color": "#636efa",
          "dash": "solid"
         },
         "marker": {
          "symbol": "circle"
         },
         "mode": "lines",
         "name": "",
         "orientation": "v",
         "showlegend": false,
         "type": "scatter",
         "x": {
          "bdata": "CJsYNoQEtcBQm0eRyIe0wOBt4LV4nLHAoIAOl4/or8DgSt2PjISuwOAjDVWDY67AQA+eyF3CrMDIi5oqqfWmwNATBAAPgaLAuC+Y7/oWosBsc4Lf+NmhwEj/XkcX6p/AoGwouQ8xn8BgAhPyZySdwCCXr7hHHpvAUIlyhJFWlsDgYeclW8KSwGDB1mIwJI/AoDKMK0O1hcCwZMXLYBqDwKCyKMSp4ILAwN3J3lxbgcCgEuUIIz2AwKAzX7WYNXnAwCb/XclPZMAA9nsjb/JSwAD8rKs3vzPAAIBNl9XBM0AAaO884iRRQACYgYgT63ZAAMXz//PDfEBAQcvBgTZ/QMCn/SyCpYBAwKf9LIKlgEDYk+SAcWCEQOBxgwoma4RAsNWk8dPLhEDgQVzDCGyJQMSQ8w8QOZBAeBqV6niZkEDAZtZRiKKQQAS2ZMh7TZJAWHsSjvq+k0CgZRDyV7uUQOitUqphTp1AWA/fv2umoUDMp8Epp5elQPAv2s4aqqdAYsj5B4iXrEC29c1CQWqxQGgtaqenq7FAilrTqMJRs0CIUNIAGAS1QA==",
          "dtype": "f8"
         },
         "xaxis": "x",
         "y": {
          "bdata": "CJsYNoQEtUBQm0eRyIe0QOBt4LV4nLFAoIAOl4/or0DgSt2PjISuQOAjDVWDY65AQA+eyF3CrEDIi5oqqfWmQNATBAAPgaJAuC+Y7/oWokBsc4Lf+NmhQEj/XkcX6p9AoGwouQ8xn0BgAhPyZySdQCCXr7hHHptAUIlyhJFWlkDgYeclW8KSQGDB1mIwJI9AoDKMK0O1hUCwZMXLYBqDQKCyKMSp4IJAwN3J3lxbgUCgEuUIIz2AQKAzX7WYNXlAwCb/XclPZEAA9nsjb/JSQAD8rKs3vzNAAIBNl9XBM0AAaO884iRRQACYgYgT63ZAAMXz//PDfEBAQcvBgTZ/QMCn/SyCpYBAwKf9LIKlgEDYk+SAcWCEQOBxgwoma4RAsNWk8dPLhEDgQVzDCGyJQMSQ8w8QOZBAeBqV6niZkEDAZtZRiKKQQAS2ZMh7TZJAWHsSjvq+k0CgZRDyV7uUQOitUqphTp1AWA/fv2umoUDMp8Epp5elQPAv2s4aqqdAYsj5B4iXrEC29c1CQWqxQGgtaqenq7FAilrTqMJRs0CIUNIAGAS1QA==",
          "dtype": "f8"
         },
         "yaxis": "y"
        },
        {
         "mode": "markers",
         "name": "points",
         "type": "scatter",
         "x": {
          "bdata": "CJsYNoQEtcBQm0eRyIe0wOBt4LV4nLHAoIAOl4/or8DgSt2PjISuwOAjDVWDY67AQA+eyF3CrMDIi5oqqfWmwNATBAAPgaLAuC+Y7/oWosBsc4Lf+NmhwEj/XkcX6p/AoGwouQ8xn8BgAhPyZySdwCCXr7hHHpvAUIlyhJFWlsDgYeclW8KSwGDB1mIwJI/AoDKMK0O1hcCwZMXLYBqDwKCyKMSp4ILAwN3J3lxbgcCgEuUIIz2AwKAzX7WYNXnAwCb/XclPZMAA9nsjb/JSwAD8rKs3vzPAAIBNl9XBM0AAaO884iRRQACYgYgT63ZAAMXz//PDfEBAQcvBgTZ/QMCn/SyCpYBAwKf9LIKlgEDYk+SAcWCEQOBxgwoma4RAsNWk8dPLhEDgQVzDCGyJQMSQ8w8QOZBAeBqV6niZkEDAZtZRiKKQQAS2ZMh7TZJAWHsSjvq+k0CgZRDyV7uUQOitUqphTp1AWA/fv2umoUDMp8Epp5elQPAv2s4aqqdAYsj5B4iXrEC29c1CQWqxQGgtaqenq7FAilrTqMJRs0CIUNIAGAS1QA==",
          "dtype": "f8"
         },
         "y": {
          "bdata": "CJsYNoQEtUBQm0eRyIe0QOBt4LV4nLFAoIAOl4/or0DgSt2PjISuQOAjDVWDY65AQA+eyF3CrEDIi5oqqfWmQNATBAAPgaJAuC+Y7/oWokBsc4Lf+NmhQEj/XkcX6p9AoGwouQ8xn0BgAhPyZySdQCCXr7hHHptAUIlyhJFWlkDgYeclW8KSQGDB1mIwJI9AoDKMK0O1hUCwZMXLYBqDQKCyKMSp4IJAwN3J3lxbgUCgEuUIIz2AQKAzX7WYNXlAwCb/XclPZEAA9nsjb/JSQAD8rKs3vzNAAIBNl9XBM0AAaO884iRRQACYgYgT63ZAAMXz//PDfEBAQcvBgTZ/QMCn/SyCpYBAwKf9LIKlgEDYk+SAcWCEQOBxgwoma4RAsNWk8dPLhEDgQVzDCGyJQMSQ8w8QOZBAeBqV6niZkEDAZtZRiKKQQAS2ZMh7TZJAWHsSjvq+k0CgZRDyV7uUQOitUqphTp1AWA/fv2umoUDMp8Epp5elQPAv2s4aqqdAYsj5B4iXrEC29c1CQWqxQGgtaqenq7FAilrTqMJRs0CIUNIAGAS1QA==",
          "dtype": "f8"
         }
        }
       ],
       "layout": {
        "height": 700,
        "legend": {
         "tracegroupgap": 0
        },
        "showlegend": true,
        "template": {
         "data": {
          "bar": [
           {
            "error_x": {
             "color": "#2a3f5f"
            },
            "error_y": {
             "color": "#2a3f5f"
            },
            "marker": {
             "line": {
              "color": "#E5ECF6",
              "width": 0.5
             },
             "pattern": {
              "fillmode": "overlay",
              "size": 10,
              "solidity": 0.2
             }
            },
            "type": "bar"
           }
          ],
          "barpolar": [
           {
            "marker": {
             "line": {
              "color": "#E5ECF6",
              "width": 0.5
             },
             "pattern": {
              "fillmode": "overlay",
              "size": 10,
              "solidity": 0.2
             }
            },
            "type": "barpolar"
           }
          ],
          "carpet": [
           {
            "aaxis": {
             "endlinecolor": "#2a3f5f",
             "gridcolor": "white",
             "linecolor": "white",
             "minorgridcolor": "white",
             "startlinecolor": "#2a3f5f"
            },
            "baxis": {
             "endlinecolor": "#2a3f5f",
             "gridcolor": "white",
             "linecolor": "white",
             "minorgridcolor": "white",
             "startlinecolor": "#2a3f5f"
            },
            "type": "carpet"
           }
          ],
          "choropleth": [
           {
            "colorbar": {
             "outlinewidth": 0,
             "ticks": ""
            },
            "type": "choropleth"
           }
          ],
          "contour": [
           {
            "colorbar": {
             "outlinewidth": 0,
             "ticks": ""
            },
            "colorscale": [
             [
              0,
              "#0d0887"
             ],
             [
              0.1111111111111111,
              "#46039f"
             ],
             [
              0.2222222222222222,
              "#7201a8"
             ],
             [
              0.3333333333333333,
              "#9c179e"
             ],
             [
              0.4444444444444444,
              "#bd3786"
             ],
             [
              0.5555555555555556,
              "#d8576b"
             ],
             [
              0.6666666666666666,
              "#ed7953"
             ],
             [
              0.7777777777777778,
              "#fb9f3a"
             ],
             [
              0.8888888888888888,
              "#fdca26"
             ],
             [
              1,
              "#f0f921"
             ]
            ],
            "type": "contour"
           }
          ],
          "contourcarpet": [
           {
            "colorbar": {
             "outlinewidth": 0,
             "ticks": ""
            },
            "type": "contourcarpet"
           }
          ],
          "heatmap": [
           {
            "colorbar": {
             "outlinewidth": 0,
             "ticks": ""
            },
            "colorscale": [
             [
              0,
              "#0d0887"
             ],
             [
              0.1111111111111111,
              "#46039f"
             ],
             [
              0.2222222222222222,
              "#7201a8"
             ],
             [
              0.3333333333333333,
              "#9c179e"
             ],
             [
              0.4444444444444444,
              "#bd3786"
             ],
             [
              0.5555555555555556,
              "#d8576b"
             ],
             [
              0.6666666666666666,
              "#ed7953"
             ],
             [
              0.7777777777777778,
              "#fb9f3a"
             ],
             [
              0.8888888888888888,
              "#fdca26"
             ],
             [
              1,
              "#f0f921"
             ]
            ],
            "type": "heatmap"
           }
          ],
          "histogram": [
           {
            "marker": {
             "pattern": {
              "fillmode": "overlay",
              "size": 10,
              "solidity": 0.2
             }
            },
            "type": "histogram"
           }
          ],
          "histogram2d": [
           {
            "colorbar": {
             "outlinewidth": 0,
             "ticks": ""
            },
            "colorscale": [
             [
              0,
              "#0d0887"
             ],
             [
              0.1111111111111111,
              "#46039f"
             ],
             [
              0.2222222222222222,
              "#7201a8"
             ],
             [
              0.3333333333333333,
              "#9c179e"
             ],
             [
              0.4444444444444444,
              "#bd3786"
             ],
             [
              0.5555555555555556,
              "#d8576b"
             ],
             [
              0.6666666666666666,
              "#ed7953"
             ],
             [
              0.7777777777777778,
              "#fb9f3a"
             ],
             [
              0.8888888888888888,
              "#fdca26"
             ],
             [
              1,
              "#f0f921"
             ]
            ],
            "type": "histogram2d"
           }
          ],
          "histogram2dcontour": [
           {
            "colorbar": {
             "outlinewidth": 0,
             "ticks": ""
            },
            "colorscale": [
             [
              0,
              "#0d0887"
             ],
             [
              0.1111111111111111,
              "#46039f"
             ],
             [
              0.2222222222222222,
              "#7201a8"
             ],
             [
              0.3333333333333333,
              "#9c179e"
             ],
             [
              0.4444444444444444,
              "#bd3786"
             ],
             [
              0.5555555555555556,
              "#d8576b"
             ],
             [
              0.6666666666666666,
              "#ed7953"
             ],
             [
              0.7777777777777778,
              "#fb9f3a"
             ],
             [
              0.8888888888888888,
              "#fdca26"
             ],
             [
              1,
              "#f0f921"
             ]
            ],
            "type": "histogram2dcontour"
           }
          ],
          "mesh3d": [
           {
            "colorbar": {
             "outlinewidth": 0,
             "ticks": ""
            },
            "type": "mesh3d"
           }
          ],
          "parcoords": [
           {
            "line": {
             "colorbar": {
              "outlinewidth": 0,
              "ticks": ""
             }
            },
            "type": "parcoords"
           }
          ],
          "pie": [
           {
            "automargin": true,
            "type": "pie"
           }
          ],
          "scatter": [
           {
            "fillpattern": {
             "fillmode": "overlay",
             "size": 10,
             "solidity": 0.2
            },
            "type": "scatter"
           }
          ],
          "scatter3d": [
           {
            "line": {
             "colorbar": {
              "outlinewidth": 0,
              "ticks": ""
             }
            },
            "marker": {
             "colorbar": {
              "outlinewidth": 0,
              "ticks": ""
             }
            },
            "type": "scatter3d"
           }
          ],
          "scattercarpet": [
           {
            "marker": {
             "colorbar": {
              "outlinewidth": 0,
              "ticks": ""
             }
            },
            "type": "scattercarpet"
           }
          ],
          "scattergeo": [
           {
            "marker": {
             "colorbar": {
              "outlinewidth": 0,
              "ticks": ""
             }
            },
            "type": "scattergeo"
           }
          ],
          "scattergl": [
           {
            "marker": {
             "colorbar": {
              "outlinewidth": 0,
              "ticks": ""
             }
            },
            "type": "scattergl"
           }
          ],
          "scattermap": [
           {
            "marker": {
             "colorbar": {
              "outlinewidth": 0,
              "ticks": ""
             }
            },
            "type": "scattermap"
           }
          ],
          "scattermapbox": [
           {
            "marker": {
             "colorbar": {
              "outlinewidth": 0,
              "ticks": ""
             }
            },
            "type": "scattermapbox"
           }
          ],
          "scatterpolar": [
           {
            "marker": {
             "colorbar": {
              "outlinewidth": 0,
              "ticks": ""
             }
            },
            "type": "scatterpolar"
           }
          ],
          "scatterpolargl": [
           {
            "marker": {
             "colorbar": {
              "outlinewidth": 0,
              "ticks": ""
             }
            },
            "type": "scatterpolargl"
           }
          ],
          "scatterternary": [
           {
            "marker": {
             "colorbar": {
              "outlinewidth": 0,
              "ticks": ""
             }
            },
            "type": "scatterternary"
           }
          ],
          "surface": [
           {
            "colorbar": {
             "outlinewidth": 0,
             "ticks": ""
            },
            "colorscale": [
             [
              0,
              "#0d0887"
             ],
             [
              0.1111111111111111,
              "#46039f"
             ],
             [
              0.2222222222222222,
              "#7201a8"
             ],
             [
              0.3333333333333333,
              "#9c179e"
             ],
             [
              0.4444444444444444,
              "#bd3786"
             ],
             [
              0.5555555555555556,
              "#d8576b"
             ],
             [
              0.6666666666666666,
              "#ed7953"
             ],
             [
              0.7777777777777778,
              "#fb9f3a"
             ],
             [
              0.8888888888888888,
              "#fdca26"
             ],
             [
              1,
              "#f0f921"
             ]
            ],
            "type": "surface"
           }
          ],
          "table": [
           {
            "cells": {
             "fill": {
              "color": "#EBF0F8"
             },
             "line": {
              "color": "white"
             }
            },
            "header": {
             "fill": {
              "color": "#C8D4E3"
             },
             "line": {
              "color": "white"
             }
            },
            "type": "table"
           }
          ]
         },
         "layout": {
          "annotationdefaults": {
           "arrowcolor": "#2a3f5f",
           "arrowhead": 0,
           "arrowwidth": 1
          },
          "autotypenumbers": "strict",
          "coloraxis": {
           "colorbar": {
            "outlinewidth": 0,
            "ticks": ""
           }
          },
          "colorscale": {
           "diverging": [
            [
             0,
             "#8e0152"
            ],
            [
             0.1,
             "#c51b7d"
            ],
            [
             0.2,
             "#de77ae"
            ],
            [
             0.3,
             "#f1b6da"
            ],
            [
             0.4,
             "#fde0ef"
            ],
            [
             0.5,
             "#f7f7f7"
            ],
            [
             0.6,
             "#e6f5d0"
            ],
            [
             0.7,
             "#b8e186"
            ],
            [
             0.8,
             "#7fbc41"
            ],
            [
             0.9,
             "#4d9221"
            ],
            [
             1,
             "#276419"
            ]
           ],
           "sequential": [
            [
             0,
             "#0d0887"
            ],
            [
             0.1111111111111111,
             "#46039f"
            ],
            [
             0.2222222222222222,
             "#7201a8"
            ],
            [
             0.3333333333333333,
             "#9c179e"
            ],
            [
             0.4444444444444444,
             "#bd3786"
            ],
            [
             0.5555555555555556,
             "#d8576b"
            ],
            [
             0.6666666666666666,
             "#ed7953"
            ],
            [
             0.7777777777777778,
             "#fb9f3a"
            ],
            [
             0.8888888888888888,
             "#fdca26"
            ],
            [
             1,
             "#f0f921"
            ]
           ],
           "sequentialminus": [
            [
             0,
             "#0d0887"
            ],
            [
             0.1111111111111111,
             "#46039f"
            ],
            [
             0.2222222222222222,
             "#7201a8"
            ],
            [
             0.3333333333333333,
             "#9c179e"
            ],
            [
             0.4444444444444444,
             "#bd3786"
            ],
            [
             0.5555555555555556,
             "#d8576b"
            ],
            [
             0.6666666666666666,
             "#ed7953"
            ],
            [
             0.7777777777777778,
             "#fb9f3a"
            ],
            [
             0.8888888888888888,
             "#fdca26"
            ],
            [
             1,
             "#f0f921"
            ]
           ]
          },
          "colorway": [
           "#636efa",
           "#EF553B",
           "#00cc96",
           "#ab63fa",
           "#FFA15A",
           "#19d3f3",
           "#FF6692",
           "#B6E880",
           "#FF97FF",
           "#FECB52"
          ],
          "font": {
           "color": "#2a3f5f"
          },
          "geo": {
           "bgcolor": "white",
           "lakecolor": "white",
           "landcolor": "#E5ECF6",
           "showlakes": true,
           "showland": true,
           "subunitcolor": "white"
          },
          "hoverlabel": {
           "align": "left"
          },
          "hovermode": "closest",
          "mapbox": {
           "style": "light"
          },
          "paper_bgcolor": "white",
          "plot_bgcolor": "#E5ECF6",
          "polar": {
           "angularaxis": {
            "gridcolor": "white",
            "linecolor": "white",
            "ticks": ""
           },
           "bgcolor": "#E5ECF6",
           "radialaxis": {
            "gridcolor": "white",
            "linecolor": "white",
            "ticks": ""
           }
          },
          "scene": {
           "xaxis": {
            "backgroundcolor": "#E5ECF6",
            "gridcolor": "white",
            "gridwidth": 2,
            "linecolor": "white",
            "showbackground": true,
            "ticks": "",
            "zerolinecolor": "white"
           },
           "yaxis": {
            "backgroundcolor": "#E5ECF6",
            "gridcolor": "white",
            "gridwidth": 2,
            "linecolor": "white",
            "showbackground": true,
            "ticks": "",
            "zerolinecolor": "white"
           },
           "zaxis": {
            "backgroundcolor": "#E5ECF6",
            "gridcolor": "white",
            "gridwidth": 2,
            "linecolor": "white",
            "showbackground": true,
            "ticks": "",
            "zerolinecolor": "white"
           }
          },
          "shapedefaults": {
           "line": {
            "color": "#2a3f5f"
           }
          },
          "ternary": {
           "aaxis": {
            "gridcolor": "white",
            "linecolor": "white",
            "ticks": ""
           },
           "baxis": {
            "gridcolor": "white",
            "linecolor": "white",
            "ticks": ""
           },
           "bgcolor": "#E5ECF6",
           "caxis": {
            "gridcolor": "white",
            "linecolor": "white",
            "ticks": ""
           }
          },
          "title": {
           "x": 0.05
          },
          "xaxis": {
           "automargin": true,
           "gridcolor": "white",
           "linecolor": "white",
           "ticks": "",
           "title": {
            "standoff": 15
           },
           "zerolinecolor": "white",
           "zerolinewidth": 2
          },
          "yaxis": {
           "automargin": true,
           "gridcolor": "white",
           "linecolor": "white",
           "ticks": "",
           "title": {
            "standoff": 15
           },
           "zerolinecolor": "white",
           "zerolinewidth": 2
          }
         }
        },
        "title": {
         "text": "Корень из среднеквадратичной ошибки | Root Mean Squared Error"
        },
        "width": 800,
        "xaxis": {
         "anchor": "y",
         "domain": [
          0,
          1
         ],
         "title": {
          "text": "Отклонение"
         }
        },
        "yaxis": {
         "anchor": "x",
         "domain": [
          0,
          1
         ],
         "title": {
          "text": "Квадратный корень ошибки"
         }
        }
       }
      }
     },
     "metadata": {},
     "output_type": "display_data"
    }
   ],
   "source": [
    "# давай снова посмотрим как будет выглядеть график ошибку для RMSE\n",
    "error_df_cut['root_squared_error'] = error_df_cut['squared_error'] ** 0.5\n",
    "\n",
    "fig = px.line(\n",
    "    error_df_cut,\n",
    "    x=\"error\",\n",
    "    y=\"root_squared_error\",\n",
    "    title=\"Mean Root Squared Error\",\n",
    "    labels={\"error\": \"Отклонение\", \"root_squared_error\": \"Квадратный корень ошибки\"}\n",
    ")\n",
    "\n",
    "fig.add_scatter(\n",
    "    x=error_df_cut[\"error\"], y=error_df_cut[\"root_squared_error\"], mode=\"markers\", name=\"points\"\n",
    ")\n",
    "\n",
    "fig.update_layout(\n",
    "    height=700, width=800,\n",
    "    title_text=\"Корень из среднеквадратичной ошибки | Root Mean Squared Error\",\n",
    "    showlegend=True\n",
    ")"
   ]
  },
  {
   "cell_type": "code",
   "execution_count": null,
   "metadata": {},
   "outputs": [],
   "source": []
  },
  {
   "cell_type": "code",
   "execution_count": null,
   "metadata": {},
   "outputs": [],
   "source": []
  },
  {
   "cell_type": "markdown",
   "metadata": {},
   "source": []
  },
  {
   "cell_type": "code",
   "execution_count": null,
   "id": "0d15e5c4",
   "metadata": {},
   "outputs": [],
   "source": []
  },
  {
   "cell_type": "code",
   "execution_count": null,
   "id": "77406de4",
   "metadata": {},
   "outputs": [],
   "source": []
  },
  {
   "cell_type": "code",
   "execution_count": null,
   "metadata": {},
   "outputs": [],
   "source": []
  },
  {
   "cell_type": "code",
   "execution_count": null,
   "id": "fec2ba7b",
   "metadata": {},
   "outputs": [],
   "source": []
  },
  {
   "cell_type": "code",
   "execution_count": 34,
   "id": "d6c4519d",
   "metadata": {},
   "outputs": [
    {
     "name": "stdout",
     "output_type": "stream",
     "text": [
      "Минимальное абсолютное отклонение: 19.75\n",
      "Максимальное абсолютное отклонение: 14495.02\n"
     ]
    },
    {
     "data": {
      "text/html": [
       "<div>\n",
       "<style scoped>\n",
       "    .dataframe tbody tr th:only-of-type {\n",
       "        vertical-align: middle;\n",
       "    }\n",
       "\n",
       "    .dataframe tbody tr th {\n",
       "        vertical-align: top;\n",
       "    }\n",
       "\n",
       "    .dataframe thead th {\n",
       "        text-align: right;\n",
       "    }\n",
       "</style>\n",
       "<table border=\"1\" class=\"dataframe\">\n",
       "  <thead>\n",
       "    <tr style=\"text-align: right;\">\n",
       "      <th></th>\n",
       "      <th>true</th>\n",
       "      <th>pred</th>\n",
       "      <th>error_abs</th>\n",
       "    </tr>\n",
       "  </thead>\n",
       "  <tbody>\n",
       "    <tr>\n",
       "      <th>157</th>\n",
       "      <td>7198.0</td>\n",
       "      <td>7217.746943</td>\n",
       "      <td>19.746943</td>\n",
       "    </tr>\n",
       "    <tr>\n",
       "      <th>128</th>\n",
       "      <td>37028.0</td>\n",
       "      <td>22532.983209</td>\n",
       "      <td>14495.016791</td>\n",
       "    </tr>\n",
       "  </tbody>\n",
       "</table>\n",
       "</div>"
      ],
      "text/plain": [
       "        true          pred     error_abs\n",
       "157   7198.0   7217.746943     19.746943\n",
       "128  37028.0  22532.983209  14495.016791"
      ]
     },
     "execution_count": 34,
     "metadata": {},
     "output_type": "execute_result"
    }
   ],
   "source": [
    "# давай найдем самое максимальное и минималное абсолютные отклонения\n",
    "min_error = metrics_results['error_abs'].min()\n",
    "max_error = metrics_results['error_abs'].max()\n",
    "print(f\"Минимальное абсолютное отклонение: {min_error:.2f}\")\n",
    "print(f\"Максимальное абсолютное отклонение: {max_error:.2f}\")\n",
    "\n",
    "metrics_results[metrics_results['error_abs'].isin([min_error, max_error])]"
   ]
  },
  {
   "cell_type": "markdown",
   "id": "7bff95be",
   "metadata": {},
   "source": [
    "Как видишь, есть наблюдения где модель практически не ошибается - очень маленькое отклонение, а есть объекты на которых ошибка просто коллосальная. Например, для нашищ данных ошибка на объекте с индексом 128 в 763 раза больше чем для объекта с индеком 157. Это очень много! Но почему так происходит? Дело в том, что цены на авто распределены ненормально - большинство наблюдений (авто) имеют небольшую стоимость, но есть небольшое количество наблюдений с большой стоимостью - дорогие авто. Так как дорогих авто в обучающей выборке значительно меньше бюджетных, то у модели появляется некоторый _bias_ - она начинает занижать цену автомобилей.  \n",
    "\n",
    "Можно рассматривать дорогие автомобили как выбросы, которые непропорционально влияют на критерий качества и обучение модели. В таких условиях стандартная линейная регрессия часто ведёт себя плохо на хвостах распределения. К счастью, эту проблему можно решить при помощи специальных методов (логарифмирование, использование устойчивых функций потерь, ...)"
   ]
  },
  {
   "cell_type": "code",
   "execution_count": 14,
   "id": "19e43913",
   "metadata": {},
   "outputs": [
    {
     "data": {
      "application/vnd.plotly.v1+json": {
       "config": {
        "plotlyServerURL": "https://plot.ly"
       },
       "data": [
        {
         "fill": "tozeroy",
         "line": {
          "color": "blue"
         },
         "mode": "lines",
         "name": "Известные",
         "opacity": 0.6,
         "type": "scatter",
         "x": {
          "bdata": "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",
          "dtype": "f8"
         },
         "y": {
          "bdata": "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",
          "dtype": "f8"
         }
        },
        {
         "fill": "tozeroy",
         "line": {
          "color": "red"
         },
         "mode": "lines",
         "name": "Прогноз",
         "opacity": 0.6,
         "type": "scatter",
         "x": {
          "bdata": "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",
          "dtype": "f8"
         },
         "y": {
          "bdata": "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",
          "dtype": "f8"
         }
        }
       ],
       "layout": {
        "height": 600,
        "template": {
         "data": {
          "bar": [
           {
            "error_x": {
             "color": "#2a3f5f"
            },
            "error_y": {
             "color": "#2a3f5f"
            },
            "marker": {
             "line": {
              "color": "#E5ECF6",
              "width": 0.5
             },
             "pattern": {
              "fillmode": "overlay",
              "size": 10,
              "solidity": 0.2
             }
            },
            "type": "bar"
           }
          ],
          "barpolar": [
           {
            "marker": {
             "line": {
              "color": "#E5ECF6",
              "width": 0.5
             },
             "pattern": {
              "fillmode": "overlay",
              "size": 10,
              "solidity": 0.2
             }
            },
            "type": "barpolar"
           }
          ],
          "carpet": [
           {
            "aaxis": {
             "endlinecolor": "#2a3f5f",
             "gridcolor": "white",
             "linecolor": "white",
             "minorgridcolor": "white",
             "startlinecolor": "#2a3f5f"
            },
            "baxis": {
             "endlinecolor": "#2a3f5f",
             "gridcolor": "white",
             "linecolor": "white",
             "minorgridcolor": "white",
             "startlinecolor": "#2a3f5f"
            },
            "type": "carpet"
           }
          ],
          "choropleth": [
           {
            "colorbar": {
             "outlinewidth": 0,
             "ticks": ""
            },
            "type": "choropleth"
           }
          ],
          "contour": [
           {
            "colorbar": {
             "outlinewidth": 0,
             "ticks": ""
            },
            "colorscale": [
             [
              0,
              "#0d0887"
             ],
             [
              0.1111111111111111,
              "#46039f"
             ],
             [
              0.2222222222222222,
              "#7201a8"
             ],
             [
              0.3333333333333333,
              "#9c179e"
             ],
             [
              0.4444444444444444,
              "#bd3786"
             ],
             [
              0.5555555555555556,
              "#d8576b"
             ],
             [
              0.6666666666666666,
              "#ed7953"
             ],
             [
              0.7777777777777778,
              "#fb9f3a"
             ],
             [
              0.8888888888888888,
              "#fdca26"
             ],
             [
              1,
              "#f0f921"
             ]
            ],
            "type": "contour"
           }
          ],
          "contourcarpet": [
           {
            "colorbar": {
             "outlinewidth": 0,
             "ticks": ""
            },
            "type": "contourcarpet"
           }
          ],
          "heatmap": [
           {
            "colorbar": {
             "outlinewidth": 0,
             "ticks": ""
            },
            "colorscale": [
             [
              0,
              "#0d0887"
             ],
             [
              0.1111111111111111,
              "#46039f"
             ],
             [
              0.2222222222222222,
              "#7201a8"
             ],
             [
              0.3333333333333333,
              "#9c179e"
             ],
             [
              0.4444444444444444,
              "#bd3786"
             ],
             [
              0.5555555555555556,
              "#d8576b"
             ],
             [
              0.6666666666666666,
              "#ed7953"
             ],
             [
              0.7777777777777778,
              "#fb9f3a"
             ],
             [
              0.8888888888888888,
              "#fdca26"
             ],
             [
              1,
              "#f0f921"
             ]
            ],
            "type": "heatmap"
           }
          ],
          "histogram": [
           {
            "marker": {
             "pattern": {
              "fillmode": "overlay",
              "size": 10,
              "solidity": 0.2
             }
            },
            "type": "histogram"
           }
          ],
          "histogram2d": [
           {
            "colorbar": {
             "outlinewidth": 0,
             "ticks": ""
            },
            "colorscale": [
             [
              0,
              "#0d0887"
             ],
             [
              0.1111111111111111,
              "#46039f"
             ],
             [
              0.2222222222222222,
              "#7201a8"
             ],
             [
              0.3333333333333333,
              "#9c179e"
             ],
             [
              0.4444444444444444,
              "#bd3786"
             ],
             [
              0.5555555555555556,
              "#d8576b"
             ],
             [
              0.6666666666666666,
              "#ed7953"
             ],
             [
              0.7777777777777778,
              "#fb9f3a"
             ],
             [
              0.8888888888888888,
              "#fdca26"
             ],
             [
              1,
              "#f0f921"
             ]
            ],
            "type": "histogram2d"
           }
          ],
          "histogram2dcontour": [
           {
            "colorbar": {
             "outlinewidth": 0,
             "ticks": ""
            },
            "colorscale": [
             [
              0,
              "#0d0887"
             ],
             [
              0.1111111111111111,
              "#46039f"
             ],
             [
              0.2222222222222222,
              "#7201a8"
             ],
             [
              0.3333333333333333,
              "#9c179e"
             ],
             [
              0.4444444444444444,
              "#bd3786"
             ],
             [
              0.5555555555555556,
              "#d8576b"
             ],
             [
              0.6666666666666666,
              "#ed7953"
             ],
             [
              0.7777777777777778,
              "#fb9f3a"
             ],
             [
              0.8888888888888888,
              "#fdca26"
             ],
             [
              1,
              "#f0f921"
             ]
            ],
            "type": "histogram2dcontour"
           }
          ],
          "mesh3d": [
           {
            "colorbar": {
             "outlinewidth": 0,
             "ticks": ""
            },
            "type": "mesh3d"
           }
          ],
          "parcoords": [
           {
            "line": {
             "colorbar": {
              "outlinewidth": 0,
              "ticks": ""
             }
            },
            "type": "parcoords"
           }
          ],
          "pie": [
           {
            "automargin": true,
            "type": "pie"
           }
          ],
          "scatter": [
           {
            "fillpattern": {
             "fillmode": "overlay",
             "size": 10,
             "solidity": 0.2
            },
            "type": "scatter"
           }
          ],
          "scatter3d": [
           {
            "line": {
             "colorbar": {
              "outlinewidth": 0,
              "ticks": ""
             }
            },
            "marker": {
             "colorbar": {
              "outlinewidth": 0,
              "ticks": ""
             }
            },
            "type": "scatter3d"
           }
          ],
          "scattercarpet": [
           {
            "marker": {
             "colorbar": {
              "outlinewidth": 0,
              "ticks": ""
             }
            },
            "type": "scattercarpet"
           }
          ],
          "scattergeo": [
           {
            "marker": {
             "colorbar": {
              "outlinewidth": 0,
              "ticks": ""
             }
            },
            "type": "scattergeo"
           }
          ],
          "scattergl": [
           {
            "marker": {
             "colorbar": {
              "outlinewidth": 0,
              "ticks": ""
             }
            },
            "type": "scattergl"
           }
          ],
          "scattermap": [
           {
            "marker": {
             "colorbar": {
              "outlinewidth": 0,
              "ticks": ""
             }
            },
            "type": "scattermap"
           }
          ],
          "scattermapbox": [
           {
            "marker": {
             "colorbar": {
              "outlinewidth": 0,
              "ticks": ""
             }
            },
            "type": "scattermapbox"
           }
          ],
          "scatterpolar": [
           {
            "marker": {
             "colorbar": {
              "outlinewidth": 0,
              "ticks": ""
             }
            },
            "type": "scatterpolar"
           }
          ],
          "scatterpolargl": [
           {
            "marker": {
             "colorbar": {
              "outlinewidth": 0,
              "ticks": ""
             }
            },
            "type": "scatterpolargl"
           }
          ],
          "scatterternary": [
           {
            "marker": {
             "colorbar": {
              "outlinewidth": 0,
              "ticks": ""
             }
            },
            "type": "scatterternary"
           }
          ],
          "surface": [
           {
            "colorbar": {
             "outlinewidth": 0,
             "ticks": ""
            },
            "colorscale": [
             [
              0,
              "#0d0887"
             ],
             [
              0.1111111111111111,
              "#46039f"
             ],
             [
              0.2222222222222222,
              "#7201a8"
             ],
             [
              0.3333333333333333,
              "#9c179e"
             ],
             [
              0.4444444444444444,
              "#bd3786"
             ],
             [
              0.5555555555555556,
              "#d8576b"
             ],
             [
              0.6666666666666666,
              "#ed7953"
             ],
             [
              0.7777777777777778,
              "#fb9f3a"
             ],
             [
              0.8888888888888888,
              "#fdca26"
             ],
             [
              1,
              "#f0f921"
             ]
            ],
            "type": "surface"
           }
          ],
          "table": [
           {
            "cells": {
             "fill": {
              "color": "#EBF0F8"
             },
             "line": {
              "color": "white"
             }
            },
            "header": {
             "fill": {
              "color": "#C8D4E3"
             },
             "line": {
              "color": "white"
             }
            },
            "type": "table"
           }
          ]
         },
         "layout": {
          "annotationdefaults": {
           "arrowcolor": "#2a3f5f",
           "arrowhead": 0,
           "arrowwidth": 1
          },
          "autotypenumbers": "strict",
          "coloraxis": {
           "colorbar": {
            "outlinewidth": 0,
            "ticks": ""
           }
          },
          "colorscale": {
           "diverging": [
            [
             0,
             "#8e0152"
            ],
            [
             0.1,
             "#c51b7d"
            ],
            [
             0.2,
             "#de77ae"
            ],
            [
             0.3,
             "#f1b6da"
            ],
            [
             0.4,
             "#fde0ef"
            ],
            [
             0.5,
             "#f7f7f7"
            ],
            [
             0.6,
             "#e6f5d0"
            ],
            [
             0.7,
             "#b8e186"
            ],
            [
             0.8,
             "#7fbc41"
            ],
            [
             0.9,
             "#4d9221"
            ],
            [
             1,
             "#276419"
            ]
           ],
           "sequential": [
            [
             0,
             "#0d0887"
            ],
            [
             0.1111111111111111,
             "#46039f"
            ],
            [
             0.2222222222222222,
             "#7201a8"
            ],
            [
             0.3333333333333333,
             "#9c179e"
            ],
            [
             0.4444444444444444,
             "#bd3786"
            ],
            [
             0.5555555555555556,
             "#d8576b"
            ],
            [
             0.6666666666666666,
             "#ed7953"
            ],
            [
             0.7777777777777778,
             "#fb9f3a"
            ],
            [
             0.8888888888888888,
             "#fdca26"
            ],
            [
             1,
             "#f0f921"
            ]
           ],
           "sequentialminus": [
            [
             0,
             "#0d0887"
            ],
            [
             0.1111111111111111,
             "#46039f"
            ],
            [
             0.2222222222222222,
             "#7201a8"
            ],
            [
             0.3333333333333333,
             "#9c179e"
            ],
            [
             0.4444444444444444,
             "#bd3786"
            ],
            [
             0.5555555555555556,
             "#d8576b"
            ],
            [
             0.6666666666666666,
             "#ed7953"
            ],
            [
             0.7777777777777778,
             "#fb9f3a"
            ],
            [
             0.8888888888888888,
             "#fdca26"
            ],
            [
             1,
             "#f0f921"
            ]
           ]
          },
          "colorway": [
           "#636efa",
           "#EF553B",
           "#00cc96",
           "#ab63fa",
           "#FFA15A",
           "#19d3f3",
           "#FF6692",
           "#B6E880",
           "#FF97FF",
           "#FECB52"
          ],
          "font": {
           "color": "#2a3f5f"
          },
          "geo": {
           "bgcolor": "white",
           "lakecolor": "white",
           "landcolor": "#E5ECF6",
           "showlakes": true,
           "showland": true,
           "subunitcolor": "white"
          },
          "hoverlabel": {
           "align": "left"
          },
          "hovermode": "closest",
          "mapbox": {
           "style": "light"
          },
          "paper_bgcolor": "white",
          "plot_bgcolor": "#E5ECF6",
          "polar": {
           "angularaxis": {
            "gridcolor": "white",
            "linecolor": "white",
            "ticks": ""
           },
           "bgcolor": "#E5ECF6",
           "radialaxis": {
            "gridcolor": "white",
            "linecolor": "white",
            "ticks": ""
           }
          },
          "scene": {
           "xaxis": {
            "backgroundcolor": "#E5ECF6",
            "gridcolor": "white",
            "gridwidth": 2,
            "linecolor": "white",
            "showbackground": true,
            "ticks": "",
            "zerolinecolor": "white"
           },
           "yaxis": {
            "backgroundcolor": "#E5ECF6",
            "gridcolor": "white",
            "gridwidth": 2,
            "linecolor": "white",
            "showbackground": true,
            "ticks": "",
            "zerolinecolor": "white"
           },
           "zaxis": {
            "backgroundcolor": "#E5ECF6",
            "gridcolor": "white",
            "gridwidth": 2,
            "linecolor": "white",
            "showbackground": true,
            "ticks": "",
            "zerolinecolor": "white"
           }
          },
          "shapedefaults": {
           "line": {
            "color": "#2a3f5f"
           }
          },
          "ternary": {
           "aaxis": {
            "gridcolor": "white",
            "linecolor": "white",
            "ticks": ""
           },
           "baxis": {
            "gridcolor": "white",
            "linecolor": "white",
            "ticks": ""
           },
           "bgcolor": "#E5ECF6",
           "caxis": {
            "gridcolor": "white",
            "linecolor": "white",
            "ticks": ""
           }
          },
          "title": {
           "x": 0.05
          },
          "xaxis": {
           "automargin": true,
           "gridcolor": "white",
           "linecolor": "white",
           "ticks": "",
           "title": {
            "standoff": 15
           },
           "zerolinecolor": "white",
           "zerolinewidth": 2
          },
          "yaxis": {
           "automargin": true,
           "gridcolor": "white",
           "linecolor": "white",
           "ticks": "",
           "title": {
            "standoff": 15
           },
           "zerolinecolor": "white",
           "zerolinewidth": 2
          }
         }
        },
        "title": {
         "text": "Сравнение плотностей распределений: Известные vs Прогноз | Test Data"
        },
        "width": 1000,
        "xaxis": {
         "title": {
          "text": "Sales"
         }
        },
        "yaxis": {
         "title": {
          "text": "Плотность"
         }
        }
       }
      }
     },
     "metadata": {},
     "output_type": "display_data"
    }
   ],
   "source": [
    "# взглянем на истинное и предсказанное распределения\n",
    "from scipy.stats import gaussian_kde\n",
    "import plotly.graph_objects as go\n",
    "\n",
    "# Distribution plot\n",
    "# считаем оценку плотности для фактических и предсказанных значений\n",
    "kde_test = gaussian_kde(y_test)\n",
    "kde_pred = gaussian_kde(y_pred)\n",
    "\n",
    "# определим диапазон значений по которым бдуем строить плотности\n",
    "min_value = min(y_test.min(), y_pred.min())\n",
    "max_value = max(y_test.max(), y_pred.max())\n",
    "\n",
    "# также задаим сколько точек будем строить на графике\n",
    "n_points = 200\n",
    "\n",
    "# итоговый диапазон значений\n",
    "x_vals = np.linspace(min_value, max_value, n_points)\n",
    "\n",
    "# строим график плотностей\n",
    "fig = go.Figure()\n",
    "\n",
    "fig.add_trace(go.Scatter(\n",
    "    x=x_vals, y=kde_test(x_vals),\n",
    "    fill='tozeroy', name='Известные', mode='lines',\n",
    "    line=dict(color='blue'), opacity=0.6\n",
    "))\n",
    "\n",
    "fig.add_trace(go.Scatter(\n",
    "    x=x_vals, y=kde_pred(x_vals),\n",
    "    fill='tozeroy', name='Прогноз', mode='lines',\n",
    "    line=dict(color='red'), opacity=0.6\n",
    "))\n",
    "\n",
    "fig.update_layout(\n",
    "    title='Сравнение плотностей распределений: Известные vs Прогноз | Test Data',\n",
    "    xaxis_title='Sales', yaxis_title='Плотность',\n",
    "    width=1000, height=600\n",
    ")\n",
    "\n",
    "fig.show()"
   ]
  },
  {
   "cell_type": "markdown",
   "id": "b80eaff9",
   "metadata": {},
   "source": [
    "* Сравнение распределений показывает зоны перепрогноза и недопрогноза. Теперь оценим качество модели с помощью метрик и разберём их плюсы и минусы."
   ]
  },
  {
   "cell_type": "markdown",
   "id": "3cc0abbf",
   "metadata": {},
   "source": [
    "## Среднеквадратичная ошибка | Mean Squared Error | MSE"
   ]
  },
  {
   "cell_type": "code",
   "execution_count": null,
   "id": "f9caa7b1",
   "metadata": {},
   "outputs": [],
   "source": []
  },
  {
   "cell_type": "code",
   "execution_count": null,
   "id": "27c639fc",
   "metadata": {},
   "outputs": [],
   "source": []
  },
  {
   "cell_type": "code",
   "execution_count": null,
   "id": "d88db641",
   "metadata": {},
   "outputs": [],
   "source": []
  },
  {
   "cell_type": "code",
   "execution_count": null,
   "id": "4061dc40",
   "metadata": {},
   "outputs": [],
   "source": []
  },
  {
   "cell_type": "markdown",
   "id": "7200c8dc",
   "metadata": {},
   "source": [
    "## Корень из среднеквадратичной ошибки | Root Mean Squared Error | RMSE"
   ]
  },
  {
   "cell_type": "code",
   "execution_count": null,
   "id": "e0fe8544",
   "metadata": {},
   "outputs": [],
   "source": []
  },
  {
   "cell_type": "code",
   "execution_count": null,
   "id": "53cac348",
   "metadata": {},
   "outputs": [],
   "source": []
  },
  {
   "cell_type": "markdown",
   "id": "2a3dd0de",
   "metadata": {},
   "source": []
  },
  {
   "cell_type": "code",
   "execution_count": null,
   "id": "7292fc44",
   "metadata": {},
   "outputs": [],
   "source": []
  },
  {
   "cell_type": "code",
   "execution_count": null,
   "id": "a3d2327d",
   "metadata": {},
   "outputs": [],
   "source": []
  },
  {
   "cell_type": "markdown",
   "id": "72805e9d",
   "metadata": {},
   "source": [
    "## Среднеабсолютная ошибка | Mean Absolute Error | MAE"
   ]
  },
  {
   "cell_type": "code",
   "execution_count": null,
   "id": "0e6d8b95",
   "metadata": {},
   "outputs": [],
   "source": []
  },
  {
   "cell_type": "code",
   "execution_count": null,
   "id": "6f307b1e",
   "metadata": {},
   "outputs": [],
   "source": []
  },
  {
   "cell_type": "markdown",
   "id": "b5b36032",
   "metadata": {},
   "source": [
    "## Среднеабсолютная ошибка в процентах | Mean Absolute Percentage Error | MAPE"
   ]
  },
  {
   "cell_type": "code",
   "execution_count": null,
   "id": "675f0d4f",
   "metadata": {},
   "outputs": [],
   "source": []
  },
  {
   "cell_type": "markdown",
   "id": "87d88d56",
   "metadata": {},
   "source": []
  },
  {
   "cell_type": "markdown",
   "id": "6378039c",
   "metadata": {},
   "source": [
    "## MSLE"
   ]
  },
  {
   "cell_type": "code",
   "execution_count": null,
   "id": "32fe86bb",
   "metadata": {},
   "outputs": [],
   "source": []
  },
  {
   "cell_type": "code",
   "execution_count": null,
   "id": "3846b91f",
   "metadata": {},
   "outputs": [],
   "source": []
  },
  {
   "cell_type": "markdown",
   "id": "211d07cc",
   "metadata": {},
   "source": [
    "## Huber Loss"
   ]
  },
  {
   "cell_type": "code",
   "execution_count": null,
   "id": "cffcbe63",
   "metadata": {},
   "outputs": [],
   "source": []
  },
  {
   "cell_type": "code",
   "execution_count": null,
   "id": "fb58e048",
   "metadata": {},
   "outputs": [],
   "source": []
  },
  {
   "cell_type": "markdown",
   "id": "dedf5ead",
   "metadata": {},
   "source": [
    "## Квантильная ошибка | Quantile Error/Loss"
   ]
  },
  {
   "cell_type": "code",
   "execution_count": null,
   "id": "8cd49f5c",
   "metadata": {},
   "outputs": [],
   "source": []
  },
  {
   "cell_type": "code",
   "execution_count": null,
   "id": "4b6945fd",
   "metadata": {},
   "outputs": [],
   "source": []
  }
 ],
 "metadata": {
  "kernelspec": {
   "display_name": "ml-course",
   "language": "python",
   "name": "python3"
  },
  "language_info": {
   "codemirror_mode": {
    "name": "ipython",
    "version": 3
   },
   "file_extension": ".py",
   "mimetype": "text/x-python",
   "name": "python",
   "nbconvert_exporter": "python",
   "pygments_lexer": "ipython3",
   "version": "3.12.11"
  }
 },
 "nbformat": 4,
 "nbformat_minor": 5
}

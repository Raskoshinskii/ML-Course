{
 "cells": [
  {
   "cell_type": "markdown",
   "id": "ae67d687",
   "metadata": {},
   "source": [
    "## Метрики в задаче регрессии 📏\n",
    "Как гласит одна замечательная фраза: \"Если ты не знаешь как что-то измерить, то ты не можешь это улучшить\". Действительно, сложно спорить. Дело в том, что цель любой ML-модели - осуществлять верные предсказания, чтобы хорошо решать определенную бизнес задачу. Я рекомендую избегать результаты экспериментов, где просто говорят, что модель \"хорошо\" или \"адекватно\" работает. Что значит \"хорошо\" или \"плохо\"? Это сколько? \n",
    "\n",
    "Как видишь, такие термины лишены деталей, которые усложняют процесс интерпретации и улучшения модели. Вместо этого было бы идеально описывать результаты своих экспериментов фразами:\n",
    "- \"В среднем модель ошибается на 10.000 руб. при прогнозировании стоимости автомобиля\"\n",
    "- \"В среднем модель ошибается на 15% от истинной цены услуги\" \n",
    "- ...\n",
    "\n",
    "Именно для этого и используются метрики.\n",
    "\n",
    "- Метрика — это некоторая математическая формула, позволяющая оценить насколько хорошо модель выполняет свою задачу. Например, точность предсказаний или качество классификации.\n",
    "\n",
    "Метрик в ML очень много, но в рамках этого ноутбука мы сфокусируемся на основных метркиах для решения задачи регрессии. Многие метрики уже имплементированы в sklearn в разделе [metrics](https://scikit-learn.org/stable/api/sklearn.metrics.html)"
   ]
  },
  {
   "cell_type": "code",
   "execution_count": 1,
   "id": "d14400a6",
   "metadata": {},
   "outputs": [],
   "source": [
    "import numpy as np\n",
    "import pandas as pd\n",
    "import warnings\n",
    "\n",
    "SEED = 23\n",
    "warnings.filterwarnings('ignore')"
   ]
  },
  {
   "cell_type": "markdown",
   "id": "d1fb8e64",
   "metadata": {},
   "source": [
    "## Данные 📊\n",
    "Я предлагаю использовать несложный датасет по оценке стоимостей автомобилей. Это неплохой вариант для нашей темы, так как целевая переменная будет содержать информацию о дешевых и дорогих автомобмилях, что отлично подходит для сравнения таких метрик как $MAE$ и $RMSE$. Датасет содержит информацию о ценах на автомобили, произведенные в США. Более подробно с датасетом можно ознакомиться [здесь](https://www.kaggle.com/datasets/hellbuoy/car-price-prediction?select=CarPrice_Assignment.csv).\n"
   ]
  },
  {
   "cell_type": "code",
   "execution_count": 2,
   "id": "cce6a389",
   "metadata": {},
   "outputs": [
    {
     "data": {
      "text/html": [
       "<div>\n",
       "<style scoped>\n",
       "    .dataframe tbody tr th:only-of-type {\n",
       "        vertical-align: middle;\n",
       "    }\n",
       "\n",
       "    .dataframe tbody tr th {\n",
       "        vertical-align: top;\n",
       "    }\n",
       "\n",
       "    .dataframe thead th {\n",
       "        text-align: right;\n",
       "    }\n",
       "</style>\n",
       "<table border=\"1\" class=\"dataframe\">\n",
       "  <thead>\n",
       "    <tr style=\"text-align: right;\">\n",
       "      <th></th>\n",
       "      <th>car_ID</th>\n",
       "      <th>symboling</th>\n",
       "      <th>CarName</th>\n",
       "      <th>fueltype</th>\n",
       "      <th>aspiration</th>\n",
       "      <th>doornumber</th>\n",
       "      <th>carbody</th>\n",
       "      <th>drivewheel</th>\n",
       "      <th>enginelocation</th>\n",
       "      <th>wheelbase</th>\n",
       "      <th>...</th>\n",
       "      <th>enginesize</th>\n",
       "      <th>fuelsystem</th>\n",
       "      <th>boreratio</th>\n",
       "      <th>stroke</th>\n",
       "      <th>compressionratio</th>\n",
       "      <th>horsepower</th>\n",
       "      <th>peakrpm</th>\n",
       "      <th>citympg</th>\n",
       "      <th>highwaympg</th>\n",
       "      <th>price</th>\n",
       "    </tr>\n",
       "  </thead>\n",
       "  <tbody>\n",
       "    <tr>\n",
       "      <th>0</th>\n",
       "      <td>1</td>\n",
       "      <td>3</td>\n",
       "      <td>alfa-romero giulia</td>\n",
       "      <td>gas</td>\n",
       "      <td>std</td>\n",
       "      <td>two</td>\n",
       "      <td>convertible</td>\n",
       "      <td>rwd</td>\n",
       "      <td>front</td>\n",
       "      <td>88.6</td>\n",
       "      <td>...</td>\n",
       "      <td>130</td>\n",
       "      <td>mpfi</td>\n",
       "      <td>3.47</td>\n",
       "      <td>2.68</td>\n",
       "      <td>9.0</td>\n",
       "      <td>111</td>\n",
       "      <td>5000</td>\n",
       "      <td>21</td>\n",
       "      <td>27</td>\n",
       "      <td>13495.0</td>\n",
       "    </tr>\n",
       "    <tr>\n",
       "      <th>1</th>\n",
       "      <td>2</td>\n",
       "      <td>3</td>\n",
       "      <td>alfa-romero stelvio</td>\n",
       "      <td>gas</td>\n",
       "      <td>std</td>\n",
       "      <td>two</td>\n",
       "      <td>convertible</td>\n",
       "      <td>rwd</td>\n",
       "      <td>front</td>\n",
       "      <td>88.6</td>\n",
       "      <td>...</td>\n",
       "      <td>130</td>\n",
       "      <td>mpfi</td>\n",
       "      <td>3.47</td>\n",
       "      <td>2.68</td>\n",
       "      <td>9.0</td>\n",
       "      <td>111</td>\n",
       "      <td>5000</td>\n",
       "      <td>21</td>\n",
       "      <td>27</td>\n",
       "      <td>16500.0</td>\n",
       "    </tr>\n",
       "    <tr>\n",
       "      <th>2</th>\n",
       "      <td>3</td>\n",
       "      <td>1</td>\n",
       "      <td>alfa-romero Quadrifoglio</td>\n",
       "      <td>gas</td>\n",
       "      <td>std</td>\n",
       "      <td>two</td>\n",
       "      <td>hatchback</td>\n",
       "      <td>rwd</td>\n",
       "      <td>front</td>\n",
       "      <td>94.5</td>\n",
       "      <td>...</td>\n",
       "      <td>152</td>\n",
       "      <td>mpfi</td>\n",
       "      <td>2.68</td>\n",
       "      <td>3.47</td>\n",
       "      <td>9.0</td>\n",
       "      <td>154</td>\n",
       "      <td>5000</td>\n",
       "      <td>19</td>\n",
       "      <td>26</td>\n",
       "      <td>16500.0</td>\n",
       "    </tr>\n",
       "    <tr>\n",
       "      <th>3</th>\n",
       "      <td>4</td>\n",
       "      <td>2</td>\n",
       "      <td>audi 100 ls</td>\n",
       "      <td>gas</td>\n",
       "      <td>std</td>\n",
       "      <td>four</td>\n",
       "      <td>sedan</td>\n",
       "      <td>fwd</td>\n",
       "      <td>front</td>\n",
       "      <td>99.8</td>\n",
       "      <td>...</td>\n",
       "      <td>109</td>\n",
       "      <td>mpfi</td>\n",
       "      <td>3.19</td>\n",
       "      <td>3.40</td>\n",
       "      <td>10.0</td>\n",
       "      <td>102</td>\n",
       "      <td>5500</td>\n",
       "      <td>24</td>\n",
       "      <td>30</td>\n",
       "      <td>13950.0</td>\n",
       "    </tr>\n",
       "    <tr>\n",
       "      <th>4</th>\n",
       "      <td>5</td>\n",
       "      <td>2</td>\n",
       "      <td>audi 100ls</td>\n",
       "      <td>gas</td>\n",
       "      <td>std</td>\n",
       "      <td>four</td>\n",
       "      <td>sedan</td>\n",
       "      <td>4wd</td>\n",
       "      <td>front</td>\n",
       "      <td>99.4</td>\n",
       "      <td>...</td>\n",
       "      <td>136</td>\n",
       "      <td>mpfi</td>\n",
       "      <td>3.19</td>\n",
       "      <td>3.40</td>\n",
       "      <td>8.0</td>\n",
       "      <td>115</td>\n",
       "      <td>5500</td>\n",
       "      <td>18</td>\n",
       "      <td>22</td>\n",
       "      <td>17450.0</td>\n",
       "    </tr>\n",
       "  </tbody>\n",
       "</table>\n",
       "<p>5 rows × 26 columns</p>\n",
       "</div>"
      ],
      "text/plain": [
       "   car_ID  symboling                   CarName fueltype aspiration doornumber  \\\n",
       "0       1          3        alfa-romero giulia      gas        std        two   \n",
       "1       2          3       alfa-romero stelvio      gas        std        two   \n",
       "2       3          1  alfa-romero Quadrifoglio      gas        std        two   \n",
       "3       4          2               audi 100 ls      gas        std       four   \n",
       "4       5          2                audi 100ls      gas        std       four   \n",
       "\n",
       "       carbody drivewheel enginelocation  wheelbase  ...  enginesize  \\\n",
       "0  convertible        rwd          front       88.6  ...         130   \n",
       "1  convertible        rwd          front       88.6  ...         130   \n",
       "2    hatchback        rwd          front       94.5  ...         152   \n",
       "3        sedan        fwd          front       99.8  ...         109   \n",
       "4        sedan        4wd          front       99.4  ...         136   \n",
       "\n",
       "   fuelsystem  boreratio  stroke compressionratio horsepower  peakrpm citympg  \\\n",
       "0        mpfi       3.47    2.68              9.0        111     5000      21   \n",
       "1        mpfi       3.47    2.68              9.0        111     5000      21   \n",
       "2        mpfi       2.68    3.47              9.0        154     5000      19   \n",
       "3        mpfi       3.19    3.40             10.0        102     5500      24   \n",
       "4        mpfi       3.19    3.40              8.0        115     5500      18   \n",
       "\n",
       "   highwaympg    price  \n",
       "0          27  13495.0  \n",
       "1          27  16500.0  \n",
       "2          26  16500.0  \n",
       "3          30  13950.0  \n",
       "4          22  17450.0  \n",
       "\n",
       "[5 rows x 26 columns]"
      ]
     },
     "execution_count": 2,
     "metadata": {},
     "output_type": "execute_result"
    }
   ],
   "source": [
    "data = pd.read_csv('../data/regression/usa_car_prices.csv')\n",
    "data.head()"
   ]
  },
  {
   "cell_type": "markdown",
   "id": "efe05578",
   "metadata": {},
   "source": [
    "- В датасете 26 фичей. Логично предположить, что не все из них важны и для построения лучше модели необходимо сделать отбор признаков - _feature selection_. В рамках нашей темы это будет избыточно, поэтому я просто сфокусируюсь на нескольких числовых признаках которые отберу по-своему предпочтению:\n",
    "    - _Кол-во лошадиных сил | horsepower_\n",
    "    - _Длина авто | carlength_\n",
    "    - _Объем двигателя | enginesize_\n",
    "    - _Вес авто_ | curbweight_\n",
    "    - _Цена автомобиля | price_"
   ]
  },
  {
   "cell_type": "code",
   "execution_count": 3,
   "id": "fbf6dfb5",
   "metadata": {},
   "outputs": [
    {
     "data": {
      "text/html": [
       "<div>\n",
       "<style scoped>\n",
       "    .dataframe tbody tr th:only-of-type {\n",
       "        vertical-align: middle;\n",
       "    }\n",
       "\n",
       "    .dataframe tbody tr th {\n",
       "        vertical-align: top;\n",
       "    }\n",
       "\n",
       "    .dataframe thead th {\n",
       "        text-align: right;\n",
       "    }\n",
       "</style>\n",
       "<table border=\"1\" class=\"dataframe\">\n",
       "  <thead>\n",
       "    <tr style=\"text-align: right;\">\n",
       "      <th></th>\n",
       "      <th>horsepower</th>\n",
       "      <th>carlength</th>\n",
       "      <th>enginesize</th>\n",
       "      <th>curbweight</th>\n",
       "      <th>price</th>\n",
       "    </tr>\n",
       "  </thead>\n",
       "  <tbody>\n",
       "    <tr>\n",
       "      <th>0</th>\n",
       "      <td>111</td>\n",
       "      <td>168.8</td>\n",
       "      <td>130</td>\n",
       "      <td>2548</td>\n",
       "      <td>13495.0</td>\n",
       "    </tr>\n",
       "    <tr>\n",
       "      <th>1</th>\n",
       "      <td>111</td>\n",
       "      <td>168.8</td>\n",
       "      <td>130</td>\n",
       "      <td>2548</td>\n",
       "      <td>16500.0</td>\n",
       "    </tr>\n",
       "    <tr>\n",
       "      <th>2</th>\n",
       "      <td>154</td>\n",
       "      <td>171.2</td>\n",
       "      <td>152</td>\n",
       "      <td>2823</td>\n",
       "      <td>16500.0</td>\n",
       "    </tr>\n",
       "    <tr>\n",
       "      <th>3</th>\n",
       "      <td>102</td>\n",
       "      <td>176.6</td>\n",
       "      <td>109</td>\n",
       "      <td>2337</td>\n",
       "      <td>13950.0</td>\n",
       "    </tr>\n",
       "    <tr>\n",
       "      <th>4</th>\n",
       "      <td>115</td>\n",
       "      <td>176.6</td>\n",
       "      <td>136</td>\n",
       "      <td>2824</td>\n",
       "      <td>17450.0</td>\n",
       "    </tr>\n",
       "  </tbody>\n",
       "</table>\n",
       "</div>"
      ],
      "text/plain": [
       "   horsepower  carlength  enginesize  curbweight    price\n",
       "0         111      168.8         130        2548  13495.0\n",
       "1         111      168.8         130        2548  16500.0\n",
       "2         154      171.2         152        2823  16500.0\n",
       "3         102      176.6         109        2337  13950.0\n",
       "4         115      176.6         136        2824  17450.0"
      ]
     },
     "execution_count": 3,
     "metadata": {},
     "output_type": "execute_result"
    }
   ],
   "source": [
    "# отбираем признаки\n",
    "features = [\n",
    "    'horsepower',\n",
    "    'carlength',\n",
    "    'enginesize',\n",
    "    'curbweight',\n",
    "    'price'\n",
    "]\n",
    "\n",
    "df = data[features]\n",
    "df.head()"
   ]
  },
  {
   "cell_type": "markdown",
   "id": "385c9bce",
   "metadata": {},
   "source": [
    "Давай обучим простую модель регресии и сравним прогнозы модели с известными значениями"
   ]
  },
  {
   "cell_type": "code",
   "execution_count": 4,
   "id": "f1b98faf",
   "metadata": {},
   "outputs": [
    {
     "data": {
      "text/html": [
       "<div>\n",
       "<style scoped>\n",
       "    .dataframe tbody tr th:only-of-type {\n",
       "        vertical-align: middle;\n",
       "    }\n",
       "\n",
       "    .dataframe tbody tr th {\n",
       "        vertical-align: top;\n",
       "    }\n",
       "\n",
       "    .dataframe thead th {\n",
       "        text-align: right;\n",
       "    }\n",
       "</style>\n",
       "<table border=\"1\" class=\"dataframe\">\n",
       "  <thead>\n",
       "    <tr style=\"text-align: right;\">\n",
       "      <th></th>\n",
       "      <th>true</th>\n",
       "      <th>pred</th>\n",
       "      <th>error</th>\n",
       "    </tr>\n",
       "  </thead>\n",
       "  <tbody>\n",
       "    <tr>\n",
       "      <th>74</th>\n",
       "      <td>45400.0</td>\n",
       "      <td>33459.814874</td>\n",
       "      <td>11940.185126</td>\n",
       "    </tr>\n",
       "    <tr>\n",
       "      <th>51</th>\n",
       "      <td>6095.0</td>\n",
       "      <td>5441.606425</td>\n",
       "      <td>653.393575</td>\n",
       "    </tr>\n",
       "    <tr>\n",
       "      <th>46</th>\n",
       "      <td>11048.0</td>\n",
       "      <td>12783.570040</td>\n",
       "      <td>-1735.570040</td>\n",
       "    </tr>\n",
       "    <tr>\n",
       "      <th>14</th>\n",
       "      <td>24565.0</td>\n",
       "      <td>18848.847159</td>\n",
       "      <td>5716.152841</td>\n",
       "    </tr>\n",
       "    <tr>\n",
       "      <th>18</th>\n",
       "      <td>5151.0</td>\n",
       "      <td>205.239611</td>\n",
       "      <td>4945.760389</td>\n",
       "    </tr>\n",
       "  </tbody>\n",
       "</table>\n",
       "</div>"
      ],
      "text/plain": [
       "       true          pred         error\n",
       "74  45400.0  33459.814874  11940.185126\n",
       "51   6095.0   5441.606425    653.393575\n",
       "46  11048.0  12783.570040  -1735.570040\n",
       "14  24565.0  18848.847159   5716.152841\n",
       "18   5151.0    205.239611   4945.760389"
      ]
     },
     "execution_count": 4,
     "metadata": {},
     "output_type": "execute_result"
    }
   ],
   "source": [
    "from sklearn.linear_model import LinearRegression\n",
    "from sklearn.model_selection import train_test_split\n",
    "from sklearn.preprocessing import StandardScaler\n",
    "\n",
    "# как всегда, вначале разобьем данные на train и test\n",
    "X = df.drop('price', axis=1)\n",
    "y = df['price']\n",
    "X_train, X_test, y_train, y_test = train_test_split(X, y, test_size=0.3, random_state=SEED, shuffle=True)\n",
    "\n",
    "# осуществляем масштабирование\n",
    "scaler = StandardScaler()\n",
    "X_train_scaled = scaler.fit_transform(X_train)\n",
    "X_test_scaled = scaler.transform(X_test)\n",
    "\n",
    "# обучим модель\n",
    "model = LinearRegression()\n",
    "model.fit(X_train_scaled, y_train)\n",
    "\n",
    "# спрогнозируем на test\n",
    "y_pred = model.predict(X_test_scaled)\n",
    "\n",
    "# cформируем таблицу с истинными и предсказанными значениями\n",
    "metrics_results = pd.DataFrame({'true': y_test, 'pred': y_pred.flatten()})\n",
    "metrics_results['error'] = metrics_results['true'] - metrics_results['pred']\n",
    "metrics_results.head()"
   ]
  },
  {
   "cell_type": "markdown",
   "id": "7df46ca3",
   "metadata": {},
   "source": [
    "Отлично, теперь у нас есть ошибка на каждом объекте выборки. Однако, мы ведь не можем судить о качестве модели, используя лишь 1 объект? Необходимо учитывать все объекты, какие есть варианты?\n",
    "- _\"Суммирование отклонения_\": не подходит, так как произойдет компенсация ошибки. Например, если отклонения -2 и 2, то сумма равна 0. Получается что ошибки нет, однако это не так\n",
    "- _\"Квадрат отклонения_\": подходит, компенсации ошибки не не произойдет\n",
    "- _\"Абсолютное отклонение_\": подходит, компенсации ошибки ткакже не происходит"
   ]
  },
  {
   "cell_type": "code",
   "execution_count": 5,
   "id": "78ba6d77",
   "metadata": {},
   "outputs": [
    {
     "name": "stdout",
     "output_type": "stream",
     "text": [
      "Сумма отклонений: 67038.65\n",
      "Сумма квадратов отклонений: 1078337927.81\n",
      "Сумма абсолютных отклонений: 178092.24\n"
     ]
    }
   ],
   "source": [
    "# давай посмотрим какие ошибки мы получим, используя методы выше\n",
    "sum_error = metrics_results['error'].sum().item()\n",
    "sum_squared_error= (metrics_results['error'] ** 2).sum().item()\n",
    "sum_abs_error = metrics_results['error'].abs().sum().item()\n",
    "\n",
    "print(f\"Сумма отклонений: {sum_error:.2f}\")\n",
    "print(f\"Сумма квадратов отклонений: {sum_squared_error:.2f}\")\n",
    "print(f\"Сумма абсолютных отклонений: {sum_abs_error:.2f}\")"
   ]
  },
  {
   "cell_type": "markdown",
   "id": "110be065",
   "metadata": {},
   "source": [
    "Полученные ошибки - накопительные, а нам бы желательно понимать как, например, модель ошибается в среднем, поэтому давай просто усредним полученные значения. "
   ]
  },
  {
   "cell_type": "code",
   "execution_count": 6,
   "id": "cbe1a130",
   "metadata": {},
   "outputs": [
    {
     "name": "stdout",
     "output_type": "stream",
     "text": [
      "Средняя сумма отклонений: 1081.27\n",
      "Средняя сумма квадратов отклонений: 17392547.22\n",
      "Средняя сумма абсолютных отклонений: 2872.46\n"
     ]
    }
   ],
   "source": [
    "n = metrics_results.shape[0]\n",
    "mean_sum_error = sum_error / n\n",
    "mean_squared_error = sum_squared_error / n\n",
    "mean_abs_error = sum_abs_error / n\n",
    "\n",
    "print(f\"Средняя сумма отклонений: {mean_sum_error:.2f}\")\n",
    "print(f\"Средняя сумма квадратов отклонений: {mean_squared_error:.2f}\")\n",
    "print(f\"Средняя сумма абсолютных отклонений: {mean_abs_error:.2f}\")"
   ]
  },
  {
   "cell_type": "markdown",
   "id": "6e41e74c",
   "metadata": {},
   "source": [
    "Теперь полученные метрики отражают <u>усредненную</u> ошибку модели для всех объектов выборки, то что нам нужно! Как мы обсудили выше - некорректо использовать \"среднюю сумму отклонения\" из-за компенсации. Оставшивеся 2 метрики действительно используются в машинном обучении и называются соответственно _среднеквадратичная_ и _среднеабсолютная_ ошибки о которых мы поговорим далее."
   ]
  },
  {
   "cell_type": "markdown",
   "id": "e3145be2",
   "metadata": {},
   "source": [
    "## Средняя квадратическая ошибка | Mean Squared Error | MSE\n",
    "$$ MSE = \\frac{1}{n}\\sum_{i=1}^{n} (y_i - \\hat{y}_i)^2$$\n",
    "\n",
    "$MSE$ — одна из самых популярных метрик для регрессионных моделей. Она измеряет средний квадрат разницы между реальными значениями $y_i$ и предсказаниями $\\hat{y}_i$.\n",
    "\n",
    "Интуитивно, $MSE$ показывает, как сильно в среднем ошибается модель. Так как отклонения возводятся в квадрат, то штраф за ошибку квадратичный - 1:2. Давай взглянем на вид функциональной зависимсоти ошибки. Ну так как это квадратичная ошибка, то график должен быть похож на параболу"
   ]
  },
  {
   "cell_type": "code",
   "execution_count": 7,
   "id": "17c89d1d",
   "metadata": {},
   "outputs": [
    {
     "data": {
      "application/vnd.plotly.v1+json": {
       "config": {
        "plotlyServerURL": "https://plot.ly"
       },
       "data": [
        {
         "hovertemplate": "Отклонение=%{x}<br>Ошибка=%{y}<extra></extra>",
         "legendgroup": "",
         "line": {
          "color": "#636efa",
          "dash": "solid"
         },
         "marker": {
          "symbol": "circle"
         },
         "mode": "lines",
         "name": "",
         "orientation": "v",
         "showlegend": false,
         "type": "scatter",
         "x": {
          "bdata": "CJsYNoQEtcBQm0eRyIe0wOBt4LV4nLHAoIAOl4/or8DgSt2PjISuwOAjDVWDY67AQA+eyF3CrMDIi5oqqfWmwNATBAAPgaLAuC+Y7/oWosBsc4Lf+NmhwEj/XkcX6p/AoGwouQ8xn8BgAhPyZySdwCCXr7hHHpvAUIlyhJFWlsDgYeclW8KSwGDB1mIwJI/AoDKMK0O1hcCwZMXLYBqDwKCyKMSp4ILAwN3J3lxbgcCgEuUIIz2AwKAzX7WYNXnAwCb/XclPZMAA9nsjb/JSwAD8rKs3vzPAAIBNl9XBM0AAaO884iRRQACYgYgT63ZAAMXz//PDfEBAQcvBgTZ/QMCn/SyCpYBAwKf9LIKlgEDYk+SAcWCEQOBxgwoma4RAsNWk8dPLhEDgQVzDCGyJQMSQ8w8QOZBAeBqV6niZkEDAZtZRiKKQQAS2ZMh7TZJAWHsSjvq+k0CgZRDyV7uUQOitUqphTp1AWA/fv2umoUDMp8Epp5elQPAv2s4aqqdAYsj5B4iXrEC29c1CQWqxQGgtaqenq7FAilrTqMJRs0CIUNIAGAS1QJbtLaGbd7VA3BmbICdUtkBIgyQvTs+2QLC17fvYt7dAYGg/gQxrvUB0WVWfUdjDQHSHULtc+sNAHLc2shdSx0AA3zMmgk/MQA==",
          "dtype": "f8"
         },
         "xaxis": "x",
         "y": {
          "bdata": "jyBgVNybe0HK0Zi99Vd6QRQy5rd6YnNBWrw+WTDRb0FlO8uXrBptQdDlMbbL22xBKfJHscDYaUHpKG+EJnlgQVt+98FyZlVBOduInNVzVEG/BMNYyupTQSnLzI491E9BCBjtrllnTkGVxPTRJYpKQfZXw641+0ZBxD22jeQvP0G/Bqf5hf41QZOjp6xGTi5BCkYj09VzHUENqNRg0c4WQbJO2ZHQRRZBoj3uCy/UEkHdrjqtL3sQQRFLFmAY3ANBUmRkSQXJ2UD4S8x002+2QPhLn3kRX3hAto9dg4dleECn7A3ItV6yQMkMo8L5aQBB9oLu7JrbCUF1A3Y/+HEOQbxa/mq0URFBvFr+arRREUE1WWsXYfMZQbqsb6esDhpBg1AnebYHG0EBPGlsOjIkQeboaKLrcjBBtmRC8bE4MUEAdK+wg0sxQbsFCb7N7zRBkrhtn3peOEEYpMZ27dw6QWRC/gHR1kpBXvRc9md4U0HO96I3tCNdQYLoRcYOgGFBzKcCnPuLaUH7ArVPjPRyQajbONr1g3NB95cjHdBTd0EEf0wOwJp7QQnk/6d2zXxB45LgNCYpf0H9IhN9SkKAQcR0pilolIFBMijoxWwLi0FWGNl3Lp2YQetI1tDp8ZhBsouxqdT+oEHwvIhP6QupQQ==",
          "dtype": "f8"
         },
         "yaxis": "y"
        },
        {
         "mode": "markers",
         "name": "points",
         "type": "scatter",
         "x": {
          "bdata": "CJsYNoQEtcBQm0eRyIe0wOBt4LV4nLHAoIAOl4/or8DgSt2PjISuwOAjDVWDY67AQA+eyF3CrMDIi5oqqfWmwNATBAAPgaLAuC+Y7/oWosBsc4Lf+NmhwEj/XkcX6p/AoGwouQ8xn8BgAhPyZySdwCCXr7hHHpvAUIlyhJFWlsDgYeclW8KSwGDB1mIwJI/AoDKMK0O1hcCwZMXLYBqDwKCyKMSp4ILAwN3J3lxbgcCgEuUIIz2AwKAzX7WYNXnAwCb/XclPZMAA9nsjb/JSwAD8rKs3vzPAAIBNl9XBM0AAaO884iRRQACYgYgT63ZAAMXz//PDfEBAQcvBgTZ/QMCn/SyCpYBAwKf9LIKlgEDYk+SAcWCEQOBxgwoma4RAsNWk8dPLhEDgQVzDCGyJQMSQ8w8QOZBAeBqV6niZkEDAZtZRiKKQQAS2ZMh7TZJAWHsSjvq+k0CgZRDyV7uUQOitUqphTp1AWA/fv2umoUDMp8Epp5elQPAv2s4aqqdAYsj5B4iXrEC29c1CQWqxQGgtaqenq7FAilrTqMJRs0CIUNIAGAS1QJbtLaGbd7VA3BmbICdUtkBIgyQvTs+2QLC17fvYt7dAYGg/gQxrvUB0WVWfUdjDQHSHULtc+sNAHLc2shdSx0AA3zMmgk/MQA==",
          "dtype": "f8"
         },
         "y": {
          "bdata": "jyBgVNybe0HK0Zi99Vd6QRQy5rd6YnNBWrw+WTDRb0FlO8uXrBptQdDlMbbL22xBKfJHscDYaUHpKG+EJnlgQVt+98FyZlVBOduInNVzVEG/BMNYyupTQSnLzI491E9BCBjtrllnTkGVxPTRJYpKQfZXw641+0ZBxD22jeQvP0G/Bqf5hf41QZOjp6xGTi5BCkYj09VzHUENqNRg0c4WQbJO2ZHQRRZBoj3uCy/UEkHdrjqtL3sQQRFLFmAY3ANBUmRkSQXJ2UD4S8x002+2QPhLn3kRX3hAto9dg4dleECn7A3ItV6yQMkMo8L5aQBB9oLu7JrbCUF1A3Y/+HEOQbxa/mq0URFBvFr+arRREUE1WWsXYfMZQbqsb6esDhpBg1AnebYHG0EBPGlsOjIkQeboaKLrcjBBtmRC8bE4MUEAdK+wg0sxQbsFCb7N7zRBkrhtn3peOEEYpMZ27dw6QWRC/gHR1kpBXvRc9md4U0HO96I3tCNdQYLoRcYOgGFBzKcCnPuLaUH7ArVPjPRyQajbONr1g3NB95cjHdBTd0EEf0wOwJp7QQnk/6d2zXxB45LgNCYpf0H9IhN9SkKAQcR0pilolIFBMijoxWwLi0FWGNl3Lp2YQetI1tDp8ZhBsouxqdT+oEHwvIhP6QupQQ==",
          "dtype": "f8"
         }
        }
       ],
       "layout": {
        "height": 700,
        "legend": {
         "tracegroupgap": 0
        },
        "showlegend": true,
        "template": {
         "data": {
          "bar": [
           {
            "error_x": {
             "color": "#2a3f5f"
            },
            "error_y": {
             "color": "#2a3f5f"
            },
            "marker": {
             "line": {
              "color": "#E5ECF6",
              "width": 0.5
             },
             "pattern": {
              "fillmode": "overlay",
              "size": 10,
              "solidity": 0.2
             }
            },
            "type": "bar"
           }
          ],
          "barpolar": [
           {
            "marker": {
             "line": {
              "color": "#E5ECF6",
              "width": 0.5
             },
             "pattern": {
              "fillmode": "overlay",
              "size": 10,
              "solidity": 0.2
             }
            },
            "type": "barpolar"
           }
          ],
          "carpet": [
           {
            "aaxis": {
             "endlinecolor": "#2a3f5f",
             "gridcolor": "white",
             "linecolor": "white",
             "minorgridcolor": "white",
             "startlinecolor": "#2a3f5f"
            },
            "baxis": {
             "endlinecolor": "#2a3f5f",
             "gridcolor": "white",
             "linecolor": "white",
             "minorgridcolor": "white",
             "startlinecolor": "#2a3f5f"
            },
            "type": "carpet"
           }
          ],
          "choropleth": [
           {
            "colorbar": {
             "outlinewidth": 0,
             "ticks": ""
            },
            "type": "choropleth"
           }
          ],
          "contour": [
           {
            "colorbar": {
             "outlinewidth": 0,
             "ticks": ""
            },
            "colorscale": [
             [
              0,
              "#0d0887"
             ],
             [
              0.1111111111111111,
              "#46039f"
             ],
             [
              0.2222222222222222,
              "#7201a8"
             ],
             [
              0.3333333333333333,
              "#9c179e"
             ],
             [
              0.4444444444444444,
              "#bd3786"
             ],
             [
              0.5555555555555556,
              "#d8576b"
             ],
             [
              0.6666666666666666,
              "#ed7953"
             ],
             [
              0.7777777777777778,
              "#fb9f3a"
             ],
             [
              0.8888888888888888,
              "#fdca26"
             ],
             [
              1,
              "#f0f921"
             ]
            ],
            "type": "contour"
           }
          ],
          "contourcarpet": [
           {
            "colorbar": {
             "outlinewidth": 0,
             "ticks": ""
            },
            "type": "contourcarpet"
           }
          ],
          "heatmap": [
           {
            "colorbar": {
             "outlinewidth": 0,
             "ticks": ""
            },
            "colorscale": [
             [
              0,
              "#0d0887"
             ],
             [
              0.1111111111111111,
              "#46039f"
             ],
             [
              0.2222222222222222,
              "#7201a8"
             ],
             [
              0.3333333333333333,
              "#9c179e"
             ],
             [
              0.4444444444444444,
              "#bd3786"
             ],
             [
              0.5555555555555556,
              "#d8576b"
             ],
             [
              0.6666666666666666,
              "#ed7953"
             ],
             [
              0.7777777777777778,
              "#fb9f3a"
             ],
             [
              0.8888888888888888,
              "#fdca26"
             ],
             [
              1,
              "#f0f921"
             ]
            ],
            "type": "heatmap"
           }
          ],
          "histogram": [
           {
            "marker": {
             "pattern": {
              "fillmode": "overlay",
              "size": 10,
              "solidity": 0.2
             }
            },
            "type": "histogram"
           }
          ],
          "histogram2d": [
           {
            "colorbar": {
             "outlinewidth": 0,
             "ticks": ""
            },
            "colorscale": [
             [
              0,
              "#0d0887"
             ],
             [
              0.1111111111111111,
              "#46039f"
             ],
             [
              0.2222222222222222,
              "#7201a8"
             ],
             [
              0.3333333333333333,
              "#9c179e"
             ],
             [
              0.4444444444444444,
              "#bd3786"
             ],
             [
              0.5555555555555556,
              "#d8576b"
             ],
             [
              0.6666666666666666,
              "#ed7953"
             ],
             [
              0.7777777777777778,
              "#fb9f3a"
             ],
             [
              0.8888888888888888,
              "#fdca26"
             ],
             [
              1,
              "#f0f921"
             ]
            ],
            "type": "histogram2d"
           }
          ],
          "histogram2dcontour": [
           {
            "colorbar": {
             "outlinewidth": 0,
             "ticks": ""
            },
            "colorscale": [
             [
              0,
              "#0d0887"
             ],
             [
              0.1111111111111111,
              "#46039f"
             ],
             [
              0.2222222222222222,
              "#7201a8"
             ],
             [
              0.3333333333333333,
              "#9c179e"
             ],
             [
              0.4444444444444444,
              "#bd3786"
             ],
             [
              0.5555555555555556,
              "#d8576b"
             ],
             [
              0.6666666666666666,
              "#ed7953"
             ],
             [
              0.7777777777777778,
              "#fb9f3a"
             ],
             [
              0.8888888888888888,
              "#fdca26"
             ],
             [
              1,
              "#f0f921"
             ]
            ],
            "type": "histogram2dcontour"
           }
          ],
          "mesh3d": [
           {
            "colorbar": {
             "outlinewidth": 0,
             "ticks": ""
            },
            "type": "mesh3d"
           }
          ],
          "parcoords": [
           {
            "line": {
             "colorbar": {
              "outlinewidth": 0,
              "ticks": ""
             }
            },
            "type": "parcoords"
           }
          ],
          "pie": [
           {
            "automargin": true,
            "type": "pie"
           }
          ],
          "scatter": [
           {
            "fillpattern": {
             "fillmode": "overlay",
             "size": 10,
             "solidity": 0.2
            },
            "type": "scatter"
           }
          ],
          "scatter3d": [
           {
            "line": {
             "colorbar": {
              "outlinewidth": 0,
              "ticks": ""
             }
            },
            "marker": {
             "colorbar": {
              "outlinewidth": 0,
              "ticks": ""
             }
            },
            "type": "scatter3d"
           }
          ],
          "scattercarpet": [
           {
            "marker": {
             "colorbar": {
              "outlinewidth": 0,
              "ticks": ""
             }
            },
            "type": "scattercarpet"
           }
          ],
          "scattergeo": [
           {
            "marker": {
             "colorbar": {
              "outlinewidth": 0,
              "ticks": ""
             }
            },
            "type": "scattergeo"
           }
          ],
          "scattergl": [
           {
            "marker": {
             "colorbar": {
              "outlinewidth": 0,
              "ticks": ""
             }
            },
            "type": "scattergl"
           }
          ],
          "scattermap": [
           {
            "marker": {
             "colorbar": {
              "outlinewidth": 0,
              "ticks": ""
             }
            },
            "type": "scattermap"
           }
          ],
          "scattermapbox": [
           {
            "marker": {
             "colorbar": {
              "outlinewidth": 0,
              "ticks": ""
             }
            },
            "type": "scattermapbox"
           }
          ],
          "scatterpolar": [
           {
            "marker": {
             "colorbar": {
              "outlinewidth": 0,
              "ticks": ""
             }
            },
            "type": "scatterpolar"
           }
          ],
          "scatterpolargl": [
           {
            "marker": {
             "colorbar": {
              "outlinewidth": 0,
              "ticks": ""
             }
            },
            "type": "scatterpolargl"
           }
          ],
          "scatterternary": [
           {
            "marker": {
             "colorbar": {
              "outlinewidth": 0,
              "ticks": ""
             }
            },
            "type": "scatterternary"
           }
          ],
          "surface": [
           {
            "colorbar": {
             "outlinewidth": 0,
             "ticks": ""
            },
            "colorscale": [
             [
              0,
              "#0d0887"
             ],
             [
              0.1111111111111111,
              "#46039f"
             ],
             [
              0.2222222222222222,
              "#7201a8"
             ],
             [
              0.3333333333333333,
              "#9c179e"
             ],
             [
              0.4444444444444444,
              "#bd3786"
             ],
             [
              0.5555555555555556,
              "#d8576b"
             ],
             [
              0.6666666666666666,
              "#ed7953"
             ],
             [
              0.7777777777777778,
              "#fb9f3a"
             ],
             [
              0.8888888888888888,
              "#fdca26"
             ],
             [
              1,
              "#f0f921"
             ]
            ],
            "type": "surface"
           }
          ],
          "table": [
           {
            "cells": {
             "fill": {
              "color": "#EBF0F8"
             },
             "line": {
              "color": "white"
             }
            },
            "header": {
             "fill": {
              "color": "#C8D4E3"
             },
             "line": {
              "color": "white"
             }
            },
            "type": "table"
           }
          ]
         },
         "layout": {
          "annotationdefaults": {
           "arrowcolor": "#2a3f5f",
           "arrowhead": 0,
           "arrowwidth": 1
          },
          "autotypenumbers": "strict",
          "coloraxis": {
           "colorbar": {
            "outlinewidth": 0,
            "ticks": ""
           }
          },
          "colorscale": {
           "diverging": [
            [
             0,
             "#8e0152"
            ],
            [
             0.1,
             "#c51b7d"
            ],
            [
             0.2,
             "#de77ae"
            ],
            [
             0.3,
             "#f1b6da"
            ],
            [
             0.4,
             "#fde0ef"
            ],
            [
             0.5,
             "#f7f7f7"
            ],
            [
             0.6,
             "#e6f5d0"
            ],
            [
             0.7,
             "#b8e186"
            ],
            [
             0.8,
             "#7fbc41"
            ],
            [
             0.9,
             "#4d9221"
            ],
            [
             1,
             "#276419"
            ]
           ],
           "sequential": [
            [
             0,
             "#0d0887"
            ],
            [
             0.1111111111111111,
             "#46039f"
            ],
            [
             0.2222222222222222,
             "#7201a8"
            ],
            [
             0.3333333333333333,
             "#9c179e"
            ],
            [
             0.4444444444444444,
             "#bd3786"
            ],
            [
             0.5555555555555556,
             "#d8576b"
            ],
            [
             0.6666666666666666,
             "#ed7953"
            ],
            [
             0.7777777777777778,
             "#fb9f3a"
            ],
            [
             0.8888888888888888,
             "#fdca26"
            ],
            [
             1,
             "#f0f921"
            ]
           ],
           "sequentialminus": [
            [
             0,
             "#0d0887"
            ],
            [
             0.1111111111111111,
             "#46039f"
            ],
            [
             0.2222222222222222,
             "#7201a8"
            ],
            [
             0.3333333333333333,
             "#9c179e"
            ],
            [
             0.4444444444444444,
             "#bd3786"
            ],
            [
             0.5555555555555556,
             "#d8576b"
            ],
            [
             0.6666666666666666,
             "#ed7953"
            ],
            [
             0.7777777777777778,
             "#fb9f3a"
            ],
            [
             0.8888888888888888,
             "#fdca26"
            ],
            [
             1,
             "#f0f921"
            ]
           ]
          },
          "colorway": [
           "#636efa",
           "#EF553B",
           "#00cc96",
           "#ab63fa",
           "#FFA15A",
           "#19d3f3",
           "#FF6692",
           "#B6E880",
           "#FF97FF",
           "#FECB52"
          ],
          "font": {
           "color": "#2a3f5f"
          },
          "geo": {
           "bgcolor": "white",
           "lakecolor": "white",
           "landcolor": "#E5ECF6",
           "showlakes": true,
           "showland": true,
           "subunitcolor": "white"
          },
          "hoverlabel": {
           "align": "left"
          },
          "hovermode": "closest",
          "mapbox": {
           "style": "light"
          },
          "paper_bgcolor": "white",
          "plot_bgcolor": "#E5ECF6",
          "polar": {
           "angularaxis": {
            "gridcolor": "white",
            "linecolor": "white",
            "ticks": ""
           },
           "bgcolor": "#E5ECF6",
           "radialaxis": {
            "gridcolor": "white",
            "linecolor": "white",
            "ticks": ""
           }
          },
          "scene": {
           "xaxis": {
            "backgroundcolor": "#E5ECF6",
            "gridcolor": "white",
            "gridwidth": 2,
            "linecolor": "white",
            "showbackground": true,
            "ticks": "",
            "zerolinecolor": "white"
           },
           "yaxis": {
            "backgroundcolor": "#E5ECF6",
            "gridcolor": "white",
            "gridwidth": 2,
            "linecolor": "white",
            "showbackground": true,
            "ticks": "",
            "zerolinecolor": "white"
           },
           "zaxis": {
            "backgroundcolor": "#E5ECF6",
            "gridcolor": "white",
            "gridwidth": 2,
            "linecolor": "white",
            "showbackground": true,
            "ticks": "",
            "zerolinecolor": "white"
           }
          },
          "shapedefaults": {
           "line": {
            "color": "#2a3f5f"
           }
          },
          "ternary": {
           "aaxis": {
            "gridcolor": "white",
            "linecolor": "white",
            "ticks": ""
           },
           "baxis": {
            "gridcolor": "white",
            "linecolor": "white",
            "ticks": ""
           },
           "bgcolor": "#E5ECF6",
           "caxis": {
            "gridcolor": "white",
            "linecolor": "white",
            "ticks": ""
           }
          },
          "title": {
           "x": 0.05
          },
          "xaxis": {
           "automargin": true,
           "gridcolor": "white",
           "linecolor": "white",
           "ticks": "",
           "title": {
            "standoff": 15
           },
           "zerolinecolor": "white",
           "zerolinewidth": 2
          },
          "yaxis": {
           "automargin": true,
           "gridcolor": "white",
           "linecolor": "white",
           "ticks": "",
           "title": {
            "standoff": 15
           },
           "zerolinecolor": "white",
           "zerolinewidth": 2
          }
         }
        },
        "title": {
         "text": "Квадратичная ошибка | Squared Error"
        },
        "width": 800,
        "xaxis": {
         "anchor": "y",
         "domain": [
          0,
          1
         ],
         "title": {
          "text": "Отклонение"
         }
        },
        "yaxis": {
         "anchor": "x",
         "domain": [
          0,
          1
         ],
         "title": {
          "text": "Ошибка"
         }
        }
       }
      }
     },
     "metadata": {},
     "output_type": "display_data"
    }
   ],
   "source": [
    "import plotly.express as px\n",
    "\n",
    "# ошибки\n",
    "metrics_results['error_squared'] = metrics_results['error'] ** 2\n",
    "\n",
    "# сортировка чтобы красиво отрисовалось\n",
    "metrics_results = metrics_results.sort_values(\"error\")\n",
    "\n",
    "fig = px.line(\n",
    "    metrics_results,\n",
    "    x=\"error\",\n",
    "    y=\"error_squared\",\n",
    "    title=\"Mean Squared Error\",\n",
    "    labels={\"error\": \"Отклонение\", \"error_squared\": \"Ошибка\"}\n",
    ")\n",
    "\n",
    "fig.add_scatter(\n",
    "    x=metrics_results[\"error\"], y=metrics_results[\"error_squared\"], mode=\"markers\", name=\"points\"\n",
    ")\n",
    "\n",
    "fig.update_layout(\n",
    "    height=700, width=800,\n",
    "    title_text=\"Квадратичная ошибка | Squared Error\",\n",
    "    showlegend=True\n",
    ")"
   ]
  },
  {
   "cell_type": "markdown",
   "id": "0a6e694c",
   "metadata": {},
   "source": [
    "Хмм, ну и где парабола? Да, график похож на нее, но почему правая чсть длинее левой? В чем может быть причина?\n",
    "\n",
    "<!-- Ответ\n",
    "Дело в том, что распределение цены авто не является нормальным/симметричным - есть небольшое кол-во наблюдений с большой ценой. Следовательно, это приводит к большим положительным отклонениям которые делают распределение ошибки несимметричным. Скорее всего распределение таргета имеет длинный правый хвост, на котором модель занижает прогноз. Если бы в выборке было достаточно дорогих авто, модель научилась бы лучше предсказывать их стоимость, и хвост распределения ошибок был бы более симметричным.\n",
    "-->"
   ]
  },
  {
   "cell_type": "code",
   "execution_count": 8,
   "id": "8dc82fdd",
   "metadata": {},
   "outputs": [],
   "source": [
    "# твои мысли 🧠"
   ]
  },
  {
   "cell_type": "markdown",
   "id": "ec79fc93",
   "metadata": {},
   "source": [
    "Чтобы убедиться, что ошибка действительно симметричная давай зафиксируем диапазон отклонения, например будем рассматривать только от $[-5.5k, 5.5k]$"
   ]
  },
  {
   "cell_type": "code",
   "execution_count": 9,
   "id": "073e2076",
   "metadata": {},
   "outputs": [
    {
     "data": {
      "application/vnd.plotly.v1+json": {
       "config": {
        "plotlyServerURL": "https://plot.ly"
       },
       "data": [
        {
         "hovertemplate": "Отклонение=%{x}<br>Ошибка=%{y}<extra></extra>",
         "legendgroup": "",
         "line": {
          "color": "#636efa",
          "dash": "solid"
         },
         "marker": {
          "symbol": "circle"
         },
         "mode": "lines",
         "name": "",
         "orientation": "v",
         "showlegend": false,
         "type": "scatter",
         "x": {
          "bdata": "CJsYNoQEtcBQm0eRyIe0wOBt4LV4nLHAoIAOl4/or8DgSt2PjISuwOAjDVWDY67AQA+eyF3CrMDIi5oqqfWmwNATBAAPgaLAuC+Y7/oWosBsc4Lf+NmhwEj/XkcX6p/AoGwouQ8xn8BgAhPyZySdwCCXr7hHHpvAUIlyhJFWlsDgYeclW8KSwGDB1mIwJI/AoDKMK0O1hcCwZMXLYBqDwKCyKMSp4ILAwN3J3lxbgcCgEuUIIz2AwKAzX7WYNXnAwCb/XclPZMAA9nsjb/JSwAD8rKs3vzPAAIBNl9XBM0AAaO884iRRQACYgYgT63ZAAMXz//PDfEBAQcvBgTZ/QMCn/SyCpYBAwKf9LIKlgEDYk+SAcWCEQOBxgwoma4RAsNWk8dPLhEDgQVzDCGyJQMSQ8w8QOZBAeBqV6niZkEDAZtZRiKKQQAS2ZMh7TZJAWHsSjvq+k0CgZRDyV7uUQOitUqphTp1AWA/fv2umoUDMp8Epp5elQPAv2s4aqqdAYsj5B4iXrEC29c1CQWqxQGgtaqenq7FAilrTqMJRs0CIUNIAGAS1QA==",
          "dtype": "f8"
         },
         "xaxis": "x",
         "y": {
          "bdata": "jyBgVNybe0HK0Zi99Vd6QRQy5rd6YnNBWrw+WTDRb0FlO8uXrBptQdDlMbbL22xBKfJHscDYaUHpKG+EJnlgQVt+98FyZlVBOduInNVzVEG/BMNYyupTQSnLzI491E9BCBjtrllnTkGVxPTRJYpKQfZXw641+0ZBxD22jeQvP0G/Bqf5hf41QZOjp6xGTi5BCkYj09VzHUENqNRg0c4WQbJO2ZHQRRZBoj3uCy/UEkHdrjqtL3sQQRFLFmAY3ANBUmRkSQXJ2UD4S8x002+2QPhLn3kRX3hAto9dg4dleECn7A3ItV6yQMkMo8L5aQBB9oLu7JrbCUF1A3Y/+HEOQbxa/mq0URFBvFr+arRREUE1WWsXYfMZQbqsb6esDhpBg1AnebYHG0EBPGlsOjIkQeboaKLrcjBBtmRC8bE4MUEAdK+wg0sxQbsFCb7N7zRBkrhtn3peOEEYpMZ27dw6QWRC/gHR1kpBXvRc9md4U0HO96I3tCNdQYLoRcYOgGFBzKcCnPuLaUH7ArVPjPRyQajbONr1g3NB95cjHdBTd0EEf0wOwJp7QQ==",
          "dtype": "f8"
         },
         "yaxis": "y"
        },
        {
         "mode": "markers",
         "name": "points",
         "type": "scatter",
         "x": {
          "bdata": "CJsYNoQEtcBQm0eRyIe0wOBt4LV4nLHAoIAOl4/or8DgSt2PjISuwOAjDVWDY67AQA+eyF3CrMDIi5oqqfWmwNATBAAPgaLAuC+Y7/oWosBsc4Lf+NmhwEj/XkcX6p/AoGwouQ8xn8BgAhPyZySdwCCXr7hHHpvAUIlyhJFWlsDgYeclW8KSwGDB1mIwJI/AoDKMK0O1hcCwZMXLYBqDwKCyKMSp4ILAwN3J3lxbgcCgEuUIIz2AwKAzX7WYNXnAwCb/XclPZMAA9nsjb/JSwAD8rKs3vzPAAIBNl9XBM0AAaO884iRRQACYgYgT63ZAAMXz//PDfEBAQcvBgTZ/QMCn/SyCpYBAwKf9LIKlgEDYk+SAcWCEQOBxgwoma4RAsNWk8dPLhEDgQVzDCGyJQMSQ8w8QOZBAeBqV6niZkEDAZtZRiKKQQAS2ZMh7TZJAWHsSjvq+k0CgZRDyV7uUQOitUqphTp1AWA/fv2umoUDMp8Epp5elQPAv2s4aqqdAYsj5B4iXrEC29c1CQWqxQGgtaqenq7FAilrTqMJRs0CIUNIAGAS1QA==",
          "dtype": "f8"
         },
         "y": {
          "bdata": "jyBgVNybe0HK0Zi99Vd6QRQy5rd6YnNBWrw+WTDRb0FlO8uXrBptQdDlMbbL22xBKfJHscDYaUHpKG+EJnlgQVt+98FyZlVBOduInNVzVEG/BMNYyupTQSnLzI491E9BCBjtrllnTkGVxPTRJYpKQfZXw641+0ZBxD22jeQvP0G/Bqf5hf41QZOjp6xGTi5BCkYj09VzHUENqNRg0c4WQbJO2ZHQRRZBoj3uCy/UEkHdrjqtL3sQQRFLFmAY3ANBUmRkSQXJ2UD4S8x002+2QPhLn3kRX3hAto9dg4dleECn7A3ItV6yQMkMo8L5aQBB9oLu7JrbCUF1A3Y/+HEOQbxa/mq0URFBvFr+arRREUE1WWsXYfMZQbqsb6esDhpBg1AnebYHG0EBPGlsOjIkQeboaKLrcjBBtmRC8bE4MUEAdK+wg0sxQbsFCb7N7zRBkrhtn3peOEEYpMZ27dw6QWRC/gHR1kpBXvRc9md4U0HO96I3tCNdQYLoRcYOgGFBzKcCnPuLaUH7ArVPjPRyQajbONr1g3NB95cjHdBTd0EEf0wOwJp7QQ==",
          "dtype": "f8"
         }
        }
       ],
       "layout": {
        "height": 700,
        "legend": {
         "tracegroupgap": 0
        },
        "showlegend": true,
        "template": {
         "data": {
          "bar": [
           {
            "error_x": {
             "color": "#2a3f5f"
            },
            "error_y": {
             "color": "#2a3f5f"
            },
            "marker": {
             "line": {
              "color": "#E5ECF6",
              "width": 0.5
             },
             "pattern": {
              "fillmode": "overlay",
              "size": 10,
              "solidity": 0.2
             }
            },
            "type": "bar"
           }
          ],
          "barpolar": [
           {
            "marker": {
             "line": {
              "color": "#E5ECF6",
              "width": 0.5
             },
             "pattern": {
              "fillmode": "overlay",
              "size": 10,
              "solidity": 0.2
             }
            },
            "type": "barpolar"
           }
          ],
          "carpet": [
           {
            "aaxis": {
             "endlinecolor": "#2a3f5f",
             "gridcolor": "white",
             "linecolor": "white",
             "minorgridcolor": "white",
             "startlinecolor": "#2a3f5f"
            },
            "baxis": {
             "endlinecolor": "#2a3f5f",
             "gridcolor": "white",
             "linecolor": "white",
             "minorgridcolor": "white",
             "startlinecolor": "#2a3f5f"
            },
            "type": "carpet"
           }
          ],
          "choropleth": [
           {
            "colorbar": {
             "outlinewidth": 0,
             "ticks": ""
            },
            "type": "choropleth"
           }
          ],
          "contour": [
           {
            "colorbar": {
             "outlinewidth": 0,
             "ticks": ""
            },
            "colorscale": [
             [
              0,
              "#0d0887"
             ],
             [
              0.1111111111111111,
              "#46039f"
             ],
             [
              0.2222222222222222,
              "#7201a8"
             ],
             [
              0.3333333333333333,
              "#9c179e"
             ],
             [
              0.4444444444444444,
              "#bd3786"
             ],
             [
              0.5555555555555556,
              "#d8576b"
             ],
             [
              0.6666666666666666,
              "#ed7953"
             ],
             [
              0.7777777777777778,
              "#fb9f3a"
             ],
             [
              0.8888888888888888,
              "#fdca26"
             ],
             [
              1,
              "#f0f921"
             ]
            ],
            "type": "contour"
           }
          ],
          "contourcarpet": [
           {
            "colorbar": {
             "outlinewidth": 0,
             "ticks": ""
            },
            "type": "contourcarpet"
           }
          ],
          "heatmap": [
           {
            "colorbar": {
             "outlinewidth": 0,
             "ticks": ""
            },
            "colorscale": [
             [
              0,
              "#0d0887"
             ],
             [
              0.1111111111111111,
              "#46039f"
             ],
             [
              0.2222222222222222,
              "#7201a8"
             ],
             [
              0.3333333333333333,
              "#9c179e"
             ],
             [
              0.4444444444444444,
              "#bd3786"
             ],
             [
              0.5555555555555556,
              "#d8576b"
             ],
             [
              0.6666666666666666,
              "#ed7953"
             ],
             [
              0.7777777777777778,
              "#fb9f3a"
             ],
             [
              0.8888888888888888,
              "#fdca26"
             ],
             [
              1,
              "#f0f921"
             ]
            ],
            "type": "heatmap"
           }
          ],
          "histogram": [
           {
            "marker": {
             "pattern": {
              "fillmode": "overlay",
              "size": 10,
              "solidity": 0.2
             }
            },
            "type": "histogram"
           }
          ],
          "histogram2d": [
           {
            "colorbar": {
             "outlinewidth": 0,
             "ticks": ""
            },
            "colorscale": [
             [
              0,
              "#0d0887"
             ],
             [
              0.1111111111111111,
              "#46039f"
             ],
             [
              0.2222222222222222,
              "#7201a8"
             ],
             [
              0.3333333333333333,
              "#9c179e"
             ],
             [
              0.4444444444444444,
              "#bd3786"
             ],
             [
              0.5555555555555556,
              "#d8576b"
             ],
             [
              0.6666666666666666,
              "#ed7953"
             ],
             [
              0.7777777777777778,
              "#fb9f3a"
             ],
             [
              0.8888888888888888,
              "#fdca26"
             ],
             [
              1,
              "#f0f921"
             ]
            ],
            "type": "histogram2d"
           }
          ],
          "histogram2dcontour": [
           {
            "colorbar": {
             "outlinewidth": 0,
             "ticks": ""
            },
            "colorscale": [
             [
              0,
              "#0d0887"
             ],
             [
              0.1111111111111111,
              "#46039f"
             ],
             [
              0.2222222222222222,
              "#7201a8"
             ],
             [
              0.3333333333333333,
              "#9c179e"
             ],
             [
              0.4444444444444444,
              "#bd3786"
             ],
             [
              0.5555555555555556,
              "#d8576b"
             ],
             [
              0.6666666666666666,
              "#ed7953"
             ],
             [
              0.7777777777777778,
              "#fb9f3a"
             ],
             [
              0.8888888888888888,
              "#fdca26"
             ],
             [
              1,
              "#f0f921"
             ]
            ],
            "type": "histogram2dcontour"
           }
          ],
          "mesh3d": [
           {
            "colorbar": {
             "outlinewidth": 0,
             "ticks": ""
            },
            "type": "mesh3d"
           }
          ],
          "parcoords": [
           {
            "line": {
             "colorbar": {
              "outlinewidth": 0,
              "ticks": ""
             }
            },
            "type": "parcoords"
           }
          ],
          "pie": [
           {
            "automargin": true,
            "type": "pie"
           }
          ],
          "scatter": [
           {
            "fillpattern": {
             "fillmode": "overlay",
             "size": 10,
             "solidity": 0.2
            },
            "type": "scatter"
           }
          ],
          "scatter3d": [
           {
            "line": {
             "colorbar": {
              "outlinewidth": 0,
              "ticks": ""
             }
            },
            "marker": {
             "colorbar": {
              "outlinewidth": 0,
              "ticks": ""
             }
            },
            "type": "scatter3d"
           }
          ],
          "scattercarpet": [
           {
            "marker": {
             "colorbar": {
              "outlinewidth": 0,
              "ticks": ""
             }
            },
            "type": "scattercarpet"
           }
          ],
          "scattergeo": [
           {
            "marker": {
             "colorbar": {
              "outlinewidth": 0,
              "ticks": ""
             }
            },
            "type": "scattergeo"
           }
          ],
          "scattergl": [
           {
            "marker": {
             "colorbar": {
              "outlinewidth": 0,
              "ticks": ""
             }
            },
            "type": "scattergl"
           }
          ],
          "scattermap": [
           {
            "marker": {
             "colorbar": {
              "outlinewidth": 0,
              "ticks": ""
             }
            },
            "type": "scattermap"
           }
          ],
          "scattermapbox": [
           {
            "marker": {
             "colorbar": {
              "outlinewidth": 0,
              "ticks": ""
             }
            },
            "type": "scattermapbox"
           }
          ],
          "scatterpolar": [
           {
            "marker": {
             "colorbar": {
              "outlinewidth": 0,
              "ticks": ""
             }
            },
            "type": "scatterpolar"
           }
          ],
          "scatterpolargl": [
           {
            "marker": {
             "colorbar": {
              "outlinewidth": 0,
              "ticks": ""
             }
            },
            "type": "scatterpolargl"
           }
          ],
          "scatterternary": [
           {
            "marker": {
             "colorbar": {
              "outlinewidth": 0,
              "ticks": ""
             }
            },
            "type": "scatterternary"
           }
          ],
          "surface": [
           {
            "colorbar": {
             "outlinewidth": 0,
             "ticks": ""
            },
            "colorscale": [
             [
              0,
              "#0d0887"
             ],
             [
              0.1111111111111111,
              "#46039f"
             ],
             [
              0.2222222222222222,
              "#7201a8"
             ],
             [
              0.3333333333333333,
              "#9c179e"
             ],
             [
              0.4444444444444444,
              "#bd3786"
             ],
             [
              0.5555555555555556,
              "#d8576b"
             ],
             [
              0.6666666666666666,
              "#ed7953"
             ],
             [
              0.7777777777777778,
              "#fb9f3a"
             ],
             [
              0.8888888888888888,
              "#fdca26"
             ],
             [
              1,
              "#f0f921"
             ]
            ],
            "type": "surface"
           }
          ],
          "table": [
           {
            "cells": {
             "fill": {
              "color": "#EBF0F8"
             },
             "line": {
              "color": "white"
             }
            },
            "header": {
             "fill": {
              "color": "#C8D4E3"
             },
             "line": {
              "color": "white"
             }
            },
            "type": "table"
           }
          ]
         },
         "layout": {
          "annotationdefaults": {
           "arrowcolor": "#2a3f5f",
           "arrowhead": 0,
           "arrowwidth": 1
          },
          "autotypenumbers": "strict",
          "coloraxis": {
           "colorbar": {
            "outlinewidth": 0,
            "ticks": ""
           }
          },
          "colorscale": {
           "diverging": [
            [
             0,
             "#8e0152"
            ],
            [
             0.1,
             "#c51b7d"
            ],
            [
             0.2,
             "#de77ae"
            ],
            [
             0.3,
             "#f1b6da"
            ],
            [
             0.4,
             "#fde0ef"
            ],
            [
             0.5,
             "#f7f7f7"
            ],
            [
             0.6,
             "#e6f5d0"
            ],
            [
             0.7,
             "#b8e186"
            ],
            [
             0.8,
             "#7fbc41"
            ],
            [
             0.9,
             "#4d9221"
            ],
            [
             1,
             "#276419"
            ]
           ],
           "sequential": [
            [
             0,
             "#0d0887"
            ],
            [
             0.1111111111111111,
             "#46039f"
            ],
            [
             0.2222222222222222,
             "#7201a8"
            ],
            [
             0.3333333333333333,
             "#9c179e"
            ],
            [
             0.4444444444444444,
             "#bd3786"
            ],
            [
             0.5555555555555556,
             "#d8576b"
            ],
            [
             0.6666666666666666,
             "#ed7953"
            ],
            [
             0.7777777777777778,
             "#fb9f3a"
            ],
            [
             0.8888888888888888,
             "#fdca26"
            ],
            [
             1,
             "#f0f921"
            ]
           ],
           "sequentialminus": [
            [
             0,
             "#0d0887"
            ],
            [
             0.1111111111111111,
             "#46039f"
            ],
            [
             0.2222222222222222,
             "#7201a8"
            ],
            [
             0.3333333333333333,
             "#9c179e"
            ],
            [
             0.4444444444444444,
             "#bd3786"
            ],
            [
             0.5555555555555556,
             "#d8576b"
            ],
            [
             0.6666666666666666,
             "#ed7953"
            ],
            [
             0.7777777777777778,
             "#fb9f3a"
            ],
            [
             0.8888888888888888,
             "#fdca26"
            ],
            [
             1,
             "#f0f921"
            ]
           ]
          },
          "colorway": [
           "#636efa",
           "#EF553B",
           "#00cc96",
           "#ab63fa",
           "#FFA15A",
           "#19d3f3",
           "#FF6692",
           "#B6E880",
           "#FF97FF",
           "#FECB52"
          ],
          "font": {
           "color": "#2a3f5f"
          },
          "geo": {
           "bgcolor": "white",
           "lakecolor": "white",
           "landcolor": "#E5ECF6",
           "showlakes": true,
           "showland": true,
           "subunitcolor": "white"
          },
          "hoverlabel": {
           "align": "left"
          },
          "hovermode": "closest",
          "mapbox": {
           "style": "light"
          },
          "paper_bgcolor": "white",
          "plot_bgcolor": "#E5ECF6",
          "polar": {
           "angularaxis": {
            "gridcolor": "white",
            "linecolor": "white",
            "ticks": ""
           },
           "bgcolor": "#E5ECF6",
           "radialaxis": {
            "gridcolor": "white",
            "linecolor": "white",
            "ticks": ""
           }
          },
          "scene": {
           "xaxis": {
            "backgroundcolor": "#E5ECF6",
            "gridcolor": "white",
            "gridwidth": 2,
            "linecolor": "white",
            "showbackground": true,
            "ticks": "",
            "zerolinecolor": "white"
           },
           "yaxis": {
            "backgroundcolor": "#E5ECF6",
            "gridcolor": "white",
            "gridwidth": 2,
            "linecolor": "white",
            "showbackground": true,
            "ticks": "",
            "zerolinecolor": "white"
           },
           "zaxis": {
            "backgroundcolor": "#E5ECF6",
            "gridcolor": "white",
            "gridwidth": 2,
            "linecolor": "white",
            "showbackground": true,
            "ticks": "",
            "zerolinecolor": "white"
           }
          },
          "shapedefaults": {
           "line": {
            "color": "#2a3f5f"
           }
          },
          "ternary": {
           "aaxis": {
            "gridcolor": "white",
            "linecolor": "white",
            "ticks": ""
           },
           "baxis": {
            "gridcolor": "white",
            "linecolor": "white",
            "ticks": ""
           },
           "bgcolor": "#E5ECF6",
           "caxis": {
            "gridcolor": "white",
            "linecolor": "white",
            "ticks": ""
           }
          },
          "title": {
           "x": 0.05
          },
          "xaxis": {
           "automargin": true,
           "gridcolor": "white",
           "linecolor": "white",
           "ticks": "",
           "title": {
            "standoff": 15
           },
           "zerolinecolor": "white",
           "zerolinewidth": 2
          },
          "yaxis": {
           "automargin": true,
           "gridcolor": "white",
           "linecolor": "white",
           "ticks": "",
           "title": {
            "standoff": 15
           },
           "zerolinecolor": "white",
           "zerolinewidth": 2
          }
         }
        },
        "title": {
         "text": "Квадратичная ошибка | Squared Error"
        },
        "width": 800,
        "xaxis": {
         "anchor": "y",
         "domain": [
          0,
          1
         ],
         "title": {
          "text": "Отклонение"
         }
        },
        "yaxis": {
         "anchor": "x",
         "domain": [
          0,
          1
         ],
         "title": {
          "text": "Ошибка"
         }
        }
       }
      }
     },
     "metadata": {},
     "output_type": "display_data"
    }
   ],
   "source": [
    "error_threshold = 5500\n",
    "squared_error_threshold = 30*10**6\n",
    "\n",
    "metrics_results_cut = metrics_results[metrics_results['error'] <= error_threshold]\n",
    "metrics_results_cut = metrics_results_cut[metrics_results_cut['error_squared'] <= squared_error_threshold]\n",
    "\n",
    "fig = px.line(\n",
    "    metrics_results_cut,\n",
    "    x=\"error\",\n",
    "    y=\"error_squared\",\n",
    "    title=\"Mean Squared Error\",\n",
    "    labels={\"error\": \"Отклонение\", \"error_squared\": \"Ошибка\"}\n",
    ")\n",
    "\n",
    "fig.add_scatter(\n",
    "    x=metrics_results_cut[\"error\"], y=metrics_results_cut[\"error_squared\"], mode=\"markers\", name=\"points\"\n",
    ")\n",
    "\n",
    "fig.update_layout(\n",
    "    height=700, width=800,\n",
    "    title_text=\"Квадратичная ошибка | Squared Error\",\n",
    "    showlegend=True\n",
    ")"
   ]
  },
  {
   "cell_type": "markdown",
   "id": "1e5e49fa",
   "metadata": {},
   "source": [
    "Вот теперь хорошо видно, что ошибка симметричаня. Заметь, что величина штрафа - нелинейная (квадртатичная). Выходит, чем сильнее ошибается модель, тем сильнее штраф. Отсюда мы встречаемся с первым минусом у $MSE$:\n",
    "\n",
    "- $MSE$ очень чувствительна к выбросам!\n",
    "\n",
    "Могу доказать на простом примере, смотри ..."
   ]
  },
  {
   "cell_type": "code",
   "execution_count": 10,
   "id": "1544658f",
   "metadata": {},
   "outputs": [
    {
     "name": "stdout",
     "output_type": "stream",
     "text": [
      "Минимальное абсолютное отклонение: 19.75\n",
      "Максимальное абсолютное отклонение: 14495.02\n"
     ]
    }
   ],
   "source": [
    "# давай добавим новый столбец - абсолютное отклонение и квадаратичное\n",
    "metrics_results['error_abs'] = metrics_results['error'].abs()\n",
    "\n",
    "# найдем наблюдения с минимальным и максимальным абсолютными отклонениями\n",
    "min_error_abs = metrics_results['error_abs'].min()\n",
    "max_error_abs = metrics_results['error_abs'].max()\n",
    "\n",
    "min_max_error_df = metrics_results[\n",
    "    metrics_results['error_abs'].isin([min_error_abs, max_error_abs])\n",
    "]\n",
    "\n",
    "print(f\"Минимальное абсолютное отклонение: {min_error_abs:.2f}\")\n",
    "print(f\"Максимальное абсолютное отклонение: {max_error_abs:.2f}\")"
   ]
  },
  {
   "cell_type": "markdown",
   "id": "c24dea2b",
   "metadata": {},
   "source": [
    "Как видишь, в наших данных есть наблюдения где модель практически не ошибается - очень маленькое отклонение, а есть объекты на которых ошибка просто коллосальная. Если сравнить 2 ошики выше между собой, то получится, что одна ошибка в 763 раза больше другой. Это очень много! Но почему так происходит? Дело в том, что цены на авто распределены ненормально - большинство наблюдений (авто) имеют небольшую стоимость, но есть небольшое количество наблюдений с большой стоимостью - дорогие авто. Так как дорогих авто в обучающей выборке значительно меньше бюджетных, то у модели появляется некоторый _bias_ - она начинает занижать цену автомобилей."
   ]
  },
  {
   "cell_type": "code",
   "execution_count": 11,
   "id": "29e00d97",
   "metadata": {},
   "outputs": [
    {
     "data": {
      "application/vnd.plotly.v1+json": {
       "config": {
        "plotlyServerURL": "https://plot.ly"
       },
       "data": [
        {
         "fill": "tozeroy",
         "line": {
          "color": "blue"
         },
         "mode": "lines",
         "name": "Известные",
         "opacity": 0.6,
         "type": "scatter",
         "x": {
          "bdata": "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",
          "dtype": "f8"
         },
         "y": {
          "bdata": "RFuMRhabBT+3H7KFmk8GPz5jsZIJAAc/BcO2RMCrBz8Ev0p2H1IIP1F/rSmN8gg/nqwVonWMCT9PgJ1uTB8KP4/W22ONqgo/2OVlgb0tCz/TKMDAa6gLP96smMsxGgw/Qc+Al7SCDD9w0b7lpOEMPwfANqa/Ng0/FhXUPM6BDT+0UkippsINP76nXJEr+Q0/26B7LkwlDj/bJ3ofBEcOP2vvAiBbXg4/Fllbp2RrDj8GhYNwP24OP8Zm8+0UZw4/yXtrqxhWDj/gY3ighzsOP16rZHanFw4/l11jxMXqDT+OgsBEN7UNP2PH2gVXdw0/NsmTmYUxDT/wkcNFKOQMP5LEEDiojww/FeVav3E0DD/CY6iM89ILP9kQSP2daws/6eCOb+L+Cj/FElGjMo0KP65x6iYAFwo/RD1e0bucCT9xyM1J1R4JPwmkPpy6nQg/KpRn29cZCD+g4v/OlpMHP6T+161eCwc/1q3V4pOBBj8gGcrbl/YFP0Y7/eDIagU/+vI49IHeBD/LQha2GlIEP6H2UFDnxQM/34/wYzg6Az8xZyj6Wq8CP+CW63aYJQI/lYFSjDadAT9riBYudxYBP0WCk4SYkQA/EHHs3tQOAD/SyUBIxRz/PsMoGIboIP4+dwwGQ3Aq/T7O1a0VsTn8Pshelzz3Tvs+FJczfIZq+j4ZpXr/mYz5PsYkzTxktfg+X+Xf4A7l9z4uuofBuhv3PnokOdp/WfY+ctj9U22e9T7L14Caier0PoDzoX/SPfQ+Az7Ebj2Y8z497sGwt/nyPipVHcEmYvI+CQKstGjR8T5DX5mxVEfxPoR4O3i7w/A+eMPR+2dG8D7UhsoTQJ7vPvtaS/1Ju+4+uliVCGnj7T42XGq2EhbtPqhgmVC4Uuw+McjCjciY6z4ZIG42sefqPmJ3jcXgPuo+ufB9/sed6T7ld6hy2wPpPq/8F/GUcOg+fyur2nTj5z7HbvRVA1znPruaYV7R2eY+Nuzhqnlc5j7EdPFooePlPgm2sMn4buU+Qtx5Xzv+5D4cUDZLMJHkPvDJijmqJ+Q+2zjBMIfB4z6oayIxsF7jPi1jMaoY/+I+ZNzrx72i4j72ldObpUniPhhIDybe8+E+q9JmQ3yh4T6xDjqFmlLhPnuz0/hXB+E+kUih49a/4D4xF+Z5O3zgPtkCcpWqPOA+5Si/cUgB4D5qWDflbpTfPl0zZPQtL98+Q2S5pQTT3j7dhHJhH4DePrfS3ZyeNt4+MYgQUJX23T7FKFysB8DdPqVb5xbqkt0+OcuUaSBv3T5dpy17fVTdPsdjme7CQt0+ay/OR6E53T4W8hlEuDjdPnJDbnKXP90+bAZ+B79N3T4JqbvooGLdPoJOpeihfd0+IYNJLhue3T6a9YvBW8PdPiThbTWq7N0+9Ip4aUYZ3j5fIWBba0jePj2lCAJRed4+GSJDKy6r3j5Z39xVOt3ePnay8YGvDt8+MVjb8cs+3z580I7W02zfPlQ/u+ISmN8+kvKIwN2/3z70LGhmk+PfPofU+SNPAeA+5AlAsDoO4D7n88KKThjgPiUd0vdTH+A+ScfDlBsj4D5/KEOKfSPgPjMCoqlZIOA+os6RdZcZ4D66IuAWJg/gPsusBD78AOA+T4f65C/e3z6hVjui/LLfPtsDOnV2gN8+1l6U58FG3z6fedZxDwbfPl9iwouavt4+YBV2qahw3j5zad0oiBzePuYY7TKPwt0+tl4qlBpj3T70FgCQjP7cPmEWV7JLldw+PrfTosEn3D43of78WbbbPuvaejCBQds+T5M/bKPJ2j66H5mXK0/aPtLieluC0tk+4K1rPg1U2T73URDVLdTYPiArDQlBU9g+Dj2od57R1z443ELpl0/XPi3BbOJ4zdY+TMz7ToZL1j7NuTxH/snVPhmu+u4XSdU+EfjGbQPJ1D590Jj/6UnUPtFYjxzuy9M+NcVXtitP0z4WfHeJuNPSPkMFf4CkWdI+Rb/3Jvrg0T4sQrQpv2nRPs63CuL089A+x8Bp6Zh/0D70C6yypQzQPot0GU0mNs8+i/lNga5Vzj7IsPtUzXfNPvWCSqRqnMw+EYGW9G3Dyz4AnxuDv+zKPh56fz5JGMo+YzP2p/dFyT6Yw0KZunXIPg==",
          "dtype": "f8"
         }
        }
       ],
       "layout": {
        "height": 600,
        "template": {
         "data": {
          "bar": [
           {
            "error_x": {
             "color": "#2a3f5f"
            },
            "error_y": {
             "color": "#2a3f5f"
            },
            "marker": {
             "line": {
              "color": "#E5ECF6",
              "width": 0.5
             },
             "pattern": {
              "fillmode": "overlay",
              "size": 10,
              "solidity": 0.2
             }
            },
            "type": "bar"
           }
          ],
          "barpolar": [
           {
            "marker": {
             "line": {
              "color": "#E5ECF6",
              "width": 0.5
             },
             "pattern": {
              "fillmode": "overlay",
              "size": 10,
              "solidity": 0.2
             }
            },
            "type": "barpolar"
           }
          ],
          "carpet": [
           {
            "aaxis": {
             "endlinecolor": "#2a3f5f",
             "gridcolor": "white",
             "linecolor": "white",
             "minorgridcolor": "white",
             "startlinecolor": "#2a3f5f"
            },
            "baxis": {
             "endlinecolor": "#2a3f5f",
             "gridcolor": "white",
             "linecolor": "white",
             "minorgridcolor": "white",
             "startlinecolor": "#2a3f5f"
            },
            "type": "carpet"
           }
          ],
          "choropleth": [
           {
            "colorbar": {
             "outlinewidth": 0,
             "ticks": ""
            },
            "type": "choropleth"
           }
          ],
          "contour": [
           {
            "colorbar": {
             "outlinewidth": 0,
             "ticks": ""
            },
            "colorscale": [
             [
              0,
              "#0d0887"
             ],
             [
              0.1111111111111111,
              "#46039f"
             ],
             [
              0.2222222222222222,
              "#7201a8"
             ],
             [
              0.3333333333333333,
              "#9c179e"
             ],
             [
              0.4444444444444444,
              "#bd3786"
             ],
             [
              0.5555555555555556,
              "#d8576b"
             ],
             [
              0.6666666666666666,
              "#ed7953"
             ],
             [
              0.7777777777777778,
              "#fb9f3a"
             ],
             [
              0.8888888888888888,
              "#fdca26"
             ],
             [
              1,
              "#f0f921"
             ]
            ],
            "type": "contour"
           }
          ],
          "contourcarpet": [
           {
            "colorbar": {
             "outlinewidth": 0,
             "ticks": ""
            },
            "type": "contourcarpet"
           }
          ],
          "heatmap": [
           {
            "colorbar": {
             "outlinewidth": 0,
             "ticks": ""
            },
            "colorscale": [
             [
              0,
              "#0d0887"
             ],
             [
              0.1111111111111111,
              "#46039f"
             ],
             [
              0.2222222222222222,
              "#7201a8"
             ],
             [
              0.3333333333333333,
              "#9c179e"
             ],
             [
              0.4444444444444444,
              "#bd3786"
             ],
             [
              0.5555555555555556,
              "#d8576b"
             ],
             [
              0.6666666666666666,
              "#ed7953"
             ],
             [
              0.7777777777777778,
              "#fb9f3a"
             ],
             [
              0.8888888888888888,
              "#fdca26"
             ],
             [
              1,
              "#f0f921"
             ]
            ],
            "type": "heatmap"
           }
          ],
          "histogram": [
           {
            "marker": {
             "pattern": {
              "fillmode": "overlay",
              "size": 10,
              "solidity": 0.2
             }
            },
            "type": "histogram"
           }
          ],
          "histogram2d": [
           {
            "colorbar": {
             "outlinewidth": 0,
             "ticks": ""
            },
            "colorscale": [
             [
              0,
              "#0d0887"
             ],
             [
              0.1111111111111111,
              "#46039f"
             ],
             [
              0.2222222222222222,
              "#7201a8"
             ],
             [
              0.3333333333333333,
              "#9c179e"
             ],
             [
              0.4444444444444444,
              "#bd3786"
             ],
             [
              0.5555555555555556,
              "#d8576b"
             ],
             [
              0.6666666666666666,
              "#ed7953"
             ],
             [
              0.7777777777777778,
              "#fb9f3a"
             ],
             [
              0.8888888888888888,
              "#fdca26"
             ],
             [
              1,
              "#f0f921"
             ]
            ],
            "type": "histogram2d"
           }
          ],
          "histogram2dcontour": [
           {
            "colorbar": {
             "outlinewidth": 0,
             "ticks": ""
            },
            "colorscale": [
             [
              0,
              "#0d0887"
             ],
             [
              0.1111111111111111,
              "#46039f"
             ],
             [
              0.2222222222222222,
              "#7201a8"
             ],
             [
              0.3333333333333333,
              "#9c179e"
             ],
             [
              0.4444444444444444,
              "#bd3786"
             ],
             [
              0.5555555555555556,
              "#d8576b"
             ],
             [
              0.6666666666666666,
              "#ed7953"
             ],
             [
              0.7777777777777778,
              "#fb9f3a"
             ],
             [
              0.8888888888888888,
              "#fdca26"
             ],
             [
              1,
              "#f0f921"
             ]
            ],
            "type": "histogram2dcontour"
           }
          ],
          "mesh3d": [
           {
            "colorbar": {
             "outlinewidth": 0,
             "ticks": ""
            },
            "type": "mesh3d"
           }
          ],
          "parcoords": [
           {
            "line": {
             "colorbar": {
              "outlinewidth": 0,
              "ticks": ""
             }
            },
            "type": "parcoords"
           }
          ],
          "pie": [
           {
            "automargin": true,
            "type": "pie"
           }
          ],
          "scatter": [
           {
            "fillpattern": {
             "fillmode": "overlay",
             "size": 10,
             "solidity": 0.2
            },
            "type": "scatter"
           }
          ],
          "scatter3d": [
           {
            "line": {
             "colorbar": {
              "outlinewidth": 0,
              "ticks": ""
             }
            },
            "marker": {
             "colorbar": {
              "outlinewidth": 0,
              "ticks": ""
             }
            },
            "type": "scatter3d"
           }
          ],
          "scattercarpet": [
           {
            "marker": {
             "colorbar": {
              "outlinewidth": 0,
              "ticks": ""
             }
            },
            "type": "scattercarpet"
           }
          ],
          "scattergeo": [
           {
            "marker": {
             "colorbar": {
              "outlinewidth": 0,
              "ticks": ""
             }
            },
            "type": "scattergeo"
           }
          ],
          "scattergl": [
           {
            "marker": {
             "colorbar": {
              "outlinewidth": 0,
              "ticks": ""
             }
            },
            "type": "scattergl"
           }
          ],
          "scattermap": [
           {
            "marker": {
             "colorbar": {
              "outlinewidth": 0,
              "ticks": ""
             }
            },
            "type": "scattermap"
           }
          ],
          "scattermapbox": [
           {
            "marker": {
             "colorbar": {
              "outlinewidth": 0,
              "ticks": ""
             }
            },
            "type": "scattermapbox"
           }
          ],
          "scatterpolar": [
           {
            "marker": {
             "colorbar": {
              "outlinewidth": 0,
              "ticks": ""
             }
            },
            "type": "scatterpolar"
           }
          ],
          "scatterpolargl": [
           {
            "marker": {
             "colorbar": {
              "outlinewidth": 0,
              "ticks": ""
             }
            },
            "type": "scatterpolargl"
           }
          ],
          "scatterternary": [
           {
            "marker": {
             "colorbar": {
              "outlinewidth": 0,
              "ticks": ""
             }
            },
            "type": "scatterternary"
           }
          ],
          "surface": [
           {
            "colorbar": {
             "outlinewidth": 0,
             "ticks": ""
            },
            "colorscale": [
             [
              0,
              "#0d0887"
             ],
             [
              0.1111111111111111,
              "#46039f"
             ],
             [
              0.2222222222222222,
              "#7201a8"
             ],
             [
              0.3333333333333333,
              "#9c179e"
             ],
             [
              0.4444444444444444,
              "#bd3786"
             ],
             [
              0.5555555555555556,
              "#d8576b"
             ],
             [
              0.6666666666666666,
              "#ed7953"
             ],
             [
              0.7777777777777778,
              "#fb9f3a"
             ],
             [
              0.8888888888888888,
              "#fdca26"
             ],
             [
              1,
              "#f0f921"
             ]
            ],
            "type": "surface"
           }
          ],
          "table": [
           {
            "cells": {
             "fill": {
              "color": "#EBF0F8"
             },
             "line": {
              "color": "white"
             }
            },
            "header": {
             "fill": {
              "color": "#C8D4E3"
             },
             "line": {
              "color": "white"
             }
            },
            "type": "table"
           }
          ]
         },
         "layout": {
          "annotationdefaults": {
           "arrowcolor": "#2a3f5f",
           "arrowhead": 0,
           "arrowwidth": 1
          },
          "autotypenumbers": "strict",
          "coloraxis": {
           "colorbar": {
            "outlinewidth": 0,
            "ticks": ""
           }
          },
          "colorscale": {
           "diverging": [
            [
             0,
             "#8e0152"
            ],
            [
             0.1,
             "#c51b7d"
            ],
            [
             0.2,
             "#de77ae"
            ],
            [
             0.3,
             "#f1b6da"
            ],
            [
             0.4,
             "#fde0ef"
            ],
            [
             0.5,
             "#f7f7f7"
            ],
            [
             0.6,
             "#e6f5d0"
            ],
            [
             0.7,
             "#b8e186"
            ],
            [
             0.8,
             "#7fbc41"
            ],
            [
             0.9,
             "#4d9221"
            ],
            [
             1,
             "#276419"
            ]
           ],
           "sequential": [
            [
             0,
             "#0d0887"
            ],
            [
             0.1111111111111111,
             "#46039f"
            ],
            [
             0.2222222222222222,
             "#7201a8"
            ],
            [
             0.3333333333333333,
             "#9c179e"
            ],
            [
             0.4444444444444444,
             "#bd3786"
            ],
            [
             0.5555555555555556,
             "#d8576b"
            ],
            [
             0.6666666666666666,
             "#ed7953"
            ],
            [
             0.7777777777777778,
             "#fb9f3a"
            ],
            [
             0.8888888888888888,
             "#fdca26"
            ],
            [
             1,
             "#f0f921"
            ]
           ],
           "sequentialminus": [
            [
             0,
             "#0d0887"
            ],
            [
             0.1111111111111111,
             "#46039f"
            ],
            [
             0.2222222222222222,
             "#7201a8"
            ],
            [
             0.3333333333333333,
             "#9c179e"
            ],
            [
             0.4444444444444444,
             "#bd3786"
            ],
            [
             0.5555555555555556,
             "#d8576b"
            ],
            [
             0.6666666666666666,
             "#ed7953"
            ],
            [
             0.7777777777777778,
             "#fb9f3a"
            ],
            [
             0.8888888888888888,
             "#fdca26"
            ],
            [
             1,
             "#f0f921"
            ]
           ]
          },
          "colorway": [
           "#636efa",
           "#EF553B",
           "#00cc96",
           "#ab63fa",
           "#FFA15A",
           "#19d3f3",
           "#FF6692",
           "#B6E880",
           "#FF97FF",
           "#FECB52"
          ],
          "font": {
           "color": "#2a3f5f"
          },
          "geo": {
           "bgcolor": "white",
           "lakecolor": "white",
           "landcolor": "#E5ECF6",
           "showlakes": true,
           "showland": true,
           "subunitcolor": "white"
          },
          "hoverlabel": {
           "align": "left"
          },
          "hovermode": "closest",
          "mapbox": {
           "style": "light"
          },
          "paper_bgcolor": "white",
          "plot_bgcolor": "#E5ECF6",
          "polar": {
           "angularaxis": {
            "gridcolor": "white",
            "linecolor": "white",
            "ticks": ""
           },
           "bgcolor": "#E5ECF6",
           "radialaxis": {
            "gridcolor": "white",
            "linecolor": "white",
            "ticks": ""
           }
          },
          "scene": {
           "xaxis": {
            "backgroundcolor": "#E5ECF6",
            "gridcolor": "white",
            "gridwidth": 2,
            "linecolor": "white",
            "showbackground": true,
            "ticks": "",
            "zerolinecolor": "white"
           },
           "yaxis": {
            "backgroundcolor": "#E5ECF6",
            "gridcolor": "white",
            "gridwidth": 2,
            "linecolor": "white",
            "showbackground": true,
            "ticks": "",
            "zerolinecolor": "white"
           },
           "zaxis": {
            "backgroundcolor": "#E5ECF6",
            "gridcolor": "white",
            "gridwidth": 2,
            "linecolor": "white",
            "showbackground": true,
            "ticks": "",
            "zerolinecolor": "white"
           }
          },
          "shapedefaults": {
           "line": {
            "color": "#2a3f5f"
           }
          },
          "ternary": {
           "aaxis": {
            "gridcolor": "white",
            "linecolor": "white",
            "ticks": ""
           },
           "baxis": {
            "gridcolor": "white",
            "linecolor": "white",
            "ticks": ""
           },
           "bgcolor": "#E5ECF6",
           "caxis": {
            "gridcolor": "white",
            "linecolor": "white",
            "ticks": ""
           }
          },
          "title": {
           "x": 0.05
          },
          "xaxis": {
           "automargin": true,
           "gridcolor": "white",
           "linecolor": "white",
           "ticks": "",
           "title": {
            "standoff": 15
           },
           "zerolinecolor": "white",
           "zerolinewidth": 2
          },
          "yaxis": {
           "automargin": true,
           "gridcolor": "white",
           "linecolor": "white",
           "ticks": "",
           "title": {
            "standoff": 15
           },
           "zerolinecolor": "white",
           "zerolinewidth": 2
          }
         }
        },
        "title": {
         "text": "Распределение цен на авто | Test Data"
        },
        "width": 1000,
        "xaxis": {
         "title": {
          "text": "Sales"
         }
        },
        "yaxis": {
         "title": {
          "text": "Плотность"
         }
        }
       }
      }
     },
     "metadata": {},
     "output_type": "display_data"
    }
   ],
   "source": [
    "# взглянем на распределение цен авто на test\n",
    "from scipy.stats import gaussian_kde\n",
    "import plotly.graph_objects as go\n",
    "\n",
    "# Distribution plot\n",
    "# считаем оценку плотности для фактических и предсказанных значений\n",
    "kde_test = gaussian_kde(y_test)\n",
    "\n",
    "# определим диапазон значений по которым бдуем строить плотности\n",
    "min_value = min(y_test.min(), y_test.min())\n",
    "max_value = max(y_test.max(), y_test.max())\n",
    "\n",
    "# также задаим сколько точек будем строить на графике\n",
    "n_points = 200\n",
    "\n",
    "# итоговый диапазон значений\n",
    "x_vals = np.linspace(min_value, max_value, n_points)\n",
    "\n",
    "fig = go.Figure()\n",
    "\n",
    "fig.add_trace(go.Scatter(\n",
    "    x=x_vals, y=kde_test(x_vals),\n",
    "    fill='tozeroy', name='Известные', mode='lines',\n",
    "    line=dict(color='blue'), opacity=0.6\n",
    "))\n",
    "\n",
    "fig.update_layout(\n",
    "    title='Распределение цен на авто | Test Data',\n",
    "    xaxis_title='Sales', yaxis_title='Плотность',\n",
    "    width=1000, height=600\n",
    ")\n",
    "\n",
    "fig.show()"
   ]
  },
  {
   "cell_type": "markdown",
   "id": "18bfa241",
   "metadata": {},
   "source": [
    "Можно рассматривать дорогие автомобили как выбросы, которые непропорционально влияют на критерий качества и обучение модели. В таких условиях стандартная линейная регрессия часто ведёт себя плохо на хвостах распределения. К счастью, эту проблему можно решить при помощи специальных методов (логарифмирование, использование устойчивых функций потерь, ...)\n",
    "\n",
    "В рамках нашего урока, наблюдения выше идеально подходят для демонстрации чувствительности $MSE$ к выбросам. Так как модель очень сильно ошибается на втором объекте, то его можно смело посчитать за выброс. Наша исходная модель совершает вот таки квадартичные ошибки на данных объектах:"
   ]
  },
  {
   "cell_type": "code",
   "execution_count": 12,
   "id": "8b938254",
   "metadata": {},
   "outputs": [
    {
     "name": "stdout",
     "output_type": "stream",
     "text": [
      "Ошибки: [389.94176637864393, 210105511.76706648]\n"
     ]
    }
   ],
   "source": [
    "errors_old = min_max_error_df['error_squared'].values.tolist()\n",
    "print('Ошибки:', errors_old)"
   ]
  },
  {
   "cell_type": "markdown",
   "id": "79c5ae11",
   "metadata": {},
   "source": [
    "Тепреь предположим, что мы улучшили нашу модель - добавили больше признаков и качество симметрично улучшилось - стало точнее на 10$ (взял цифру с потолка <смеющийся смайлик>)"
   ]
  },
  {
   "cell_type": "code",
   "execution_count": 13,
   "id": "cfdc8163",
   "metadata": {},
   "outputs": [
    {
     "data": {
      "text/html": [
       "<div>\n",
       "<style scoped>\n",
       "    .dataframe tbody tr th:only-of-type {\n",
       "        vertical-align: middle;\n",
       "    }\n",
       "\n",
       "    .dataframe tbody tr th {\n",
       "        vertical-align: top;\n",
       "    }\n",
       "\n",
       "    .dataframe thead th {\n",
       "        text-align: right;\n",
       "    }\n",
       "</style>\n",
       "<table border=\"1\" class=\"dataframe\">\n",
       "  <thead>\n",
       "    <tr style=\"text-align: right;\">\n",
       "      <th></th>\n",
       "      <th>model_version</th>\n",
       "      <th>true</th>\n",
       "      <th>pred</th>\n",
       "      <th>error_squared</th>\n",
       "      <th>error_abs</th>\n",
       "    </tr>\n",
       "  </thead>\n",
       "  <tbody>\n",
       "    <tr>\n",
       "      <th>157</th>\n",
       "      <td>A</td>\n",
       "      <td>7198.0</td>\n",
       "      <td>7217.746943</td>\n",
       "      <td>3.899418e+02</td>\n",
       "      <td>19.746943</td>\n",
       "    </tr>\n",
       "    <tr>\n",
       "      <th>128</th>\n",
       "      <td>A</td>\n",
       "      <td>37028.0</td>\n",
       "      <td>22532.983209</td>\n",
       "      <td>2.101055e+08</td>\n",
       "      <td>14495.016791</td>\n",
       "    </tr>\n",
       "  </tbody>\n",
       "</table>\n",
       "</div>"
      ],
      "text/plain": [
       "    model_version     true          pred  error_squared     error_abs\n",
       "157             A   7198.0   7217.746943   3.899418e+02     19.746943\n",
       "128             A  37028.0  22532.983209   2.101055e+08  14495.016791"
      ]
     },
     "execution_count": 13,
     "metadata": {},
     "output_type": "execute_result"
    }
   ],
   "source": [
    "# красиво оформим DataFrame - как буто результат эксперимента модели A\n",
    "columns = [\n",
    "    'true',\n",
    "    'pred',\n",
    "    'error_squared',\n",
    "    'error_abs'\n",
    "]\n",
    "\n",
    "model_a_results = min_max_error_df[columns].copy()\n",
    "model_a_results.insert(0, 'model_version', 'A') # добавляем версию модели\n",
    "model_a_results"
   ]
  },
  {
   "cell_type": "code",
   "execution_count": 14,
   "id": "fb4a2935",
   "metadata": {},
   "outputs": [
    {
     "data": {
      "text/html": [
       "<div>\n",
       "<style scoped>\n",
       "    .dataframe tbody tr th:only-of-type {\n",
       "        vertical-align: middle;\n",
       "    }\n",
       "\n",
       "    .dataframe tbody tr th {\n",
       "        vertical-align: top;\n",
       "    }\n",
       "\n",
       "    .dataframe thead th {\n",
       "        text-align: right;\n",
       "    }\n",
       "</style>\n",
       "<table border=\"1\" class=\"dataframe\">\n",
       "  <thead>\n",
       "    <tr style=\"text-align: right;\">\n",
       "      <th></th>\n",
       "      <th>model_version</th>\n",
       "      <th>true</th>\n",
       "      <th>pred</th>\n",
       "      <th>error_squared</th>\n",
       "      <th>error_abs</th>\n",
       "    </tr>\n",
       "  </thead>\n",
       "  <tbody>\n",
       "    <tr>\n",
       "      <th>0</th>\n",
       "      <td>B</td>\n",
       "      <td>7198.0</td>\n",
       "      <td>7207.7</td>\n",
       "      <td>9.409000e+01</td>\n",
       "      <td>9.7</td>\n",
       "    </tr>\n",
       "    <tr>\n",
       "      <th>1</th>\n",
       "      <td>B</td>\n",
       "      <td>37028.0</td>\n",
       "      <td>22542.9</td>\n",
       "      <td>2.098181e+08</td>\n",
       "      <td>14485.1</td>\n",
       "    </tr>\n",
       "  </tbody>\n",
       "</table>\n",
       "</div>"
      ],
      "text/plain": [
       "  model_version     true     pred  error_squared  error_abs\n",
       "0             B   7198.0   7207.7   9.409000e+01        9.7\n",
       "1             B  37028.0  22542.9   2.098181e+08    14485.1"
      ]
     },
     "execution_count": 14,
     "metadata": {},
     "output_type": "execute_result"
    }
   ],
   "source": [
    "# результат эксперимента модели B\n",
    "model_b_results = pd.DataFrame({\n",
    "    'model_version': ['B', 'B'],\n",
    "    'true': [7198.0, 37028.0],\n",
    "    'pred': [7207.7, 22542.9], # предсказание теперь точнее на 10$ для обоих объектов\n",
    "})\n",
    "\n",
    "# считаем квадратичную и абсолютные ошибки\n",
    "model_b_results['error_squared'] = (model_b_results['true'] - model_b_results['pred']) ** 2\n",
    "model_b_results['error_abs'] = (model_b_results['true'] - model_b_results['pred']).abs()\n",
    "model_b_results"
   ]
  },
  {
   "cell_type": "code",
   "execution_count": 15,
   "id": "b1260b84",
   "metadata": {},
   "outputs": [
    {
     "name": "stdout",
     "output_type": "stream",
     "text": [
      "Изменение квадратичной ошибки:  [295.8517663786475, 287389.75706651807]\n",
      "Изменение абсолютной ошибки:  [10.04694321606894, 9.91679085148644]\n"
     ]
    }
   ],
   "source": [
    "# теперь посчитаем на сколько уменьшилась квадратичная и абсолютная ошибки\n",
    "error_reduction_squared = model_a_results['error_squared'].values - model_b_results['error_squared'].values\n",
    "error_reduction_abs = model_a_results['error_abs'].values - model_b_results['error_abs'].values\n",
    "print('Изменение квадратичной ошибки: ', error_reduction_squared.tolist())\n",
    "print('Изменение абсолютной ошибки: ', error_reduction_abs.tolist())"
   ]
  },
  {
   "cell_type": "markdown",
   "id": "257eb43f",
   "metadata": {},
   "source": [
    "Видно, что сильнее всего (почти на 300к) изменилась ошибка на выбросе (второе наблюдение), а не на \"нормальном\" объекте. Следовательно, модели будет всегда выгоднее точнее предсказывать выброс, ценой большей ошибки на \"нормальных\" данных. Таким образом, модель будет всегда подстраиваться под выбросы, чтобы достичь наименьшего $MSE$. Как думаешь хорошо это или плохо?\n",
    "\n",
    "<!-- Ответ\n",
    "Это зависи от бизнес задачи. Необходимо задать вопрос бизнесу - \"Важно ли для нас хорошо предсказывать цену на выбросах или важна стабильная работа модели на основном сегменте цен?\". Поэтому далее возможны 2 сценария\n",
    "- Вариант А: Настраиваться на выбросы\n",
    "    - Лучше будет предсказывать редкие наблюдения, однако хуже будет прогноз на основных наблюдениях - скорее всего будет завышать прогноз\n",
    "- Вариант B: Игнорировать выбросы (их удаления или использование устойчивых функций потерь)\n",
    "    - Модель будет ошибаться на выбросах - не сможет хорошо их предсказать - скорее всего будет занижать прогноз, однако на основных наблюдениях модель будет точна\n",
    "-->"
   ]
  },
  {
   "cell_type": "code",
   "execution_count": 16,
   "id": "6b69aa5d",
   "metadata": {},
   "outputs": [],
   "source": [
    "# твои мысли 🧠"
   ]
  },
  {
   "cell_type": "markdown",
   "id": "a396891c",
   "metadata": {},
   "source": [
    "А что с абсолютной ошибкой? Как видишь, для этой метрики модели не важно на каком объекте улучшать прогноз, так как итоговые ошибки равны. Поэтому $MAE$ устойчив к выбросам! Давай перейдем к следующим 2-м минусам метрики $MSE$, связанные с еденицами измерения и интерпретируемостью.\n",
    "\n",
    "#### _Проблема квадратных значений_\n",
    "\n",
    "Так как значение ошибки возводится в квадрат, то при интерпретации ошибки мы будем оперировать квадратными еденицами - квадратные доллары/рубли/штуки, ... Представь, ты обучил модель, а затем говоришь заказчику, что твоя модель в среднем ошибается на 5000 квадратных долларов. Не совсем понятно как это понимать, не так ли? \n",
    "\n",
    "Избавить от квадрата очень просто - извелкаем корень из итоговой ошибки (спасибо курсу школьной математики <смайл смех>) и все, теперь квадратные доллары  это снова привычные и понятные нам доллары\n",
    "\n",
    "#### _Проблема: ошибка в контексте - большая/маленькая?_\n",
    "\n",
    "Также при расчете $MSE$ и последующего извлечения корня мы получаем ошибку значение которой не дает информации о критичности - большая или маленькая? Например, получил ты $RMSE = 5000$. Это много или мало? Один из вариантов это сбегать к заказчику и спросить. А если он в отпуске или не отвечает? Как тогда поступить? К счастью, можно учесть масштаб целевой переменной и получить новую метрику - \"коэффициент детерминации R2\" который легко интерпретируется."
   ]
  },
  {
   "cell_type": "markdown",
   "id": "bcd09a68",
   "metadata": {},
   "source": [
    "## Корень из средней квадратичной ошибки | Root Mean Squared Error | RMSE\n",
    "Мы уже затронули данную метрику выше - это просто квадратный корень из среднеквадратичной ошибки _MSE_\n",
    "\n",
    "$$ RMSE = \\sqrt{MSE} = \\sqrt{\\frac{1}{n} \\sum_{i=1}^{n} (y_i - \\hat{y}_i)^2}$$\n",
    "\n",
    "В отличие от $MSE$, величина $RMSE$ выражается в тех же единицах, что и целевая переменная. Это делает её более интерпретируемой: например, если мы предсказываем стоимость автомобилей в долларах, то $RMSE$ показывает среднюю ошибку прогноза в  настоящих долларах, вместо квадратных. Однако важно помнить, что само значение $RMSE$ не всегда говорит, много это или мало. Чтобы правильно оценить качество модели, необходимо сопоставлять $RMSE$ с разбросом целевой переменной - использовать метрику $R2$\n",
    "\n",
    "$RMSE$ отличается от $MSE$ только тем, что в него добавлен квадратный корень. Метрика унаследовала все недостатки $MSE$, но при этом имеет одно важное преимущество — величина ошибки выражается в тех же единицах, что и сама целевая переменная $y$"
   ]
  },
  {
   "cell_type": "markdown",
   "id": "d6c92f56",
   "metadata": {},
   "source": [
    "##  Логарифм средней квадратичной ошибки | Mean Squared Logarithmic Error | MSLE\n",
    "Является вариантом $MSE$, которая применяется к логарифмам предсказанных и фактических значений. Основная цель MSLE — оценка моделей, где важнее относительная ошибка, а не абсолютная. Она особенно полезна, когда значения таргета могут сильно различаться по масштабу, и ошибки на больших значениях не должны доминировать над ошибками на малых.\n",
    "\n",
    "$$\\text{MSLE} = \\frac{1}{n} \\sum_{i=1}^{n} \\Big(\\ln(1 + \\hat{y}_i) - \\ln(1 + y_i)\\Big)^2$$\n",
    "\n",
    "Данная метрика идеально подходит, когда необходимо предсказывать не точное значение таргета, а его порядок. Натуральный логарифм в формуле как раз этим и занимается - переводит значение в другую шкалу - шкалу порядков на основании которой и происходит вычисление ошибки. Также хочу отметить, что $MSLE$ слабее штрафует в сравнении с $MSE$ за счет использования натурального логарифма."
   ]
  },
  {
   "cell_type": "code",
   "execution_count": null,
   "id": "a9c7b8ee",
   "metadata": {},
   "outputs": [],
   "source": [
    "# закодим метрику\n",
    "def mean_squared_log_error(y_true, y_pred):\n",
    "    y_true, y_pred = np.array(y_true), np.array(y_pred)\n",
    "    return np.mean((np.log1p(y_pred) - np.log1p(y_true)) ** 2)"
   ]
  },
  {
   "cell_type": "markdown",
   "id": "d8cf451f",
   "metadata": {},
   "source": [
    "## Коэффициент Детерменации $R2$\n",
    "Это одна из наиболее популярных метрик качества регрессионных моделей. Как мы уже выясниили ранее, _RMSE_ не дает оценку критичности ошибки - большая или маленькая, поэтому если нормировать _\"MSE\"_ на дисперсию целевой перменной $y$, то получим абсолютно новую мерику - коэффициент детерменации, глядя на который можно легко понять на сколько хороша наша модель, получается своего рода нормализованный $RMSE$\n",
    "\n",
    "R2 показывает, как хорошо модель объясняет дисперсию целевой переменной $y$ \n",
    "\n",
    "$$ R^2 = 1 - \\frac{\\sum_{i=1}^{n} (y_i - \\hat{y}_i)^2}{\\sum_{i=1}^{n} (y_i - \\bar{y})^2}$$\n",
    "\n",
    "- Числитель: используется не _MSE_, а _SSE - Sum Squared Error_, но интуация +/- как с _RMSE_\n",
    "- Знаменатель: используется дисперсия таргета $y$, еще называют _SST - Sum of Squeres Total_ - общая сумма квадратов\n",
    "\n",
    "Выходит, что в идеале модель должна предсказывать либо идеально значения таргета, либо чтобы _SSE_ равнялся дисперсии $y$. Значение $R^2$ всегда лежит в интервале от $(-\\infty, 1]$, так как это нормированная метрика. А вот так можно интерпретировать полученные результаты:\n",
    "- $R^2 = 1$ - модель идеально предсказывает данные, без ошибок (редко бывает на практике)\n",
    "- $R^2 = 0$ - модель ничем не лучше прогноза \"средним\" - \"глупая модель\" (бывает на практике, необходимо избегать)\n",
    "- $R^2 < 0$ - модель хуже прогноза \"средним\" (бывает на практике, необходимо избегать)\n",
    "\n",
    "На практике $R2$ для \"разумной\" модели обычно лежит на отрезке от $[0, 1]$. Чем ближе к 1 тем лучше! Если $R^2 < 0$, то с моделью 100% что то не так - недообучение/переобучение, выбросы, возможно _train_ и _test_ имеют разные распределения, ... В таких случаях необходим детальный анализ данных и ошибок модели. Хочу отметить, что формулу выше можно переписать в более интерсном виде:\n",
    "\n",
    "\n",
    "$$ R^2 = 1 - \\frac{SSE}{SST} = 1 - \\frac{n\\cdot RMSE^2}{SST}, RMSE = \\sqrt{\\frac{SSE}{n}}$$\n",
    "\n",
    "$$R^2 = 1 - \\left( \\frac{RMSE_\\text{model}}{RMSE_{\\text{baseline}}} \\right)^2, RMSE_{\\text{baseline}} = \\sqrt{\\frac{\\mathrm{SST}}{n}}$$\n",
    "\n",
    "Фомулы выше доказывают, что $R2$ можно интерпретировать как показатель того, насколько модель предсказывает лучше, чем простая стратегия прогнозирования средним - часто используемая в качестве \"baseline\" решения."
   ]
  },
  {
   "cell_type": "code",
   "execution_count": 17,
   "id": "2bf0aeeb",
   "metadata": {},
   "outputs": [
    {
     "name": "stdout",
     "output_type": "stream",
     "text": [
      "Коэффициент детерминации R2 | Test: 0.8101000960701704\n"
     ]
    }
   ],
   "source": [
    "# закодим метрику R2 и оценим качество нашей модели\n",
    "def r2_score(y_true, y_pred):\n",
    "    ss_res = np.sum((y_true - y_pred) ** 2)\n",
    "    ss_tot = np.sum((y_true - np.mean(y_true)) ** 2)\n",
    "    return 1 - (ss_res / ss_tot) if ss_tot != 0 else 0\n",
    "\n",
    "r2_score_test = r2_score(y_true=metrics_results['true'], y_pred=metrics_results['pred'])\n",
    "print('Коэффициент детерминации R2 | Test:', r2_score_test)"
   ]
  },
  {
   "cell_type": "markdown",
   "id": "5e7adae5",
   "metadata": {},
   "source": [
    "Получили довольно хороший результат, наша модель на 80% объясняет дисперсию целевой переменной. Лишь 20% отсутствует - можно подумать как усложнить модель. "
   ]
  },
  {
   "cell_type": "markdown",
   "id": "fa60723f",
   "metadata": {},
   "source": [
    "## Минусы\n",
    "Идеальных метрик не бывает, у каждой найдутся минусы. Вот сейчас об этом и поговорим:\n",
    "- *Не отражает величину ошибки*\n",
    "    - Показывает долю дисперсии целевой переменной которая объясняет модель. Однако, большой $R2$ еще не гарантирует маленькую $RMSE$. Необходимо дополнительно валидировать $RMSE$\n",
    "\n",
    "- *Чувствителен к выбрасам*\n",
    "    - Так как метрика условно основана на $RMSE$, то наследует проблему с выбросами. Даже наличие нескольких выбросов может значительно \"уронить\" метрику\n",
    "\n",
    "- *Зависит от числа признаков*\n",
    "    - Никогда не уменьшается при добавлении новых признаков, даже если они бесполезны. В этом случае необходимо использовать скорректированный $R2$\n",
    "\n",
    "- _Зависит от дисперсии целевой переменной_\n",
    "    - Если дисперсия таргета $y$ маленькая, то даже модель с хорошим $RMSE$ даст низкий $R2$, и наоборот, при большой дисперсии таргета даже не очень точная модель может показать высокий $R2$\n",
    "\n",
    "- _Зависит от налиичия intercept в модели (линейные модели)_ \n",
    "    - Если модель не включает _intercept_ (свободный член), то интерпретация $R2$ рушится и вводит в заблуждение, так как нарушается предположение $\\sum_{i=1}^{n} \\left(y_i - \\hat{y}_i\\right) = 0$"
   ]
  },
  {
   "cell_type": "markdown",
   "id": "96688a7c",
   "metadata": {},
   "source": [
    "## Почему R2 зависит от количества фичей?\n",
    "Хочу обратить твое внимание на смаую значимую проблему метрики $R2$ - зависимость от количества признаков. Если ты получил большое значение $R2$ и использовал много признаков, то не факт, что твоя модель действительно \"выучила\" что-то полезное. Добавление новых признаков никогда не уменьшает метрику, а даже увеличивает! Рузумеется, все эти утверждения относятся только к качеству на _train_ или _validation_, на _test_ мы будем видеть ухудшение метрики? Но ориентироваться на _test_ - нельзя, так как в этом случае ты будешь переобучаться на него. Если ты мне не веришь, то я могу доказать, смотри <эмодзи глаза>\n",
    "\n",
    "\n",
    "Напомню, что изначально мы обучили модель, используя 4 признака. Модель получила довольно неплохой результат на _test_: $R2 = 0.81$. Фичи скорее всего информативные и имеют значимость при прогнозировании. Давай убедимся в этом. Есть идеи как это можно сделать?\n",
    "\n",
    "<!-- Ответ\n",
    "Есть несколько способов:\n",
    "1. Проверить корреляцию с таргетом\n",
    "2. Посмотреть на их важность в итоговой обученной модели\n",
    "-->"
   ]
  },
  {
   "cell_type": "code",
   "execution_count": 18,
   "id": "8c6e0c43",
   "metadata": {},
   "outputs": [],
   "source": [
    "# твои мысли 🧠"
   ]
  },
  {
   "cell_type": "code",
   "execution_count": 19,
   "id": "a999c939",
   "metadata": {},
   "outputs": [
    {
     "data": {
      "text/html": [
       "<div>\n",
       "<style scoped>\n",
       "    .dataframe tbody tr th:only-of-type {\n",
       "        vertical-align: middle;\n",
       "    }\n",
       "\n",
       "    .dataframe tbody tr th {\n",
       "        vertical-align: top;\n",
       "    }\n",
       "\n",
       "    .dataframe thead th {\n",
       "        text-align: right;\n",
       "    }\n",
       "</style>\n",
       "<table border=\"1\" class=\"dataframe\">\n",
       "  <thead>\n",
       "    <tr style=\"text-align: right;\">\n",
       "      <th></th>\n",
       "      <th>feature</th>\n",
       "      <th>importance</th>\n",
       "      <th>price</th>\n",
       "    </tr>\n",
       "  </thead>\n",
       "  <tbody>\n",
       "    <tr>\n",
       "      <th>0</th>\n",
       "      <td>horsepower</td>\n",
       "      <td>1755.758012</td>\n",
       "      <td>0.808139</td>\n",
       "    </tr>\n",
       "    <tr>\n",
       "      <th>1</th>\n",
       "      <td>carlength</td>\n",
       "      <td>281.319695</td>\n",
       "      <td>0.682920</td>\n",
       "    </tr>\n",
       "    <tr>\n",
       "      <th>2</th>\n",
       "      <td>enginesize</td>\n",
       "      <td>2178.328811</td>\n",
       "      <td>0.874145</td>\n",
       "    </tr>\n",
       "    <tr>\n",
       "      <th>3</th>\n",
       "      <td>curbweight</td>\n",
       "      <td>2632.272265</td>\n",
       "      <td>0.835305</td>\n",
       "    </tr>\n",
       "  </tbody>\n",
       "</table>\n",
       "</div>"
      ],
      "text/plain": [
       "      feature   importance     price\n",
       "0  horsepower  1755.758012  0.808139\n",
       "1   carlength   281.319695  0.682920\n",
       "2  enginesize  2178.328811  0.874145\n",
       "3  curbweight  2632.272265  0.835305"
      ]
     },
     "execution_count": 19,
     "metadata": {},
     "output_type": "execute_result"
    }
   ],
   "source": [
    "# проверим корреляцию с таргетом - \"price\"\n",
    "features_corr = data[features].corr()['price'].sort_values(ascending=False)[1:]\n",
    "\n",
    "# важность в модели | \"Feature Importance\"\n",
    "features_imp  = pd.DataFrame({\n",
    "    'feature': features[:-1],\n",
    "    'importance': model.coef_\n",
    "})\n",
    "\n",
    "features_summary_df = features_imp.merge(features_corr, left_on='feature', right_index=True)\n",
    "features_summary_df"
   ]
  },
  {
   "cell_type": "markdown",
   "id": "b13459ef",
   "metadata": {},
   "source": [
    "Отлично, признаки значимы и имеют хорошую линейную зависимость с таргетом, а значит действительно важны. Теперь давай сгенерируем N-бесполезных признаков (шум) и посмотрим как будет изменяться $R2$ от их количества на обучающей выборке - _train_. Напомню, что ранее мы уже разбили данные на _train_ и _test_"
   ]
  },
  {
   "cell_type": "code",
   "execution_count": 20,
   "id": "6b160bee",
   "metadata": {},
   "outputs": [],
   "source": [
    "NOISY_FEATURES_COUNT = 30\n",
    "np.random.seed(SEED)\n",
    "\n",
    "X_train_aug = X_train_scaled.copy()\n",
    "X_test_aug = X_test_scaled.copy()\n",
    "\n",
    "scores_train = []\n",
    "scores_test = []\n",
    "\n",
    "for i in range(NOISY_FEATURES_COUNT):\n",
    "    noise_train = np.random.randn(X_train.shape[0], 1)\n",
    "    noise_test = np.random.randn(X_test.shape[0], 1)\n",
    "    \n",
    "    X_train_aug = np.hstack([X_train_aug, noise_train])\n",
    "    X_test_aug = np.hstack([X_test_aug, noise_test])\n",
    "    \n",
    "    _model = LinearRegression()\n",
    "    _model.fit(X_train_aug, y_train)\n",
    "\n",
    "    y_pred_train = _model.predict(X_train_aug)\n",
    "    y_pred_test = _model.predict(X_test_aug)\n",
    "\n",
    "    r2_train = r2_score(y_train, y_pred_train)\n",
    "    r2_test = r2_score(y_test, y_pred_test)\n",
    "    \n",
    "    scores_train.append(r2_train)\n",
    "    scores_test.append(r2_test)"
   ]
  },
  {
   "cell_type": "code",
   "execution_count": 21,
   "id": "c3026b3b",
   "metadata": {},
   "outputs": [
    {
     "data": {
      "application/vnd.plotly.v1+json": {
       "config": {
        "plotlyServerURL": "https://plot.ly"
       },
       "data": [
        {
         "line": {
          "color": "blue"
         },
         "marker": {
          "size": 6
         },
         "mode": "lines+markers",
         "name": "R² | Train",
         "type": "scatter",
         "x": [
          1,
          2,
          3,
          4,
          5,
          6,
          7,
          8,
          9,
          10,
          11,
          12,
          13,
          14,
          15,
          16,
          17,
          18,
          19,
          20,
          21,
          22,
          23,
          24,
          25,
          26,
          27,
          28,
          29,
          30
         ],
         "y": [
          0.7972042214210321,
          0.797440855783171,
          0.7982538773918282,
          0.7983543878569835,
          0.7987658156241152,
          0.7987700053146249,
          0.8024232252600522,
          0.8044405536753338,
          0.8053008919402642,
          0.8056015332247489,
          0.8079050327429547,
          0.8105923616263137,
          0.8113704344645482,
          0.8116841181699657,
          0.8117803481025809,
          0.8118072280793263,
          0.8160110338289837,
          0.8160716747895972,
          0.8160883132989958,
          0.8162065359928471,
          0.8173273877054061,
          0.8243052148807011,
          0.8317048267992503,
          0.8323566375593108,
          0.8330755437885198,
          0.8352100525631835,
          0.8353764554012414,
          0.835625397469099,
          0.8356456863168683,
          0.8357897396605749
         ]
        },
        {
         "line": {
          "color": "red"
         },
         "marker": {
          "size": 6
         },
         "mode": "lines+markers",
         "name": "R² | Test",
         "type": "scatter",
         "x": [
          1,
          2,
          3,
          4,
          5,
          6,
          7,
          8,
          9,
          10,
          11,
          12,
          13,
          14,
          15,
          16,
          17,
          18,
          19,
          20,
          21,
          22,
          23,
          24,
          25,
          26,
          27,
          28,
          29,
          30
         ],
         "y": [
          0.8088900685958467,
          0.8061452982601115,
          0.8045161648995784,
          0.8042432606294447,
          0.803713500803858,
          0.8038668681258128,
          0.797317983367265,
          0.7992457727124639,
          0.7961782385698372,
          0.7963271029659068,
          0.7929290010174,
          0.7986713867485483,
          0.7980055226147951,
          0.7987696822674292,
          0.7978213052948122,
          0.7980070418810672,
          0.7992709757505673,
          0.8003196238185424,
          0.8005053666979368,
          0.8001054484475921,
          0.7987979711979949,
          0.7946393019902089,
          0.7757535334269678,
          0.7724675782574699,
          0.770158058283803,
          0.7683500712538,
          0.7672130855608179,
          0.7660090649426798,
          0.7656116629725187,
          0.7644368427073089
         ]
        }
       ],
       "layout": {
        "height": 700,
        "template": {
         "data": {
          "bar": [
           {
            "error_x": {
             "color": "#2a3f5f"
            },
            "error_y": {
             "color": "#2a3f5f"
            },
            "marker": {
             "line": {
              "color": "#E5ECF6",
              "width": 0.5
             },
             "pattern": {
              "fillmode": "overlay",
              "size": 10,
              "solidity": 0.2
             }
            },
            "type": "bar"
           }
          ],
          "barpolar": [
           {
            "marker": {
             "line": {
              "color": "#E5ECF6",
              "width": 0.5
             },
             "pattern": {
              "fillmode": "overlay",
              "size": 10,
              "solidity": 0.2
             }
            },
            "type": "barpolar"
           }
          ],
          "carpet": [
           {
            "aaxis": {
             "endlinecolor": "#2a3f5f",
             "gridcolor": "white",
             "linecolor": "white",
             "minorgridcolor": "white",
             "startlinecolor": "#2a3f5f"
            },
            "baxis": {
             "endlinecolor": "#2a3f5f",
             "gridcolor": "white",
             "linecolor": "white",
             "minorgridcolor": "white",
             "startlinecolor": "#2a3f5f"
            },
            "type": "carpet"
           }
          ],
          "choropleth": [
           {
            "colorbar": {
             "outlinewidth": 0,
             "ticks": ""
            },
            "type": "choropleth"
           }
          ],
          "contour": [
           {
            "colorbar": {
             "outlinewidth": 0,
             "ticks": ""
            },
            "colorscale": [
             [
              0,
              "#0d0887"
             ],
             [
              0.1111111111111111,
              "#46039f"
             ],
             [
              0.2222222222222222,
              "#7201a8"
             ],
             [
              0.3333333333333333,
              "#9c179e"
             ],
             [
              0.4444444444444444,
              "#bd3786"
             ],
             [
              0.5555555555555556,
              "#d8576b"
             ],
             [
              0.6666666666666666,
              "#ed7953"
             ],
             [
              0.7777777777777778,
              "#fb9f3a"
             ],
             [
              0.8888888888888888,
              "#fdca26"
             ],
             [
              1,
              "#f0f921"
             ]
            ],
            "type": "contour"
           }
          ],
          "contourcarpet": [
           {
            "colorbar": {
             "outlinewidth": 0,
             "ticks": ""
            },
            "type": "contourcarpet"
           }
          ],
          "heatmap": [
           {
            "colorbar": {
             "outlinewidth": 0,
             "ticks": ""
            },
            "colorscale": [
             [
              0,
              "#0d0887"
             ],
             [
              0.1111111111111111,
              "#46039f"
             ],
             [
              0.2222222222222222,
              "#7201a8"
             ],
             [
              0.3333333333333333,
              "#9c179e"
             ],
             [
              0.4444444444444444,
              "#bd3786"
             ],
             [
              0.5555555555555556,
              "#d8576b"
             ],
             [
              0.6666666666666666,
              "#ed7953"
             ],
             [
              0.7777777777777778,
              "#fb9f3a"
             ],
             [
              0.8888888888888888,
              "#fdca26"
             ],
             [
              1,
              "#f0f921"
             ]
            ],
            "type": "heatmap"
           }
          ],
          "histogram": [
           {
            "marker": {
             "pattern": {
              "fillmode": "overlay",
              "size": 10,
              "solidity": 0.2
             }
            },
            "type": "histogram"
           }
          ],
          "histogram2d": [
           {
            "colorbar": {
             "outlinewidth": 0,
             "ticks": ""
            },
            "colorscale": [
             [
              0,
              "#0d0887"
             ],
             [
              0.1111111111111111,
              "#46039f"
             ],
             [
              0.2222222222222222,
              "#7201a8"
             ],
             [
              0.3333333333333333,
              "#9c179e"
             ],
             [
              0.4444444444444444,
              "#bd3786"
             ],
             [
              0.5555555555555556,
              "#d8576b"
             ],
             [
              0.6666666666666666,
              "#ed7953"
             ],
             [
              0.7777777777777778,
              "#fb9f3a"
             ],
             [
              0.8888888888888888,
              "#fdca26"
             ],
             [
              1,
              "#f0f921"
             ]
            ],
            "type": "histogram2d"
           }
          ],
          "histogram2dcontour": [
           {
            "colorbar": {
             "outlinewidth": 0,
             "ticks": ""
            },
            "colorscale": [
             [
              0,
              "#0d0887"
             ],
             [
              0.1111111111111111,
              "#46039f"
             ],
             [
              0.2222222222222222,
              "#7201a8"
             ],
             [
              0.3333333333333333,
              "#9c179e"
             ],
             [
              0.4444444444444444,
              "#bd3786"
             ],
             [
              0.5555555555555556,
              "#d8576b"
             ],
             [
              0.6666666666666666,
              "#ed7953"
             ],
             [
              0.7777777777777778,
              "#fb9f3a"
             ],
             [
              0.8888888888888888,
              "#fdca26"
             ],
             [
              1,
              "#f0f921"
             ]
            ],
            "type": "histogram2dcontour"
           }
          ],
          "mesh3d": [
           {
            "colorbar": {
             "outlinewidth": 0,
             "ticks": ""
            },
            "type": "mesh3d"
           }
          ],
          "parcoords": [
           {
            "line": {
             "colorbar": {
              "outlinewidth": 0,
              "ticks": ""
             }
            },
            "type": "parcoords"
           }
          ],
          "pie": [
           {
            "automargin": true,
            "type": "pie"
           }
          ],
          "scatter": [
           {
            "fillpattern": {
             "fillmode": "overlay",
             "size": 10,
             "solidity": 0.2
            },
            "type": "scatter"
           }
          ],
          "scatter3d": [
           {
            "line": {
             "colorbar": {
              "outlinewidth": 0,
              "ticks": ""
             }
            },
            "marker": {
             "colorbar": {
              "outlinewidth": 0,
              "ticks": ""
             }
            },
            "type": "scatter3d"
           }
          ],
          "scattercarpet": [
           {
            "marker": {
             "colorbar": {
              "outlinewidth": 0,
              "ticks": ""
             }
            },
            "type": "scattercarpet"
           }
          ],
          "scattergeo": [
           {
            "marker": {
             "colorbar": {
              "outlinewidth": 0,
              "ticks": ""
             }
            },
            "type": "scattergeo"
           }
          ],
          "scattergl": [
           {
            "marker": {
             "colorbar": {
              "outlinewidth": 0,
              "ticks": ""
             }
            },
            "type": "scattergl"
           }
          ],
          "scattermap": [
           {
            "marker": {
             "colorbar": {
              "outlinewidth": 0,
              "ticks": ""
             }
            },
            "type": "scattermap"
           }
          ],
          "scattermapbox": [
           {
            "marker": {
             "colorbar": {
              "outlinewidth": 0,
              "ticks": ""
             }
            },
            "type": "scattermapbox"
           }
          ],
          "scatterpolar": [
           {
            "marker": {
             "colorbar": {
              "outlinewidth": 0,
              "ticks": ""
             }
            },
            "type": "scatterpolar"
           }
          ],
          "scatterpolargl": [
           {
            "marker": {
             "colorbar": {
              "outlinewidth": 0,
              "ticks": ""
             }
            },
            "type": "scatterpolargl"
           }
          ],
          "scatterternary": [
           {
            "marker": {
             "colorbar": {
              "outlinewidth": 0,
              "ticks": ""
             }
            },
            "type": "scatterternary"
           }
          ],
          "surface": [
           {
            "colorbar": {
             "outlinewidth": 0,
             "ticks": ""
            },
            "colorscale": [
             [
              0,
              "#0d0887"
             ],
             [
              0.1111111111111111,
              "#46039f"
             ],
             [
              0.2222222222222222,
              "#7201a8"
             ],
             [
              0.3333333333333333,
              "#9c179e"
             ],
             [
              0.4444444444444444,
              "#bd3786"
             ],
             [
              0.5555555555555556,
              "#d8576b"
             ],
             [
              0.6666666666666666,
              "#ed7953"
             ],
             [
              0.7777777777777778,
              "#fb9f3a"
             ],
             [
              0.8888888888888888,
              "#fdca26"
             ],
             [
              1,
              "#f0f921"
             ]
            ],
            "type": "surface"
           }
          ],
          "table": [
           {
            "cells": {
             "fill": {
              "color": "#EBF0F8"
             },
             "line": {
              "color": "white"
             }
            },
            "header": {
             "fill": {
              "color": "#C8D4E3"
             },
             "line": {
              "color": "white"
             }
            },
            "type": "table"
           }
          ]
         },
         "layout": {
          "annotationdefaults": {
           "arrowcolor": "#2a3f5f",
           "arrowhead": 0,
           "arrowwidth": 1
          },
          "autotypenumbers": "strict",
          "coloraxis": {
           "colorbar": {
            "outlinewidth": 0,
            "ticks": ""
           }
          },
          "colorscale": {
           "diverging": [
            [
             0,
             "#8e0152"
            ],
            [
             0.1,
             "#c51b7d"
            ],
            [
             0.2,
             "#de77ae"
            ],
            [
             0.3,
             "#f1b6da"
            ],
            [
             0.4,
             "#fde0ef"
            ],
            [
             0.5,
             "#f7f7f7"
            ],
            [
             0.6,
             "#e6f5d0"
            ],
            [
             0.7,
             "#b8e186"
            ],
            [
             0.8,
             "#7fbc41"
            ],
            [
             0.9,
             "#4d9221"
            ],
            [
             1,
             "#276419"
            ]
           ],
           "sequential": [
            [
             0,
             "#0d0887"
            ],
            [
             0.1111111111111111,
             "#46039f"
            ],
            [
             0.2222222222222222,
             "#7201a8"
            ],
            [
             0.3333333333333333,
             "#9c179e"
            ],
            [
             0.4444444444444444,
             "#bd3786"
            ],
            [
             0.5555555555555556,
             "#d8576b"
            ],
            [
             0.6666666666666666,
             "#ed7953"
            ],
            [
             0.7777777777777778,
             "#fb9f3a"
            ],
            [
             0.8888888888888888,
             "#fdca26"
            ],
            [
             1,
             "#f0f921"
            ]
           ],
           "sequentialminus": [
            [
             0,
             "#0d0887"
            ],
            [
             0.1111111111111111,
             "#46039f"
            ],
            [
             0.2222222222222222,
             "#7201a8"
            ],
            [
             0.3333333333333333,
             "#9c179e"
            ],
            [
             0.4444444444444444,
             "#bd3786"
            ],
            [
             0.5555555555555556,
             "#d8576b"
            ],
            [
             0.6666666666666666,
             "#ed7953"
            ],
            [
             0.7777777777777778,
             "#fb9f3a"
            ],
            [
             0.8888888888888888,
             "#fdca26"
            ],
            [
             1,
             "#f0f921"
            ]
           ]
          },
          "colorway": [
           "#636efa",
           "#EF553B",
           "#00cc96",
           "#ab63fa",
           "#FFA15A",
           "#19d3f3",
           "#FF6692",
           "#B6E880",
           "#FF97FF",
           "#FECB52"
          ],
          "font": {
           "color": "#2a3f5f"
          },
          "geo": {
           "bgcolor": "white",
           "lakecolor": "white",
           "landcolor": "#E5ECF6",
           "showlakes": true,
           "showland": true,
           "subunitcolor": "white"
          },
          "hoverlabel": {
           "align": "left"
          },
          "hovermode": "closest",
          "mapbox": {
           "style": "light"
          },
          "paper_bgcolor": "white",
          "plot_bgcolor": "#E5ECF6",
          "polar": {
           "angularaxis": {
            "gridcolor": "white",
            "linecolor": "white",
            "ticks": ""
           },
           "bgcolor": "#E5ECF6",
           "radialaxis": {
            "gridcolor": "white",
            "linecolor": "white",
            "ticks": ""
           }
          },
          "scene": {
           "xaxis": {
            "backgroundcolor": "#E5ECF6",
            "gridcolor": "white",
            "gridwidth": 2,
            "linecolor": "white",
            "showbackground": true,
            "ticks": "",
            "zerolinecolor": "white"
           },
           "yaxis": {
            "backgroundcolor": "#E5ECF6",
            "gridcolor": "white",
            "gridwidth": 2,
            "linecolor": "white",
            "showbackground": true,
            "ticks": "",
            "zerolinecolor": "white"
           },
           "zaxis": {
            "backgroundcolor": "#E5ECF6",
            "gridcolor": "white",
            "gridwidth": 2,
            "linecolor": "white",
            "showbackground": true,
            "ticks": "",
            "zerolinecolor": "white"
           }
          },
          "shapedefaults": {
           "line": {
            "color": "#2a3f5f"
           }
          },
          "ternary": {
           "aaxis": {
            "gridcolor": "white",
            "linecolor": "white",
            "ticks": ""
           },
           "baxis": {
            "gridcolor": "white",
            "linecolor": "white",
            "ticks": ""
           },
           "bgcolor": "#E5ECF6",
           "caxis": {
            "gridcolor": "white",
            "linecolor": "white",
            "ticks": ""
           }
          },
          "title": {
           "x": 0.05
          },
          "xaxis": {
           "automargin": true,
           "gridcolor": "white",
           "linecolor": "white",
           "ticks": "",
           "title": {
            "standoff": 15
           },
           "zerolinecolor": "white",
           "zerolinewidth": 2
          },
          "yaxis": {
           "automargin": true,
           "gridcolor": "white",
           "linecolor": "white",
           "ticks": "",
           "title": {
            "standoff": 15
           },
           "zerolinecolor": "white",
           "zerolinewidth": 2
          }
         }
        },
        "title": {
         "text": "Влияние шумовых фичей на R²"
        },
        "width": 1500,
        "xaxis": {
         "title": {
          "text": "Количество шумовых фичей"
         }
        },
        "yaxis": {
         "title": {
          "text": "R²"
         }
        }
       }
      }
     },
     "metadata": {},
     "output_type": "display_data"
    }
   ],
   "source": [
    "import plotly.graph_objects as go\n",
    "\n",
    "features_count = list(range(1, NOISY_FEATURES_COUNT + 1))\n",
    "\n",
    "fig = go.Figure()\n",
    "\n",
    "fig.add_trace(go.Scatter(\n",
    "    x=features_count, \n",
    "    y=scores_train, \n",
    "    mode='lines+markers', \n",
    "    name='R² | Train',\n",
    "    line=dict(color='blue'),\n",
    "    marker=dict(size=6)\n",
    "))\n",
    "\n",
    "\n",
    "fig.add_trace(go.Scatter(\n",
    "    x=features_count, \n",
    "    y=scores_test, \n",
    "    mode='lines+markers', \n",
    "    name='R² | Test',\n",
    "    line=dict(color='red'),\n",
    "    marker=dict(size=6)\n",
    "))\n",
    "\n",
    "fig.update_layout(\n",
    "    height=700, width=1500,\n",
    "    title=\"Влияние шумовых фичей на R²\",\n",
    "    xaxis_title=\"Количество шумовых фичей\",\n",
    "    yaxis_title=\"R²\",\n",
    ")\n",
    "\n",
    "fig.show()"
   ]
  },
  {
   "cell_type": "markdown",
   "id": "d8759945",
   "metadata": {},
   "source": [
    "Что и требовалоьс доказать <смеющийся смайл>. Давай разберемся почему так происходит! Для начала необходимо взглянуть на формулу $R2$\n",
    "\n",
    "$$\n",
    "R^2 = 1 - \\frac{SSE}{SST} = 1 - \\frac{\\sum_{i=1}^{n} (y_i - \\hat{y}_i)^2}{\\sum_{i=1}^{n} (y_i - \\bar{y})^2}\n",
    "$$\n",
    "\n",
    "На формуле хорошо заметно, что $SST$ зависит только от данных, а значит будет фиксирован. Выходит, что $R2$ будет только зависеть от $SSE$ - чем меньше, тем лучше! При добавлении новых фичей модель становится более гибкой - пространство допустимых решений (гиперплоскостей регрессии) расширяется - значит новая модель может минимум не хуже, чем старая, аппроксимировать данные. Следовательно, ошибка на обучающей выборке либо уменьшится, либо останется прежней:\n",
    "\n",
    "$$\n",
    "SSE_{\\text{new}} \\leq SSE_{\\text{old}}\n",
    "$$\n",
    "\n",
    "Вот именно поэтому добавление новых признаков, даже неинформативынх, приводит к росту $R2$, так как модель начинает учить шум и переобучаться на обучающую выборку. Привер выше наглядо демонстрирует данную проблему - я добавил 30 шумовых признаков, которые +/- симметрично увеличили качество на _train_ и снизили на _test_ на 5%. К счастью, данная проблема решается за счет использования скорректированного $R2$"
   ]
  },
  {
   "cell_type": "markdown",
   "id": "dc6968d1",
   "metadata": {},
   "source": [
    "## Почему R2 так называется?\n",
    "Не знаю как ты, а вот я при первой встрече с этой мерикой задумался почему она называется \"р-квадрат\"? Что такое \"Р\" и почему в квадрате? Оказывается, что это идет из статистики и связано с корреляцией Пирсона. Смотри, корреляция обычно высчитывается вот по такой формуле:\n",
    "\n",
    "$$\n",
    "r = \\frac{\\text{Cov}(X, Y)}{\\sigma_X \\, \\sigma_Y}\n",
    "$$\n",
    "\n",
    "При построении модели линейной регресии возникает вопрос: \"Как хорошо предсказанные значения $\\hat{y}$ коррелируют с фактическими $y$?\". Оказывается, что если возвести корреляцию в квадрат, то как раз получим метрику, которая позволяет объяснить дисперсию $y$ через $\\hat{y}$\n",
    "\n",
    "$$\n",
    "R^2 = r^2(y, \\hat{y})\n",
    "$$ \n",
    "\n",
    "Поэтому метрика получила название «$R^2$» — квадрат коэффициента множественной корреляции. "
   ]
  },
  {
   "cell_type": "markdown",
   "id": "7c03a7fa",
   "metadata": {},
   "source": [
    "## Скорректированный коэффициент детерменации $R2$\n",
    "Аналогичен $R2$, за тем исключением, что метрика учитывает колечество используемых признаков в модели:\n",
    "\n",
    "$$\n",
    "R_{\\text{adj}}^2 = 1 - \\frac{n-1}{n-p-1} \\, (1 - R^2)\n",
    "$$\n",
    "\n",
    "- $R^2$ — обычный коэффициент детерминации\n",
    "- $n$ — количество наблюдений\n",
    "- $p$ — число признаков/фич в модели\n",
    "\n",
    "Идея проста -  метрика «штрафует» модель за каждый используемый признак, поэтому если признак действительно полезный, то его вклад будет больше чем штраф за его добавление. "
   ]
  },
  {
   "cell_type": "code",
   "execution_count": 22,
   "id": "5c6bcfa2",
   "metadata": {},
   "outputs": [
    {
     "name": "stdout",
     "output_type": "stream",
     "text": [
      "Коэффициент детерминации R2 | Test: 0.8101\n",
      "Коэффициент детерминации R2-скорректированный | Test: 0.7968\n"
     ]
    }
   ],
   "source": [
    "# метрику можно легко закодить\n",
    "def r2_score_adj(y_true, y_pred, n, p):\n",
    "    r2 = r2_score(y_true, y_pred)\n",
    "    return 1 - (1 - r2) * (n - 1) / (n - p - 1) if n - p - 1 > 0 else 0\n",
    "\n",
    "# теперь сравнив R2 и R2-скорректированный\n",
    "r2_score_test = r2_score(\n",
    "    y_true=metrics_results['true'],\n",
    "    y_pred=metrics_results['pred']\n",
    ")\n",
    "\n",
    "r2_score_adj_test = r2_score_adj(\n",
    "    y_true=metrics_results['true'],\n",
    "    y_pred=metrics_results['pred'],\n",
    "    n=len(metrics_results),\n",
    "    p=model.coef_.shape[0]\n",
    ")\n",
    "\n",
    "print(f'Коэффициент детерминации R2 | Test: {r2_score_test:.4f}' )\n",
    "print(f'Коэффициент детерминации R2-скорректированный | Test: {r2_score_adj_test:.4f}')"
   ]
  },
  {
   "cell_type": "markdown",
   "id": "cf81c200",
   "metadata": {},
   "source": [
    "$R^2_{adj}$ на _test_ теперь выглядит менее оптимистичнее, что мы и ожидали. Теперь давай проведем аналогичный эксперимент с шумовыми фичами и посмотрим какие результаты мы получим"
   ]
  },
  {
   "cell_type": "code",
   "execution_count": 23,
   "id": "66735ce7",
   "metadata": {},
   "outputs": [],
   "source": [
    "NOISY_FEATURES_COUNT = 30\n",
    "np.random.seed(SEED)\n",
    "\n",
    "X_train_aug = X_train_scaled.copy()\n",
    "X_test_aug = X_test_scaled.copy()\n",
    "\n",
    "scores_train_adj = []\n",
    "scores_test_adj = []\n",
    "\n",
    "for i in range(NOISY_FEATURES_COUNT):\n",
    "    noise_train = np.random.randn(X_train.shape[0], 1)\n",
    "    noise_test = np.random.randn(X_test.shape[0], 1)\n",
    "    \n",
    "    X_train_aug = np.hstack([X_train_aug, noise_train])\n",
    "    X_test_aug = np.hstack([X_test_aug, noise_test])\n",
    "    \n",
    "    _model = LinearRegression()\n",
    "    _model.fit(X_train_aug, y_train)\n",
    "\n",
    "    y_pred_train = _model.predict(X_train_aug)\n",
    "    y_pred_test = _model.predict(X_test_aug)\n",
    "\n",
    "    r2_adj_train = r2_score_adj(\n",
    "        y_true=y_train, y_pred=y_pred_train, n=len(y_train), p=_model.coef_.shape[0]\n",
    "    )\n",
    "\n",
    "    r2_adj_test = r2_score_adj(\n",
    "        y_true=y_test, y_pred=y_pred_test, n=len(y_test), p=_model.coef_.shape[0]\n",
    "    )\n",
    "\n",
    "    scores_train_adj.append(r2_adj_train)\n",
    "    scores_test_adj.append(r2_adj_test)"
   ]
  },
  {
   "cell_type": "code",
   "execution_count": 24,
   "id": "aa728a02",
   "metadata": {},
   "outputs": [
    {
     "data": {
      "application/vnd.plotly.v1+json": {
       "config": {
        "plotlyServerURL": "https://plot.ly"
       },
       "data": [
        {
         "line": {
          "color": "blue"
         },
         "marker": {
          "size": 6
         },
         "mode": "lines+markers",
         "name": "​R² adj | Train",
         "type": "scatter",
         "x": [
          1,
          2,
          3,
          4,
          5,
          6,
          7,
          8,
          9,
          10,
          11,
          12,
          13,
          14,
          15,
          16,
          17,
          18,
          19,
          20,
          21,
          22,
          23,
          24,
          25,
          26,
          27,
          28,
          29,
          30
         ],
         "y": [
          0.7898029156334785,
          0.7885044229500756,
          0.7877929673306637,
          0.7863158438484452,
          0.7851484648016869,
          0.7835253087475511,
          0.7858328090605146,
          0.7863889124761339,
          0.785680051593159,
          0.7843392009212058,
          0.7852166507834611,
          0.7865405980233059,
          0.7857168135517267,
          0.7843479417752832,
          0.7827057677281829,
          0.7809559539939699,
          0.784079064493518,
          0.7823514818343567,
          0.7805423570458605,
          0.7788248144998668,
          0.7782947782407493,
          0.7849253492505134,
          0.7921920470042917,
          0.7911810748545801,
          0.7902365240528302,
          0.7910698880711791,
          0.7894005105132997,
          0.7878073312782915,
          0.7858870408898652,
          0.7840939169611263
         ]
        },
        {
         "line": {
          "color": "red"
         },
         "marker": {
          "size": 6
         },
         "mode": "lines+markers",
         "name": "R² adj | Test",
         "type": "scatter",
         "x": [
          1,
          2,
          3,
          4,
          5,
          6,
          7,
          8,
          9,
          10,
          11,
          12,
          13,
          14,
          15,
          16,
          17,
          18,
          19,
          20,
          21,
          22,
          23,
          24,
          25,
          26,
          27,
          28,
          29,
          30
         ],
         "y": [
          0.791826681863333,
          0.78499751261576,
          0.7791756677569313,
          0.774695073554644,
          0.7697408374814487,
          0.7654093912877369,
          0.7527279397080633,
          0.750081472152251,
          0.7409765115158347,
          0.735658580445113,
          0.725405849175248,
          0.7270878798146988,
          0.719962201806875,
          0.7145337353096088,
          0.7063595148329416,
          0.6994738915791487,
          0.6938882380196151,
          0.6876794116136176,
          0.6797586149624775,
          0.6704441177108951,
          0.6590743400854914,
          0.642085640611507,
          0.5976754570307364,
          0.5794097658698687,
          0.5618637986034996,
          0.5441727208542515,
          0.5266666073069964,
          0.5078121710863266,
          0.48936826576155856,
          0.46780175574614247
         ]
        }
       ],
       "layout": {
        "height": 700,
        "template": {
         "data": {
          "bar": [
           {
            "error_x": {
             "color": "#2a3f5f"
            },
            "error_y": {
             "color": "#2a3f5f"
            },
            "marker": {
             "line": {
              "color": "#E5ECF6",
              "width": 0.5
             },
             "pattern": {
              "fillmode": "overlay",
              "size": 10,
              "solidity": 0.2
             }
            },
            "type": "bar"
           }
          ],
          "barpolar": [
           {
            "marker": {
             "line": {
              "color": "#E5ECF6",
              "width": 0.5
             },
             "pattern": {
              "fillmode": "overlay",
              "size": 10,
              "solidity": 0.2
             }
            },
            "type": "barpolar"
           }
          ],
          "carpet": [
           {
            "aaxis": {
             "endlinecolor": "#2a3f5f",
             "gridcolor": "white",
             "linecolor": "white",
             "minorgridcolor": "white",
             "startlinecolor": "#2a3f5f"
            },
            "baxis": {
             "endlinecolor": "#2a3f5f",
             "gridcolor": "white",
             "linecolor": "white",
             "minorgridcolor": "white",
             "startlinecolor": "#2a3f5f"
            },
            "type": "carpet"
           }
          ],
          "choropleth": [
           {
            "colorbar": {
             "outlinewidth": 0,
             "ticks": ""
            },
            "type": "choropleth"
           }
          ],
          "contour": [
           {
            "colorbar": {
             "outlinewidth": 0,
             "ticks": ""
            },
            "colorscale": [
             [
              0,
              "#0d0887"
             ],
             [
              0.1111111111111111,
              "#46039f"
             ],
             [
              0.2222222222222222,
              "#7201a8"
             ],
             [
              0.3333333333333333,
              "#9c179e"
             ],
             [
              0.4444444444444444,
              "#bd3786"
             ],
             [
              0.5555555555555556,
              "#d8576b"
             ],
             [
              0.6666666666666666,
              "#ed7953"
             ],
             [
              0.7777777777777778,
              "#fb9f3a"
             ],
             [
              0.8888888888888888,
              "#fdca26"
             ],
             [
              1,
              "#f0f921"
             ]
            ],
            "type": "contour"
           }
          ],
          "contourcarpet": [
           {
            "colorbar": {
             "outlinewidth": 0,
             "ticks": ""
            },
            "type": "contourcarpet"
           }
          ],
          "heatmap": [
           {
            "colorbar": {
             "outlinewidth": 0,
             "ticks": ""
            },
            "colorscale": [
             [
              0,
              "#0d0887"
             ],
             [
              0.1111111111111111,
              "#46039f"
             ],
             [
              0.2222222222222222,
              "#7201a8"
             ],
             [
              0.3333333333333333,
              "#9c179e"
             ],
             [
              0.4444444444444444,
              "#bd3786"
             ],
             [
              0.5555555555555556,
              "#d8576b"
             ],
             [
              0.6666666666666666,
              "#ed7953"
             ],
             [
              0.7777777777777778,
              "#fb9f3a"
             ],
             [
              0.8888888888888888,
              "#fdca26"
             ],
             [
              1,
              "#f0f921"
             ]
            ],
            "type": "heatmap"
           }
          ],
          "histogram": [
           {
            "marker": {
             "pattern": {
              "fillmode": "overlay",
              "size": 10,
              "solidity": 0.2
             }
            },
            "type": "histogram"
           }
          ],
          "histogram2d": [
           {
            "colorbar": {
             "outlinewidth": 0,
             "ticks": ""
            },
            "colorscale": [
             [
              0,
              "#0d0887"
             ],
             [
              0.1111111111111111,
              "#46039f"
             ],
             [
              0.2222222222222222,
              "#7201a8"
             ],
             [
              0.3333333333333333,
              "#9c179e"
             ],
             [
              0.4444444444444444,
              "#bd3786"
             ],
             [
              0.5555555555555556,
              "#d8576b"
             ],
             [
              0.6666666666666666,
              "#ed7953"
             ],
             [
              0.7777777777777778,
              "#fb9f3a"
             ],
             [
              0.8888888888888888,
              "#fdca26"
             ],
             [
              1,
              "#f0f921"
             ]
            ],
            "type": "histogram2d"
           }
          ],
          "histogram2dcontour": [
           {
            "colorbar": {
             "outlinewidth": 0,
             "ticks": ""
            },
            "colorscale": [
             [
              0,
              "#0d0887"
             ],
             [
              0.1111111111111111,
              "#46039f"
             ],
             [
              0.2222222222222222,
              "#7201a8"
             ],
             [
              0.3333333333333333,
              "#9c179e"
             ],
             [
              0.4444444444444444,
              "#bd3786"
             ],
             [
              0.5555555555555556,
              "#d8576b"
             ],
             [
              0.6666666666666666,
              "#ed7953"
             ],
             [
              0.7777777777777778,
              "#fb9f3a"
             ],
             [
              0.8888888888888888,
              "#fdca26"
             ],
             [
              1,
              "#f0f921"
             ]
            ],
            "type": "histogram2dcontour"
           }
          ],
          "mesh3d": [
           {
            "colorbar": {
             "outlinewidth": 0,
             "ticks": ""
            },
            "type": "mesh3d"
           }
          ],
          "parcoords": [
           {
            "line": {
             "colorbar": {
              "outlinewidth": 0,
              "ticks": ""
             }
            },
            "type": "parcoords"
           }
          ],
          "pie": [
           {
            "automargin": true,
            "type": "pie"
           }
          ],
          "scatter": [
           {
            "fillpattern": {
             "fillmode": "overlay",
             "size": 10,
             "solidity": 0.2
            },
            "type": "scatter"
           }
          ],
          "scatter3d": [
           {
            "line": {
             "colorbar": {
              "outlinewidth": 0,
              "ticks": ""
             }
            },
            "marker": {
             "colorbar": {
              "outlinewidth": 0,
              "ticks": ""
             }
            },
            "type": "scatter3d"
           }
          ],
          "scattercarpet": [
           {
            "marker": {
             "colorbar": {
              "outlinewidth": 0,
              "ticks": ""
             }
            },
            "type": "scattercarpet"
           }
          ],
          "scattergeo": [
           {
            "marker": {
             "colorbar": {
              "outlinewidth": 0,
              "ticks": ""
             }
            },
            "type": "scattergeo"
           }
          ],
          "scattergl": [
           {
            "marker": {
             "colorbar": {
              "outlinewidth": 0,
              "ticks": ""
             }
            },
            "type": "scattergl"
           }
          ],
          "scattermap": [
           {
            "marker": {
             "colorbar": {
              "outlinewidth": 0,
              "ticks": ""
             }
            },
            "type": "scattermap"
           }
          ],
          "scattermapbox": [
           {
            "marker": {
             "colorbar": {
              "outlinewidth": 0,
              "ticks": ""
             }
            },
            "type": "scattermapbox"
           }
          ],
          "scatterpolar": [
           {
            "marker": {
             "colorbar": {
              "outlinewidth": 0,
              "ticks": ""
             }
            },
            "type": "scatterpolar"
           }
          ],
          "scatterpolargl": [
           {
            "marker": {
             "colorbar": {
              "outlinewidth": 0,
              "ticks": ""
             }
            },
            "type": "scatterpolargl"
           }
          ],
          "scatterternary": [
           {
            "marker": {
             "colorbar": {
              "outlinewidth": 0,
              "ticks": ""
             }
            },
            "type": "scatterternary"
           }
          ],
          "surface": [
           {
            "colorbar": {
             "outlinewidth": 0,
             "ticks": ""
            },
            "colorscale": [
             [
              0,
              "#0d0887"
             ],
             [
              0.1111111111111111,
              "#46039f"
             ],
             [
              0.2222222222222222,
              "#7201a8"
             ],
             [
              0.3333333333333333,
              "#9c179e"
             ],
             [
              0.4444444444444444,
              "#bd3786"
             ],
             [
              0.5555555555555556,
              "#d8576b"
             ],
             [
              0.6666666666666666,
              "#ed7953"
             ],
             [
              0.7777777777777778,
              "#fb9f3a"
             ],
             [
              0.8888888888888888,
              "#fdca26"
             ],
             [
              1,
              "#f0f921"
             ]
            ],
            "type": "surface"
           }
          ],
          "table": [
           {
            "cells": {
             "fill": {
              "color": "#EBF0F8"
             },
             "line": {
              "color": "white"
             }
            },
            "header": {
             "fill": {
              "color": "#C8D4E3"
             },
             "line": {
              "color": "white"
             }
            },
            "type": "table"
           }
          ]
         },
         "layout": {
          "annotationdefaults": {
           "arrowcolor": "#2a3f5f",
           "arrowhead": 0,
           "arrowwidth": 1
          },
          "autotypenumbers": "strict",
          "coloraxis": {
           "colorbar": {
            "outlinewidth": 0,
            "ticks": ""
           }
          },
          "colorscale": {
           "diverging": [
            [
             0,
             "#8e0152"
            ],
            [
             0.1,
             "#c51b7d"
            ],
            [
             0.2,
             "#de77ae"
            ],
            [
             0.3,
             "#f1b6da"
            ],
            [
             0.4,
             "#fde0ef"
            ],
            [
             0.5,
             "#f7f7f7"
            ],
            [
             0.6,
             "#e6f5d0"
            ],
            [
             0.7,
             "#b8e186"
            ],
            [
             0.8,
             "#7fbc41"
            ],
            [
             0.9,
             "#4d9221"
            ],
            [
             1,
             "#276419"
            ]
           ],
           "sequential": [
            [
             0,
             "#0d0887"
            ],
            [
             0.1111111111111111,
             "#46039f"
            ],
            [
             0.2222222222222222,
             "#7201a8"
            ],
            [
             0.3333333333333333,
             "#9c179e"
            ],
            [
             0.4444444444444444,
             "#bd3786"
            ],
            [
             0.5555555555555556,
             "#d8576b"
            ],
            [
             0.6666666666666666,
             "#ed7953"
            ],
            [
             0.7777777777777778,
             "#fb9f3a"
            ],
            [
             0.8888888888888888,
             "#fdca26"
            ],
            [
             1,
             "#f0f921"
            ]
           ],
           "sequentialminus": [
            [
             0,
             "#0d0887"
            ],
            [
             0.1111111111111111,
             "#46039f"
            ],
            [
             0.2222222222222222,
             "#7201a8"
            ],
            [
             0.3333333333333333,
             "#9c179e"
            ],
            [
             0.4444444444444444,
             "#bd3786"
            ],
            [
             0.5555555555555556,
             "#d8576b"
            ],
            [
             0.6666666666666666,
             "#ed7953"
            ],
            [
             0.7777777777777778,
             "#fb9f3a"
            ],
            [
             0.8888888888888888,
             "#fdca26"
            ],
            [
             1,
             "#f0f921"
            ]
           ]
          },
          "colorway": [
           "#636efa",
           "#EF553B",
           "#00cc96",
           "#ab63fa",
           "#FFA15A",
           "#19d3f3",
           "#FF6692",
           "#B6E880",
           "#FF97FF",
           "#FECB52"
          ],
          "font": {
           "color": "#2a3f5f"
          },
          "geo": {
           "bgcolor": "white",
           "lakecolor": "white",
           "landcolor": "#E5ECF6",
           "showlakes": true,
           "showland": true,
           "subunitcolor": "white"
          },
          "hoverlabel": {
           "align": "left"
          },
          "hovermode": "closest",
          "mapbox": {
           "style": "light"
          },
          "paper_bgcolor": "white",
          "plot_bgcolor": "#E5ECF6",
          "polar": {
           "angularaxis": {
            "gridcolor": "white",
            "linecolor": "white",
            "ticks": ""
           },
           "bgcolor": "#E5ECF6",
           "radialaxis": {
            "gridcolor": "white",
            "linecolor": "white",
            "ticks": ""
           }
          },
          "scene": {
           "xaxis": {
            "backgroundcolor": "#E5ECF6",
            "gridcolor": "white",
            "gridwidth": 2,
            "linecolor": "white",
            "showbackground": true,
            "ticks": "",
            "zerolinecolor": "white"
           },
           "yaxis": {
            "backgroundcolor": "#E5ECF6",
            "gridcolor": "white",
            "gridwidth": 2,
            "linecolor": "white",
            "showbackground": true,
            "ticks": "",
            "zerolinecolor": "white"
           },
           "zaxis": {
            "backgroundcolor": "#E5ECF6",
            "gridcolor": "white",
            "gridwidth": 2,
            "linecolor": "white",
            "showbackground": true,
            "ticks": "",
            "zerolinecolor": "white"
           }
          },
          "shapedefaults": {
           "line": {
            "color": "#2a3f5f"
           }
          },
          "ternary": {
           "aaxis": {
            "gridcolor": "white",
            "linecolor": "white",
            "ticks": ""
           },
           "baxis": {
            "gridcolor": "white",
            "linecolor": "white",
            "ticks": ""
           },
           "bgcolor": "#E5ECF6",
           "caxis": {
            "gridcolor": "white",
            "linecolor": "white",
            "ticks": ""
           }
          },
          "title": {
           "x": 0.05
          },
          "xaxis": {
           "automargin": true,
           "gridcolor": "white",
           "linecolor": "white",
           "ticks": "",
           "title": {
            "standoff": 15
           },
           "zerolinecolor": "white",
           "zerolinewidth": 2
          },
          "yaxis": {
           "automargin": true,
           "gridcolor": "white",
           "linecolor": "white",
           "ticks": "",
           "title": {
            "standoff": 15
           },
           "zerolinecolor": "white",
           "zerolinewidth": 2
          }
         }
        },
        "title": {
         "text": "Влияние шумовых фичей на скорректированный R²"
        },
        "width": 1500,
        "xaxis": {
         "title": {
          "text": "Количество шумовых фичей"
         }
        },
        "yaxis": {
         "title": {
          "text": "R² скорректированный"
         }
        }
       }
      }
     },
     "metadata": {},
     "output_type": "display_data"
    }
   ],
   "source": [
    "features_count = list(range(1, NOISY_FEATURES_COUNT + 1))\n",
    "\n",
    "fig = go.Figure()\n",
    "\n",
    "fig.add_trace(go.Scatter(\n",
    "    x=features_count, \n",
    "    y=scores_train_adj, \n",
    "    mode='lines+markers', \n",
    "    name='​R² adj | Train',\n",
    "    line=dict(color='blue'),\n",
    "    marker=dict(size=6)\n",
    "))\n",
    "\n",
    "\n",
    "fig.add_trace(go.Scatter(\n",
    "    x=features_count, \n",
    "    y=scores_test_adj, \n",
    "    mode='lines+markers', \n",
    "    name='R² adj | Test',\n",
    "    line=dict(color='red'),\n",
    "    marker=dict(size=6)\n",
    "))\n",
    "\n",
    "fig.update_layout(\n",
    "    height=700, width=1500,\n",
    "    title=\"Влияние шумовых фичей на скорректированный R²\",\n",
    "    xaxis_title=\"Количество шумовых фичей\",\n",
    "    yaxis_title=\"R² скорректированный\",\n",
    ")\n",
    "\n",
    "fig.show()"
   ]
  },
  {
   "cell_type": "markdown",
   "id": "b0bc7851",
   "metadata": {},
   "source": [
    "Использование скорректированного $R2$ сильнее отражает эффект переобучения, особенно на тестовой выборке! Теперь давай финально сравним ​$R^2$ vs ​$R^2_{adj}$ на _train_ и _test_ на 1 графике"
   ]
  },
  {
   "cell_type": "code",
   "execution_count": 25,
   "id": "14a85c97",
   "metadata": {},
   "outputs": [
    {
     "data": {
      "application/vnd.plotly.v1+json": {
       "config": {
        "plotlyServerURL": "https://plot.ly"
       },
       "data": [
        {
         "marker": {
          "size": 6
         },
         "mode": "lines+markers",
         "name": "​R² | Train",
         "type": "scatter",
         "x": [
          1,
          2,
          3,
          4,
          5,
          6,
          7,
          8,
          9,
          10,
          11,
          12,
          13,
          14,
          15,
          16,
          17,
          18,
          19,
          20,
          21,
          22,
          23,
          24,
          25,
          26,
          27,
          28,
          29,
          30
         ],
         "y": [
          0.7972042214210321,
          0.797440855783171,
          0.7982538773918282,
          0.7983543878569835,
          0.7987658156241152,
          0.7987700053146249,
          0.8024232252600522,
          0.8044405536753338,
          0.8053008919402642,
          0.8056015332247489,
          0.8079050327429547,
          0.8105923616263137,
          0.8113704344645482,
          0.8116841181699657,
          0.8117803481025809,
          0.8118072280793263,
          0.8160110338289837,
          0.8160716747895972,
          0.8160883132989958,
          0.8162065359928471,
          0.8173273877054061,
          0.8243052148807011,
          0.8317048267992503,
          0.8323566375593108,
          0.8330755437885198,
          0.8352100525631835,
          0.8353764554012414,
          0.835625397469099,
          0.8356456863168683,
          0.8357897396605749
         ]
        },
        {
         "marker": {
          "size": 6
         },
         "mode": "lines+markers",
         "name": "R² adj | Train",
         "type": "scatter",
         "x": [
          1,
          2,
          3,
          4,
          5,
          6,
          7,
          8,
          9,
          10,
          11,
          12,
          13,
          14,
          15,
          16,
          17,
          18,
          19,
          20,
          21,
          22,
          23,
          24,
          25,
          26,
          27,
          28,
          29,
          30
         ],
         "y": [
          0.7898029156334785,
          0.7885044229500756,
          0.7877929673306637,
          0.7863158438484452,
          0.7851484648016869,
          0.7835253087475511,
          0.7858328090605146,
          0.7863889124761339,
          0.785680051593159,
          0.7843392009212058,
          0.7852166507834611,
          0.7865405980233059,
          0.7857168135517267,
          0.7843479417752832,
          0.7827057677281829,
          0.7809559539939699,
          0.784079064493518,
          0.7823514818343567,
          0.7805423570458605,
          0.7788248144998668,
          0.7782947782407493,
          0.7849253492505134,
          0.7921920470042917,
          0.7911810748545801,
          0.7902365240528302,
          0.7910698880711791,
          0.7894005105132997,
          0.7878073312782915,
          0.7858870408898652,
          0.7840939169611263
         ]
        },
        {
         "marker": {
          "size": 6
         },
         "mode": "lines+markers",
         "name": "R² | Test",
         "type": "scatter",
         "x": [
          1,
          2,
          3,
          4,
          5,
          6,
          7,
          8,
          9,
          10,
          11,
          12,
          13,
          14,
          15,
          16,
          17,
          18,
          19,
          20,
          21,
          22,
          23,
          24,
          25,
          26,
          27,
          28,
          29,
          30
         ],
         "y": [
          0.8088900685958467,
          0.8061452982601115,
          0.8045161648995784,
          0.8042432606294447,
          0.803713500803858,
          0.8038668681258128,
          0.797317983367265,
          0.7992457727124639,
          0.7961782385698372,
          0.7963271029659068,
          0.7929290010174,
          0.7986713867485483,
          0.7980055226147951,
          0.7987696822674292,
          0.7978213052948122,
          0.7980070418810672,
          0.7992709757505673,
          0.8003196238185424,
          0.8005053666979368,
          0.8001054484475921,
          0.7987979711979949,
          0.7946393019902089,
          0.7757535334269678,
          0.7724675782574699,
          0.770158058283803,
          0.7683500712538,
          0.7672130855608179,
          0.7660090649426798,
          0.7656116629725187,
          0.7644368427073089
         ]
        },
        {
         "marker": {
          "size": 6
         },
         "mode": "lines+markers",
         "name": "R² adj | Test",
         "type": "scatter",
         "x": [
          1,
          2,
          3,
          4,
          5,
          6,
          7,
          8,
          9,
          10,
          11,
          12,
          13,
          14,
          15,
          16,
          17,
          18,
          19,
          20,
          21,
          22,
          23,
          24,
          25,
          26,
          27,
          28,
          29,
          30
         ],
         "y": [
          0.791826681863333,
          0.78499751261576,
          0.7791756677569313,
          0.774695073554644,
          0.7697408374814487,
          0.7654093912877369,
          0.7527279397080633,
          0.750081472152251,
          0.7409765115158347,
          0.735658580445113,
          0.725405849175248,
          0.7270878798146988,
          0.719962201806875,
          0.7145337353096088,
          0.7063595148329416,
          0.6994738915791487,
          0.6938882380196151,
          0.6876794116136176,
          0.6797586149624775,
          0.6704441177108951,
          0.6590743400854914,
          0.642085640611507,
          0.5976754570307364,
          0.5794097658698687,
          0.5618637986034996,
          0.5441727208542515,
          0.5266666073069964,
          0.5078121710863266,
          0.48936826576155856,
          0.46780175574614247
         ]
        }
       ],
       "layout": {
        "height": 700,
        "template": {
         "data": {
          "bar": [
           {
            "error_x": {
             "color": "#2a3f5f"
            },
            "error_y": {
             "color": "#2a3f5f"
            },
            "marker": {
             "line": {
              "color": "#E5ECF6",
              "width": 0.5
             },
             "pattern": {
              "fillmode": "overlay",
              "size": 10,
              "solidity": 0.2
             }
            },
            "type": "bar"
           }
          ],
          "barpolar": [
           {
            "marker": {
             "line": {
              "color": "#E5ECF6",
              "width": 0.5
             },
             "pattern": {
              "fillmode": "overlay",
              "size": 10,
              "solidity": 0.2
             }
            },
            "type": "barpolar"
           }
          ],
          "carpet": [
           {
            "aaxis": {
             "endlinecolor": "#2a3f5f",
             "gridcolor": "white",
             "linecolor": "white",
             "minorgridcolor": "white",
             "startlinecolor": "#2a3f5f"
            },
            "baxis": {
             "endlinecolor": "#2a3f5f",
             "gridcolor": "white",
             "linecolor": "white",
             "minorgridcolor": "white",
             "startlinecolor": "#2a3f5f"
            },
            "type": "carpet"
           }
          ],
          "choropleth": [
           {
            "colorbar": {
             "outlinewidth": 0,
             "ticks": ""
            },
            "type": "choropleth"
           }
          ],
          "contour": [
           {
            "colorbar": {
             "outlinewidth": 0,
             "ticks": ""
            },
            "colorscale": [
             [
              0,
              "#0d0887"
             ],
             [
              0.1111111111111111,
              "#46039f"
             ],
             [
              0.2222222222222222,
              "#7201a8"
             ],
             [
              0.3333333333333333,
              "#9c179e"
             ],
             [
              0.4444444444444444,
              "#bd3786"
             ],
             [
              0.5555555555555556,
              "#d8576b"
             ],
             [
              0.6666666666666666,
              "#ed7953"
             ],
             [
              0.7777777777777778,
              "#fb9f3a"
             ],
             [
              0.8888888888888888,
              "#fdca26"
             ],
             [
              1,
              "#f0f921"
             ]
            ],
            "type": "contour"
           }
          ],
          "contourcarpet": [
           {
            "colorbar": {
             "outlinewidth": 0,
             "ticks": ""
            },
            "type": "contourcarpet"
           }
          ],
          "heatmap": [
           {
            "colorbar": {
             "outlinewidth": 0,
             "ticks": ""
            },
            "colorscale": [
             [
              0,
              "#0d0887"
             ],
             [
              0.1111111111111111,
              "#46039f"
             ],
             [
              0.2222222222222222,
              "#7201a8"
             ],
             [
              0.3333333333333333,
              "#9c179e"
             ],
             [
              0.4444444444444444,
              "#bd3786"
             ],
             [
              0.5555555555555556,
              "#d8576b"
             ],
             [
              0.6666666666666666,
              "#ed7953"
             ],
             [
              0.7777777777777778,
              "#fb9f3a"
             ],
             [
              0.8888888888888888,
              "#fdca26"
             ],
             [
              1,
              "#f0f921"
             ]
            ],
            "type": "heatmap"
           }
          ],
          "histogram": [
           {
            "marker": {
             "pattern": {
              "fillmode": "overlay",
              "size": 10,
              "solidity": 0.2
             }
            },
            "type": "histogram"
           }
          ],
          "histogram2d": [
           {
            "colorbar": {
             "outlinewidth": 0,
             "ticks": ""
            },
            "colorscale": [
             [
              0,
              "#0d0887"
             ],
             [
              0.1111111111111111,
              "#46039f"
             ],
             [
              0.2222222222222222,
              "#7201a8"
             ],
             [
              0.3333333333333333,
              "#9c179e"
             ],
             [
              0.4444444444444444,
              "#bd3786"
             ],
             [
              0.5555555555555556,
              "#d8576b"
             ],
             [
              0.6666666666666666,
              "#ed7953"
             ],
             [
              0.7777777777777778,
              "#fb9f3a"
             ],
             [
              0.8888888888888888,
              "#fdca26"
             ],
             [
              1,
              "#f0f921"
             ]
            ],
            "type": "histogram2d"
           }
          ],
          "histogram2dcontour": [
           {
            "colorbar": {
             "outlinewidth": 0,
             "ticks": ""
            },
            "colorscale": [
             [
              0,
              "#0d0887"
             ],
             [
              0.1111111111111111,
              "#46039f"
             ],
             [
              0.2222222222222222,
              "#7201a8"
             ],
             [
              0.3333333333333333,
              "#9c179e"
             ],
             [
              0.4444444444444444,
              "#bd3786"
             ],
             [
              0.5555555555555556,
              "#d8576b"
             ],
             [
              0.6666666666666666,
              "#ed7953"
             ],
             [
              0.7777777777777778,
              "#fb9f3a"
             ],
             [
              0.8888888888888888,
              "#fdca26"
             ],
             [
              1,
              "#f0f921"
             ]
            ],
            "type": "histogram2dcontour"
           }
          ],
          "mesh3d": [
           {
            "colorbar": {
             "outlinewidth": 0,
             "ticks": ""
            },
            "type": "mesh3d"
           }
          ],
          "parcoords": [
           {
            "line": {
             "colorbar": {
              "outlinewidth": 0,
              "ticks": ""
             }
            },
            "type": "parcoords"
           }
          ],
          "pie": [
           {
            "automargin": true,
            "type": "pie"
           }
          ],
          "scatter": [
           {
            "fillpattern": {
             "fillmode": "overlay",
             "size": 10,
             "solidity": 0.2
            },
            "type": "scatter"
           }
          ],
          "scatter3d": [
           {
            "line": {
             "colorbar": {
              "outlinewidth": 0,
              "ticks": ""
             }
            },
            "marker": {
             "colorbar": {
              "outlinewidth": 0,
              "ticks": ""
             }
            },
            "type": "scatter3d"
           }
          ],
          "scattercarpet": [
           {
            "marker": {
             "colorbar": {
              "outlinewidth": 0,
              "ticks": ""
             }
            },
            "type": "scattercarpet"
           }
          ],
          "scattergeo": [
           {
            "marker": {
             "colorbar": {
              "outlinewidth": 0,
              "ticks": ""
             }
            },
            "type": "scattergeo"
           }
          ],
          "scattergl": [
           {
            "marker": {
             "colorbar": {
              "outlinewidth": 0,
              "ticks": ""
             }
            },
            "type": "scattergl"
           }
          ],
          "scattermap": [
           {
            "marker": {
             "colorbar": {
              "outlinewidth": 0,
              "ticks": ""
             }
            },
            "type": "scattermap"
           }
          ],
          "scattermapbox": [
           {
            "marker": {
             "colorbar": {
              "outlinewidth": 0,
              "ticks": ""
             }
            },
            "type": "scattermapbox"
           }
          ],
          "scatterpolar": [
           {
            "marker": {
             "colorbar": {
              "outlinewidth": 0,
              "ticks": ""
             }
            },
            "type": "scatterpolar"
           }
          ],
          "scatterpolargl": [
           {
            "marker": {
             "colorbar": {
              "outlinewidth": 0,
              "ticks": ""
             }
            },
            "type": "scatterpolargl"
           }
          ],
          "scatterternary": [
           {
            "marker": {
             "colorbar": {
              "outlinewidth": 0,
              "ticks": ""
             }
            },
            "type": "scatterternary"
           }
          ],
          "surface": [
           {
            "colorbar": {
             "outlinewidth": 0,
             "ticks": ""
            },
            "colorscale": [
             [
              0,
              "#0d0887"
             ],
             [
              0.1111111111111111,
              "#46039f"
             ],
             [
              0.2222222222222222,
              "#7201a8"
             ],
             [
              0.3333333333333333,
              "#9c179e"
             ],
             [
              0.4444444444444444,
              "#bd3786"
             ],
             [
              0.5555555555555556,
              "#d8576b"
             ],
             [
              0.6666666666666666,
              "#ed7953"
             ],
             [
              0.7777777777777778,
              "#fb9f3a"
             ],
             [
              0.8888888888888888,
              "#fdca26"
             ],
             [
              1,
              "#f0f921"
             ]
            ],
            "type": "surface"
           }
          ],
          "table": [
           {
            "cells": {
             "fill": {
              "color": "#EBF0F8"
             },
             "line": {
              "color": "white"
             }
            },
            "header": {
             "fill": {
              "color": "#C8D4E3"
             },
             "line": {
              "color": "white"
             }
            },
            "type": "table"
           }
          ]
         },
         "layout": {
          "annotationdefaults": {
           "arrowcolor": "#2a3f5f",
           "arrowhead": 0,
           "arrowwidth": 1
          },
          "autotypenumbers": "strict",
          "coloraxis": {
           "colorbar": {
            "outlinewidth": 0,
            "ticks": ""
           }
          },
          "colorscale": {
           "diverging": [
            [
             0,
             "#8e0152"
            ],
            [
             0.1,
             "#c51b7d"
            ],
            [
             0.2,
             "#de77ae"
            ],
            [
             0.3,
             "#f1b6da"
            ],
            [
             0.4,
             "#fde0ef"
            ],
            [
             0.5,
             "#f7f7f7"
            ],
            [
             0.6,
             "#e6f5d0"
            ],
            [
             0.7,
             "#b8e186"
            ],
            [
             0.8,
             "#7fbc41"
            ],
            [
             0.9,
             "#4d9221"
            ],
            [
             1,
             "#276419"
            ]
           ],
           "sequential": [
            [
             0,
             "#0d0887"
            ],
            [
             0.1111111111111111,
             "#46039f"
            ],
            [
             0.2222222222222222,
             "#7201a8"
            ],
            [
             0.3333333333333333,
             "#9c179e"
            ],
            [
             0.4444444444444444,
             "#bd3786"
            ],
            [
             0.5555555555555556,
             "#d8576b"
            ],
            [
             0.6666666666666666,
             "#ed7953"
            ],
            [
             0.7777777777777778,
             "#fb9f3a"
            ],
            [
             0.8888888888888888,
             "#fdca26"
            ],
            [
             1,
             "#f0f921"
            ]
           ],
           "sequentialminus": [
            [
             0,
             "#0d0887"
            ],
            [
             0.1111111111111111,
             "#46039f"
            ],
            [
             0.2222222222222222,
             "#7201a8"
            ],
            [
             0.3333333333333333,
             "#9c179e"
            ],
            [
             0.4444444444444444,
             "#bd3786"
            ],
            [
             0.5555555555555556,
             "#d8576b"
            ],
            [
             0.6666666666666666,
             "#ed7953"
            ],
            [
             0.7777777777777778,
             "#fb9f3a"
            ],
            [
             0.8888888888888888,
             "#fdca26"
            ],
            [
             1,
             "#f0f921"
            ]
           ]
          },
          "colorway": [
           "#636efa",
           "#EF553B",
           "#00cc96",
           "#ab63fa",
           "#FFA15A",
           "#19d3f3",
           "#FF6692",
           "#B6E880",
           "#FF97FF",
           "#FECB52"
          ],
          "font": {
           "color": "#2a3f5f"
          },
          "geo": {
           "bgcolor": "white",
           "lakecolor": "white",
           "landcolor": "#E5ECF6",
           "showlakes": true,
           "showland": true,
           "subunitcolor": "white"
          },
          "hoverlabel": {
           "align": "left"
          },
          "hovermode": "closest",
          "mapbox": {
           "style": "light"
          },
          "paper_bgcolor": "white",
          "plot_bgcolor": "#E5ECF6",
          "polar": {
           "angularaxis": {
            "gridcolor": "white",
            "linecolor": "white",
            "ticks": ""
           },
           "bgcolor": "#E5ECF6",
           "radialaxis": {
            "gridcolor": "white",
            "linecolor": "white",
            "ticks": ""
           }
          },
          "scene": {
           "xaxis": {
            "backgroundcolor": "#E5ECF6",
            "gridcolor": "white",
            "gridwidth": 2,
            "linecolor": "white",
            "showbackground": true,
            "ticks": "",
            "zerolinecolor": "white"
           },
           "yaxis": {
            "backgroundcolor": "#E5ECF6",
            "gridcolor": "white",
            "gridwidth": 2,
            "linecolor": "white",
            "showbackground": true,
            "ticks": "",
            "zerolinecolor": "white"
           },
           "zaxis": {
            "backgroundcolor": "#E5ECF6",
            "gridcolor": "white",
            "gridwidth": 2,
            "linecolor": "white",
            "showbackground": true,
            "ticks": "",
            "zerolinecolor": "white"
           }
          },
          "shapedefaults": {
           "line": {
            "color": "#2a3f5f"
           }
          },
          "ternary": {
           "aaxis": {
            "gridcolor": "white",
            "linecolor": "white",
            "ticks": ""
           },
           "baxis": {
            "gridcolor": "white",
            "linecolor": "white",
            "ticks": ""
           },
           "bgcolor": "#E5ECF6",
           "caxis": {
            "gridcolor": "white",
            "linecolor": "white",
            "ticks": ""
           }
          },
          "title": {
           "x": 0.05
          },
          "xaxis": {
           "automargin": true,
           "gridcolor": "white",
           "linecolor": "white",
           "ticks": "",
           "title": {
            "standoff": 15
           },
           "zerolinecolor": "white",
           "zerolinewidth": 2
          },
          "yaxis": {
           "automargin": true,
           "gridcolor": "white",
           "linecolor": "white",
           "ticks": "",
           "title": {
            "standoff": 15
           },
           "zerolinecolor": "white",
           "zerolinewidth": 2
          }
         }
        },
        "title": {
         "text": "Влияние шумовых фичей на скорректированный R²"
        },
        "width": 1500,
        "xaxis": {
         "title": {
          "text": "Количество шумовых фичей"
         }
        },
        "yaxis": {
         "title": {
          "text": "R² скорректированный"
         }
        }
       }
      }
     },
     "metadata": {},
     "output_type": "display_data"
    }
   ],
   "source": [
    "features_count = list(range(1, NOISY_FEATURES_COUNT + 1))\n",
    "\n",
    "fig = go.Figure()\n",
    "\n",
    "fig.add_trace(go.Scatter(\n",
    "    x=features_count, \n",
    "    y=scores_train, \n",
    "    mode='lines+markers', \n",
    "    name='​R² | Train',\n",
    "    marker=dict(size=6)\n",
    "))\n",
    "\n",
    "\n",
    "fig.add_trace(go.Scatter(\n",
    "    x=features_count, \n",
    "    y=scores_train_adj, \n",
    "    mode='lines+markers', \n",
    "    name='R² adj | Train',\n",
    "    marker=dict(size=6)\n",
    "))\n",
    "\n",
    "fig.add_trace(go.Scatter(\n",
    "    x=features_count, \n",
    "    y=scores_test, \n",
    "    mode='lines+markers', \n",
    "    name='R² | Test',\n",
    "    marker=dict(size=6)\n",
    "))\n",
    "\n",
    "fig.add_trace(go.Scatter(\n",
    "    x=features_count, \n",
    "    y=scores_test_adj, \n",
    "    mode='lines+markers', \n",
    "    name='R² adj | Test',\n",
    "    marker=dict(size=6)\n",
    "))\n",
    "\n",
    "fig.update_layout(\n",
    "    height=700, width=1500,\n",
    "    title=\"Влияние шумовых фичей на скорректированный R²\",\n",
    "    xaxis_title=\"Количество шумовых фичей\",\n",
    "    yaxis_title=\"R² скорректированный\",\n",
    ")\n",
    "\n",
    "fig.show()"
   ]
  },
  {
   "cell_type": "markdown",
   "id": "ae01e08a",
   "metadata": {},
   "source": [
    "- Данный график наглядно показывает разницу поведения метрик на обучающей и тестовой выборках. Особенно хорошо это заметно на train: если обычный $R^2$ продолжает расти при добавлении шумовых признаков, то скорректированный $R_{\\text{adj}}^2$ в среднем снижается за счёт встроенного штрафа за избыточные признаки."
   ]
  },
  {
   "cell_type": "markdown",
   "id": "c0aeffa0",
   "metadata": {},
   "source": [
    "## Средняя абсолютная ошибка | Mean Absolute Error | MAE\n",
    "На самом деле ммы уже встречались с данной метрикой в самом начале, когда высчитывали абсолютные отклнения. $MAE$ показывает, насколько в среднем предсказанные значения отклоняются от фактических по модулю.\n",
    "\n",
    "$$\n",
    "MAE = \\frac{1}{n}\\sum_{i=1}^{n} |y_i - \\hat{y}_i|\n",
    "$$\n",
    "\n",
    "Так как теперь отклонения не возводятся в квадрат, то штраф за ошибку линейный - 1:1. Давай взглянем на вид функциональной зависимсоти ошибки:"
   ]
  },
  {
   "cell_type": "code",
   "execution_count": 26,
   "id": "ea9d5bf2",
   "metadata": {},
   "outputs": [
    {
     "data": {
      "application/vnd.plotly.v1+json": {
       "config": {
        "plotlyServerURL": "https://plot.ly"
       },
       "data": [
        {
         "hovertemplate": "Отклонение=%{x}<br>Абсолютная ошибка=%{y}<extra></extra>",
         "legendgroup": "",
         "line": {
          "color": "#636efa",
          "dash": "solid"
         },
         "marker": {
          "symbol": "circle"
         },
         "mode": "lines",
         "name": "",
         "orientation": "v",
         "showlegend": false,
         "type": "scatter",
         "x": {
          "bdata": "CJsYNoQEtcBQm0eRyIe0wOBt4LV4nLHAoIAOl4/or8DgSt2PjISuwOAjDVWDY67AQA+eyF3CrMDIi5oqqfWmwNATBAAPgaLAuC+Y7/oWosBsc4Lf+NmhwEj/XkcX6p/AoGwouQ8xn8BgAhPyZySdwCCXr7hHHpvAUIlyhJFWlsDgYeclW8KSwGDB1mIwJI/AoDKMK0O1hcCwZMXLYBqDwKCyKMSp4ILAwN3J3lxbgcCgEuUIIz2AwKAzX7WYNXnAwCb/XclPZMAA9nsjb/JSwAD8rKs3vzPAAIBNl9XBM0AAaO884iRRQACYgYgT63ZAAMXz//PDfEBAQcvBgTZ/QMCn/SyCpYBAwKf9LIKlgEDYk+SAcWCEQOBxgwoma4RAsNWk8dPLhEDgQVzDCGyJQMSQ8w8QOZBAeBqV6niZkEDAZtZRiKKQQAS2ZMh7TZJAWHsSjvq+k0CgZRDyV7uUQOitUqphTp1AWA/fv2umoUDMp8Epp5elQPAv2s4aqqdAYsj5B4iXrEC29c1CQWqxQGgtaqenq7FAilrTqMJRs0CIUNIAGAS1QJbtLaGbd7VA3BmbICdUtkBIgyQvTs+2QLC17fvYt7dAYGg/gQxrvUB0WVWfUdjDQHSHULtc+sNAHLc2shdSx0AA3zMmgk/MQA==",
          "dtype": "f8"
         },
         "xaxis": "x",
         "y": {
          "bdata": "CJsYNoQEtUBQm0eRyIe0QOBt4LV4nLFAoIAOl4/or0DgSt2PjISuQOAjDVWDY65AQA+eyF3CrEDIi5oqqfWmQNATBAAPgaJAuC+Y7/oWokBsc4Lf+NmhQEj/XkcX6p9AoGwouQ8xn0BgAhPyZySdQCCXr7hHHptAUIlyhJFWlkDgYeclW8KSQGDB1mIwJI9AoDKMK0O1hUCwZMXLYBqDQKCyKMSp4IJAwN3J3lxbgUCgEuUIIz2AQKAzX7WYNXlAwCb/XclPZEAA9nsjb/JSQAD8rKs3vzNAAIBNl9XBM0AAaO884iRRQACYgYgT63ZAAMXz//PDfEBAQcvBgTZ/QMCn/SyCpYBAwKf9LIKlgEDYk+SAcWCEQOBxgwoma4RAsNWk8dPLhEDgQVzDCGyJQMSQ8w8QOZBAeBqV6niZkEDAZtZRiKKQQAS2ZMh7TZJAWHsSjvq+k0CgZRDyV7uUQOitUqphTp1AWA/fv2umoUDMp8Epp5elQPAv2s4aqqdAYsj5B4iXrEC29c1CQWqxQGgtaqenq7FAilrTqMJRs0CIUNIAGAS1QJbtLaGbd7VA3BmbICdUtkBIgyQvTs+2QLC17fvYt7dAYGg/gQxrvUB0WVWfUdjDQHSHULtc+sNAHLc2shdSx0AA3zMmgk/MQA==",
          "dtype": "f8"
         },
         "yaxis": "y"
        },
        {
         "mode": "markers",
         "name": "points",
         "type": "scatter",
         "x": {
          "bdata": "CJsYNoQEtcBQm0eRyIe0wOBt4LV4nLHAoIAOl4/or8DgSt2PjISuwOAjDVWDY67AQA+eyF3CrMDIi5oqqfWmwNATBAAPgaLAuC+Y7/oWosBsc4Lf+NmhwEj/XkcX6p/AoGwouQ8xn8BgAhPyZySdwCCXr7hHHpvAUIlyhJFWlsDgYeclW8KSwGDB1mIwJI/AoDKMK0O1hcCwZMXLYBqDwKCyKMSp4ILAwN3J3lxbgcCgEuUIIz2AwKAzX7WYNXnAwCb/XclPZMAA9nsjb/JSwAD8rKs3vzPAAIBNl9XBM0AAaO884iRRQACYgYgT63ZAAMXz//PDfEBAQcvBgTZ/QMCn/SyCpYBAwKf9LIKlgEDYk+SAcWCEQOBxgwoma4RAsNWk8dPLhEDgQVzDCGyJQMSQ8w8QOZBAeBqV6niZkEDAZtZRiKKQQAS2ZMh7TZJAWHsSjvq+k0CgZRDyV7uUQOitUqphTp1AWA/fv2umoUDMp8Epp5elQPAv2s4aqqdAYsj5B4iXrEC29c1CQWqxQGgtaqenq7FAilrTqMJRs0CIUNIAGAS1QJbtLaGbd7VA3BmbICdUtkBIgyQvTs+2QLC17fvYt7dAYGg/gQxrvUB0WVWfUdjDQHSHULtc+sNAHLc2shdSx0AA3zMmgk/MQA==",
          "dtype": "f8"
         },
         "y": {
          "bdata": "CJsYNoQEtUBQm0eRyIe0QOBt4LV4nLFAoIAOl4/or0DgSt2PjISuQOAjDVWDY65AQA+eyF3CrEDIi5oqqfWmQNATBAAPgaJAuC+Y7/oWokBsc4Lf+NmhQEj/XkcX6p9AoGwouQ8xn0BgAhPyZySdQCCXr7hHHptAUIlyhJFWlkDgYeclW8KSQGDB1mIwJI9AoDKMK0O1hUCwZMXLYBqDQKCyKMSp4IJAwN3J3lxbgUCgEuUIIz2AQKAzX7WYNXlAwCb/XclPZEAA9nsjb/JSQAD8rKs3vzNAAIBNl9XBM0AAaO884iRRQACYgYgT63ZAAMXz//PDfEBAQcvBgTZ/QMCn/SyCpYBAwKf9LIKlgEDYk+SAcWCEQOBxgwoma4RAsNWk8dPLhEDgQVzDCGyJQMSQ8w8QOZBAeBqV6niZkEDAZtZRiKKQQAS2ZMh7TZJAWHsSjvq+k0CgZRDyV7uUQOitUqphTp1AWA/fv2umoUDMp8Epp5elQPAv2s4aqqdAYsj5B4iXrEC29c1CQWqxQGgtaqenq7FAilrTqMJRs0CIUNIAGAS1QJbtLaGbd7VA3BmbICdUtkBIgyQvTs+2QLC17fvYt7dAYGg/gQxrvUB0WVWfUdjDQHSHULtc+sNAHLc2shdSx0AA3zMmgk/MQA==",
          "dtype": "f8"
         }
        }
       ],
       "layout": {
        "height": 700,
        "legend": {
         "tracegroupgap": 0
        },
        "showlegend": true,
        "template": {
         "data": {
          "bar": [
           {
            "error_x": {
             "color": "#2a3f5f"
            },
            "error_y": {
             "color": "#2a3f5f"
            },
            "marker": {
             "line": {
              "color": "#E5ECF6",
              "width": 0.5
             },
             "pattern": {
              "fillmode": "overlay",
              "size": 10,
              "solidity": 0.2
             }
            },
            "type": "bar"
           }
          ],
          "barpolar": [
           {
            "marker": {
             "line": {
              "color": "#E5ECF6",
              "width": 0.5
             },
             "pattern": {
              "fillmode": "overlay",
              "size": 10,
              "solidity": 0.2
             }
            },
            "type": "barpolar"
           }
          ],
          "carpet": [
           {
            "aaxis": {
             "endlinecolor": "#2a3f5f",
             "gridcolor": "white",
             "linecolor": "white",
             "minorgridcolor": "white",
             "startlinecolor": "#2a3f5f"
            },
            "baxis": {
             "endlinecolor": "#2a3f5f",
             "gridcolor": "white",
             "linecolor": "white",
             "minorgridcolor": "white",
             "startlinecolor": "#2a3f5f"
            },
            "type": "carpet"
           }
          ],
          "choropleth": [
           {
            "colorbar": {
             "outlinewidth": 0,
             "ticks": ""
            },
            "type": "choropleth"
           }
          ],
          "contour": [
           {
            "colorbar": {
             "outlinewidth": 0,
             "ticks": ""
            },
            "colorscale": [
             [
              0,
              "#0d0887"
             ],
             [
              0.1111111111111111,
              "#46039f"
             ],
             [
              0.2222222222222222,
              "#7201a8"
             ],
             [
              0.3333333333333333,
              "#9c179e"
             ],
             [
              0.4444444444444444,
              "#bd3786"
             ],
             [
              0.5555555555555556,
              "#d8576b"
             ],
             [
              0.6666666666666666,
              "#ed7953"
             ],
             [
              0.7777777777777778,
              "#fb9f3a"
             ],
             [
              0.8888888888888888,
              "#fdca26"
             ],
             [
              1,
              "#f0f921"
             ]
            ],
            "type": "contour"
           }
          ],
          "contourcarpet": [
           {
            "colorbar": {
             "outlinewidth": 0,
             "ticks": ""
            },
            "type": "contourcarpet"
           }
          ],
          "heatmap": [
           {
            "colorbar": {
             "outlinewidth": 0,
             "ticks": ""
            },
            "colorscale": [
             [
              0,
              "#0d0887"
             ],
             [
              0.1111111111111111,
              "#46039f"
             ],
             [
              0.2222222222222222,
              "#7201a8"
             ],
             [
              0.3333333333333333,
              "#9c179e"
             ],
             [
              0.4444444444444444,
              "#bd3786"
             ],
             [
              0.5555555555555556,
              "#d8576b"
             ],
             [
              0.6666666666666666,
              "#ed7953"
             ],
             [
              0.7777777777777778,
              "#fb9f3a"
             ],
             [
              0.8888888888888888,
              "#fdca26"
             ],
             [
              1,
              "#f0f921"
             ]
            ],
            "type": "heatmap"
           }
          ],
          "histogram": [
           {
            "marker": {
             "pattern": {
              "fillmode": "overlay",
              "size": 10,
              "solidity": 0.2
             }
            },
            "type": "histogram"
           }
          ],
          "histogram2d": [
           {
            "colorbar": {
             "outlinewidth": 0,
             "ticks": ""
            },
            "colorscale": [
             [
              0,
              "#0d0887"
             ],
             [
              0.1111111111111111,
              "#46039f"
             ],
             [
              0.2222222222222222,
              "#7201a8"
             ],
             [
              0.3333333333333333,
              "#9c179e"
             ],
             [
              0.4444444444444444,
              "#bd3786"
             ],
             [
              0.5555555555555556,
              "#d8576b"
             ],
             [
              0.6666666666666666,
              "#ed7953"
             ],
             [
              0.7777777777777778,
              "#fb9f3a"
             ],
             [
              0.8888888888888888,
              "#fdca26"
             ],
             [
              1,
              "#f0f921"
             ]
            ],
            "type": "histogram2d"
           }
          ],
          "histogram2dcontour": [
           {
            "colorbar": {
             "outlinewidth": 0,
             "ticks": ""
            },
            "colorscale": [
             [
              0,
              "#0d0887"
             ],
             [
              0.1111111111111111,
              "#46039f"
             ],
             [
              0.2222222222222222,
              "#7201a8"
             ],
             [
              0.3333333333333333,
              "#9c179e"
             ],
             [
              0.4444444444444444,
              "#bd3786"
             ],
             [
              0.5555555555555556,
              "#d8576b"
             ],
             [
              0.6666666666666666,
              "#ed7953"
             ],
             [
              0.7777777777777778,
              "#fb9f3a"
             ],
             [
              0.8888888888888888,
              "#fdca26"
             ],
             [
              1,
              "#f0f921"
             ]
            ],
            "type": "histogram2dcontour"
           }
          ],
          "mesh3d": [
           {
            "colorbar": {
             "outlinewidth": 0,
             "ticks": ""
            },
            "type": "mesh3d"
           }
          ],
          "parcoords": [
           {
            "line": {
             "colorbar": {
              "outlinewidth": 0,
              "ticks": ""
             }
            },
            "type": "parcoords"
           }
          ],
          "pie": [
           {
            "automargin": true,
            "type": "pie"
           }
          ],
          "scatter": [
           {
            "fillpattern": {
             "fillmode": "overlay",
             "size": 10,
             "solidity": 0.2
            },
            "type": "scatter"
           }
          ],
          "scatter3d": [
           {
            "line": {
             "colorbar": {
              "outlinewidth": 0,
              "ticks": ""
             }
            },
            "marker": {
             "colorbar": {
              "outlinewidth": 0,
              "ticks": ""
             }
            },
            "type": "scatter3d"
           }
          ],
          "scattercarpet": [
           {
            "marker": {
             "colorbar": {
              "outlinewidth": 0,
              "ticks": ""
             }
            },
            "type": "scattercarpet"
           }
          ],
          "scattergeo": [
           {
            "marker": {
             "colorbar": {
              "outlinewidth": 0,
              "ticks": ""
             }
            },
            "type": "scattergeo"
           }
          ],
          "scattergl": [
           {
            "marker": {
             "colorbar": {
              "outlinewidth": 0,
              "ticks": ""
             }
            },
            "type": "scattergl"
           }
          ],
          "scattermap": [
           {
            "marker": {
             "colorbar": {
              "outlinewidth": 0,
              "ticks": ""
             }
            },
            "type": "scattermap"
           }
          ],
          "scattermapbox": [
           {
            "marker": {
             "colorbar": {
              "outlinewidth": 0,
              "ticks": ""
             }
            },
            "type": "scattermapbox"
           }
          ],
          "scatterpolar": [
           {
            "marker": {
             "colorbar": {
              "outlinewidth": 0,
              "ticks": ""
             }
            },
            "type": "scatterpolar"
           }
          ],
          "scatterpolargl": [
           {
            "marker": {
             "colorbar": {
              "outlinewidth": 0,
              "ticks": ""
             }
            },
            "type": "scatterpolargl"
           }
          ],
          "scatterternary": [
           {
            "marker": {
             "colorbar": {
              "outlinewidth": 0,
              "ticks": ""
             }
            },
            "type": "scatterternary"
           }
          ],
          "surface": [
           {
            "colorbar": {
             "outlinewidth": 0,
             "ticks": ""
            },
            "colorscale": [
             [
              0,
              "#0d0887"
             ],
             [
              0.1111111111111111,
              "#46039f"
             ],
             [
              0.2222222222222222,
              "#7201a8"
             ],
             [
              0.3333333333333333,
              "#9c179e"
             ],
             [
              0.4444444444444444,
              "#bd3786"
             ],
             [
              0.5555555555555556,
              "#d8576b"
             ],
             [
              0.6666666666666666,
              "#ed7953"
             ],
             [
              0.7777777777777778,
              "#fb9f3a"
             ],
             [
              0.8888888888888888,
              "#fdca26"
             ],
             [
              1,
              "#f0f921"
             ]
            ],
            "type": "surface"
           }
          ],
          "table": [
           {
            "cells": {
             "fill": {
              "color": "#EBF0F8"
             },
             "line": {
              "color": "white"
             }
            },
            "header": {
             "fill": {
              "color": "#C8D4E3"
             },
             "line": {
              "color": "white"
             }
            },
            "type": "table"
           }
          ]
         },
         "layout": {
          "annotationdefaults": {
           "arrowcolor": "#2a3f5f",
           "arrowhead": 0,
           "arrowwidth": 1
          },
          "autotypenumbers": "strict",
          "coloraxis": {
           "colorbar": {
            "outlinewidth": 0,
            "ticks": ""
           }
          },
          "colorscale": {
           "diverging": [
            [
             0,
             "#8e0152"
            ],
            [
             0.1,
             "#c51b7d"
            ],
            [
             0.2,
             "#de77ae"
            ],
            [
             0.3,
             "#f1b6da"
            ],
            [
             0.4,
             "#fde0ef"
            ],
            [
             0.5,
             "#f7f7f7"
            ],
            [
             0.6,
             "#e6f5d0"
            ],
            [
             0.7,
             "#b8e186"
            ],
            [
             0.8,
             "#7fbc41"
            ],
            [
             0.9,
             "#4d9221"
            ],
            [
             1,
             "#276419"
            ]
           ],
           "sequential": [
            [
             0,
             "#0d0887"
            ],
            [
             0.1111111111111111,
             "#46039f"
            ],
            [
             0.2222222222222222,
             "#7201a8"
            ],
            [
             0.3333333333333333,
             "#9c179e"
            ],
            [
             0.4444444444444444,
             "#bd3786"
            ],
            [
             0.5555555555555556,
             "#d8576b"
            ],
            [
             0.6666666666666666,
             "#ed7953"
            ],
            [
             0.7777777777777778,
             "#fb9f3a"
            ],
            [
             0.8888888888888888,
             "#fdca26"
            ],
            [
             1,
             "#f0f921"
            ]
           ],
           "sequentialminus": [
            [
             0,
             "#0d0887"
            ],
            [
             0.1111111111111111,
             "#46039f"
            ],
            [
             0.2222222222222222,
             "#7201a8"
            ],
            [
             0.3333333333333333,
             "#9c179e"
            ],
            [
             0.4444444444444444,
             "#bd3786"
            ],
            [
             0.5555555555555556,
             "#d8576b"
            ],
            [
             0.6666666666666666,
             "#ed7953"
            ],
            [
             0.7777777777777778,
             "#fb9f3a"
            ],
            [
             0.8888888888888888,
             "#fdca26"
            ],
            [
             1,
             "#f0f921"
            ]
           ]
          },
          "colorway": [
           "#636efa",
           "#EF553B",
           "#00cc96",
           "#ab63fa",
           "#FFA15A",
           "#19d3f3",
           "#FF6692",
           "#B6E880",
           "#FF97FF",
           "#FECB52"
          ],
          "font": {
           "color": "#2a3f5f"
          },
          "geo": {
           "bgcolor": "white",
           "lakecolor": "white",
           "landcolor": "#E5ECF6",
           "showlakes": true,
           "showland": true,
           "subunitcolor": "white"
          },
          "hoverlabel": {
           "align": "left"
          },
          "hovermode": "closest",
          "mapbox": {
           "style": "light"
          },
          "paper_bgcolor": "white",
          "plot_bgcolor": "#E5ECF6",
          "polar": {
           "angularaxis": {
            "gridcolor": "white",
            "linecolor": "white",
            "ticks": ""
           },
           "bgcolor": "#E5ECF6",
           "radialaxis": {
            "gridcolor": "white",
            "linecolor": "white",
            "ticks": ""
           }
          },
          "scene": {
           "xaxis": {
            "backgroundcolor": "#E5ECF6",
            "gridcolor": "white",
            "gridwidth": 2,
            "linecolor": "white",
            "showbackground": true,
            "ticks": "",
            "zerolinecolor": "white"
           },
           "yaxis": {
            "backgroundcolor": "#E5ECF6",
            "gridcolor": "white",
            "gridwidth": 2,
            "linecolor": "white",
            "showbackground": true,
            "ticks": "",
            "zerolinecolor": "white"
           },
           "zaxis": {
            "backgroundcolor": "#E5ECF6",
            "gridcolor": "white",
            "gridwidth": 2,
            "linecolor": "white",
            "showbackground": true,
            "ticks": "",
            "zerolinecolor": "white"
           }
          },
          "shapedefaults": {
           "line": {
            "color": "#2a3f5f"
           }
          },
          "ternary": {
           "aaxis": {
            "gridcolor": "white",
            "linecolor": "white",
            "ticks": ""
           },
           "baxis": {
            "gridcolor": "white",
            "linecolor": "white",
            "ticks": ""
           },
           "bgcolor": "#E5ECF6",
           "caxis": {
            "gridcolor": "white",
            "linecolor": "white",
            "ticks": ""
           }
          },
          "title": {
           "x": 0.05
          },
          "xaxis": {
           "automargin": true,
           "gridcolor": "white",
           "linecolor": "white",
           "ticks": "",
           "title": {
            "standoff": 15
           },
           "zerolinecolor": "white",
           "zerolinewidth": 2
          },
          "yaxis": {
           "automargin": true,
           "gridcolor": "white",
           "linecolor": "white",
           "ticks": "",
           "title": {
            "standoff": 15
           },
           "zerolinecolor": "white",
           "zerolinewidth": 2
          }
         }
        },
        "title": {
         "text": "Абсолютная ошибка | Absolute Error"
        },
        "width": 800,
        "xaxis": {
         "anchor": "y",
         "domain": [
          0,
          1
         ],
         "title": {
          "text": "Отклонение"
         }
        },
        "yaxis": {
         "anchor": "x",
         "domain": [
          0,
          1
         ],
         "title": {
          "text": "Абсолютная ошибка"
         }
        }
       }
      }
     },
     "metadata": {},
     "output_type": "display_data"
    }
   ],
   "source": [
    "fig = px.line(\n",
    "    metrics_results,\n",
    "    x=\"error\",\n",
    "    y=\"error_abs\",\n",
    "    title=\"Mean Absolute Error\",\n",
    "    labels={\"error\": \"Отклонение\", \"error_abs\": \"Абсолютная ошибка\"}\n",
    ")\n",
    "\n",
    "fig.add_scatter(\n",
    "    x=metrics_results[\"error\"], y=metrics_results[\"error_abs\"], mode=\"markers\", name=\"points\"\n",
    ")\n",
    "\n",
    "fig.update_layout(\n",
    "    height=700, width=800,\n",
    "    title_text=\"Абсолютная ошибка | Absolute Error\",\n",
    "    showlegend=True\n",
    ")"
   ]
  },
  {
   "cell_type": "markdown",
   "id": "ef640fe4",
   "metadata": {},
   "source": [
    "Как и в случае $MSE$, правая часть больше левой. Мы уже выяснили, что это происходит из-за несимметричного таргета - есть небольшое количество дорогих авто на которых модель очень сильно ошибается. Для симметричности ошибки необходимо зафиксировать диапазон отклонений, например от $[-5.5k, 5.5k]$ и затем сравним $MAE$ с $MSE$ "
   ]
  },
  {
   "cell_type": "code",
   "execution_count": 27,
   "id": "3ff2a732",
   "metadata": {},
   "outputs": [
    {
     "data": {
      "application/vnd.plotly.v1+json": {
       "config": {
        "plotlyServerURL": "https://plot.ly"
       },
       "data": [
        {
         "mode": "lines",
         "name": "MAE",
         "type": "scatter",
         "x": {
          "bdata": "CJsYNoQEtcBQm0eRyIe0wOBt4LV4nLHAoIAOl4/or8DgSt2PjISuwOAjDVWDY67AQA+eyF3CrMDIi5oqqfWmwNATBAAPgaLAuC+Y7/oWosBsc4Lf+NmhwEj/XkcX6p/AoGwouQ8xn8BgAhPyZySdwCCXr7hHHpvAUIlyhJFWlsDgYeclW8KSwGDB1mIwJI/AoDKMK0O1hcCwZMXLYBqDwKCyKMSp4ILAwN3J3lxbgcCgEuUIIz2AwKAzX7WYNXnAwCb/XclPZMAA9nsjb/JSwAD8rKs3vzPAAIBNl9XBM0AAaO884iRRQACYgYgT63ZAAMXz//PDfEBAQcvBgTZ/QMCn/SyCpYBAwKf9LIKlgEDYk+SAcWCEQOBxgwoma4RAsNWk8dPLhEDgQVzDCGyJQMSQ8w8QOZBAeBqV6niZkEDAZtZRiKKQQAS2ZMh7TZJAWHsSjvq+k0CgZRDyV7uUQOitUqphTp1AWA/fv2umoUDMp8Epp5elQPAv2s4aqqdAYsj5B4iXrEC29c1CQWqxQGgtaqenq7FAilrTqMJRs0CIUNIAGAS1QA==",
          "dtype": "f8"
         },
         "y": {
          "bdata": "CJsYNoQEtUBQm0eRyIe0QOBt4LV4nLFAoIAOl4/or0DgSt2PjISuQOAjDVWDY65AQA+eyF3CrEDIi5oqqfWmQNATBAAPgaJAuC+Y7/oWokBsc4Lf+NmhQEj/XkcX6p9AoGwouQ8xn0BgAhPyZySdQCCXr7hHHptAUIlyhJFWlkDgYeclW8KSQGDB1mIwJI9AoDKMK0O1hUCwZMXLYBqDQKCyKMSp4IJAwN3J3lxbgUCgEuUIIz2AQKAzX7WYNXlAwCb/XclPZEAA9nsjb/JSQAD8rKs3vzNAAIBNl9XBM0AAaO884iRRQACYgYgT63ZAAMXz//PDfEBAQcvBgTZ/QMCn/SyCpYBAwKf9LIKlgEDYk+SAcWCEQOBxgwoma4RAsNWk8dPLhEDgQVzDCGyJQMSQ8w8QOZBAeBqV6niZkEDAZtZRiKKQQAS2ZMh7TZJAWHsSjvq+k0CgZRDyV7uUQOitUqphTp1AWA/fv2umoUDMp8Epp5elQPAv2s4aqqdAYsj5B4iXrEC29c1CQWqxQGgtaqenq7FAilrTqMJRs0CIUNIAGAS1QA==",
          "dtype": "f8"
         }
        },
        {
         "mode": "markers",
         "name": "MAE points",
         "type": "scatter",
         "x": {
          "bdata": "CJsYNoQEtcBQm0eRyIe0wOBt4LV4nLHAoIAOl4/or8DgSt2PjISuwOAjDVWDY67AQA+eyF3CrMDIi5oqqfWmwNATBAAPgaLAuC+Y7/oWosBsc4Lf+NmhwEj/XkcX6p/AoGwouQ8xn8BgAhPyZySdwCCXr7hHHpvAUIlyhJFWlsDgYeclW8KSwGDB1mIwJI/AoDKMK0O1hcCwZMXLYBqDwKCyKMSp4ILAwN3J3lxbgcCgEuUIIz2AwKAzX7WYNXnAwCb/XclPZMAA9nsjb/JSwAD8rKs3vzPAAIBNl9XBM0AAaO884iRRQACYgYgT63ZAAMXz//PDfEBAQcvBgTZ/QMCn/SyCpYBAwKf9LIKlgEDYk+SAcWCEQOBxgwoma4RAsNWk8dPLhEDgQVzDCGyJQMSQ8w8QOZBAeBqV6niZkEDAZtZRiKKQQAS2ZMh7TZJAWHsSjvq+k0CgZRDyV7uUQOitUqphTp1AWA/fv2umoUDMp8Epp5elQPAv2s4aqqdAYsj5B4iXrEC29c1CQWqxQGgtaqenq7FAilrTqMJRs0CIUNIAGAS1QA==",
          "dtype": "f8"
         },
         "y": {
          "bdata": "CJsYNoQEtUBQm0eRyIe0QOBt4LV4nLFAoIAOl4/or0DgSt2PjISuQOAjDVWDY65AQA+eyF3CrEDIi5oqqfWmQNATBAAPgaJAuC+Y7/oWokBsc4Lf+NmhQEj/XkcX6p9AoGwouQ8xn0BgAhPyZySdQCCXr7hHHptAUIlyhJFWlkDgYeclW8KSQGDB1mIwJI9AoDKMK0O1hUCwZMXLYBqDQKCyKMSp4IJAwN3J3lxbgUCgEuUIIz2AQKAzX7WYNXlAwCb/XclPZEAA9nsjb/JSQAD8rKs3vzNAAIBNl9XBM0AAaO884iRRQACYgYgT63ZAAMXz//PDfEBAQcvBgTZ/QMCn/SyCpYBAwKf9LIKlgEDYk+SAcWCEQOBxgwoma4RAsNWk8dPLhEDgQVzDCGyJQMSQ8w8QOZBAeBqV6niZkEDAZtZRiKKQQAS2ZMh7TZJAWHsSjvq+k0CgZRDyV7uUQOitUqphTp1AWA/fv2umoUDMp8Epp5elQPAv2s4aqqdAYsj5B4iXrEC29c1CQWqxQGgtaqenq7FAilrTqMJRs0CIUNIAGAS1QA==",
          "dtype": "f8"
         }
        },
        {
         "mode": "lines",
         "name": "MSE",
         "type": "scatter",
         "x": {
          "bdata": "CJsYNoQEtcBQm0eRyIe0wOBt4LV4nLHAoIAOl4/or8DgSt2PjISuwOAjDVWDY67AQA+eyF3CrMDIi5oqqfWmwNATBAAPgaLAuC+Y7/oWosBsc4Lf+NmhwEj/XkcX6p/AoGwouQ8xn8BgAhPyZySdwCCXr7hHHpvAUIlyhJFWlsDgYeclW8KSwGDB1mIwJI/AoDKMK0O1hcCwZMXLYBqDwKCyKMSp4ILAwN3J3lxbgcCgEuUIIz2AwKAzX7WYNXnAwCb/XclPZMAA9nsjb/JSwAD8rKs3vzPAAIBNl9XBM0AAaO884iRRQACYgYgT63ZAAMXz//PDfEBAQcvBgTZ/QMCn/SyCpYBAwKf9LIKlgEDYk+SAcWCEQOBxgwoma4RAsNWk8dPLhEDgQVzDCGyJQMSQ8w8QOZBAeBqV6niZkEDAZtZRiKKQQAS2ZMh7TZJAWHsSjvq+k0CgZRDyV7uUQOitUqphTp1AWA/fv2umoUDMp8Epp5elQPAv2s4aqqdAYsj5B4iXrEC29c1CQWqxQGgtaqenq7FAilrTqMJRs0CIUNIAGAS1QA==",
          "dtype": "f8"
         },
         "y": {
          "bdata": "jyBgVNybe0HK0Zi99Vd6QRQy5rd6YnNBWrw+WTDRb0FlO8uXrBptQdDlMbbL22xBKfJHscDYaUHpKG+EJnlgQVt+98FyZlVBOduInNVzVEG/BMNYyupTQSnLzI491E9BCBjtrllnTkGVxPTRJYpKQfZXw641+0ZBxD22jeQvP0G/Bqf5hf41QZOjp6xGTi5BCkYj09VzHUENqNRg0c4WQbJO2ZHQRRZBoj3uCy/UEkHdrjqtL3sQQRFLFmAY3ANBUmRkSQXJ2UD4S8x002+2QPhLn3kRX3hAto9dg4dleECn7A3ItV6yQMkMo8L5aQBB9oLu7JrbCUF1A3Y/+HEOQbxa/mq0URFBvFr+arRREUE1WWsXYfMZQbqsb6esDhpBg1AnebYHG0EBPGlsOjIkQeboaKLrcjBBtmRC8bE4MUEAdK+wg0sxQbsFCb7N7zRBkrhtn3peOEEYpMZ27dw6QWRC/gHR1kpBXvRc9md4U0HO96I3tCNdQYLoRcYOgGFBzKcCnPuLaUH7ArVPjPRyQajbONr1g3NB95cjHdBTd0EEf0wOwJp7QQ==",
          "dtype": "f8"
         }
        },
        {
         "mode": "markers",
         "name": "MSE points",
         "type": "scatter",
         "x": {
          "bdata": "CJsYNoQEtcBQm0eRyIe0wOBt4LV4nLHAoIAOl4/or8DgSt2PjISuwOAjDVWDY67AQA+eyF3CrMDIi5oqqfWmwNATBAAPgaLAuC+Y7/oWosBsc4Lf+NmhwEj/XkcX6p/AoGwouQ8xn8BgAhPyZySdwCCXr7hHHpvAUIlyhJFWlsDgYeclW8KSwGDB1mIwJI/AoDKMK0O1hcCwZMXLYBqDwKCyKMSp4ILAwN3J3lxbgcCgEuUIIz2AwKAzX7WYNXnAwCb/XclPZMAA9nsjb/JSwAD8rKs3vzPAAIBNl9XBM0AAaO884iRRQACYgYgT63ZAAMXz//PDfEBAQcvBgTZ/QMCn/SyCpYBAwKf9LIKlgEDYk+SAcWCEQOBxgwoma4RAsNWk8dPLhEDgQVzDCGyJQMSQ8w8QOZBAeBqV6niZkEDAZtZRiKKQQAS2ZMh7TZJAWHsSjvq+k0CgZRDyV7uUQOitUqphTp1AWA/fv2umoUDMp8Epp5elQPAv2s4aqqdAYsj5B4iXrEC29c1CQWqxQGgtaqenq7FAilrTqMJRs0CIUNIAGAS1QA==",
          "dtype": "f8"
         },
         "y": {
          "bdata": "jyBgVNybe0HK0Zi99Vd6QRQy5rd6YnNBWrw+WTDRb0FlO8uXrBptQdDlMbbL22xBKfJHscDYaUHpKG+EJnlgQVt+98FyZlVBOduInNVzVEG/BMNYyupTQSnLzI491E9BCBjtrllnTkGVxPTRJYpKQfZXw641+0ZBxD22jeQvP0G/Bqf5hf41QZOjp6xGTi5BCkYj09VzHUENqNRg0c4WQbJO2ZHQRRZBoj3uCy/UEkHdrjqtL3sQQRFLFmAY3ANBUmRkSQXJ2UD4S8x002+2QPhLn3kRX3hAto9dg4dleECn7A3ItV6yQMkMo8L5aQBB9oLu7JrbCUF1A3Y/+HEOQbxa/mq0URFBvFr+arRREUE1WWsXYfMZQbqsb6esDhpBg1AnebYHG0EBPGlsOjIkQeboaKLrcjBBtmRC8bE4MUEAdK+wg0sxQbsFCb7N7zRBkrhtn3peOEEYpMZ27dw6QWRC/gHR1kpBXvRc9md4U0HO96I3tCNdQYLoRcYOgGFBzKcCnPuLaUH7ArVPjPRyQajbONr1g3NB95cjHdBTd0EEf0wOwJp7QQ==",
          "dtype": "f8"
         }
        }
       ],
       "layout": {
        "height": 800,
        "showlegend": true,
        "template": {
         "data": {
          "bar": [
           {
            "error_x": {
             "color": "#2a3f5f"
            },
            "error_y": {
             "color": "#2a3f5f"
            },
            "marker": {
             "line": {
              "color": "#E5ECF6",
              "width": 0.5
             },
             "pattern": {
              "fillmode": "overlay",
              "size": 10,
              "solidity": 0.2
             }
            },
            "type": "bar"
           }
          ],
          "barpolar": [
           {
            "marker": {
             "line": {
              "color": "#E5ECF6",
              "width": 0.5
             },
             "pattern": {
              "fillmode": "overlay",
              "size": 10,
              "solidity": 0.2
             }
            },
            "type": "barpolar"
           }
          ],
          "carpet": [
           {
            "aaxis": {
             "endlinecolor": "#2a3f5f",
             "gridcolor": "white",
             "linecolor": "white",
             "minorgridcolor": "white",
             "startlinecolor": "#2a3f5f"
            },
            "baxis": {
             "endlinecolor": "#2a3f5f",
             "gridcolor": "white",
             "linecolor": "white",
             "minorgridcolor": "white",
             "startlinecolor": "#2a3f5f"
            },
            "type": "carpet"
           }
          ],
          "choropleth": [
           {
            "colorbar": {
             "outlinewidth": 0,
             "ticks": ""
            },
            "type": "choropleth"
           }
          ],
          "contour": [
           {
            "colorbar": {
             "outlinewidth": 0,
             "ticks": ""
            },
            "colorscale": [
             [
              0,
              "#0d0887"
             ],
             [
              0.1111111111111111,
              "#46039f"
             ],
             [
              0.2222222222222222,
              "#7201a8"
             ],
             [
              0.3333333333333333,
              "#9c179e"
             ],
             [
              0.4444444444444444,
              "#bd3786"
             ],
             [
              0.5555555555555556,
              "#d8576b"
             ],
             [
              0.6666666666666666,
              "#ed7953"
             ],
             [
              0.7777777777777778,
              "#fb9f3a"
             ],
             [
              0.8888888888888888,
              "#fdca26"
             ],
             [
              1,
              "#f0f921"
             ]
            ],
            "type": "contour"
           }
          ],
          "contourcarpet": [
           {
            "colorbar": {
             "outlinewidth": 0,
             "ticks": ""
            },
            "type": "contourcarpet"
           }
          ],
          "heatmap": [
           {
            "colorbar": {
             "outlinewidth": 0,
             "ticks": ""
            },
            "colorscale": [
             [
              0,
              "#0d0887"
             ],
             [
              0.1111111111111111,
              "#46039f"
             ],
             [
              0.2222222222222222,
              "#7201a8"
             ],
             [
              0.3333333333333333,
              "#9c179e"
             ],
             [
              0.4444444444444444,
              "#bd3786"
             ],
             [
              0.5555555555555556,
              "#d8576b"
             ],
             [
              0.6666666666666666,
              "#ed7953"
             ],
             [
              0.7777777777777778,
              "#fb9f3a"
             ],
             [
              0.8888888888888888,
              "#fdca26"
             ],
             [
              1,
              "#f0f921"
             ]
            ],
            "type": "heatmap"
           }
          ],
          "histogram": [
           {
            "marker": {
             "pattern": {
              "fillmode": "overlay",
              "size": 10,
              "solidity": 0.2
             }
            },
            "type": "histogram"
           }
          ],
          "histogram2d": [
           {
            "colorbar": {
             "outlinewidth": 0,
             "ticks": ""
            },
            "colorscale": [
             [
              0,
              "#0d0887"
             ],
             [
              0.1111111111111111,
              "#46039f"
             ],
             [
              0.2222222222222222,
              "#7201a8"
             ],
             [
              0.3333333333333333,
              "#9c179e"
             ],
             [
              0.4444444444444444,
              "#bd3786"
             ],
             [
              0.5555555555555556,
              "#d8576b"
             ],
             [
              0.6666666666666666,
              "#ed7953"
             ],
             [
              0.7777777777777778,
              "#fb9f3a"
             ],
             [
              0.8888888888888888,
              "#fdca26"
             ],
             [
              1,
              "#f0f921"
             ]
            ],
            "type": "histogram2d"
           }
          ],
          "histogram2dcontour": [
           {
            "colorbar": {
             "outlinewidth": 0,
             "ticks": ""
            },
            "colorscale": [
             [
              0,
              "#0d0887"
             ],
             [
              0.1111111111111111,
              "#46039f"
             ],
             [
              0.2222222222222222,
              "#7201a8"
             ],
             [
              0.3333333333333333,
              "#9c179e"
             ],
             [
              0.4444444444444444,
              "#bd3786"
             ],
             [
              0.5555555555555556,
              "#d8576b"
             ],
             [
              0.6666666666666666,
              "#ed7953"
             ],
             [
              0.7777777777777778,
              "#fb9f3a"
             ],
             [
              0.8888888888888888,
              "#fdca26"
             ],
             [
              1,
              "#f0f921"
             ]
            ],
            "type": "histogram2dcontour"
           }
          ],
          "mesh3d": [
           {
            "colorbar": {
             "outlinewidth": 0,
             "ticks": ""
            },
            "type": "mesh3d"
           }
          ],
          "parcoords": [
           {
            "line": {
             "colorbar": {
              "outlinewidth": 0,
              "ticks": ""
             }
            },
            "type": "parcoords"
           }
          ],
          "pie": [
           {
            "automargin": true,
            "type": "pie"
           }
          ],
          "scatter": [
           {
            "fillpattern": {
             "fillmode": "overlay",
             "size": 10,
             "solidity": 0.2
            },
            "type": "scatter"
           }
          ],
          "scatter3d": [
           {
            "line": {
             "colorbar": {
              "outlinewidth": 0,
              "ticks": ""
             }
            },
            "marker": {
             "colorbar": {
              "outlinewidth": 0,
              "ticks": ""
             }
            },
            "type": "scatter3d"
           }
          ],
          "scattercarpet": [
           {
            "marker": {
             "colorbar": {
              "outlinewidth": 0,
              "ticks": ""
             }
            },
            "type": "scattercarpet"
           }
          ],
          "scattergeo": [
           {
            "marker": {
             "colorbar": {
              "outlinewidth": 0,
              "ticks": ""
             }
            },
            "type": "scattergeo"
           }
          ],
          "scattergl": [
           {
            "marker": {
             "colorbar": {
              "outlinewidth": 0,
              "ticks": ""
             }
            },
            "type": "scattergl"
           }
          ],
          "scattermap": [
           {
            "marker": {
             "colorbar": {
              "outlinewidth": 0,
              "ticks": ""
             }
            },
            "type": "scattermap"
           }
          ],
          "scattermapbox": [
           {
            "marker": {
             "colorbar": {
              "outlinewidth": 0,
              "ticks": ""
             }
            },
            "type": "scattermapbox"
           }
          ],
          "scatterpolar": [
           {
            "marker": {
             "colorbar": {
              "outlinewidth": 0,
              "ticks": ""
             }
            },
            "type": "scatterpolar"
           }
          ],
          "scatterpolargl": [
           {
            "marker": {
             "colorbar": {
              "outlinewidth": 0,
              "ticks": ""
             }
            },
            "type": "scatterpolargl"
           }
          ],
          "scatterternary": [
           {
            "marker": {
             "colorbar": {
              "outlinewidth": 0,
              "ticks": ""
             }
            },
            "type": "scatterternary"
           }
          ],
          "surface": [
           {
            "colorbar": {
             "outlinewidth": 0,
             "ticks": ""
            },
            "colorscale": [
             [
              0,
              "#0d0887"
             ],
             [
              0.1111111111111111,
              "#46039f"
             ],
             [
              0.2222222222222222,
              "#7201a8"
             ],
             [
              0.3333333333333333,
              "#9c179e"
             ],
             [
              0.4444444444444444,
              "#bd3786"
             ],
             [
              0.5555555555555556,
              "#d8576b"
             ],
             [
              0.6666666666666666,
              "#ed7953"
             ],
             [
              0.7777777777777778,
              "#fb9f3a"
             ],
             [
              0.8888888888888888,
              "#fdca26"
             ],
             [
              1,
              "#f0f921"
             ]
            ],
            "type": "surface"
           }
          ],
          "table": [
           {
            "cells": {
             "fill": {
              "color": "#EBF0F8"
             },
             "line": {
              "color": "white"
             }
            },
            "header": {
             "fill": {
              "color": "#C8D4E3"
             },
             "line": {
              "color": "white"
             }
            },
            "type": "table"
           }
          ]
         },
         "layout": {
          "annotationdefaults": {
           "arrowcolor": "#2a3f5f",
           "arrowhead": 0,
           "arrowwidth": 1
          },
          "autotypenumbers": "strict",
          "coloraxis": {
           "colorbar": {
            "outlinewidth": 0,
            "ticks": ""
           }
          },
          "colorscale": {
           "diverging": [
            [
             0,
             "#8e0152"
            ],
            [
             0.1,
             "#c51b7d"
            ],
            [
             0.2,
             "#de77ae"
            ],
            [
             0.3,
             "#f1b6da"
            ],
            [
             0.4,
             "#fde0ef"
            ],
            [
             0.5,
             "#f7f7f7"
            ],
            [
             0.6,
             "#e6f5d0"
            ],
            [
             0.7,
             "#b8e186"
            ],
            [
             0.8,
             "#7fbc41"
            ],
            [
             0.9,
             "#4d9221"
            ],
            [
             1,
             "#276419"
            ]
           ],
           "sequential": [
            [
             0,
             "#0d0887"
            ],
            [
             0.1111111111111111,
             "#46039f"
            ],
            [
             0.2222222222222222,
             "#7201a8"
            ],
            [
             0.3333333333333333,
             "#9c179e"
            ],
            [
             0.4444444444444444,
             "#bd3786"
            ],
            [
             0.5555555555555556,
             "#d8576b"
            ],
            [
             0.6666666666666666,
             "#ed7953"
            ],
            [
             0.7777777777777778,
             "#fb9f3a"
            ],
            [
             0.8888888888888888,
             "#fdca26"
            ],
            [
             1,
             "#f0f921"
            ]
           ],
           "sequentialminus": [
            [
             0,
             "#0d0887"
            ],
            [
             0.1111111111111111,
             "#46039f"
            ],
            [
             0.2222222222222222,
             "#7201a8"
            ],
            [
             0.3333333333333333,
             "#9c179e"
            ],
            [
             0.4444444444444444,
             "#bd3786"
            ],
            [
             0.5555555555555556,
             "#d8576b"
            ],
            [
             0.6666666666666666,
             "#ed7953"
            ],
            [
             0.7777777777777778,
             "#fb9f3a"
            ],
            [
             0.8888888888888888,
             "#fdca26"
            ],
            [
             1,
             "#f0f921"
            ]
           ]
          },
          "colorway": [
           "#636efa",
           "#EF553B",
           "#00cc96",
           "#ab63fa",
           "#FFA15A",
           "#19d3f3",
           "#FF6692",
           "#B6E880",
           "#FF97FF",
           "#FECB52"
          ],
          "font": {
           "color": "#2a3f5f"
          },
          "geo": {
           "bgcolor": "white",
           "lakecolor": "white",
           "landcolor": "#E5ECF6",
           "showlakes": true,
           "showland": true,
           "subunitcolor": "white"
          },
          "hoverlabel": {
           "align": "left"
          },
          "hovermode": "closest",
          "mapbox": {
           "style": "light"
          },
          "paper_bgcolor": "white",
          "plot_bgcolor": "#E5ECF6",
          "polar": {
           "angularaxis": {
            "gridcolor": "white",
            "linecolor": "white",
            "ticks": ""
           },
           "bgcolor": "#E5ECF6",
           "radialaxis": {
            "gridcolor": "white",
            "linecolor": "white",
            "ticks": ""
           }
          },
          "scene": {
           "xaxis": {
            "backgroundcolor": "#E5ECF6",
            "gridcolor": "white",
            "gridwidth": 2,
            "linecolor": "white",
            "showbackground": true,
            "ticks": "",
            "zerolinecolor": "white"
           },
           "yaxis": {
            "backgroundcolor": "#E5ECF6",
            "gridcolor": "white",
            "gridwidth": 2,
            "linecolor": "white",
            "showbackground": true,
            "ticks": "",
            "zerolinecolor": "white"
           },
           "zaxis": {
            "backgroundcolor": "#E5ECF6",
            "gridcolor": "white",
            "gridwidth": 2,
            "linecolor": "white",
            "showbackground": true,
            "ticks": "",
            "zerolinecolor": "white"
           }
          },
          "shapedefaults": {
           "line": {
            "color": "#2a3f5f"
           }
          },
          "ternary": {
           "aaxis": {
            "gridcolor": "white",
            "linecolor": "white",
            "ticks": ""
           },
           "baxis": {
            "gridcolor": "white",
            "linecolor": "white",
            "ticks": ""
           },
           "bgcolor": "#E5ECF6",
           "caxis": {
            "gridcolor": "white",
            "linecolor": "white",
            "ticks": ""
           }
          },
          "title": {
           "x": 0.05
          },
          "xaxis": {
           "automargin": true,
           "gridcolor": "white",
           "linecolor": "white",
           "ticks": "",
           "title": {
            "standoff": 15
           },
           "zerolinecolor": "white",
           "zerolinewidth": 2
          },
          "yaxis": {
           "automargin": true,
           "gridcolor": "white",
           "linecolor": "white",
           "ticks": "",
           "title": {
            "standoff": 15
           },
           "zerolinecolor": "white",
           "zerolinewidth": 2
          }
         }
        },
        "title": {
         "text": "Ошибки моделей: MAE vs MSE"
        },
        "width": 1000,
        "xaxis": {
         "title": {
          "text": "Отклонение"
         }
        },
        "yaxis": {
         "title": {
          "text": "Величина ошибки"
         }
        }
       }
      }
     },
     "metadata": {},
     "output_type": "display_data"
    }
   ],
   "source": [
    "fig = go.Figure()\n",
    "\n",
    "metrics_results_cut['error_abs'] = metrics_results['error'].abs()\n",
    "\n",
    "# MAE\n",
    "fig.add_trace(go.Scatter(\n",
    "    x=metrics_results_cut[\"error\"],\n",
    "    y=metrics_results_cut[\"error_abs\"],\n",
    "    mode=\"lines\",\n",
    "    name=\"MAE\"\n",
    "))\n",
    "\n",
    "fig.add_trace(go.Scatter(\n",
    "    x=metrics_results_cut[\"error\"],\n",
    "    y=metrics_results_cut[\"error_abs\"],\n",
    "    mode=\"markers\",\n",
    "    name=\"MAE points\"\n",
    "))\n",
    "\n",
    "# MSE\n",
    "fig.add_trace(go.Scatter(\n",
    "    x=metrics_results_cut[\"error\"],\n",
    "    y=metrics_results_cut[\"error_squared\"],\n",
    "    mode=\"lines\",\n",
    "    name=\"MSE\"\n",
    "))\n",
    "\n",
    "fig.add_trace(go.Scatter(\n",
    "    x=metrics_results_cut[\"error\"],\n",
    "    y=metrics_results_cut[\"error_squared\"],\n",
    "    mode=\"markers\",\n",
    "    name=\"MSE points\"\n",
    "))\n",
    "\n",
    "fig.update_layout(\n",
    "    height=800, width=1000,\n",
    "    title_text=\"Ошибки моделей: MAE vs MSE\",\n",
    "    xaxis_title=\"Отклонение\",\n",
    "    yaxis_title=\"Величина ошибки\",\n",
    "    showlegend=True\n",
    ")\n",
    "\n",
    "fig.show()\n"
   ]
  },
  {
   "cell_type": "markdown",
   "id": "c1c39872",
   "metadata": {},
   "source": [
    "Функция ошибки для MAE выглядит как симметричная галочка — прямые под углом 45° по обе стороны от нуля. На графике выше удобно сравнивать штрафы для $MSE$ и $MAE$:\n",
    "- Xорошо видно, что $MSE$ сильнее наказывает за большие отклонения\n",
    "\n",
    "Однако, тот факт, что $MAE$ устойчив к выбросам - не означает что теперь необходимо использовать только эту метрику. Крупные ошибки могут быть важны, поэтому в этом случае лучше всего сработает $MSE$. Также у данной метрики есть недостаток, связанный с производной - функция ошибки не дифференцируется в нуле, и градиентные методы перестают работать, нона практике используют \"хитрости\", решающие эту проблему:\n",
    "\n",
    "- Вычисляют \"субградиенты\"\n",
    "    - В нуле берут множество различных градиентов на отрезке $[-1, 1]$. Оптимизация работает, но медленнее и менее устойчива, чем для $MSE$\n",
    "\n",
    "- Применение сглаживаний\n",
    "    - Заменяют $MAE$ на различиные приближения - $Huber loss$, $Smooth L1 loss$ ...\n",
    "\n",
    "- Не градиентный методы\n",
    "    - Например, линейное программирование или методы оптимизации, специально работающие с кусочно-линейными функциями."
   ]
  },
  {
   "cell_type": "markdown",
   "id": "b5b36032",
   "metadata": {},
   "source": [
    "## Средняя абсолютная ошибка в процентах | Mean Absolute Percentage Error | MAPE\n",
    "Зачастую на практике важнее не абсолютная величина ошибки, а её размер в процентах - то есть на сколько мы ошибаемся <u>относительно</u> самого фактического значения:\n",
    "\n",
    "$$\n",
    "MAPE = \\frac{1}{n} \\sum_{i=1}^n \\frac{|y_i - \\hat{y}_i|}{|y_i|}  100\\%\n",
    "$$\n",
    "\n",
    "Для хорошего понимая предлагаю рассмотреть вот такой пример. Допустим, ты решил построить модель, предсказывающую спрос на букеты роз в цветочном магазине. Если твоя модель прогнозирует 1 букет, а на спрос был 10 букетов, то это не тоже самое, что предсказать 1000, а продать 1009. Если замерить абсолютную ошибку, то она будет мала и одинакова для 2-х случаев - всего 9 букетов. \n",
    "\n",
    "Однако, если эту величну взять относительно истинного значения, то ужас! В первом случае ты ошибся в 10 раз, а во втором совсем чуть-чуть. На практике, данну метрику переводят в проценты путем умножения $MAPE$ на 100"
   ]
  },
  {
   "cell_type": "code",
   "execution_count": 28,
   "id": "d9e11c0e",
   "metadata": {},
   "outputs": [
    {
     "name": "stdout",
     "output_type": "stream",
     "text": [
      "Абсолютная ошибка: [9, 9, 9]\n",
      "Относительная абсолютная ошибка:  [90.0, 0.8919722497522299, inf]\n",
      "Средняя относительная абсолютная ошибка в % (MAPE):  30000000030.29732\n"
     ]
    }
   ],
   "source": [
    "# закодим метрику\n",
    "def mean_absolute_percentage_error(y_true, y_pred):\n",
    "    y_true, y_pred = np.array(y_true), np.array(y_pred)\n",
    "    return 100 * np.mean(np.abs(y_pred - y_true) / (np.abs(y_true) + 1e-8))\n",
    "\n",
    "# рассчитаем MAPE для нашего игрушечного примера\n",
    "true = np.array([10, 1009, 0])\n",
    "pred = np.array([1, 1000, 9])\n",
    "\n",
    "abs_error = np.abs(true - pred)\n",
    "print('Абсолютная ошибка:', abs_error.tolist())\n",
    "\n",
    "abs_pct_error = (abs_error / true) * 100\n",
    "print('Относительная абсолютная ошибка: ', abs_pct_error.tolist())\n",
    "\n",
    "mape = mean_absolute_percentage_error(true, pred)\n",
    "print('Средняя относительная абсолютная ошибка в % (MAPE): ', mape)\n"
   ]
  },
  {
   "cell_type": "markdown",
   "id": "f55fd906",
   "metadata": {},
   "source": [
    "- Выходит, что в первом случае модель ошибается на 90%, во втором на ~0.9%, а в 3-ем на бесконечность. Я специально добавил ноль, чтобы продемонстрировать неопределенность метрики.\n",
    "\n",
    "Теперь давай взглянем на функциональную зависимость данной метрики. Для симметричности ошибки необходимо зафиксировать диапазон отклонений, например от $[-5.5k, 5.5k]$"
   ]
  },
  {
   "cell_type": "code",
   "execution_count": 29,
   "id": "8634ff82",
   "metadata": {},
   "outputs": [
    {
     "data": {
      "application/vnd.plotly.v1+json": {
       "config": {
        "plotlyServerURL": "https://plot.ly"
       },
       "data": [
        {
         "hovertemplate": "Отклонение=%{x}<br>Относительная ошибка, %=%{y}<extra></extra>",
         "legendgroup": "",
         "line": {
          "color": "#636efa",
          "dash": "solid"
         },
         "marker": {
          "symbol": "circle"
         },
         "mode": "lines",
         "name": "",
         "orientation": "v",
         "showlegend": false,
         "type": "scatter",
         "x": {
          "bdata": "CJsYNoQEtcBQm0eRyIe0wOBt4LV4nLHAoIAOl4/or8DgSt2PjISuwOAjDVWDY67AQA+eyF3CrMDIi5oqqfWmwNATBAAPgaLAuC+Y7/oWosBsc4Lf+NmhwEj/XkcX6p/AoGwouQ8xn8BgAhPyZySdwCCXr7hHHpvAUIlyhJFWlsDgYeclW8KSwGDB1mIwJI/AoDKMK0O1hcCwZMXLYBqDwKCyKMSp4ILAwN3J3lxbgcCgEuUIIz2AwKAzX7WYNXnAwCb/XclPZMAA9nsjb/JSwAD8rKs3vzPAAIBNl9XBM0AAaO884iRRQACYgYgT63ZAAMXz//PDfEBAQcvBgTZ/QMCn/SyCpYBAwKf9LIKlgEDYk+SAcWCEQOBxgwoma4RAsNWk8dPLhEDgQVzDCGyJQMSQ8w8QOZBAeBqV6niZkEDAZtZRiKKQQAS2ZMh7TZJAWHsSjvq+k0CgZRDyV7uUQOitUqphTp1AWA/fv2umoUDMp8Epp5elQPAv2s4aqqdAYsj5B4iXrEC29c1CQWqxQGgtaqenq7FAilrTqMJRs0CIUNIAGAS1QA==",
          "dtype": "f8"
         },
         "xaxis": "x",
         "y": {
          "bdata": "MpZZ/wRpQ0A45O+68s5EQDcVq+bZE0FAcLt4dyo8QkDJuMgnapc3QFWYdFql2DpAEIk0MthwO0AoifPZrnhAQMbWCv2ThjlA+hj21roPLEAKOOP0ohc3QAb6Ytfz0jZAIsRKebO/OkDmPLJmf3ovQDSP/Csxay9Abfsg1o+gLEDQA4FS2xsuQJsFZR3+UShACLZeajUYHkCTWmE8t7cVQChn8JtvVRlAKbHZw8zrG0B+WMbZqxITQBkvAHcQsAxACJ9JEUofCECYM97AiBTOP/XnX3LGjtE//CVP6TCe0D8yZV90y4PjPwhbFekw1AJAY5TaUG41EUBOmzlsdiMgQMifahd/GiFAyJ9qF38aIUC9gZmssBkkQLXWKW64cCVASVd/StBuI0C75ZbeoWoSQLmbAt9VfjBAwYc5Vl4oMECkYnLikFAcQFlBrfq1SS1A1ukgG75LIEBPxPaM0oYzQICo+/dZQjRA6NEUZv57M0BF04DDQFRFQHxjKyl8tSdAEgXyPr6FREDec/oyEX88QM8/uiXJITRA63w6lf4AWEBJPMUQiMc3QA==",
          "dtype": "f8"
         },
         "yaxis": "y"
        },
        {
         "mode": "markers",
         "name": "points",
         "type": "scatter",
         "x": {
          "bdata": "CJsYNoQEtcBQm0eRyIe0wOBt4LV4nLHAoIAOl4/or8DgSt2PjISuwOAjDVWDY67AQA+eyF3CrMDIi5oqqfWmwNATBAAPgaLAuC+Y7/oWosBsc4Lf+NmhwEj/XkcX6p/AoGwouQ8xn8BgAhPyZySdwCCXr7hHHpvAUIlyhJFWlsDgYeclW8KSwGDB1mIwJI/AoDKMK0O1hcCwZMXLYBqDwKCyKMSp4ILAwN3J3lxbgcCgEuUIIz2AwKAzX7WYNXnAwCb/XclPZMAA9nsjb/JSwAD8rKs3vzPAAIBNl9XBM0AAaO884iRRQACYgYgT63ZAAMXz//PDfEBAQcvBgTZ/QMCn/SyCpYBAwKf9LIKlgEDYk+SAcWCEQOBxgwoma4RAsNWk8dPLhEDgQVzDCGyJQMSQ8w8QOZBAeBqV6niZkEDAZtZRiKKQQAS2ZMh7TZJAWHsSjvq+k0CgZRDyV7uUQOitUqphTp1AWA/fv2umoUDMp8Epp5elQPAv2s4aqqdAYsj5B4iXrEC29c1CQWqxQGgtaqenq7FAilrTqMJRs0CIUNIAGAS1QA==",
          "dtype": "f8"
         },
         "y": {
          "bdata": "MpZZ/wRpQ0A45O+68s5EQDcVq+bZE0FAcLt4dyo8QkDJuMgnapc3QFWYdFql2DpAEIk0MthwO0AoifPZrnhAQMbWCv2ThjlA+hj21roPLEAKOOP0ohc3QAb6Ytfz0jZAIsRKebO/OkDmPLJmf3ovQDSP/Csxay9Abfsg1o+gLEDQA4FS2xsuQJsFZR3+UShACLZeajUYHkCTWmE8t7cVQChn8JtvVRlAKbHZw8zrG0B+WMbZqxITQBkvAHcQsAxACJ9JEUofCECYM97AiBTOP/XnX3LGjtE//CVP6TCe0D8yZV90y4PjPwhbFekw1AJAY5TaUG41EUBOmzlsdiMgQMifahd/GiFAyJ9qF38aIUC9gZmssBkkQLXWKW64cCVASVd/StBuI0C75ZbeoWoSQLmbAt9VfjBAwYc5Vl4oMECkYnLikFAcQFlBrfq1SS1A1ukgG75LIEBPxPaM0oYzQICo+/dZQjRA6NEUZv57M0BF04DDQFRFQHxjKyl8tSdAEgXyPr6FREDec/oyEX88QM8/uiXJITRA63w6lf4AWEBJPMUQiMc3QA==",
          "dtype": "f8"
         }
        }
       ],
       "layout": {
        "height": 700,
        "legend": {
         "tracegroupgap": 0
        },
        "showlegend": true,
        "template": {
         "data": {
          "bar": [
           {
            "error_x": {
             "color": "#2a3f5f"
            },
            "error_y": {
             "color": "#2a3f5f"
            },
            "marker": {
             "line": {
              "color": "#E5ECF6",
              "width": 0.5
             },
             "pattern": {
              "fillmode": "overlay",
              "size": 10,
              "solidity": 0.2
             }
            },
            "type": "bar"
           }
          ],
          "barpolar": [
           {
            "marker": {
             "line": {
              "color": "#E5ECF6",
              "width": 0.5
             },
             "pattern": {
              "fillmode": "overlay",
              "size": 10,
              "solidity": 0.2
             }
            },
            "type": "barpolar"
           }
          ],
          "carpet": [
           {
            "aaxis": {
             "endlinecolor": "#2a3f5f",
             "gridcolor": "white",
             "linecolor": "white",
             "minorgridcolor": "white",
             "startlinecolor": "#2a3f5f"
            },
            "baxis": {
             "endlinecolor": "#2a3f5f",
             "gridcolor": "white",
             "linecolor": "white",
             "minorgridcolor": "white",
             "startlinecolor": "#2a3f5f"
            },
            "type": "carpet"
           }
          ],
          "choropleth": [
           {
            "colorbar": {
             "outlinewidth": 0,
             "ticks": ""
            },
            "type": "choropleth"
           }
          ],
          "contour": [
           {
            "colorbar": {
             "outlinewidth": 0,
             "ticks": ""
            },
            "colorscale": [
             [
              0,
              "#0d0887"
             ],
             [
              0.1111111111111111,
              "#46039f"
             ],
             [
              0.2222222222222222,
              "#7201a8"
             ],
             [
              0.3333333333333333,
              "#9c179e"
             ],
             [
              0.4444444444444444,
              "#bd3786"
             ],
             [
              0.5555555555555556,
              "#d8576b"
             ],
             [
              0.6666666666666666,
              "#ed7953"
             ],
             [
              0.7777777777777778,
              "#fb9f3a"
             ],
             [
              0.8888888888888888,
              "#fdca26"
             ],
             [
              1,
              "#f0f921"
             ]
            ],
            "type": "contour"
           }
          ],
          "contourcarpet": [
           {
            "colorbar": {
             "outlinewidth": 0,
             "ticks": ""
            },
            "type": "contourcarpet"
           }
          ],
          "heatmap": [
           {
            "colorbar": {
             "outlinewidth": 0,
             "ticks": ""
            },
            "colorscale": [
             [
              0,
              "#0d0887"
             ],
             [
              0.1111111111111111,
              "#46039f"
             ],
             [
              0.2222222222222222,
              "#7201a8"
             ],
             [
              0.3333333333333333,
              "#9c179e"
             ],
             [
              0.4444444444444444,
              "#bd3786"
             ],
             [
              0.5555555555555556,
              "#d8576b"
             ],
             [
              0.6666666666666666,
              "#ed7953"
             ],
             [
              0.7777777777777778,
              "#fb9f3a"
             ],
             [
              0.8888888888888888,
              "#fdca26"
             ],
             [
              1,
              "#f0f921"
             ]
            ],
            "type": "heatmap"
           }
          ],
          "histogram": [
           {
            "marker": {
             "pattern": {
              "fillmode": "overlay",
              "size": 10,
              "solidity": 0.2
             }
            },
            "type": "histogram"
           }
          ],
          "histogram2d": [
           {
            "colorbar": {
             "outlinewidth": 0,
             "ticks": ""
            },
            "colorscale": [
             [
              0,
              "#0d0887"
             ],
             [
              0.1111111111111111,
              "#46039f"
             ],
             [
              0.2222222222222222,
              "#7201a8"
             ],
             [
              0.3333333333333333,
              "#9c179e"
             ],
             [
              0.4444444444444444,
              "#bd3786"
             ],
             [
              0.5555555555555556,
              "#d8576b"
             ],
             [
              0.6666666666666666,
              "#ed7953"
             ],
             [
              0.7777777777777778,
              "#fb9f3a"
             ],
             [
              0.8888888888888888,
              "#fdca26"
             ],
             [
              1,
              "#f0f921"
             ]
            ],
            "type": "histogram2d"
           }
          ],
          "histogram2dcontour": [
           {
            "colorbar": {
             "outlinewidth": 0,
             "ticks": ""
            },
            "colorscale": [
             [
              0,
              "#0d0887"
             ],
             [
              0.1111111111111111,
              "#46039f"
             ],
             [
              0.2222222222222222,
              "#7201a8"
             ],
             [
              0.3333333333333333,
              "#9c179e"
             ],
             [
              0.4444444444444444,
              "#bd3786"
             ],
             [
              0.5555555555555556,
              "#d8576b"
             ],
             [
              0.6666666666666666,
              "#ed7953"
             ],
             [
              0.7777777777777778,
              "#fb9f3a"
             ],
             [
              0.8888888888888888,
              "#fdca26"
             ],
             [
              1,
              "#f0f921"
             ]
            ],
            "type": "histogram2dcontour"
           }
          ],
          "mesh3d": [
           {
            "colorbar": {
             "outlinewidth": 0,
             "ticks": ""
            },
            "type": "mesh3d"
           }
          ],
          "parcoords": [
           {
            "line": {
             "colorbar": {
              "outlinewidth": 0,
              "ticks": ""
             }
            },
            "type": "parcoords"
           }
          ],
          "pie": [
           {
            "automargin": true,
            "type": "pie"
           }
          ],
          "scatter": [
           {
            "fillpattern": {
             "fillmode": "overlay",
             "size": 10,
             "solidity": 0.2
            },
            "type": "scatter"
           }
          ],
          "scatter3d": [
           {
            "line": {
             "colorbar": {
              "outlinewidth": 0,
              "ticks": ""
             }
            },
            "marker": {
             "colorbar": {
              "outlinewidth": 0,
              "ticks": ""
             }
            },
            "type": "scatter3d"
           }
          ],
          "scattercarpet": [
           {
            "marker": {
             "colorbar": {
              "outlinewidth": 0,
              "ticks": ""
             }
            },
            "type": "scattercarpet"
           }
          ],
          "scattergeo": [
           {
            "marker": {
             "colorbar": {
              "outlinewidth": 0,
              "ticks": ""
             }
            },
            "type": "scattergeo"
           }
          ],
          "scattergl": [
           {
            "marker": {
             "colorbar": {
              "outlinewidth": 0,
              "ticks": ""
             }
            },
            "type": "scattergl"
           }
          ],
          "scattermap": [
           {
            "marker": {
             "colorbar": {
              "outlinewidth": 0,
              "ticks": ""
             }
            },
            "type": "scattermap"
           }
          ],
          "scattermapbox": [
           {
            "marker": {
             "colorbar": {
              "outlinewidth": 0,
              "ticks": ""
             }
            },
            "type": "scattermapbox"
           }
          ],
          "scatterpolar": [
           {
            "marker": {
             "colorbar": {
              "outlinewidth": 0,
              "ticks": ""
             }
            },
            "type": "scatterpolar"
           }
          ],
          "scatterpolargl": [
           {
            "marker": {
             "colorbar": {
              "outlinewidth": 0,
              "ticks": ""
             }
            },
            "type": "scatterpolargl"
           }
          ],
          "scatterternary": [
           {
            "marker": {
             "colorbar": {
              "outlinewidth": 0,
              "ticks": ""
             }
            },
            "type": "scatterternary"
           }
          ],
          "surface": [
           {
            "colorbar": {
             "outlinewidth": 0,
             "ticks": ""
            },
            "colorscale": [
             [
              0,
              "#0d0887"
             ],
             [
              0.1111111111111111,
              "#46039f"
             ],
             [
              0.2222222222222222,
              "#7201a8"
             ],
             [
              0.3333333333333333,
              "#9c179e"
             ],
             [
              0.4444444444444444,
              "#bd3786"
             ],
             [
              0.5555555555555556,
              "#d8576b"
             ],
             [
              0.6666666666666666,
              "#ed7953"
             ],
             [
              0.7777777777777778,
              "#fb9f3a"
             ],
             [
              0.8888888888888888,
              "#fdca26"
             ],
             [
              1,
              "#f0f921"
             ]
            ],
            "type": "surface"
           }
          ],
          "table": [
           {
            "cells": {
             "fill": {
              "color": "#EBF0F8"
             },
             "line": {
              "color": "white"
             }
            },
            "header": {
             "fill": {
              "color": "#C8D4E3"
             },
             "line": {
              "color": "white"
             }
            },
            "type": "table"
           }
          ]
         },
         "layout": {
          "annotationdefaults": {
           "arrowcolor": "#2a3f5f",
           "arrowhead": 0,
           "arrowwidth": 1
          },
          "autotypenumbers": "strict",
          "coloraxis": {
           "colorbar": {
            "outlinewidth": 0,
            "ticks": ""
           }
          },
          "colorscale": {
           "diverging": [
            [
             0,
             "#8e0152"
            ],
            [
             0.1,
             "#c51b7d"
            ],
            [
             0.2,
             "#de77ae"
            ],
            [
             0.3,
             "#f1b6da"
            ],
            [
             0.4,
             "#fde0ef"
            ],
            [
             0.5,
             "#f7f7f7"
            ],
            [
             0.6,
             "#e6f5d0"
            ],
            [
             0.7,
             "#b8e186"
            ],
            [
             0.8,
             "#7fbc41"
            ],
            [
             0.9,
             "#4d9221"
            ],
            [
             1,
             "#276419"
            ]
           ],
           "sequential": [
            [
             0,
             "#0d0887"
            ],
            [
             0.1111111111111111,
             "#46039f"
            ],
            [
             0.2222222222222222,
             "#7201a8"
            ],
            [
             0.3333333333333333,
             "#9c179e"
            ],
            [
             0.4444444444444444,
             "#bd3786"
            ],
            [
             0.5555555555555556,
             "#d8576b"
            ],
            [
             0.6666666666666666,
             "#ed7953"
            ],
            [
             0.7777777777777778,
             "#fb9f3a"
            ],
            [
             0.8888888888888888,
             "#fdca26"
            ],
            [
             1,
             "#f0f921"
            ]
           ],
           "sequentialminus": [
            [
             0,
             "#0d0887"
            ],
            [
             0.1111111111111111,
             "#46039f"
            ],
            [
             0.2222222222222222,
             "#7201a8"
            ],
            [
             0.3333333333333333,
             "#9c179e"
            ],
            [
             0.4444444444444444,
             "#bd3786"
            ],
            [
             0.5555555555555556,
             "#d8576b"
            ],
            [
             0.6666666666666666,
             "#ed7953"
            ],
            [
             0.7777777777777778,
             "#fb9f3a"
            ],
            [
             0.8888888888888888,
             "#fdca26"
            ],
            [
             1,
             "#f0f921"
            ]
           ]
          },
          "colorway": [
           "#636efa",
           "#EF553B",
           "#00cc96",
           "#ab63fa",
           "#FFA15A",
           "#19d3f3",
           "#FF6692",
           "#B6E880",
           "#FF97FF",
           "#FECB52"
          ],
          "font": {
           "color": "#2a3f5f"
          },
          "geo": {
           "bgcolor": "white",
           "lakecolor": "white",
           "landcolor": "#E5ECF6",
           "showlakes": true,
           "showland": true,
           "subunitcolor": "white"
          },
          "hoverlabel": {
           "align": "left"
          },
          "hovermode": "closest",
          "mapbox": {
           "style": "light"
          },
          "paper_bgcolor": "white",
          "plot_bgcolor": "#E5ECF6",
          "polar": {
           "angularaxis": {
            "gridcolor": "white",
            "linecolor": "white",
            "ticks": ""
           },
           "bgcolor": "#E5ECF6",
           "radialaxis": {
            "gridcolor": "white",
            "linecolor": "white",
            "ticks": ""
           }
          },
          "scene": {
           "xaxis": {
            "backgroundcolor": "#E5ECF6",
            "gridcolor": "white",
            "gridwidth": 2,
            "linecolor": "white",
            "showbackground": true,
            "ticks": "",
            "zerolinecolor": "white"
           },
           "yaxis": {
            "backgroundcolor": "#E5ECF6",
            "gridcolor": "white",
            "gridwidth": 2,
            "linecolor": "white",
            "showbackground": true,
            "ticks": "",
            "zerolinecolor": "white"
           },
           "zaxis": {
            "backgroundcolor": "#E5ECF6",
            "gridcolor": "white",
            "gridwidth": 2,
            "linecolor": "white",
            "showbackground": true,
            "ticks": "",
            "zerolinecolor": "white"
           }
          },
          "shapedefaults": {
           "line": {
            "color": "#2a3f5f"
           }
          },
          "ternary": {
           "aaxis": {
            "gridcolor": "white",
            "linecolor": "white",
            "ticks": ""
           },
           "baxis": {
            "gridcolor": "white",
            "linecolor": "white",
            "ticks": ""
           },
           "bgcolor": "#E5ECF6",
           "caxis": {
            "gridcolor": "white",
            "linecolor": "white",
            "ticks": ""
           }
          },
          "title": {
           "x": 0.05
          },
          "xaxis": {
           "automargin": true,
           "gridcolor": "white",
           "linecolor": "white",
           "ticks": "",
           "title": {
            "standoff": 15
           },
           "zerolinecolor": "white",
           "zerolinewidth": 2
          },
          "yaxis": {
           "automargin": true,
           "gridcolor": "white",
           "linecolor": "white",
           "ticks": "",
           "title": {
            "standoff": 15
           },
           "zerolinecolor": "white",
           "zerolinewidth": 2
          }
         }
        },
        "title": {
         "text": "Mean Absolute Percentage Error"
        },
        "width": 1000,
        "xaxis": {
         "anchor": "y",
         "domain": [
          0,
          1
         ],
         "title": {
          "text": "Отклонение"
         }
        },
        "yaxis": {
         "anchor": "x",
         "domain": [
          0,
          1
         ],
         "title": {
          "text": "Относительная ошибка, %"
         }
        }
       }
      }
     },
     "metadata": {},
     "output_type": "display_data"
    }
   ],
   "source": [
    "# добавим относительную ошибку (percentage error)\n",
    "metrics_results_cut['error_pct'] = (metrics_results_cut['error_abs'] / metrics_results_cut['true']) * 100\n",
    "\n",
    "fig = px.line(\n",
    "    metrics_results_cut,\n",
    "    x=\"error\",\n",
    "    y=\"error_pct\",\n",
    "    title=\"Mean Absolute Percentage Error\",\n",
    "    labels={\"error\": \"Отклонение\", \"error_pct\": \"Относительная ошибка, %\"}\n",
    ")\n",
    "\n",
    "fig.add_scatter(\n",
    "    x=metrics_results_cut[\"error\"], y=metrics_results_cut[\"error_pct\"], mode=\"markers\", name=\"points\"\n",
    ")\n",
    "\n",
    "fig.update_layout(\n",
    "    height=700, width=1000,\n",
    "    title_text=\"Mean Absolute Percentage Error\",\n",
    "    showlegend=True\n",
    ")"
   ]
  },
  {
   "cell_type": "markdown",
   "id": "00da79a7",
   "metadata": {},
   "source": [
    "- График хорошо демонстрирует несиммеричность ошибки. Есть отклонения, на которых относительная ошибка становится очень большой"
   ]
  },
  {
   "cell_type": "markdown",
   "id": "3cc45312",
   "metadata": {},
   "source": [
    "## Минусы MAPE\n",
    "Я бы не рекомендовал использовать $MAPE$ на начальных этапах построения модели, так как метрика очень чувствительна как к прогнозам, так и к известным значениям таргета. Очень часто проблема новичков - берут метрику и получают просто космические ошибки в процентах или отрицательные значения. Так не пойдет, необходимо разбираться ... \n",
    "\n",
    "- *Чувствительность к нулевым и малым значениям таргета*\n",
    "    - Если есть хоть один ноль в таргете, то $MAPE$ автоматически становится неопределен. \n",
    "    - Малые значения таргета сильно \"раздувают\" ошибку, что создает впечатления \"ужасной\" модели. На обучении модель \"понимает\", что лучше недопредсказывать малые значения таргета, что ведет к bias.\n",
    "\n",
    "- *Смещенность*\n",
    "    - Метрика может быть смещена в прогнозы, которые чаще оказываются меньше реальных значений - систематически недопрогнозирует. Будет казаться, что модель работает лучше, чем она есть на самом деле.\n",
    "\n",
    "- *Несимметричность*\n",
    "    - Метрика сильнее штрафует за \"перепрогноз\" - \"строже\" оценивает недооценку, чем переоценку, что делает её нессиметричной относительно фактического значения:\n",
    "\n",
    "        - Перепрогноз: $y = 1$, $\\hat{y} = 2$, $error_{abs} = 1$, $MAPE = 100\\%$\n",
    "\n",
    "        - Недопрогноз: $y = 2$, $\\hat{y} = 1$, $error_{abs} = 1$, $MAPE = 50\\%$"
   ]
  },
  {
   "cell_type": "markdown",
   "id": "5ab60e7d",
   "metadata": {},
   "source": [
    "Давай создадим график на котором можно будет легко оценивать влияние недопрогноза и перепрогноза для конкрентного значения целевой переменной  $y$"
   ]
  },
  {
   "cell_type": "code",
   "execution_count": 30,
   "id": "1ee62a5d",
   "metadata": {},
   "outputs": [
    {
     "data": {
      "application/vnd.plotly.v1+json": {
       "config": {
        "plotlyServerURL": "https://plot.ly"
       },
       "data": [
        {
         "hovertemplate": "Относительная ошибка, %=%{text}<br>Прогноз (ŷ)=%{y}<extra></extra>",
         "legendgroup": "",
         "marker": {
          "color": "#636efa",
          "pattern": {
           "shape": ""
          }
         },
         "name": "",
         "orientation": "h",
         "showlegend": false,
         "text": {
          "bdata": "AAAAAAAAWUAAAAAAAIBWQAAAAAAAAFRAAAAAAACAUUAAAAAAAABOQAAAAAAAAElAAAAAAAAAREAAAAAAAAA+QAAAAAAAADRAAAAAAAAAJEAAAAAAAAAAAAAAAAAAACRAAAAAAAAANEAAAAAAAAA+QAAAAAAAAERAAAAAAAAASUAAAAAAAABOQAAAAAAAgFFAAAAAAAAAVEAAAAAAAIBWQAAAAAAAAFlAAAAAAACAW0AAAAAAAABeQAAAAAAAQGBAAAAAAACAYUAAAAAAAMBiQAAAAAAAAGRAAAAAAABAZUAAAAAAAIBmQAAAAAAAwGdAAAAAAAAAaUA=",
          "dtype": "f8"
         },
         "textposition": "outside",
         "texttemplate": "%{text:.2f}%",
         "type": "bar",
         "x": {
          "bdata": "AAAAAAAAWUAAAAAAAIBWQAAAAAAAAFRAAAAAAACAUUAAAAAAAABOQAAAAAAAAElAAAAAAAAAREAAAAAAAAA+QAAAAAAAADRAAAAAAAAAJEAAAAAAAAAAAAAAAAAAACRAAAAAAAAANEAAAAAAAAA+QAAAAAAAAERAAAAAAAAASUAAAAAAAABOQAAAAAAAgFFAAAAAAAAAVEAAAAAAAIBWQAAAAAAAAFlAAAAAAACAW0AAAAAAAABeQAAAAAAAQGBAAAAAAACAYUAAAAAAAMBiQAAAAAAAAGRAAAAAAABAZUAAAAAAAIBmQAAAAAAAwGdAAAAAAAAAaUA=",
          "dtype": "f8"
         },
         "xaxis": "x",
         "y": [
          "0.0",
          "5.0",
          "10.0",
          "15.0",
          "20.0",
          "25.0",
          "30.0",
          "35.0",
          "40.0",
          "45.0",
          "50.0",
          "55.0",
          "60.0",
          "65.0",
          "70.0",
          "75.0",
          "80.0",
          "85.0",
          "90.0",
          "95.0",
          "100.0",
          "105.0",
          "110.0",
          "115.0",
          "120.0",
          "125.0",
          "130.0",
          "135.0",
          "140.0",
          "145.0",
          "150.0"
         ],
         "yaxis": "y"
        }
       ],
       "layout": {
        "barmode": "relative",
        "height": 800,
        "legend": {
         "tracegroupgap": 0
        },
        "margin": {
         "l": 140
        },
        "template": {
         "data": {
          "bar": [
           {
            "error_x": {
             "color": "#2a3f5f"
            },
            "error_y": {
             "color": "#2a3f5f"
            },
            "marker": {
             "line": {
              "color": "#E5ECF6",
              "width": 0.5
             },
             "pattern": {
              "fillmode": "overlay",
              "size": 10,
              "solidity": 0.2
             }
            },
            "type": "bar"
           }
          ],
          "barpolar": [
           {
            "marker": {
             "line": {
              "color": "#E5ECF6",
              "width": 0.5
             },
             "pattern": {
              "fillmode": "overlay",
              "size": 10,
              "solidity": 0.2
             }
            },
            "type": "barpolar"
           }
          ],
          "carpet": [
           {
            "aaxis": {
             "endlinecolor": "#2a3f5f",
             "gridcolor": "white",
             "linecolor": "white",
             "minorgridcolor": "white",
             "startlinecolor": "#2a3f5f"
            },
            "baxis": {
             "endlinecolor": "#2a3f5f",
             "gridcolor": "white",
             "linecolor": "white",
             "minorgridcolor": "white",
             "startlinecolor": "#2a3f5f"
            },
            "type": "carpet"
           }
          ],
          "choropleth": [
           {
            "colorbar": {
             "outlinewidth": 0,
             "ticks": ""
            },
            "type": "choropleth"
           }
          ],
          "contour": [
           {
            "colorbar": {
             "outlinewidth": 0,
             "ticks": ""
            },
            "colorscale": [
             [
              0,
              "#0d0887"
             ],
             [
              0.1111111111111111,
              "#46039f"
             ],
             [
              0.2222222222222222,
              "#7201a8"
             ],
             [
              0.3333333333333333,
              "#9c179e"
             ],
             [
              0.4444444444444444,
              "#bd3786"
             ],
             [
              0.5555555555555556,
              "#d8576b"
             ],
             [
              0.6666666666666666,
              "#ed7953"
             ],
             [
              0.7777777777777778,
              "#fb9f3a"
             ],
             [
              0.8888888888888888,
              "#fdca26"
             ],
             [
              1,
              "#f0f921"
             ]
            ],
            "type": "contour"
           }
          ],
          "contourcarpet": [
           {
            "colorbar": {
             "outlinewidth": 0,
             "ticks": ""
            },
            "type": "contourcarpet"
           }
          ],
          "heatmap": [
           {
            "colorbar": {
             "outlinewidth": 0,
             "ticks": ""
            },
            "colorscale": [
             [
              0,
              "#0d0887"
             ],
             [
              0.1111111111111111,
              "#46039f"
             ],
             [
              0.2222222222222222,
              "#7201a8"
             ],
             [
              0.3333333333333333,
              "#9c179e"
             ],
             [
              0.4444444444444444,
              "#bd3786"
             ],
             [
              0.5555555555555556,
              "#d8576b"
             ],
             [
              0.6666666666666666,
              "#ed7953"
             ],
             [
              0.7777777777777778,
              "#fb9f3a"
             ],
             [
              0.8888888888888888,
              "#fdca26"
             ],
             [
              1,
              "#f0f921"
             ]
            ],
            "type": "heatmap"
           }
          ],
          "histogram": [
           {
            "marker": {
             "pattern": {
              "fillmode": "overlay",
              "size": 10,
              "solidity": 0.2
             }
            },
            "type": "histogram"
           }
          ],
          "histogram2d": [
           {
            "colorbar": {
             "outlinewidth": 0,
             "ticks": ""
            },
            "colorscale": [
             [
              0,
              "#0d0887"
             ],
             [
              0.1111111111111111,
              "#46039f"
             ],
             [
              0.2222222222222222,
              "#7201a8"
             ],
             [
              0.3333333333333333,
              "#9c179e"
             ],
             [
              0.4444444444444444,
              "#bd3786"
             ],
             [
              0.5555555555555556,
              "#d8576b"
             ],
             [
              0.6666666666666666,
              "#ed7953"
             ],
             [
              0.7777777777777778,
              "#fb9f3a"
             ],
             [
              0.8888888888888888,
              "#fdca26"
             ],
             [
              1,
              "#f0f921"
             ]
            ],
            "type": "histogram2d"
           }
          ],
          "histogram2dcontour": [
           {
            "colorbar": {
             "outlinewidth": 0,
             "ticks": ""
            },
            "colorscale": [
             [
              0,
              "#0d0887"
             ],
             [
              0.1111111111111111,
              "#46039f"
             ],
             [
              0.2222222222222222,
              "#7201a8"
             ],
             [
              0.3333333333333333,
              "#9c179e"
             ],
             [
              0.4444444444444444,
              "#bd3786"
             ],
             [
              0.5555555555555556,
              "#d8576b"
             ],
             [
              0.6666666666666666,
              "#ed7953"
             ],
             [
              0.7777777777777778,
              "#fb9f3a"
             ],
             [
              0.8888888888888888,
              "#fdca26"
             ],
             [
              1,
              "#f0f921"
             ]
            ],
            "type": "histogram2dcontour"
           }
          ],
          "mesh3d": [
           {
            "colorbar": {
             "outlinewidth": 0,
             "ticks": ""
            },
            "type": "mesh3d"
           }
          ],
          "parcoords": [
           {
            "line": {
             "colorbar": {
              "outlinewidth": 0,
              "ticks": ""
             }
            },
            "type": "parcoords"
           }
          ],
          "pie": [
           {
            "automargin": true,
            "type": "pie"
           }
          ],
          "scatter": [
           {
            "fillpattern": {
             "fillmode": "overlay",
             "size": 10,
             "solidity": 0.2
            },
            "type": "scatter"
           }
          ],
          "scatter3d": [
           {
            "line": {
             "colorbar": {
              "outlinewidth": 0,
              "ticks": ""
             }
            },
            "marker": {
             "colorbar": {
              "outlinewidth": 0,
              "ticks": ""
             }
            },
            "type": "scatter3d"
           }
          ],
          "scattercarpet": [
           {
            "marker": {
             "colorbar": {
              "outlinewidth": 0,
              "ticks": ""
             }
            },
            "type": "scattercarpet"
           }
          ],
          "scattergeo": [
           {
            "marker": {
             "colorbar": {
              "outlinewidth": 0,
              "ticks": ""
             }
            },
            "type": "scattergeo"
           }
          ],
          "scattergl": [
           {
            "marker": {
             "colorbar": {
              "outlinewidth": 0,
              "ticks": ""
             }
            },
            "type": "scattergl"
           }
          ],
          "scattermap": [
           {
            "marker": {
             "colorbar": {
              "outlinewidth": 0,
              "ticks": ""
             }
            },
            "type": "scattermap"
           }
          ],
          "scattermapbox": [
           {
            "marker": {
             "colorbar": {
              "outlinewidth": 0,
              "ticks": ""
             }
            },
            "type": "scattermapbox"
           }
          ],
          "scatterpolar": [
           {
            "marker": {
             "colorbar": {
              "outlinewidth": 0,
              "ticks": ""
             }
            },
            "type": "scatterpolar"
           }
          ],
          "scatterpolargl": [
           {
            "marker": {
             "colorbar": {
              "outlinewidth": 0,
              "ticks": ""
             }
            },
            "type": "scatterpolargl"
           }
          ],
          "scatterternary": [
           {
            "marker": {
             "colorbar": {
              "outlinewidth": 0,
              "ticks": ""
             }
            },
            "type": "scatterternary"
           }
          ],
          "surface": [
           {
            "colorbar": {
             "outlinewidth": 0,
             "ticks": ""
            },
            "colorscale": [
             [
              0,
              "#0d0887"
             ],
             [
              0.1111111111111111,
              "#46039f"
             ],
             [
              0.2222222222222222,
              "#7201a8"
             ],
             [
              0.3333333333333333,
              "#9c179e"
             ],
             [
              0.4444444444444444,
              "#bd3786"
             ],
             [
              0.5555555555555556,
              "#d8576b"
             ],
             [
              0.6666666666666666,
              "#ed7953"
             ],
             [
              0.7777777777777778,
              "#fb9f3a"
             ],
             [
              0.8888888888888888,
              "#fdca26"
             ],
             [
              1,
              "#f0f921"
             ]
            ],
            "type": "surface"
           }
          ],
          "table": [
           {
            "cells": {
             "fill": {
              "color": "#EBF0F8"
             },
             "line": {
              "color": "white"
             }
            },
            "header": {
             "fill": {
              "color": "#C8D4E3"
             },
             "line": {
              "color": "white"
             }
            },
            "type": "table"
           }
          ]
         },
         "layout": {
          "annotationdefaults": {
           "arrowcolor": "#2a3f5f",
           "arrowhead": 0,
           "arrowwidth": 1
          },
          "autotypenumbers": "strict",
          "coloraxis": {
           "colorbar": {
            "outlinewidth": 0,
            "ticks": ""
           }
          },
          "colorscale": {
           "diverging": [
            [
             0,
             "#8e0152"
            ],
            [
             0.1,
             "#c51b7d"
            ],
            [
             0.2,
             "#de77ae"
            ],
            [
             0.3,
             "#f1b6da"
            ],
            [
             0.4,
             "#fde0ef"
            ],
            [
             0.5,
             "#f7f7f7"
            ],
            [
             0.6,
             "#e6f5d0"
            ],
            [
             0.7,
             "#b8e186"
            ],
            [
             0.8,
             "#7fbc41"
            ],
            [
             0.9,
             "#4d9221"
            ],
            [
             1,
             "#276419"
            ]
           ],
           "sequential": [
            [
             0,
             "#0d0887"
            ],
            [
             0.1111111111111111,
             "#46039f"
            ],
            [
             0.2222222222222222,
             "#7201a8"
            ],
            [
             0.3333333333333333,
             "#9c179e"
            ],
            [
             0.4444444444444444,
             "#bd3786"
            ],
            [
             0.5555555555555556,
             "#d8576b"
            ],
            [
             0.6666666666666666,
             "#ed7953"
            ],
            [
             0.7777777777777778,
             "#fb9f3a"
            ],
            [
             0.8888888888888888,
             "#fdca26"
            ],
            [
             1,
             "#f0f921"
            ]
           ],
           "sequentialminus": [
            [
             0,
             "#0d0887"
            ],
            [
             0.1111111111111111,
             "#46039f"
            ],
            [
             0.2222222222222222,
             "#7201a8"
            ],
            [
             0.3333333333333333,
             "#9c179e"
            ],
            [
             0.4444444444444444,
             "#bd3786"
            ],
            [
             0.5555555555555556,
             "#d8576b"
            ],
            [
             0.6666666666666666,
             "#ed7953"
            ],
            [
             0.7777777777777778,
             "#fb9f3a"
            ],
            [
             0.8888888888888888,
             "#fdca26"
            ],
            [
             1,
             "#f0f921"
            ]
           ]
          },
          "colorway": [
           "#636efa",
           "#EF553B",
           "#00cc96",
           "#ab63fa",
           "#FFA15A",
           "#19d3f3",
           "#FF6692",
           "#B6E880",
           "#FF97FF",
           "#FECB52"
          ],
          "font": {
           "color": "#2a3f5f"
          },
          "geo": {
           "bgcolor": "white",
           "lakecolor": "white",
           "landcolor": "#E5ECF6",
           "showlakes": true,
           "showland": true,
           "subunitcolor": "white"
          },
          "hoverlabel": {
           "align": "left"
          },
          "hovermode": "closest",
          "mapbox": {
           "style": "light"
          },
          "paper_bgcolor": "white",
          "plot_bgcolor": "#E5ECF6",
          "polar": {
           "angularaxis": {
            "gridcolor": "white",
            "linecolor": "white",
            "ticks": ""
           },
           "bgcolor": "#E5ECF6",
           "radialaxis": {
            "gridcolor": "white",
            "linecolor": "white",
            "ticks": ""
           }
          },
          "scene": {
           "xaxis": {
            "backgroundcolor": "#E5ECF6",
            "gridcolor": "white",
            "gridwidth": 2,
            "linecolor": "white",
            "showbackground": true,
            "ticks": "",
            "zerolinecolor": "white"
           },
           "yaxis": {
            "backgroundcolor": "#E5ECF6",
            "gridcolor": "white",
            "gridwidth": 2,
            "linecolor": "white",
            "showbackground": true,
            "ticks": "",
            "zerolinecolor": "white"
           },
           "zaxis": {
            "backgroundcolor": "#E5ECF6",
            "gridcolor": "white",
            "gridwidth": 2,
            "linecolor": "white",
            "showbackground": true,
            "ticks": "",
            "zerolinecolor": "white"
           }
          },
          "shapedefaults": {
           "line": {
            "color": "#2a3f5f"
           }
          },
          "ternary": {
           "aaxis": {
            "gridcolor": "white",
            "linecolor": "white",
            "ticks": ""
           },
           "baxis": {
            "gridcolor": "white",
            "linecolor": "white",
            "ticks": ""
           },
           "bgcolor": "#E5ECF6",
           "caxis": {
            "gridcolor": "white",
            "linecolor": "white",
            "ticks": ""
           }
          },
          "title": {
           "x": 0.05
          },
          "xaxis": {
           "automargin": true,
           "gridcolor": "white",
           "linecolor": "white",
           "ticks": "",
           "title": {
            "standoff": 15
           },
           "zerolinecolor": "white",
           "zerolinewidth": 2
          },
          "yaxis": {
           "automargin": true,
           "gridcolor": "white",
           "linecolor": "white",
           "ticks": "",
           "title": {
            "standoff": 15
           },
           "zerolinecolor": "white",
           "zerolinewidth": 2
          }
         }
        },
        "title": {
         "text": "MAPE при фиксированном таргете | y = 50"
        },
        "width": 1000,
        "xaxis": {
         "anchor": "y",
         "domain": [
          0,
          1
         ],
         "title": {
          "text": "Относительная ошибка, %"
         }
        },
        "yaxis": {
         "anchor": "x",
         "categoryarray": [
          "0.0",
          "5.0",
          "10.0",
          "15.0",
          "20.0",
          "25.0",
          "30.0",
          "35.0",
          "40.0",
          "45.0",
          "50.0",
          "55.0",
          "60.0",
          "65.0",
          "70.0",
          "75.0",
          "80.0",
          "85.0",
          "90.0",
          "95.0",
          "100.0",
          "105.0",
          "110.0",
          "115.0",
          "120.0",
          "125.0",
          "130.0",
          "135.0",
          "140.0",
          "145.0",
          "150.0"
         ],
         "categoryorder": "array",
         "domain": [
          0,
          1
         ],
         "title": {
          "text": "Прогноз (ŷ)"
         }
        }
       }
      }
     },
     "metadata": {},
     "output_type": "display_data"
    }
   ],
   "source": [
    "# фиксируем фактическое значение таргета\n",
    "y_true = 50\n",
    "\n",
    "# формируем предсказания\n",
    "min_value, max_value = 0, y_true + y_true + 50\n",
    "n_points = 31\n",
    "\n",
    "y_pred = np.linspace(min_value, max_value, n_points)\n",
    "error_pct = 100 * np.abs(y_pred - y_true) / np.abs(y_true)\n",
    "\n",
    "# создаем DataFrame для отрисовки\n",
    "error_df = pd.DataFrame({\n",
    "    \"pred\": y_pred,\n",
    "    \"error_pct\": error_pct\n",
    "}).sort_values(\"pred\")\n",
    "\n",
    "# чтобы сохранить порядок категорий в Plotly, переведём pred в строку\n",
    "error_df['pred_str'] = error_df['pred'].round(2).astype(str)\n",
    "\n",
    "fig = px.bar(\n",
    "    error_df,\n",
    "    x=\"error_pct\",\n",
    "    y=\"pred_str\",\n",
    "    orientation='h',\n",
    "    title=f\"MAPE при фиксированном таргете | y = {y_true}\",\n",
    "    labels={\"pred_str\": \"Прогноз (ŷ)\", \"error_pct\": \"Относительная ошибка, %\"},\n",
    "    text=\"error_pct\"\n",
    ")\n",
    "\n",
    "fig.update_traces(texttemplate='%{text:.2f}%', textposition='outside')\n",
    "\n",
    "fig.update_layout(\n",
    "    height=800,\n",
    "    width=1000,\n",
    "    yaxis={\"categoryorder\": \"array\", \"categoryarray\": error_df['pred_str'].tolist()},\n",
    "    margin=dict(l=140)\n",
    ")\n",
    "\n",
    "fig.show()\n"
   ]
  },
  {
   "cell_type": "markdown",
   "id": "6826631e",
   "metadata": {},
   "source": [
    "На графике выше отлично видно как перепрогноз влияет на значение $MAPE$, особенно заметна несимметричость при малых значениях таргета $y$. Также данную ошибку удобно рассматривать от в разрезе таргета, что понять накаких объектах модель ошибается сильнее всего."
   ]
  },
  {
   "cell_type": "code",
   "execution_count": 31,
   "id": "cb4cf557",
   "metadata": {},
   "outputs": [
    {
     "data": {
      "application/vnd.plotly.v1+json": {
       "config": {
        "plotlyServerURL": "https://plot.ly"
       },
       "data": [
        {
         "hovertemplate": "Относительная ошибка, %=%{x}<br>Истинное значение=%{y}<extra></extra>",
         "legendgroup": "",
         "marker": {
          "color": "#636efa",
          "pattern": {
           "shape": ""
          }
         },
         "name": "",
         "orientation": "h",
         "showlegend": false,
         "textposition": "auto",
         "type": "bar",
         "x": {
          "bdata": "63w6lf4AWEAIn0kRSh8IQLXWKW64cCVATps5bHYjIEDIn2oXfxohQMifahd/GiFAuZsC31V+MEBF04DDQFRFQL2BmaywGSRAwYc5Vl4oMEBPxPaM0oYzQElXf0rQbiNA9edfcsaO0T8ixEp5s786QPwlT+kwntA/KbHZw8zrG0DQA4FS2xsuQFlBrfq1SS1AmwVlHf5RKEASBfI+voVEQCiJ89mueEBABvpi1/PSNkAItl5qNRgeQICo+/dZQjRAxtYK/ZOGOUAoZ/Cbb1UZQAo44/SiFzdAbfsg1o+gLEBjlNpQbjURQH5YxtmrEhNANI/8KzFrL0Bwu3h3KjxCQDJlX3TLg+M/GS8AdxCwDECTWmE8t7cVQOjRFGb+ezNA5jyyZn96L0A45O+68s5EQDcVq+bZE0FAEIk0MthwO0Aylln/BGlDQFWYdFql2DpApGJy4pBQHEDW6SAbvksgQAhbFekw1AJA3nP6MhF/PED6GPbWug8sQMm4yCdqlzdAu+WW3qFqEkDPP7olySE0QEk8xRCIxzdAfGMrKXy1J0CYM97AiBTOPw==",
          "dtype": "f8"
         },
         "xaxis": "x",
         "y": [
          "5151.0",
          "5389.0",
          "6095.0",
          "6189.0",
          "6229.0",
          "6229.0",
          "6295.0",
          "6479.0",
          "6488.0",
          "6575.0",
          "6795.0",
          "6849.0",
          "7198.0",
          "7463.0",
          "7609.0",
          "7957.0",
          "7975.0",
          "7999.0",
          "8195.0",
          "8916.5",
          "8921.0",
          "8949.0",
          "9233.0",
          "9258.0",
          "9279.0",
          "9538.0",
          "9895.0",
          "9988.0",
          "10698.0",
          "10898.0",
          "11048.0",
          "11199.0",
          "11245.0",
          "11248.0",
          "11259.0",
          "11595.0",
          "11850.0",
          "12629.0",
          "13200.0",
          "13415.0",
          "13860.0",
          "14489.0",
          "15040.0",
          "15510.0",
          "15580.0",
          "15645.0",
          "16503.0",
          "16558.0",
          "17669.0",
          "22470.0",
          "22625.0",
          "25552.0",
          "32250.0"
         ],
         "yaxis": "y"
        }
       ],
       "layout": {
        "barmode": "relative",
        "height": 700,
        "legend": {
         "tracegroupgap": 0
        },
        "template": {
         "data": {
          "bar": [
           {
            "error_x": {
             "color": "#2a3f5f"
            },
            "error_y": {
             "color": "#2a3f5f"
            },
            "marker": {
             "line": {
              "color": "#E5ECF6",
              "width": 0.5
             },
             "pattern": {
              "fillmode": "overlay",
              "size": 10,
              "solidity": 0.2
             }
            },
            "type": "bar"
           }
          ],
          "barpolar": [
           {
            "marker": {
             "line": {
              "color": "#E5ECF6",
              "width": 0.5
             },
             "pattern": {
              "fillmode": "overlay",
              "size": 10,
              "solidity": 0.2
             }
            },
            "type": "barpolar"
           }
          ],
          "carpet": [
           {
            "aaxis": {
             "endlinecolor": "#2a3f5f",
             "gridcolor": "white",
             "linecolor": "white",
             "minorgridcolor": "white",
             "startlinecolor": "#2a3f5f"
            },
            "baxis": {
             "endlinecolor": "#2a3f5f",
             "gridcolor": "white",
             "linecolor": "white",
             "minorgridcolor": "white",
             "startlinecolor": "#2a3f5f"
            },
            "type": "carpet"
           }
          ],
          "choropleth": [
           {
            "colorbar": {
             "outlinewidth": 0,
             "ticks": ""
            },
            "type": "choropleth"
           }
          ],
          "contour": [
           {
            "colorbar": {
             "outlinewidth": 0,
             "ticks": ""
            },
            "colorscale": [
             [
              0,
              "#0d0887"
             ],
             [
              0.1111111111111111,
              "#46039f"
             ],
             [
              0.2222222222222222,
              "#7201a8"
             ],
             [
              0.3333333333333333,
              "#9c179e"
             ],
             [
              0.4444444444444444,
              "#bd3786"
             ],
             [
              0.5555555555555556,
              "#d8576b"
             ],
             [
              0.6666666666666666,
              "#ed7953"
             ],
             [
              0.7777777777777778,
              "#fb9f3a"
             ],
             [
              0.8888888888888888,
              "#fdca26"
             ],
             [
              1,
              "#f0f921"
             ]
            ],
            "type": "contour"
           }
          ],
          "contourcarpet": [
           {
            "colorbar": {
             "outlinewidth": 0,
             "ticks": ""
            },
            "type": "contourcarpet"
           }
          ],
          "heatmap": [
           {
            "colorbar": {
             "outlinewidth": 0,
             "ticks": ""
            },
            "colorscale": [
             [
              0,
              "#0d0887"
             ],
             [
              0.1111111111111111,
              "#46039f"
             ],
             [
              0.2222222222222222,
              "#7201a8"
             ],
             [
              0.3333333333333333,
              "#9c179e"
             ],
             [
              0.4444444444444444,
              "#bd3786"
             ],
             [
              0.5555555555555556,
              "#d8576b"
             ],
             [
              0.6666666666666666,
              "#ed7953"
             ],
             [
              0.7777777777777778,
              "#fb9f3a"
             ],
             [
              0.8888888888888888,
              "#fdca26"
             ],
             [
              1,
              "#f0f921"
             ]
            ],
            "type": "heatmap"
           }
          ],
          "histogram": [
           {
            "marker": {
             "pattern": {
              "fillmode": "overlay",
              "size": 10,
              "solidity": 0.2
             }
            },
            "type": "histogram"
           }
          ],
          "histogram2d": [
           {
            "colorbar": {
             "outlinewidth": 0,
             "ticks": ""
            },
            "colorscale": [
             [
              0,
              "#0d0887"
             ],
             [
              0.1111111111111111,
              "#46039f"
             ],
             [
              0.2222222222222222,
              "#7201a8"
             ],
             [
              0.3333333333333333,
              "#9c179e"
             ],
             [
              0.4444444444444444,
              "#bd3786"
             ],
             [
              0.5555555555555556,
              "#d8576b"
             ],
             [
              0.6666666666666666,
              "#ed7953"
             ],
             [
              0.7777777777777778,
              "#fb9f3a"
             ],
             [
              0.8888888888888888,
              "#fdca26"
             ],
             [
              1,
              "#f0f921"
             ]
            ],
            "type": "histogram2d"
           }
          ],
          "histogram2dcontour": [
           {
            "colorbar": {
             "outlinewidth": 0,
             "ticks": ""
            },
            "colorscale": [
             [
              0,
              "#0d0887"
             ],
             [
              0.1111111111111111,
              "#46039f"
             ],
             [
              0.2222222222222222,
              "#7201a8"
             ],
             [
              0.3333333333333333,
              "#9c179e"
             ],
             [
              0.4444444444444444,
              "#bd3786"
             ],
             [
              0.5555555555555556,
              "#d8576b"
             ],
             [
              0.6666666666666666,
              "#ed7953"
             ],
             [
              0.7777777777777778,
              "#fb9f3a"
             ],
             [
              0.8888888888888888,
              "#fdca26"
             ],
             [
              1,
              "#f0f921"
             ]
            ],
            "type": "histogram2dcontour"
           }
          ],
          "mesh3d": [
           {
            "colorbar": {
             "outlinewidth": 0,
             "ticks": ""
            },
            "type": "mesh3d"
           }
          ],
          "parcoords": [
           {
            "line": {
             "colorbar": {
              "outlinewidth": 0,
              "ticks": ""
             }
            },
            "type": "parcoords"
           }
          ],
          "pie": [
           {
            "automargin": true,
            "type": "pie"
           }
          ],
          "scatter": [
           {
            "fillpattern": {
             "fillmode": "overlay",
             "size": 10,
             "solidity": 0.2
            },
            "type": "scatter"
           }
          ],
          "scatter3d": [
           {
            "line": {
             "colorbar": {
              "outlinewidth": 0,
              "ticks": ""
             }
            },
            "marker": {
             "colorbar": {
              "outlinewidth": 0,
              "ticks": ""
             }
            },
            "type": "scatter3d"
           }
          ],
          "scattercarpet": [
           {
            "marker": {
             "colorbar": {
              "outlinewidth": 0,
              "ticks": ""
             }
            },
            "type": "scattercarpet"
           }
          ],
          "scattergeo": [
           {
            "marker": {
             "colorbar": {
              "outlinewidth": 0,
              "ticks": ""
             }
            },
            "type": "scattergeo"
           }
          ],
          "scattergl": [
           {
            "marker": {
             "colorbar": {
              "outlinewidth": 0,
              "ticks": ""
             }
            },
            "type": "scattergl"
           }
          ],
          "scattermap": [
           {
            "marker": {
             "colorbar": {
              "outlinewidth": 0,
              "ticks": ""
             }
            },
            "type": "scattermap"
           }
          ],
          "scattermapbox": [
           {
            "marker": {
             "colorbar": {
              "outlinewidth": 0,
              "ticks": ""
             }
            },
            "type": "scattermapbox"
           }
          ],
          "scatterpolar": [
           {
            "marker": {
             "colorbar": {
              "outlinewidth": 0,
              "ticks": ""
             }
            },
            "type": "scatterpolar"
           }
          ],
          "scatterpolargl": [
           {
            "marker": {
             "colorbar": {
              "outlinewidth": 0,
              "ticks": ""
             }
            },
            "type": "scatterpolargl"
           }
          ],
          "scatterternary": [
           {
            "marker": {
             "colorbar": {
              "outlinewidth": 0,
              "ticks": ""
             }
            },
            "type": "scatterternary"
           }
          ],
          "surface": [
           {
            "colorbar": {
             "outlinewidth": 0,
             "ticks": ""
            },
            "colorscale": [
             [
              0,
              "#0d0887"
             ],
             [
              0.1111111111111111,
              "#46039f"
             ],
             [
              0.2222222222222222,
              "#7201a8"
             ],
             [
              0.3333333333333333,
              "#9c179e"
             ],
             [
              0.4444444444444444,
              "#bd3786"
             ],
             [
              0.5555555555555556,
              "#d8576b"
             ],
             [
              0.6666666666666666,
              "#ed7953"
             ],
             [
              0.7777777777777778,
              "#fb9f3a"
             ],
             [
              0.8888888888888888,
              "#fdca26"
             ],
             [
              1,
              "#f0f921"
             ]
            ],
            "type": "surface"
           }
          ],
          "table": [
           {
            "cells": {
             "fill": {
              "color": "#EBF0F8"
             },
             "line": {
              "color": "white"
             }
            },
            "header": {
             "fill": {
              "color": "#C8D4E3"
             },
             "line": {
              "color": "white"
             }
            },
            "type": "table"
           }
          ]
         },
         "layout": {
          "annotationdefaults": {
           "arrowcolor": "#2a3f5f",
           "arrowhead": 0,
           "arrowwidth": 1
          },
          "autotypenumbers": "strict",
          "coloraxis": {
           "colorbar": {
            "outlinewidth": 0,
            "ticks": ""
           }
          },
          "colorscale": {
           "diverging": [
            [
             0,
             "#8e0152"
            ],
            [
             0.1,
             "#c51b7d"
            ],
            [
             0.2,
             "#de77ae"
            ],
            [
             0.3,
             "#f1b6da"
            ],
            [
             0.4,
             "#fde0ef"
            ],
            [
             0.5,
             "#f7f7f7"
            ],
            [
             0.6,
             "#e6f5d0"
            ],
            [
             0.7,
             "#b8e186"
            ],
            [
             0.8,
             "#7fbc41"
            ],
            [
             0.9,
             "#4d9221"
            ],
            [
             1,
             "#276419"
            ]
           ],
           "sequential": [
            [
             0,
             "#0d0887"
            ],
            [
             0.1111111111111111,
             "#46039f"
            ],
            [
             0.2222222222222222,
             "#7201a8"
            ],
            [
             0.3333333333333333,
             "#9c179e"
            ],
            [
             0.4444444444444444,
             "#bd3786"
            ],
            [
             0.5555555555555556,
             "#d8576b"
            ],
            [
             0.6666666666666666,
             "#ed7953"
            ],
            [
             0.7777777777777778,
             "#fb9f3a"
            ],
            [
             0.8888888888888888,
             "#fdca26"
            ],
            [
             1,
             "#f0f921"
            ]
           ],
           "sequentialminus": [
            [
             0,
             "#0d0887"
            ],
            [
             0.1111111111111111,
             "#46039f"
            ],
            [
             0.2222222222222222,
             "#7201a8"
            ],
            [
             0.3333333333333333,
             "#9c179e"
            ],
            [
             0.4444444444444444,
             "#bd3786"
            ],
            [
             0.5555555555555556,
             "#d8576b"
            ],
            [
             0.6666666666666666,
             "#ed7953"
            ],
            [
             0.7777777777777778,
             "#fb9f3a"
            ],
            [
             0.8888888888888888,
             "#fdca26"
            ],
            [
             1,
             "#f0f921"
            ]
           ]
          },
          "colorway": [
           "#636efa",
           "#EF553B",
           "#00cc96",
           "#ab63fa",
           "#FFA15A",
           "#19d3f3",
           "#FF6692",
           "#B6E880",
           "#FF97FF",
           "#FECB52"
          ],
          "font": {
           "color": "#2a3f5f"
          },
          "geo": {
           "bgcolor": "white",
           "lakecolor": "white",
           "landcolor": "#E5ECF6",
           "showlakes": true,
           "showland": true,
           "subunitcolor": "white"
          },
          "hoverlabel": {
           "align": "left"
          },
          "hovermode": "closest",
          "mapbox": {
           "style": "light"
          },
          "paper_bgcolor": "white",
          "plot_bgcolor": "#E5ECF6",
          "polar": {
           "angularaxis": {
            "gridcolor": "white",
            "linecolor": "white",
            "ticks": ""
           },
           "bgcolor": "#E5ECF6",
           "radialaxis": {
            "gridcolor": "white",
            "linecolor": "white",
            "ticks": ""
           }
          },
          "scene": {
           "xaxis": {
            "backgroundcolor": "#E5ECF6",
            "gridcolor": "white",
            "gridwidth": 2,
            "linecolor": "white",
            "showbackground": true,
            "ticks": "",
            "zerolinecolor": "white"
           },
           "yaxis": {
            "backgroundcolor": "#E5ECF6",
            "gridcolor": "white",
            "gridwidth": 2,
            "linecolor": "white",
            "showbackground": true,
            "ticks": "",
            "zerolinecolor": "white"
           },
           "zaxis": {
            "backgroundcolor": "#E5ECF6",
            "gridcolor": "white",
            "gridwidth": 2,
            "linecolor": "white",
            "showbackground": true,
            "ticks": "",
            "zerolinecolor": "white"
           }
          },
          "shapedefaults": {
           "line": {
            "color": "#2a3f5f"
           }
          },
          "ternary": {
           "aaxis": {
            "gridcolor": "white",
            "linecolor": "white",
            "ticks": ""
           },
           "baxis": {
            "gridcolor": "white",
            "linecolor": "white",
            "ticks": ""
           },
           "bgcolor": "#E5ECF6",
           "caxis": {
            "gridcolor": "white",
            "linecolor": "white",
            "ticks": ""
           }
          },
          "title": {
           "x": 0.05
          },
          "xaxis": {
           "automargin": true,
           "gridcolor": "white",
           "linecolor": "white",
           "ticks": "",
           "title": {
            "standoff": 15
           },
           "zerolinecolor": "white",
           "zerolinewidth": 2
          },
          "yaxis": {
           "automargin": true,
           "gridcolor": "white",
           "linecolor": "white",
           "ticks": "",
           "title": {
            "standoff": 15
           },
           "zerolinecolor": "white",
           "zerolinewidth": 2
          }
         }
        },
        "title": {
         "text": "Mean Absolute Percentage Error"
        },
        "width": 1000,
        "xaxis": {
         "anchor": "y",
         "domain": [
          0,
          1
         ],
         "title": {
          "text": "Относительная ошибка, %"
         }
        },
        "yaxis": {
         "anchor": "x",
         "domain": [
          0,
          1
         ],
         "title": {
          "text": "Истинное значение"
         }
        }
       }
      }
     },
     "metadata": {},
     "output_type": "display_data"
    }
   ],
   "source": [
    "# необходимо для Plotly\n",
    "_metrics_results_cut = metrics_results_cut.copy()\n",
    "_metrics_results_cut.sort_values(\"true\", inplace=True)\n",
    "_metrics_results_cut['true'] = metrics_results_cut['true'].astype(str)\n",
    "\n",
    "# исключаем NaN если вдруг есть нули в таргете\n",
    "_metrics_results_cut = _metrics_results_cut.replace([np.inf, -np.inf], np.nan).dropna(subset=['error_pct'])\n",
    "\n",
    "# рисуем\n",
    "fig = px.bar(\n",
    "    _metrics_results_cut,\n",
    "    x=\"error_pct\",\n",
    "    y=\"true\",\n",
    "    orientation='h',\n",
    "    title=\"Mean Absolute Percentage Error\",\n",
    "    labels={\"true\": \"Истинное значение\", \"error_pct\": \"Относительная ошибка, %\"},\n",
    ")\n",
    "\n",
    "fig.update_layout(\n",
    "    height=700, width=1000,\n",
    ")\n",
    "\n",
    "fig.show()"
   ]
  },
  {
   "cell_type": "markdown",
   "id": "8525235c",
   "metadata": {},
   "source": [
    "На графике видно, что есть объект на котором $MAPE$ достигает почти 100%. Подумай, почему это плохо и как можно решить эту проблему?\n",
    "\n",
    "<!-- Ответ\n",
    "Усреднение довольно сильно исказит MAPE из-за выброса в 100%. Поэтому можно просто рассмотреть медиану, которая как известно из статистики устойчива к выбросам!\n",
    "-->"
   ]
  },
  {
   "cell_type": "code",
   "execution_count": 32,
   "id": "b7403052",
   "metadata": {},
   "outputs": [],
   "source": [
    "# твои мысли 🧠"
   ]
  },
  {
   "cell_type": "code",
   "execution_count": 33,
   "id": "6019030f",
   "metadata": {},
   "outputs": [
    {
     "name": "stdout",
     "output_type": "stream",
     "text": [
      "Mean APE -> 19.04%\n",
      "Median APE -> 15.95%\n"
     ]
    }
   ],
   "source": [
    "# расчитаем относительную ошибку в %\n",
    "metrics_results['error_pct'] = metrics_results['error_abs'] / metrics_results['true'].abs() * 100\n",
    "mape = metrics_results['error_pct'].mean()\n",
    "median_ape = metrics_results['error_pct'].median()\n",
    "\n",
    "print(f'Mean APE -> {mape:.2f}%')\n",
    "print(f'Median APE -> {median_ape:.2f}%')"
   ]
  },
  {
   "cell_type": "markdown",
   "id": "43f972bc",
   "metadata": {},
   "source": [
    "## Симметричная средняя абсолютная ошибка в процентах | Symmetric Mean Absolute Percentage Error | SMAPE\n",
    "$SMAPE$ — это модификация метрики $MAPE$, которая устраняет её ключевой недостаток — несимметричность при недооценке и переоценке прогнозов. В отличие от $MAPE$, где ошибка нормируется только на фактическое значение, $SMAPE$ использует среднее арифметическое между фактом и прогнозом как базу для нормировки:\n",
    "\n",
    "$$\n",
    "SMAPE = \\frac{100\\%}{n} \\sum_{i=1}^{n} \n",
    "\\frac{|y_i - \\hat{y}_i|}{\\frac{|y_i| + |\\hat{y}_i|}{2}}\n",
    "$$\n",
    "\n",
    "Это трюк позволяет метрике:\n",
    "- Быть симметричной — одинаково оценивать как перепрогноз, так и недопрогноз\n",
    "- Иметь фиксированный предел — от 0% до 200%, можно иметь нули в таргете!\n",
    "- Сохранять интерпретацию для удобного сравнения качества моделей"
   ]
  },
  {
   "cell_type": "code",
   "execution_count": 34,
   "id": "9141f177",
   "metadata": {},
   "outputs": [
    {
     "name": "stdout",
     "output_type": "stream",
     "text": [
      "Абсолютная ошибка: [9, 9, 9]\n",
      "Относительная абсолютная ошибка:  [163.63636363636365, 0.8959681433549029, 200.0]\n",
      "Симметричная средняя относительная абсолютная ошибка в % (SMAPE):  121.5107770125815\n"
     ]
    }
   ],
   "source": [
    "# закодим метрику\n",
    "def symmetric_mean_absolute_percentage_error(y_true, y_pred):\n",
    "    y_true, y_pred = np.array(y_true), np.array(y_pred)\n",
    "    return 100 * np.mean(np.abs(y_pred - y_true) / ((np.abs(y_true) + np.abs(y_pred)) / 2 + 1e-8))\n",
    "\n",
    "# рассчитаем MAPE для нашего игрушечного примера\n",
    "true = np.array([10, 1009, 0])\n",
    "pred = np.array([1, 1000, 9])\n",
    "\n",
    "abs_error = np.abs(true - pred)\n",
    "print('Абсолютная ошибка:', abs_error.tolist())\n",
    "\n",
    "abs_pct_error = (abs_error / ((true + pred)/2) * 100)\n",
    "print('Относительная абсолютная ошибка: ', abs_pct_error.tolist())\n",
    "\n",
    "smape = symmetric_mean_absolute_percentage_error(true, pred)\n",
    "print('Симметричная средняя относительная абсолютная ошибка в % (SMAPE): ', smape)"
   ]
  },
  {
   "cell_type": "markdown",
   "id": "c449d89e",
   "metadata": {},
   "source": [
    "Теперь видно, что бесконечности больше нет, и итоговая метрика стала ниже. Можно заметить, что в знаменателе всё ещё возможен ноль. Да, это так — но в таком случае ситуация трактуется как отсутствие ошибки, ведь прогноз будет совпадает с фактом. Также хочу отметить, что если таргет равен нулю, а прогноз нет, то итоговая ошибка будет равна 200%, вот доказательство:\n",
    "\n",
    "$$\n",
    "\\text{item}_i = \\frac{2 \\cdot |0 - \\hat{y}_i|}{|0| + |\\hat{y}_i|} = \\frac{2 \\cdot |\\hat{y}_i|}{|\\hat{y}_i|} = 2 \\cdot 100\\% \\Rightarrow 200\\%\n",
    "$$"
   ]
  },
  {
   "cell_type": "markdown",
   "id": "8f955873",
   "metadata": {},
   "source": [
    "Давай сравним как ведут себя $MAPE$ и $SMAPE$ на фиксированном значении таргета"
   ]
  },
  {
   "cell_type": "code",
   "execution_count": 39,
   "id": "1e977cfb",
   "metadata": {},
   "outputs": [
    {
     "data": {
      "application/vnd.plotly.v1+json": {
       "config": {
        "plotlyServerURL": "https://plot.ly"
       },
       "data": [
        {
         "name": "SMAPE",
         "orientation": "h",
         "text": {
          "bdata": "AAAAAAAAWUA9CtejcG1VQB+F61G4LlJAj8L1KFxvTkAAAAAAAABJQAAAAAAAAERAhetRuB7FPkC4HoXrUTg2QBSuR+F6lCxAmpmZmZmZG0AAAAAAAAAAAM3MzMzMzBlAAAAAAAAAKUCuR+F6FC4yQEjhehSuhzdAUrgeheuRPEAK16NwPapAQOxRuB6F60JArkfhehQORUAzMzMzMxNHQAAAAAAAAElAFK5H4XrUSkBSuB6F65FMQFyPwvUoPE5AUrgehevRT0B7FK5H4apQQBSuR+F6ZFFA9ihcj8IVUkAAAAAAAMBSQDMzMzMzY1NAAAAAAAAAVEA=",
          "dtype": "f8"
         },
         "textposition": "outside",
         "type": "bar",
         "x": {
          "bdata": "AAAAAAAAWUDbtm3btm1VQC+66KKLLlJApze96U1vTkAAAAAAAABJQAAAAAAAAERAT+zETuzEPkCO4ziO4zg2QCVJkiRJkixAGmG5pxGWG0AAAAAAAAAAAM4555xzzhlAAAAAAAAAKUAvuuiiiy4yQIiHh4eHhzdAJUmSJEmSPECrqqqqqqpAQLRuMEU+60JA2FBeQ3kNRUA7sRM7sRNHQAAAAAAAAElA1K5E7UrUSkAlSZIkSZJMQI+4I+6IO05A0UUXXXTRT0CrqqqqqqpQQBaykIUsZFFAEJMriMkVUkAAAAAAAMBSQFkfGutDY1NAAAAAAAAAVEA=",
          "dtype": "f8"
         },
         "y": [
          "0.0",
          "5.0",
          "10.0",
          "15.0",
          "20.0",
          "25.0",
          "30.0",
          "35.0",
          "40.0",
          "45.0",
          "50.0",
          "55.0",
          "60.0",
          "65.0",
          "70.0",
          "75.0",
          "80.0",
          "85.0",
          "90.0",
          "95.0",
          "100.0",
          "105.0",
          "110.0",
          "115.0",
          "120.0",
          "125.0",
          "130.0",
          "135.0",
          "140.0",
          "145.0",
          "150.0"
         ]
        },
        {
         "name": "MAPE",
         "orientation": "h",
         "text": {
          "bdata": "AAAAAAAAWUAAAAAAAIBWQAAAAAAAAFRAAAAAAACAUUAAAAAAAABOQAAAAAAAAElAAAAAAAAAREAAAAAAAAA+QAAAAAAAADRAAAAAAAAAJEAAAAAAAAAAAAAAAAAAACRAAAAAAAAANEAAAAAAAAA+QAAAAAAAAERAAAAAAAAASUAAAAAAAABOQAAAAAAAgFFAAAAAAAAAVEAAAAAAAIBWQAAAAAAAAFlAAAAAAACAW0AAAAAAAABeQAAAAAAAQGBAAAAAAACAYUAAAAAAAMBiQAAAAAAAAGRAAAAAAABAZUAAAAAAAIBmQAAAAAAAwGdAAAAAAAAAaUA=",
          "dtype": "f8"
         },
         "textposition": "outside",
         "type": "bar",
         "x": {
          "bdata": "AAAAAAAAWUAAAAAAAIBWQAAAAAAAAFRAAAAAAACAUUAAAAAAAABOQAAAAAAAAElAAAAAAAAAREAAAAAAAAA+QAAAAAAAADRAAAAAAAAAJEAAAAAAAAAAAAAAAAAAACRAAAAAAAAANEAAAAAAAAA+QAAAAAAAAERAAAAAAAAASUAAAAAAAABOQAAAAAAAgFFAAAAAAAAAVEAAAAAAAIBWQAAAAAAAAFlAAAAAAACAW0AAAAAAAABeQAAAAAAAQGBAAAAAAACAYUAAAAAAAMBiQAAAAAAAAGRAAAAAAABAZUAAAAAAAIBmQAAAAAAAwGdAAAAAAAAAaUA=",
          "dtype": "f8"
         },
         "y": [
          "0.0",
          "5.0",
          "10.0",
          "15.0",
          "20.0",
          "25.0",
          "30.0",
          "35.0",
          "40.0",
          "45.0",
          "50.0",
          "55.0",
          "60.0",
          "65.0",
          "70.0",
          "75.0",
          "80.0",
          "85.0",
          "90.0",
          "95.0",
          "100.0",
          "105.0",
          "110.0",
          "115.0",
          "120.0",
          "125.0",
          "130.0",
          "135.0",
          "140.0",
          "145.0",
          "150.0"
         ]
        }
       ],
       "layout": {
        "barmode": "group",
        "height": 800,
        "margin": {
         "l": 140
        },
        "template": {
         "data": {
          "bar": [
           {
            "error_x": {
             "color": "#2a3f5f"
            },
            "error_y": {
             "color": "#2a3f5f"
            },
            "marker": {
             "line": {
              "color": "#E5ECF6",
              "width": 0.5
             },
             "pattern": {
              "fillmode": "overlay",
              "size": 10,
              "solidity": 0.2
             }
            },
            "type": "bar"
           }
          ],
          "barpolar": [
           {
            "marker": {
             "line": {
              "color": "#E5ECF6",
              "width": 0.5
             },
             "pattern": {
              "fillmode": "overlay",
              "size": 10,
              "solidity": 0.2
             }
            },
            "type": "barpolar"
           }
          ],
          "carpet": [
           {
            "aaxis": {
             "endlinecolor": "#2a3f5f",
             "gridcolor": "white",
             "linecolor": "white",
             "minorgridcolor": "white",
             "startlinecolor": "#2a3f5f"
            },
            "baxis": {
             "endlinecolor": "#2a3f5f",
             "gridcolor": "white",
             "linecolor": "white",
             "minorgridcolor": "white",
             "startlinecolor": "#2a3f5f"
            },
            "type": "carpet"
           }
          ],
          "choropleth": [
           {
            "colorbar": {
             "outlinewidth": 0,
             "ticks": ""
            },
            "type": "choropleth"
           }
          ],
          "contour": [
           {
            "colorbar": {
             "outlinewidth": 0,
             "ticks": ""
            },
            "colorscale": [
             [
              0,
              "#0d0887"
             ],
             [
              0.1111111111111111,
              "#46039f"
             ],
             [
              0.2222222222222222,
              "#7201a8"
             ],
             [
              0.3333333333333333,
              "#9c179e"
             ],
             [
              0.4444444444444444,
              "#bd3786"
             ],
             [
              0.5555555555555556,
              "#d8576b"
             ],
             [
              0.6666666666666666,
              "#ed7953"
             ],
             [
              0.7777777777777778,
              "#fb9f3a"
             ],
             [
              0.8888888888888888,
              "#fdca26"
             ],
             [
              1,
              "#f0f921"
             ]
            ],
            "type": "contour"
           }
          ],
          "contourcarpet": [
           {
            "colorbar": {
             "outlinewidth": 0,
             "ticks": ""
            },
            "type": "contourcarpet"
           }
          ],
          "heatmap": [
           {
            "colorbar": {
             "outlinewidth": 0,
             "ticks": ""
            },
            "colorscale": [
             [
              0,
              "#0d0887"
             ],
             [
              0.1111111111111111,
              "#46039f"
             ],
             [
              0.2222222222222222,
              "#7201a8"
             ],
             [
              0.3333333333333333,
              "#9c179e"
             ],
             [
              0.4444444444444444,
              "#bd3786"
             ],
             [
              0.5555555555555556,
              "#d8576b"
             ],
             [
              0.6666666666666666,
              "#ed7953"
             ],
             [
              0.7777777777777778,
              "#fb9f3a"
             ],
             [
              0.8888888888888888,
              "#fdca26"
             ],
             [
              1,
              "#f0f921"
             ]
            ],
            "type": "heatmap"
           }
          ],
          "histogram": [
           {
            "marker": {
             "pattern": {
              "fillmode": "overlay",
              "size": 10,
              "solidity": 0.2
             }
            },
            "type": "histogram"
           }
          ],
          "histogram2d": [
           {
            "colorbar": {
             "outlinewidth": 0,
             "ticks": ""
            },
            "colorscale": [
             [
              0,
              "#0d0887"
             ],
             [
              0.1111111111111111,
              "#46039f"
             ],
             [
              0.2222222222222222,
              "#7201a8"
             ],
             [
              0.3333333333333333,
              "#9c179e"
             ],
             [
              0.4444444444444444,
              "#bd3786"
             ],
             [
              0.5555555555555556,
              "#d8576b"
             ],
             [
              0.6666666666666666,
              "#ed7953"
             ],
             [
              0.7777777777777778,
              "#fb9f3a"
             ],
             [
              0.8888888888888888,
              "#fdca26"
             ],
             [
              1,
              "#f0f921"
             ]
            ],
            "type": "histogram2d"
           }
          ],
          "histogram2dcontour": [
           {
            "colorbar": {
             "outlinewidth": 0,
             "ticks": ""
            },
            "colorscale": [
             [
              0,
              "#0d0887"
             ],
             [
              0.1111111111111111,
              "#46039f"
             ],
             [
              0.2222222222222222,
              "#7201a8"
             ],
             [
              0.3333333333333333,
              "#9c179e"
             ],
             [
              0.4444444444444444,
              "#bd3786"
             ],
             [
              0.5555555555555556,
              "#d8576b"
             ],
             [
              0.6666666666666666,
              "#ed7953"
             ],
             [
              0.7777777777777778,
              "#fb9f3a"
             ],
             [
              0.8888888888888888,
              "#fdca26"
             ],
             [
              1,
              "#f0f921"
             ]
            ],
            "type": "histogram2dcontour"
           }
          ],
          "mesh3d": [
           {
            "colorbar": {
             "outlinewidth": 0,
             "ticks": ""
            },
            "type": "mesh3d"
           }
          ],
          "parcoords": [
           {
            "line": {
             "colorbar": {
              "outlinewidth": 0,
              "ticks": ""
             }
            },
            "type": "parcoords"
           }
          ],
          "pie": [
           {
            "automargin": true,
            "type": "pie"
           }
          ],
          "scatter": [
           {
            "fillpattern": {
             "fillmode": "overlay",
             "size": 10,
             "solidity": 0.2
            },
            "type": "scatter"
           }
          ],
          "scatter3d": [
           {
            "line": {
             "colorbar": {
              "outlinewidth": 0,
              "ticks": ""
             }
            },
            "marker": {
             "colorbar": {
              "outlinewidth": 0,
              "ticks": ""
             }
            },
            "type": "scatter3d"
           }
          ],
          "scattercarpet": [
           {
            "marker": {
             "colorbar": {
              "outlinewidth": 0,
              "ticks": ""
             }
            },
            "type": "scattercarpet"
           }
          ],
          "scattergeo": [
           {
            "marker": {
             "colorbar": {
              "outlinewidth": 0,
              "ticks": ""
             }
            },
            "type": "scattergeo"
           }
          ],
          "scattergl": [
           {
            "marker": {
             "colorbar": {
              "outlinewidth": 0,
              "ticks": ""
             }
            },
            "type": "scattergl"
           }
          ],
          "scattermap": [
           {
            "marker": {
             "colorbar": {
              "outlinewidth": 0,
              "ticks": ""
             }
            },
            "type": "scattermap"
           }
          ],
          "scattermapbox": [
           {
            "marker": {
             "colorbar": {
              "outlinewidth": 0,
              "ticks": ""
             }
            },
            "type": "scattermapbox"
           }
          ],
          "scatterpolar": [
           {
            "marker": {
             "colorbar": {
              "outlinewidth": 0,
              "ticks": ""
             }
            },
            "type": "scatterpolar"
           }
          ],
          "scatterpolargl": [
           {
            "marker": {
             "colorbar": {
              "outlinewidth": 0,
              "ticks": ""
             }
            },
            "type": "scatterpolargl"
           }
          ],
          "scatterternary": [
           {
            "marker": {
             "colorbar": {
              "outlinewidth": 0,
              "ticks": ""
             }
            },
            "type": "scatterternary"
           }
          ],
          "surface": [
           {
            "colorbar": {
             "outlinewidth": 0,
             "ticks": ""
            },
            "colorscale": [
             [
              0,
              "#0d0887"
             ],
             [
              0.1111111111111111,
              "#46039f"
             ],
             [
              0.2222222222222222,
              "#7201a8"
             ],
             [
              0.3333333333333333,
              "#9c179e"
             ],
             [
              0.4444444444444444,
              "#bd3786"
             ],
             [
              0.5555555555555556,
              "#d8576b"
             ],
             [
              0.6666666666666666,
              "#ed7953"
             ],
             [
              0.7777777777777778,
              "#fb9f3a"
             ],
             [
              0.8888888888888888,
              "#fdca26"
             ],
             [
              1,
              "#f0f921"
             ]
            ],
            "type": "surface"
           }
          ],
          "table": [
           {
            "cells": {
             "fill": {
              "color": "#EBF0F8"
             },
             "line": {
              "color": "white"
             }
            },
            "header": {
             "fill": {
              "color": "#C8D4E3"
             },
             "line": {
              "color": "white"
             }
            },
            "type": "table"
           }
          ]
         },
         "layout": {
          "annotationdefaults": {
           "arrowcolor": "#2a3f5f",
           "arrowhead": 0,
           "arrowwidth": 1
          },
          "autotypenumbers": "strict",
          "coloraxis": {
           "colorbar": {
            "outlinewidth": 0,
            "ticks": ""
           }
          },
          "colorscale": {
           "diverging": [
            [
             0,
             "#8e0152"
            ],
            [
             0.1,
             "#c51b7d"
            ],
            [
             0.2,
             "#de77ae"
            ],
            [
             0.3,
             "#f1b6da"
            ],
            [
             0.4,
             "#fde0ef"
            ],
            [
             0.5,
             "#f7f7f7"
            ],
            [
             0.6,
             "#e6f5d0"
            ],
            [
             0.7,
             "#b8e186"
            ],
            [
             0.8,
             "#7fbc41"
            ],
            [
             0.9,
             "#4d9221"
            ],
            [
             1,
             "#276419"
            ]
           ],
           "sequential": [
            [
             0,
             "#0d0887"
            ],
            [
             0.1111111111111111,
             "#46039f"
            ],
            [
             0.2222222222222222,
             "#7201a8"
            ],
            [
             0.3333333333333333,
             "#9c179e"
            ],
            [
             0.4444444444444444,
             "#bd3786"
            ],
            [
             0.5555555555555556,
             "#d8576b"
            ],
            [
             0.6666666666666666,
             "#ed7953"
            ],
            [
             0.7777777777777778,
             "#fb9f3a"
            ],
            [
             0.8888888888888888,
             "#fdca26"
            ],
            [
             1,
             "#f0f921"
            ]
           ],
           "sequentialminus": [
            [
             0,
             "#0d0887"
            ],
            [
             0.1111111111111111,
             "#46039f"
            ],
            [
             0.2222222222222222,
             "#7201a8"
            ],
            [
             0.3333333333333333,
             "#9c179e"
            ],
            [
             0.4444444444444444,
             "#bd3786"
            ],
            [
             0.5555555555555556,
             "#d8576b"
            ],
            [
             0.6666666666666666,
             "#ed7953"
            ],
            [
             0.7777777777777778,
             "#fb9f3a"
            ],
            [
             0.8888888888888888,
             "#fdca26"
            ],
            [
             1,
             "#f0f921"
            ]
           ]
          },
          "colorway": [
           "#636efa",
           "#EF553B",
           "#00cc96",
           "#ab63fa",
           "#FFA15A",
           "#19d3f3",
           "#FF6692",
           "#B6E880",
           "#FF97FF",
           "#FECB52"
          ],
          "font": {
           "color": "#2a3f5f"
          },
          "geo": {
           "bgcolor": "white",
           "lakecolor": "white",
           "landcolor": "#E5ECF6",
           "showlakes": true,
           "showland": true,
           "subunitcolor": "white"
          },
          "hoverlabel": {
           "align": "left"
          },
          "hovermode": "closest",
          "mapbox": {
           "style": "light"
          },
          "paper_bgcolor": "white",
          "plot_bgcolor": "#E5ECF6",
          "polar": {
           "angularaxis": {
            "gridcolor": "white",
            "linecolor": "white",
            "ticks": ""
           },
           "bgcolor": "#E5ECF6",
           "radialaxis": {
            "gridcolor": "white",
            "linecolor": "white",
            "ticks": ""
           }
          },
          "scene": {
           "xaxis": {
            "backgroundcolor": "#E5ECF6",
            "gridcolor": "white",
            "gridwidth": 2,
            "linecolor": "white",
            "showbackground": true,
            "ticks": "",
            "zerolinecolor": "white"
           },
           "yaxis": {
            "backgroundcolor": "#E5ECF6",
            "gridcolor": "white",
            "gridwidth": 2,
            "linecolor": "white",
            "showbackground": true,
            "ticks": "",
            "zerolinecolor": "white"
           },
           "zaxis": {
            "backgroundcolor": "#E5ECF6",
            "gridcolor": "white",
            "gridwidth": 2,
            "linecolor": "white",
            "showbackground": true,
            "ticks": "",
            "zerolinecolor": "white"
           }
          },
          "shapedefaults": {
           "line": {
            "color": "#2a3f5f"
           }
          },
          "ternary": {
           "aaxis": {
            "gridcolor": "white",
            "linecolor": "white",
            "ticks": ""
           },
           "baxis": {
            "gridcolor": "white",
            "linecolor": "white",
            "ticks": ""
           },
           "bgcolor": "#E5ECF6",
           "caxis": {
            "gridcolor": "white",
            "linecolor": "white",
            "ticks": ""
           }
          },
          "title": {
           "x": 0.05
          },
          "xaxis": {
           "automargin": true,
           "gridcolor": "white",
           "linecolor": "white",
           "ticks": "",
           "title": {
            "standoff": 15
           },
           "zerolinecolor": "white",
           "zerolinewidth": 2
          },
          "yaxis": {
           "automargin": true,
           "gridcolor": "white",
           "linecolor": "white",
           "ticks": "",
           "title": {
            "standoff": 15
           },
           "zerolinecolor": "white",
           "zerolinewidth": 2
          }
         }
        },
        "title": {
         "text": "SMAPE vs MAPE при фиксированном таргете | y = 50"
        },
        "width": 1000,
        "xaxis": {
         "title": {
          "text": "Относительная ошибка, %"
         }
        },
        "yaxis": {
         "categoryarray": [
          "0.0",
          "5.0",
          "10.0",
          "15.0",
          "20.0",
          "25.0",
          "30.0",
          "35.0",
          "40.0",
          "45.0",
          "50.0",
          "55.0",
          "60.0",
          "65.0",
          "70.0",
          "75.0",
          "80.0",
          "85.0",
          "90.0",
          "95.0",
          "100.0",
          "105.0",
          "110.0",
          "115.0",
          "120.0",
          "125.0",
          "130.0",
          "135.0",
          "140.0",
          "145.0",
          "150.0"
         ],
         "categoryorder": "array",
         "title": {
          "text": "Прогноз (ŷ)"
         }
        }
       }
      }
     },
     "metadata": {},
     "output_type": "display_data"
    }
   ],
   "source": [
    "from plotly.subplots import make_subplots\n",
    "\n",
    "# фиксируем фактическое значение таргета\n",
    "y_true = 50\n",
    "\n",
    "# формируем предсказания\n",
    "min_value, max_value = 0, y_true + y_true + 50\n",
    "n_points = 31\n",
    "\n",
    "y_pred = np.linspace(min_value, max_value, n_points)\n",
    "\n",
    "# высчитываем ошибки \n",
    "error_pct = 100 * np.abs(y_pred - y_true) / np.abs(y_true)\n",
    "error_pct_sym = 100 * np.abs(y_pred - y_true) / (np.abs(y_true) + np.abs(y_pred) / 2)\n",
    "\n",
    "# необходимо для визуализации\n",
    "error_df = pd.DataFrame({\n",
    "    \"pred\": y_pred,\n",
    "    \"error_pct\": error_pct,\n",
    "    \"error_pct_sym\": error_pct_sym\n",
    "}).sort_values(\"pred\")\n",
    "\n",
    "error_df['pred_str'] = error_df['pred'].round(2).astype(str)\n",
    "\n",
    "# визуализируем\n",
    "fig = go.Figure()\n",
    "\n",
    "fig.add_trace(go.Bar(\n",
    "    x=error_df[\"error_pct_sym\"],\n",
    "    y=error_df[\"pred_str\"],\n",
    "    orientation='h',\n",
    "    name='SMAPE',\n",
    "    text=error_df[\"error_pct_sym\"].round(2),\n",
    "    textposition='outside'\n",
    "))\n",
    "\n",
    "fig.add_trace(go.Bar(\n",
    "    x=error_df[\"error_pct\"],\n",
    "    y=error_df[\"pred_str\"],\n",
    "    orientation='h',\n",
    "    name='MAPE',\n",
    "    text=error_df[\"error_pct\"].round(2),\n",
    "    textposition='outside'\n",
    "))\n",
    "\n",
    "fig.update_layout(\n",
    "    barmode='group',\n",
    "    title=f\"SMAPE vs MAPE при фиксированном таргете | y = {y_true}\",\n",
    "    xaxis_title=\"Относительная ошибка, %\",\n",
    "    yaxis_title=\"Прогноз (ŷ)\",\n",
    "    yaxis={\"categoryorder\": \"array\", \"categoryarray\": error_df['pred_str'].tolist()},\n",
    "    height=800,\n",
    "    width=1000,\n",
    "    margin=dict(l=140)\n",
    ")\n",
    "\n",
    "fig.show()"
   ]
  },
  {
   "cell_type": "markdown",
   "id": "4e70c16d",
   "metadata": {},
   "source": [
    "График идеально демонстрирует различную величину штрафа в метриках. "
   ]
  },
  {
   "cell_type": "markdown",
   "id": "8140c86a",
   "metadata": {},
   "source": [
    "## Взвешенная средняя абсолютная ошибка в процентах | Weighted Mean Absolute Percentage Error | WMAPE\n",
    "Оказывается, что у метрики $MAPE$ есть модификация в виде взвешивания, которая позволяет не искажать метрику на малых значениях таргета:\n",
    "\n",
    "$$\n",
    "WMAPE = \\frac{\\sum_{i=1}^{n} |y_i - \\hat{y}_i|}{\\sum_{i=1}^{n} |y_i|} \n",
    "$$\n",
    "\n",
    "То есть мы считаем отношение общей суммы ошибок к общей сумме фактических значений - это позволяет взвешивать ошибки пропорционально величине фактического значения из-за чего метрика не искажается:"
   ]
  },
  {
   "cell_type": "code",
   "execution_count": 36,
   "id": "6f48f6d3",
   "metadata": {},
   "outputs": [
    {
     "name": "stdout",
     "output_type": "stream",
     "text": [
      "Средняя относительная абсолютная ошибка в % (MAPE): 30000000030.30%\n",
      "Взвешенная средняя относительная абсолютная ошибка в % (WMAPE): 2.65%\n"
     ]
    }
   ],
   "source": [
    "# закодим метрику\n",
    "def weighted_mean_absolute_percentage_error(y_true, y_pred):\n",
    "    y_true, y_pred = np.array(y_true), np.array(y_pred)\n",
    "    return 100 * np.sum(np.abs(y_pred - y_true)) / (np.sum(np.abs(y_true)) + 1e-8)\n",
    "\n",
    "# рассчитаем WMAPE и MAPE для нашего игрушечного примера\n",
    "true = np.array([10, 1009, 0])\n",
    "pred = np.array([1, 1000, 9])\n",
    "\n",
    "wmape = weighted_mean_absolute_percentage_error(true, pred)\n",
    "mape = mean_absolute_percentage_error(true, pred)\n",
    "\n",
    "print(f'Средняя относительная абсолютная ошибка в % (MAPE): {mape:.2f}%')\n",
    "print(f'Взвешенная средняя относительная абсолютная ошибка в % (WMAPE): {wmape:.2f}%')"
   ]
  },
  {
   "cell_type": "markdown",
   "id": "fb63fbbe",
   "metadata": {},
   "source": [
    "Пример выше наглядно демонстрирует устойчивость метрики к ошибкам на малых значениях, также метрика полезна в бизнес-задачах, где важен оценивать ошибку на общем объёме - прогноза продаж, спроса или логистики.\n",
    "\n",
    "Но метрика же \"взвешенная\", где веса в формуле? Их нет, точнее они есть, но они неявные <смайлик> - этот факт зачастую вводит в заблуждения. Объясняю где же спрятались веса:\n",
    "\n",
    "Если вынести $\\tfrac{1}{\\sum_{j=1}^n |y_j|}$, то $WMAPE$ можно переписать в виде:\n",
    "\n",
    "\n",
    "$$WMAPE = \\frac{\\sum_{i=1}^n |y_i - \\hat{y}_i|}{\\sum_{j=1}^n |y_j|} = \\sum_{i=1}^n \\frac{|y_i|}{\\sum_{j=1}^n |y_j|} \\;\\cdot\\; \\frac{|y_i - \\hat{y}_i|}{|y_i|}$$\n",
    "\n",
    "Тогда получается, что:\n",
    "\n",
    "$$w_i = \\frac{|y_i|}{\\sum_{j=1}^n |y_j|} \\quad APE_i = \\frac{|y_i - \\hat{y}_i|}{|y_i|}$$\n",
    "\n",
    "Следовательно:\n",
    "\n",
    "$$WMAPE = \\sum_{i=1}^n w_i \\cdot APE_i \\quad \\sum_{i=1}^n w_i = 1$$\n",
    "\n",
    "Получается, что на какжом объекте обучающей выборки мы все также вычисляем уже знакомую нам относительную ошибку величина которой просто взвешивается. \n",
    "\n",
    "А можно ли задать свои веса? Да, no problem! Например, когда мы хотим давайть свою важность клиентам, марже, ...\n",
    "\n",
    "$$\n",
    "WMAPE_{custom} = \\sum_{i=1}^n v_i \\cdot APE_i, \\quad \\sum_{i=1}^n v_i = 1\n",
    "$$\n"
   ]
  },
  {
   "cell_type": "markdown",
   "id": "211d07cc",
   "metadata": {},
   "source": [
    "## Huber Loss"
   ]
  },
  {
   "cell_type": "code",
   "execution_count": null,
   "id": "cffcbe63",
   "metadata": {},
   "outputs": [],
   "source": []
  },
  {
   "cell_type": "code",
   "execution_count": null,
   "id": "fb58e048",
   "metadata": {},
   "outputs": [],
   "source": []
  },
  {
   "cell_type": "markdown",
   "id": "dedf5ead",
   "metadata": {},
   "source": [
    "## Квантильная ошибка | Quantile Error/Loss"
   ]
  },
  {
   "cell_type": "code",
   "execution_count": null,
   "id": "8cd49f5c",
   "metadata": {},
   "outputs": [],
   "source": []
  },
  {
   "cell_type": "code",
   "execution_count": null,
   "id": "4b6945fd",
   "metadata": {},
   "outputs": [],
   "source": []
  }
 ],
 "metadata": {
  "kernelspec": {
   "display_name": "ml-course",
   "language": "python",
   "name": "python3"
  },
  "language_info": {
   "codemirror_mode": {
    "name": "ipython",
    "version": 3
   },
   "file_extension": ".py",
   "mimetype": "text/x-python",
   "name": "python",
   "nbconvert_exporter": "python",
   "pygments_lexer": "ipython3",
   "version": "3.12.11"
  }
 },
 "nbformat": 4,
 "nbformat_minor": 5
}

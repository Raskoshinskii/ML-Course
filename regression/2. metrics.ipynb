{
 "cells": [
  {
   "cell_type": "markdown",
   "id": "ae67d687",
   "metadata": {},
   "source": [
    "## Метрики в задаче регрессии 📏\n",
    "- TODO"
   ]
  },
  {
   "cell_type": "markdown",
   "id": "5daa4305",
   "metadata": {},
   "source": []
  }
 ],
 "metadata": {
  "language_info": {
   "name": "python"
  }
 },
 "nbformat": 4,
 "nbformat_minor": 5
}

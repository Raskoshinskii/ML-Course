{
 "cells": [
  {
   "cell_type": "markdown",
   "id": "0617f2dc",
   "metadata": {},
   "source": [
    "## Знакомство с линейной регрессией 📈\n",
    "Линейная регрессия — один из самых простых и широко используемых методов, используемых для анализа данных и прогнозирования. Она позволяет моделировать линейные зависимости между переменными, представляя её в виде прямой линии. \n",
    "* Основная цель линейной регрессии — предсказать значение зависимой переменной на основе независимых, называемых факторами или более модно - фичами. \n",
    "\n",
    "Однако, линейная регрессия не так проста и бывает разных видов:\n",
    "- 📏 _\"Простая\" линейная регрессия_ - регрессия с одним признаком\n",
    "- 🧮 _\"Многомерная\" линейная регрессия_ - регрессия с несколькими признаками\n",
    "- 🌀 _\"Полиноминальная\" регрессиия_ - регрессия с несколькими признаками + степени этих признаков (полином)\n",
    "- 📊 _\"Регрессия Пуассона\"_ - модель линейной регресси, которая лучше работает когда целевая переменная — счётные данные (число заказов, покупок, покупателей, ...)\n",
    "\n",
    "Линейная регрессия является отличной отправной точкой (бейзлайном) перед построением или сравнением с более сложными моделями. \n",
    "\n",
    "В этом ноутбуке мы познакомимся с моделью линейной регрессии с одним признаком."
   ]
  },
  {
   "cell_type": "code",
   "execution_count": 1,
   "id": "e94632ed",
   "metadata": {},
   "outputs": [],
   "source": [
    "import numpy as np\n",
    "import pandas as pd\n",
    "import warnings\n",
    "\n",
    "warnings.filterwarnings('ignore')"
   ]
  },
  {
   "cell_type": "markdown",
   "id": "34b99336",
   "metadata": {},
   "source": [
    "## Данные 📊\n",
    "При изучении чего-либо я сторонник использовать подход от простого к сложному, поэтому данные будут очень простыми - всего пара столбцов и немного строк. Будем работать с данными о рекламе и продажах. У нас есть 200 рынков, на каждом из них мы инвестировали в разную рекламу какую-то сумму и получили продажи `Sales`\n",
    "\n",
    "- `TV` - доллары, потраченные на ТВ рекламу для одного продукта на данном рынке (в тысячах)\n",
    "- `Radio` - доллары, потраченные на радио рекламу\n",
    "- `Newspaper` - доллары, потраченные на рекламу в газетах\n",
    "- `Area` - в какой зоне происходила реклама (сельская, пригород, город)\n",
    "- `Sales` - продажи одного продукта на данном рынке\n",
    "\n",
    "Предсказывать мы будем продажи - это будет наша целевая переменная, остальные - объясняющие."
   ]
  },
  {
   "cell_type": "code",
   "execution_count": 2,
   "id": "a07e68a4",
   "metadata": {},
   "outputs": [
    {
     "data": {
      "text/html": [
       "<div>\n",
       "<style scoped>\n",
       "    .dataframe tbody tr th:only-of-type {\n",
       "        vertical-align: middle;\n",
       "    }\n",
       "\n",
       "    .dataframe tbody tr th {\n",
       "        vertical-align: top;\n",
       "    }\n",
       "\n",
       "    .dataframe thead th {\n",
       "        text-align: right;\n",
       "    }\n",
       "</style>\n",
       "<table border=\"1\" class=\"dataframe\">\n",
       "  <thead>\n",
       "    <tr style=\"text-align: right;\">\n",
       "      <th></th>\n",
       "      <th>TV</th>\n",
       "      <th>Radio</th>\n",
       "      <th>Newspaper</th>\n",
       "      <th>Sales</th>\n",
       "      <th>Area</th>\n",
       "    </tr>\n",
       "  </thead>\n",
       "  <tbody>\n",
       "    <tr>\n",
       "      <th>0</th>\n",
       "      <td>230100.0</td>\n",
       "      <td>37800.0</td>\n",
       "      <td>69200.0</td>\n",
       "      <td>22100.0</td>\n",
       "      <td>suburban</td>\n",
       "    </tr>\n",
       "    <tr>\n",
       "      <th>1</th>\n",
       "      <td>44500.0</td>\n",
       "      <td>39300.0</td>\n",
       "      <td>45100.0</td>\n",
       "      <td>10400.0</td>\n",
       "      <td>urban</td>\n",
       "    </tr>\n",
       "    <tr>\n",
       "      <th>2</th>\n",
       "      <td>17200.0</td>\n",
       "      <td>45900.0</td>\n",
       "      <td>69300.0</td>\n",
       "      <td>9300.0</td>\n",
       "      <td>rural</td>\n",
       "    </tr>\n",
       "    <tr>\n",
       "      <th>3</th>\n",
       "      <td>151500.0</td>\n",
       "      <td>41300.0</td>\n",
       "      <td>58500.0</td>\n",
       "      <td>18500.0</td>\n",
       "      <td>rural</td>\n",
       "    </tr>\n",
       "    <tr>\n",
       "      <th>4</th>\n",
       "      <td>180800.0</td>\n",
       "      <td>10800.0</td>\n",
       "      <td>58400.0</td>\n",
       "      <td>12900.0</td>\n",
       "      <td>suburban</td>\n",
       "    </tr>\n",
       "  </tbody>\n",
       "</table>\n",
       "</div>"
      ],
      "text/plain": [
       "         TV    Radio  Newspaper    Sales      Area\n",
       "0  230100.0  37800.0    69200.0  22100.0  suburban\n",
       "1   44500.0  39300.0    45100.0  10400.0     urban\n",
       "2   17200.0  45900.0    69300.0   9300.0     rural\n",
       "3  151500.0  41300.0    58500.0  18500.0     rural\n",
       "4  180800.0  10800.0    58400.0  12900.0  suburban"
      ]
     },
     "execution_count": 2,
     "metadata": {},
     "output_type": "execute_result"
    }
   ],
   "source": [
    "# загрузим данные\n",
    "data = pd.read_csv('../data/regression/ads_data.csv')\n",
    "data.head()"
   ]
  },
  {
   "cell_type": "markdown",
   "id": "d3549ba8",
   "metadata": {},
   "source": [
    "- Например, в первой строчке мы получили продажи в размере 22.1k $, вложив:\n",
    "    - 230.1k $  в канал _TV_\n",
    "    - 37.8k $ в _Radio_\n",
    "    - 69.2k $ в _Newspaper_ в пригороде"
   ]
  },
  {
   "cell_type": "markdown",
   "id": "455d9e22",
   "metadata": {},
   "source": [
    "## Регрессия с одним признаком 📉\n",
    "Простая линейная регрессия - это подход к прогнозированию *количественной* переменной с использованием *одного признака*:\n",
    "\n",
    "$y = w_0 + w_1x_1$\n",
    "\n",
    "- $y$ - таргет\n",
    "- $x$ - признак\n",
    "- $w_0$ - свободный член (bias или смещение)\n",
    "- $w_1$ - вес/коэффициент при признаке $x_1$\n",
    "\n",
    "Вместе $w_0$ и $w_1$ называются *коэффициентами модели* или *весами*. Чтобы создать модель, мы должны \"выучить\" значения этих коэффициентов. И как только мы \"выучим\" эти коэффициенты, мы сможем использовать модель для прогнозирования. В конспекте я упоминал, что найти веса модели можно 2-мя способами:\n",
    "- 🧠 _Аналитическое решение_ - просто используем формулу\n",
    "- ⚙️ _Численное решение_ - используем градиентный спуск\n",
    "\n",
    "Попробуем найти решение для нашей простой модели, используя 2 выше упомянутых метода, используя лишь 1 признак - `TV`. Это можно сделать, используя все признаки, но для простоты я рекомендую сфокусироваться на 1 признаке."
   ]
  },
  {
   "cell_type": "code",
   "execution_count": 3,
   "id": "db6a5314",
   "metadata": {},
   "outputs": [
    {
     "data": {
      "text/html": [
       "<div>\n",
       "<style scoped>\n",
       "    .dataframe tbody tr th:only-of-type {\n",
       "        vertical-align: middle;\n",
       "    }\n",
       "\n",
       "    .dataframe tbody tr th {\n",
       "        vertical-align: top;\n",
       "    }\n",
       "\n",
       "    .dataframe thead th {\n",
       "        text-align: right;\n",
       "    }\n",
       "</style>\n",
       "<table border=\"1\" class=\"dataframe\">\n",
       "  <thead>\n",
       "    <tr style=\"text-align: right;\">\n",
       "      <th></th>\n",
       "      <th>TV</th>\n",
       "      <th>Sales</th>\n",
       "    </tr>\n",
       "  </thead>\n",
       "  <tbody>\n",
       "    <tr>\n",
       "      <th>0</th>\n",
       "      <td>230100.0</td>\n",
       "      <td>22100.0</td>\n",
       "    </tr>\n",
       "    <tr>\n",
       "      <th>1</th>\n",
       "      <td>44500.0</td>\n",
       "      <td>10400.0</td>\n",
       "    </tr>\n",
       "    <tr>\n",
       "      <th>2</th>\n",
       "      <td>17200.0</td>\n",
       "      <td>9300.0</td>\n",
       "    </tr>\n",
       "    <tr>\n",
       "      <th>3</th>\n",
       "      <td>151500.0</td>\n",
       "      <td>18500.0</td>\n",
       "    </tr>\n",
       "    <tr>\n",
       "      <th>4</th>\n",
       "      <td>180800.0</td>\n",
       "      <td>12900.0</td>\n",
       "    </tr>\n",
       "  </tbody>\n",
       "</table>\n",
       "</div>"
      ],
      "text/plain": [
       "         TV    Sales\n",
       "0  230100.0  22100.0\n",
       "1   44500.0  10400.0\n",
       "2   17200.0   9300.0\n",
       "3  151500.0  18500.0\n",
       "4  180800.0  12900.0"
      ]
     },
     "execution_count": 3,
     "metadata": {},
     "output_type": "execute_result"
    }
   ],
   "source": [
    "# отберем признак \"TV\"\n",
    "columns = ['TV', 'Sales']\n",
    "data_single = data[columns]\n",
    "data_single.head()"
   ]
  },
  {
   "cell_type": "markdown",
   "id": "f5cb1226",
   "metadata": {},
   "source": [
    "- Теперь у нас есть признак `TV`, используя который мы попытаемся предсказать целевую переменную (продажи)"
   ]
  },
  {
   "cell_type": "code",
   "execution_count": 4,
   "id": "623acca6",
   "metadata": {},
   "outputs": [
    {
     "name": "stdout",
     "output_type": "stream",
     "text": [
      "Кол-во наблюдений (Train) ->  160\n",
      "Кол-во наблюдений (Test) ->  40\n"
     ]
    }
   ],
   "source": [
    "from sklearn.model_selection import train_test_split \n",
    "\n",
    "# также не забудем разделить выборку на train/test в пропроции 80/20\n",
    "X_train, X_test, y_train, y_test = train_test_split(\n",
    "    data_single['TV'], data_single['Sales'], test_size=0.2, random_state=42, shuffle=True\n",
    ")\n",
    "\n",
    "# проверим размерности полученных данных\n",
    "print('Кол-во наблюдений (Train) -> ', X_train.shape[0])\n",
    "print('Кол-во наблюдений (Test) -> ', X_test.shape[0])"
   ]
  },
  {
   "cell_type": "markdown",
   "id": "c618b263",
   "metadata": {},
   "source": [
    "- Получили 160 строчек/наблюдений в train и 40 в test: это соответствует пропорции нашего разбиения."
   ]
  },
  {
   "cell_type": "markdown",
   "id": "1d3a68bd",
   "metadata": {},
   "source": [
    "## Аналитическое решение 🧠\n",
    "Давай посмотрим как идёт оптимизация на простом примере. Удалим константу и рассмотрим модель с одним регрессором. \n",
    "\n",
    "__Модель:__ \n",
    "\n",
    "$$\n",
    "y_i = w \\cdot x_i\n",
    "$$\n",
    "\n",
    "__Функция потерь:__\n",
    "\n",
    "$$\n",
    "MSE = \\frac{1}{n} \\sum_{i=1}^n (y_i - \\hat y_i)^2 =  \\frac{1}{n} \\sum_{i=1}^n (y_i - w \\cdot x_i)^2 \\to \\min_{w}\n",
    "$$\n",
    "\n",
    "\n",
    "Попробуем найти оптимальное $w$, взяв производную и приравняв её к нулю. \n",
    "\n",
    "$$\n",
    "\\frac{\\partial MSE}{\\partial w} = - \\frac{2}{n} \\sum_{i=1}^n (y_i - w \\cdot x_i) x_i = 0\n",
    "$$\n",
    "\n",
    "__Решение:__\n",
    "\n",
    "$$\n",
    "{w} = \\frac{ \\sum x_i y_i }{ \\sum x^2_i}"
   ]
  },
  {
   "cell_type": "code",
   "execution_count": 5,
   "id": "4c100a0d",
   "metadata": {},
   "outputs": [
    {
     "data": {
      "text/plain": [
       "np.float64(0.08262850261766856)"
      ]
     },
     "execution_count": 5,
     "metadata": {},
     "output_type": "execute_result"
    }
   ],
   "source": [
    "# решим аналитически, предварительно трансформировав данные в вектора\n",
    "np.sum(X_train.values * y_train.values) / np.sum(X_train.values**2)"
   ]
  },
  {
   "cell_type": "markdown",
   "id": "3fd5c223",
   "metadata": {},
   "source": [
    "## Пару слов про библиотеки 📚\n",
    "Для обучения большинства ML-моделей достаточно использования [sklearn](https://scikit-learn.org/stable/index.html). Однако, есть еще одна удобная библиотека которая также часто используется - [statsmodels](https://www.statsmodels.org/stable/index.html).\n",
    "- _Sklearn_ больше направлен на \"прикладной\" ML - обучение моделей, их валидация и усовершенствование\n",
    "- _Statsmodels_ больше про статистику и интерпретацию моделей. В нем зашит автоматический расчет доверительных интервалов, значимости коэффициентов и много другое. Основной акцент сделан на интерпретации модели с статистичейской точки зрения\n",
    "\n",
    "И формат с точки зрения кода немного отличается, поэтому _statsmodels_ требует небольшого привыкания. Так как _sklearn_ очень часто используется при обучении ML-моделей, то мы именно на нем и сфокусируемся! _Statsmodels_ будет рассмотрен в дополнительных уроках."
   ]
  },
  {
   "cell_type": "code",
   "execution_count": 6,
   "id": "282eab05",
   "metadata": {},
   "outputs": [
    {
     "data": {
      "text/plain": [
       "array([0.0826285])"
      ]
     },
     "execution_count": 6,
     "metadata": {},
     "output_type": "execute_result"
    }
   ],
   "source": [
    "# теперь решим с использованием модели из модуля sklearn\n",
    "from sklearn.linear_model import LinearRegression\n",
    "\n",
    "# объявляем модель. Так как мы игнорировали константу, то указываем в параметрах \"fit_intercept=False\" (иначе веса не сойдутся)\n",
    "regression_model = LinearRegression(fit_intercept=False)\n",
    "\n",
    "# обучаем модель на train (тренировочная выборка) \n",
    "regression_model.fit(X_train.to_frame(), y_train)\n",
    "\n",
    "# смотри на выученный вес \n",
    "regression_model.coef_"
   ]
  },
  {
   "cell_type": "markdown",
   "id": "a05105ca",
   "metadata": {},
   "source": [
    "- Полученные веса совпадают, значит мы все сделали верно!\n",
    "- Мы передали DataFrame в методе `fit()`, так как [_sklearn_](https://scikit-learn.org/stable/index.html) ожидает двумерную матрицу признаков формата *(n_samples, n_features)*, даже если у тебя всего один признак! Это нормально, так как ML алгоритмы обучаются быстрее и эффективнее при использовании векторов и матриц!"
   ]
  },
  {
   "cell_type": "code",
   "execution_count": 7,
   "id": "aa337fb0",
   "metadata": {},
   "outputs": [
    {
     "name": "stdout",
     "output_type": "stream",
     "text": [
      "Размерность матрицы признаков X (Train) ->  (160, 1)\n",
      "Размерность матрицы признаков X (Test) ->  (40, 1)\n"
     ]
    }
   ],
   "source": [
    "# можно передавать не DataFrame, а уже преобразованную матрицу (n_samples x n_features) в метод fit:\n",
    "X_train_matrix = X_train.values.reshape(-1, 1)\n",
    "X_test_matrix = X_test.values.reshape(-1, 1)\n",
    "print('Размерность матрицы признаков X (Train) -> ', X_train_matrix.shape)\n",
    "print('Размерность матрицы признаков X (Test) -> ', X_test_matrix.shape)"
   ]
  },
  {
   "cell_type": "markdown",
   "id": "4b40de75",
   "metadata": {},
   "source": [
    "- -1 означает \"подбери число строк сам так, чтобы размерность осталась совместимой с исходным массивом\""
   ]
  },
  {
   "cell_type": "code",
   "execution_count": 8,
   "id": "ac6cf575",
   "metadata": {},
   "outputs": [
    {
     "data": {
      "text/plain": [
       "array([0.0826285])"
      ]
     },
     "execution_count": 8,
     "metadata": {},
     "output_type": "execute_result"
    }
   ],
   "source": [
    "# обучаем модель\n",
    "regression_model.fit(X_train_matrix, y_train)\n",
    "\n",
    "# смотри на выученный вес \n",
    "regression_model.coef_"
   ]
  },
  {
   "cell_type": "markdown",
   "id": "38585cbb",
   "metadata": {},
   "source": [
    "- Результат также совпадает 🎉 \n",
    "- Теперь проверим качество модели - как сильно она ошибается? 🤔"
   ]
  },
  {
   "cell_type": "code",
   "execution_count": 9,
   "id": "3d2820d7",
   "metadata": {},
   "outputs": [
    {
     "name": "stdout",
     "output_type": "stream",
     "text": [
      "MSE (Train) ->  22736345.014394596\n",
      "MSE (Test) ->  24308454.737048913\n"
     ]
    }
   ],
   "source": [
    "from sklearn.metrics import mean_squared_error\n",
    "\n",
    "# измеряем качество на обучении (train) и тестовых данных (test)\n",
    "preds_train = regression_model.predict(X_train_matrix)\n",
    "preds_test = regression_model.predict(X_test_matrix)\n",
    "\n",
    "# измеряем ошибки\n",
    "mse_train = mean_squared_error(y_train, preds_train)\n",
    "mse_test = mean_squared_error(y_test, preds_test)\n",
    "\n",
    "print('MSE (Train) -> ', mse_train)\n",
    "print('MSE (Test) -> ', mse_test)"
   ]
  },
  {
   "cell_type": "markdown",
   "id": "7aa58225",
   "metadata": {},
   "source": [
    "- Получили ошибку в 22 **квадратных миллионов долларов** на обучающей выборке - _train_ и 24 квадратных миллионов долларов на тестовой выборке _test_. Анализировать квадратные миллионы долларов не очень понятно, особенно если необходимо предоставить результаты бизнесу или твоему начальнику, лиду, ... \n",
    "- Для избавления от квадратов используют квадрат из среднеквадратичной ошибки - [\"Root Mean Squared Error\"](https://scikit-learn.org/stable/modules/generated/sklearn.metrics.root_mean_squared_error.html)."
   ]
  },
  {
   "cell_type": "code",
   "execution_count": 10,
   "id": "54fca040",
   "metadata": {},
   "outputs": [
    {
     "name": "stdout",
     "output_type": "stream",
     "text": [
      "RMSE (Train) ->  4768.264360791523\n",
      "RMSE (Test) ->  4930.360507817752\n"
     ]
    }
   ],
   "source": [
    "from sklearn.metrics import root_mean_squared_error as rmse\n",
    "\n",
    "# измеряем ошибки (без квадратов, используя RMSE)\n",
    "rmse_train = rmse(y_train, preds_train)\n",
    "rmse_test = rmse(y_test, preds_test)\n",
    "\n",
    "print('RMSE (Train) -> ', rmse_train)\n",
    "print('RMSE (Test) -> ', rmse_test)"
   ]
  },
  {
   "cell_type": "markdown",
   "id": "9c3ebb12",
   "metadata": {},
   "source": [
    "- Используя лишь 1 признак наша модель ошибается на _4768$_ на обучающей выборке, и на _4930$_ на тестовой. Много это или мало мы должны решить на основании бизнес требований. Однако пока это не является нашей целью.  "
   ]
  },
  {
   "cell_type": "markdown",
   "id": "201ead13",
   "metadata": {},
   "source": [
    "## Интерпретация коэффициентов модели 🔍\n",
    "Отлично, ты обучил модель и теперь знаешь чему равен коэффициент `w`. С математической точки зрения твоя модель имеет следующий вид:\n",
    "\n",
    "$$\n",
    "\\hat y = 0.0826285 \\cdot x\n",
    "$$\n",
    "\n",
    "Известно, что одним из преимуществ линейных моделей является их интерпретируемость. Как интерпретировать данную модель? 🤔 \n",
    "\n",
    "Ну, так как модель линейная, то и признаки интерпретируются соответствующим образом:\n",
    "\n",
    "> Коэффициент при признаке `w` показывает, насколько изменится целевая переменная `y` при изменении признака `x` на единицу.\n",
    "\n",
    "- Если `w > 0`: увеличение `x` приводит к росту `y` (прямая зависимость)\n",
    "- Если `w < 0`: увеличение `x` приводит к уменьшению `y` (обратная зависимость)\n",
    "- Если `w = 0`: зависимости нет (признак никак не влияет на таргет)\n",
    "\n",
    "В нашем случае, коэффициент равен 0.0826285. Это значит, что при увеличении `TV` на единицу, наш таргет увеличивается на 0.08. С точки зрения бизнеса, это звучало бы вот так:\n",
    "\n",
    "> C каждого проинвестированного доллара в рекламу на TV мы получаем 0.08 долларов продаж.\n",
    "\n",
    "## Задание 💪\n",
    "- Как думаешь, следует ли продолжать инвестировать в TV канал, используя модель выше?"
   ]
  },
  {
   "cell_type": "code",
   "execution_count": 11,
   "id": "9b6d2cf4",
   "metadata": {},
   "outputs": [],
   "source": [
    "# твои мысли 🧠"
   ]
  },
  {
   "cell_type": "markdown",
   "id": "e7b69e69",
   "metadata": {},
   "source": [
    "## Градиентный спуск ⛰️\n",
    "Аналитическое решение - это неплохо. Однако его не всегда можно применить + у него есть недостатки, например, очень медленный при большом числе признаков. В таких случаях \"спасает\" метод градиентного спуска:\n",
    "\n",
    "1. Инициализируем случайно значение w_0\n",
    "2. Находим производную функции потерь $\\frac{\\partial L}{\\partial w}$\n",
    "3. До тех пор, пока $|w_{t + 1} - w_t| > \\varepsilon$ делаем шаги\n",
    "\n",
    "$$\n",
    "w_{t+1} = w_t - \\eta_t \\cdot \\frac{\\partial L}{\\partial w}\n",
    "$$\n",
    "\n",
    "В качестве скорости обучение, $\\eta_t$, можно взять какую-нибудь малую константу. Например, $0.001$, либо подобрать это значение более умным образом - делить на номер шага/итерации."
   ]
  },
  {
   "cell_type": "code",
   "execution_count": 12,
   "id": "18747e43",
   "metadata": {},
   "outputs": [],
   "source": [
    "# определим функцию вычисления градиента MSE (просто производная от MSE)\n",
    "def calculate_gradient_mse(\n",
    "    x: np.ndarray, y: np.ndarray, y_pred: np.ndarray\n",
    ") -> float:\n",
    "    n = y.shape[0]\n",
    "    return (-2 / n) * np.sum(x * (y - y_pred)) "
   ]
  },
  {
   "cell_type": "code",
   "execution_count": 13,
   "id": "1e9acb84",
   "metadata": {},
   "outputs": [
    {
     "name": "stdout",
     "output_type": "stream",
     "text": [
      "MSE ->  2.493142998739777e+93\n",
      "MSE ->  6.909685854142796e+188\n",
      "MSE ->  1.9150028148034174e+284\n",
      "MSE ->  inf\n",
      "MSE ->  inf\n",
      "MSE ->  inf\n",
      "\n",
      "Число итераций (Градиентный Спуск):  66\n",
      "Оптимальный вес:  nan\n"
     ]
    }
   ],
   "source": [
    "# данные в виде векторов\n",
    "x = X_train.values  # вектор размерности (160, )\n",
    "y = y_train.values  # вектор размерности (160, )\n",
    "\n",
    "# основные параметры алгоритма\n",
    "weights_history = [0.05]  # здесь будем хранить историю обновления весов модели\n",
    "mse_history = []          # здесь будем хранить историю изменения ошибки\n",
    "eta = 1e-6                # скорость обучения\n",
    "eps = 1e-7                # разница между весами после которой останавливаем алгоритм\n",
    "i = 0                     # индекс начала цикла\n",
    "weights_diff = 100        # изначальная разница между новыми весами и старыми\n",
    "show_loss = True          # будет печатать значение ошибки\n",
    "\n",
    "# логика алгоритма (градиентный спуск)\n",
    "while weights_diff > eps:\n",
    "\n",
    "    # прогнозируем\n",
    "    y_pred = weights_history[-1] * x\n",
    "    \n",
    "    # вычисляем MSE\n",
    "    mse = np.mean((y - y_pred)**2)\n",
    "\n",
    "    # вычисляем градиент ошибки\n",
    "    mse_grad = calculate_gradient_mse(x=x, y=y, y_pred=y_pred)\n",
    "\n",
    "    # вычисляем новые веса (формула градиентного спуска)\n",
    "    w_new = weights_history[-1] - eta * mse_grad\n",
    "\n",
    "    # вычисляем раницу между весами (чтобы понимать когда останавливать алгоритм градиентного спуска)\n",
    "    weights_diff = np.abs(w_new - weights_history[-1])\n",
    "\n",
    "    # сохраянем веса модели и ошибку\n",
    "    weights_history.append(w_new)\n",
    "    mse_history.append(mse)\n",
    "    i += 1\n",
    "\n",
    "    if show_loss:\n",
    "        if i % 10 == 0:\n",
    "            print('MSE -> ', mse)\n",
    "\n",
    "# выведем информацию о числе итераций\n",
    "print('\\nЧисло итераций (Градиентный Спуск): ', len(weights_history))\n",
    "print('Оптимальный вес: ', weights_history[-1])"
   ]
  },
  {
   "cell_type": "markdown",
   "id": "28dffcc6",
   "metadata": {},
   "source": [
    "- Получили бесконечность, хмм 🤔. Что могло пойти не так? Скорее всего что-то не так на этапе обновления весов. Давай взглянем как изменялись веса и ошибка"
   ]
  },
  {
   "cell_type": "code",
   "execution_count": 14,
   "id": "19caa4cb",
   "metadata": {},
   "outputs": [
    {
     "name": "stdout",
     "output_type": "stream",
     "text": [
      "Взрыв весов модели:\n",
      "[0.05, np.float64(1930.8622187499998), np.float64(-114253168.9885492), np.float64(6760889077522.698), np.float64(-4.000731138589978e+17)]\n",
      "\n",
      "Рост ошибки модели:\n",
      "[np.float64(54236100.78125), np.float64(1.1030070745950608e+17), np.float64(3.862330283161564e+26), np.float64(1.352447827660439e+36), np.float64(4.7357812316511514e+45)]\n"
     ]
    }
   ],
   "source": [
    "# как \"взрывались\" веса модели 💥\n",
    "k = 5\n",
    "print('Взрыв весов модели:')\n",
    "print(weights_history[:k])\n",
    "\n",
    "# как росла ошибка модели\n",
    "print('\\nРост ошибки модели:')\n",
    "print(mse_history[:k])"
   ]
  },
  {
   "cell_type": "markdown",
   "id": "75cb9cd7",
   "metadata": {},
   "source": [
    "Wow, наши веса очень сильно растут от итерации к итерации, то же самое происходит и с ошибкой модели. На каждой итерации веса становятся все больше и больше, это приводит к очень большим предсказаниям и большой ошибке, которую мы еще возводим в квадрат. Такие значения просто не помещаются в тип данных `float`, что приводит к появлению бесконечности. Получается, что вместо минимизации алгоритм совершает максимизацию. А это нам не нужно! Проблема связана с разным масштабом признаков `TV` и `Sales` ☝️"
   ]
  },
  {
   "cell_type": "code",
   "execution_count": 15,
   "id": "667bf054",
   "metadata": {},
   "outputs": [
    {
     "name": "stdout",
     "output_type": "stream",
     "text": [
      "Диапазон изменения переменной \"TV\":\n",
      "[700.0 - 296400.0]\n",
      "\n",
      "Диапазон изменения переменной \"Sales\":\n",
      "[1600.0 - 27000.0]\n"
     ]
    }
   ],
   "source": [
    "# масштаб перменной X\n",
    "print('Диапазон изменения переменной \"TV\":')\n",
    "print(f'[{X_train.min()} - {X_train.max()}]')\n",
    "\n",
    "# масштаб перменной y\n",
    "print('\\nДиапазон изменения переменной \"Sales\":')\n",
    "print(f'[{y_train.min()} - {y_train.max()}]')"
   ]
  },
  {
   "cell_type": "markdown",
   "id": "7db30909",
   "metadata": {},
   "source": [
    "## 📏 Проблема разного масштаба признаков\n",
    "- Максимум признака `TV` ≈ 296 400, если округлить, то получим ≈ 300 000\n",
    "- Максимум признака `Sales` ≈ 27 000 → округлённо ≈ 30 000\n",
    "\n",
    "То есть `TV` примерно в 10 раз больше, чем `Sales` — разница в один порядок (10¹). Этого уже достаточно чтобы алгоритм перестал сходиться, и вот почему: если взглянуть на формулу градиента линейной регресии:\n",
    "\n",
    "$$\n",
    "\\frac{\\partial \\text{MSE}}{\\partial w} = -\\frac{2}{n} \\sum_{i=1}^{n} (y_i - w x_i) \\cdot x_i\n",
    "$$\n",
    "\n",
    "то заметим, что здесь два аргумента `x_i`:\n",
    "- Первый — напрямую в `w * x_i`\n",
    "- Второй — умножается на остаток `(y - w * x_i)`\n",
    "\n",
    "Теперь если например `x = 100 000`, а `y = 20 000`, тогда:\n",
    "- Умножение `w * x_i = большое число`, а при вычитании `(y - w * x_i) = большой остаток`\n",
    "- Умножаем полученный остаток на ещё одно `x_i` → градиент становится очень большим (\"взрывается\")\n",
    "- Если градиент слишком большой, то шаг обновления тоже становится большим:\n",
    "$$\n",
    "w_{\\text{new}} = w_{\\text{old}} - \\eta \\cdot \\text{grad}\n",
    "$$\n",
    "- Даже при малом `η` шаг может быть нестабильным → \"взрыв\" весов → `inf` или `nan` → алгоритм не обучается (расходится)\n",
    "\n",
    "> Масштабировние признаков приводит к тому, что произведение `W*X` больше не \"взрывается\" и градиенты становятся \"стабильными\". \n",
    "\n",
    "Вот еще небольшая оценка как входное значение  `x_i` влияет на полученный градиент:\n",
    "\n",
    "| x_i   | y_i - w * x_i | Градиент              |\n",
    "|----------|------------------|------------------------|\n",
    "| 100 000  | -80000 | -8000000000 |\n",
    "| 1.0      | -0.8     | -0.8              |\n",
    "\n",
    "Теперь сделаем все тоже самое только предварительно отмасштабировав выборку. Методы масштабирования позволяют просто изменить масштаб значений признакак. Например, сделать так чтобы все значения изменялись в диапазоне от $[0, 1]$ или $[-1, 1]$. Существуют разные методы масштабирования, но пока мы рассмотри тольок один из них - [StandardSclaer](https://scikit-learn.org/stable/modules/generated/sklearn.preprocessing.StandardScaler.html)\n",
    "\n",
    "Может быть многим знаком из статистики - \"Z-преобразование\" "
   ]
  },
  {
   "cell_type": "code",
   "execution_count": 16,
   "id": "28107af9",
   "metadata": {},
   "outputs": [],
   "source": [
    "from sklearn.preprocessing import StandardScaler\n",
    "\n",
    "# произведем масштабирование фичей и таргета\n",
    "scaler_features = StandardScaler()\n",
    "scaler_target = StandardScaler()\n",
    "\n",
    "X_train_scaled = scaler_features.fit_transform(X_train_matrix)\n",
    "X_test_scaled = scaler_features.transform(X_test_matrix)\n",
    "\n",
    "y_train_scaled = scaler_target.fit_transform(y_train.to_frame())\n",
    "y_test_scaled = scaler_target.transform(y_test.to_frame())"
   ]
  },
  {
   "cell_type": "markdown",
   "id": "47e6eb9b",
   "metadata": {},
   "source": [
    "- Метод `.fit_transform()` в `StandardScaler` ожидает матрицу на входе, поэтому я преобразовал `X_train` в `DataFrame`. Можно было преобразовать и в матрицу, используя NumPy"
   ]
  },
  {
   "cell_type": "code",
   "execution_count": 17,
   "id": "1b5c9da7",
   "metadata": {},
   "outputs": [
    {
     "name": "stdout",
     "output_type": "stream",
     "text": [
      "Отмасштабированные значения признака \"TV\":\n",
      "[-0.40424839  0.32060772 -1.27051084 -1.04235941  0.8791034 ]\n",
      "\n",
      "Отмасштабированные значения таргета \"Sales\":\n",
      "[-0.60870673 -0.25526411 -0.78542804 -0.86397084 -0.49089252]\n"
     ]
    }
   ],
   "source": [
    "print('Отмасштабированные значения признака \"TV\":')\n",
    "print(X_train_scaled[:k].reshape(-1))\n",
    "\n",
    "print('\\nОтмасштабированные значения таргета \"Sales\":')\n",
    "print(y_train_scaled[:k].reshape(-1))"
   ]
  },
  {
   "cell_type": "markdown",
   "id": "cb86970a",
   "metadata": {},
   "source": [
    "Можно заметить, что появились отрицательные значения. Это нормально, так как `StandardScaler` масштабирует данные по формуле:\n",
    "\n",
    "$$\n",
    "x_{\\text{scaled}} = \\frac{x - \\text{mean}(x)}{\\text{std}(x)}\n",
    "$$\n",
    "\n",
    "- Значения меньше среднего становятся отрицательными, а больше среднего - положительными\n",
    "- Также я отмасштабировал не только матрицу признаков `X`, но и таргет `y` ☝️\n",
    "\n",
    "Если не масштабировать `y`, то получится сильный \"перекос\" градиента функции, так как наш `X` изменяется в пределах от [-1, +1], а целевая переменная в десятках тысяч. Этого уже достаточно, чтобы снова получить проблемы при использовании градиентного спуска 😬. Z-преобразование позволяет осуществить так называемо \"центрирование\" выборки - то есть сместить данные так, чтобы среднее значение признака стало равно нулю, а стандартное отклонение — единице. Это делает выборку **симметричной относительно нуля**\n",
    "\n",
    "* _Основная цель сделать выборку симметричной именно относительно нуля!_"
   ]
  },
  {
   "cell_type": "code",
   "execution_count": 18,
   "id": "4b8a53ee",
   "metadata": {},
   "outputs": [],
   "source": [
    "# вычислим средние значения для оригинальных и масштабированных данных\n",
    "X_train_mean = X_train.mean()\n",
    "y_train_mean = y_train.mean()\n",
    "\n",
    "X_train_scaled_mean = X_train_scaled.mean()\n",
    "y_train_scaled_mean = y_train_scaled.mean()"
   ]
  },
  {
   "cell_type": "code",
   "execution_count": 21,
   "id": "43ec01eb",
   "metadata": {},
   "outputs": [
    {
     "data": {
      "application/vnd.plotly.v1+json": {
       "config": {
        "plotlyServerURL": "https://plot.ly"
       },
       "data": [
        {
         "mode": "markers",
         "name": "Выборка Оригинал (Train)",
         "type": "scatter",
         "x": {
          "bdata": "AAAAAABS/EAAAAAAQJsFQQAAAACAC+VAAAAAAIBr7kAAAAAAAFgLQQAAAAAAp+JAAAAAAIA88UAAAAAAIPsBQQAAAACAiflAAAAAAMCg8kAAAAAAgBfzQAAAAACAjgRBAAAAAAD+wEAAAAAAAHi+QAAAAAAAp/JAAAAAAICX/0AAAAAAgOvxQAAAAACQrhFBAAAAAAAk00AAAAAAAB8IQQAAAAAwWhFBAAAAACCSBkEAAAAAQJD7QAAAAAAAPtdAAAAAADC+EUEAAAAAAPLSQAAAAACA6xFBAAAAAABD0kAAAAAA4GQAQQAAAAAAANlAAAAAAACD+EAAAAAAgJTzQAAAAACA/wZBAAAAAECbBUEAAAAAQLD+QAAAAAAAlglBAAAAAKBxAUEAAAAAIJIGQQAAAAAAJgtBAAAAACCBDUEAAAAAAMzQQAAAAABAa/1AAAAAAEDm9UAAAAAA4FMHQQAAAADAbvJAAAAAAICVB0EAAAAAQOz0QAAAAABQShBBAAAAAIBJ40AAAAAAoOUPQQAAAAAAyMlAAAAAACClB0EAAAAAQBcSQQAAAAAANhBBAAAAAGA1CkEAAAAAIEYCQQAAAACgEwBBAAAAAIAT7EAAAAAAIE8NQQAAAACgPwFBAAAAAAASBkEAAAAAALv3QAAAAACg6gpBAAAAAGAgAUEAAAAAQC0PQQAAAACAfPdAAAAAAEAj8EAAAAAAIDYNQQAAAACgcgVBAAAAACBPDUEAAAAAAHvRQAAAAACgFgxBAAAAAEBPEUEAAAAAIOkEQQAAAADgTQhBAAAAAMAN/kAAAAAA4AAAQQAAAAAAg9hAAAAAAGD1A0EAAAAAAF8OQQAAAAAguAhBAAAAAACWyUAAAAAAAASwQAAAAADA7PZAAAAAANALEEEAAAAAYN4LQQAAAABA+w5BAAAAAACwDUEAAAAAwEUNQQAAAAAA1QtBAAAAAEBLCkEAAAAA4EgNQQAAAACAOPpAAAAAAMDsBkEAAAAAoEEJQQAAAAAA/+RAAAAAAGB+AkEAAAAAYNUAQQAAAABASgZBAAAAAMDUCkEAAAAAwB0DQQAAAABw4xBBAAAAAEAGCUEAAAAAQFXwQAAAAAAAp/JAAAAAAEBd90AAAAAAgFj9QAAAAABAkAtBAAAAAADu20AAAAAAALPwQAAAAACAUg5BAAAAACCsCkEAAAAAgM76QAAAAAAAzMBAAAAAAMDN90AAAAAAYLgJQQAAAACgFARBAAAAAMAvEEEAAAAA4CwRQQAAAAAALNpAAAAAAJDmEEEAAAAAgATiQAAAAACAPglBAAAAAMCNEUEAAAAAwBL5QAAAAACwCBBBAAAAAAAS9kAAAAAAwGMIQQAAAACA//ZAAAAAAIC7CUEAAAAAALwLQQAAAADAjvVAAAAAAMD6DEEAAAAAQKAAQQAAAACgDgVBAAAAAADM0EAAAAAAABrtQAAAAADAPPJAAAAAAEBJAkEAAAAAgFwEQQAAAACAuuVAAAAAAIBqCkEAAAAAgNPlQAAAAAAA4IVAAAAAAICK/UAAAAAA4O8GQQAAAAAAgQBBAAAAAAD+AEEAAAAAwAb7QAAAAADADApBAAAAAABc0kAAAAAAIFUMQQAAAAAAqQpBAAAAAMB0EUEAAAAAgM76QAAAAAAAathAAAAAACDqCEEAAAAAIJMKQQAAAAAANwRBAAAAACAaEUE=",
          "dtype": "f8"
         },
         "y": {
          "bdata": "AAAAAAB8xUAAAAAAAADJQAAAAAAAusNAAAAAAADywkAAAAAAAKjGQAAAAAAAsL1AAAAAAACCxEAAAAAAAITMQAAAAAAAUMRAAAAAAABwx0AAAAAAAITMQAAAAAAA2sZAAAAAAAAgvEAAAAAAAMi5QAAAAAAAXMJAAAAAAAB8xUAAAAAAAErFQAAAAAAAzthAAAAAAACwvUAAAAAAANrGQAAAAAAATM1AAAAAAABGzkAAAAAAAD7HQAAAAAAA+MFAAAAAAAAAyUAAAAAAAMi5QAAAAAAAN9RAAAAAAAAsukAAAAAAAODFQAAAAAAAjsJAAAAAAADmxEAAAAAAADDBQAAAAAAAGs1AAAAAAACz0EAAAAAAAA7PQAAAAAAADs9AAAAAAABMzUAAAAAAADfUQAAAAAAA2sZAAAAAAABK1UAAAAAAACrCQAAAAAAAvMtAAAAAAAC0xEAAAAAAAOXQQAAAAAAAVsNAAAAAAACwzUAAAAAAAPrJQAAAAAAAzthAAAAAAAAYxUAAAAAAAKLXQAAAAAAA4LVAAAAAAADA0kAAAAAAAD7XQAAAAAAA/tBAAAAAAAD+0EAAAAAAAOXQQAAAAAAAMslAAAAAAAAMx0AAAAAAAA7PQAAAAAAARs5AAAAAAAAyyUAAAAAAAMDCQAAAAAAAodNAAAAAAAAexEAAAAAAAFbTQAAAAAAARMZAAAAAAADMwEAAAAAAAKrOQAAAAAAAistAAAAAAADIyUAAAAAAAEC/QAAAAAAAldVAAAAAAADn2EAAAAAAAI7SQAAAAAAA39FAAAAAAACwzUAAAAAAAJTRQAAAAAAAmsBAAAAAAACU0UAAAAAAAHXSQAAAAAAANtBAAAAAAAC0tEAAAAAAAACpQAAAAAAA4s1AAAAAAABwx0AAAAAAAEbOQAAAAAAAMNFAAAAAAADO2EAAAAAAAAbIQAAAAAAA/9RAAAAAAACz0EAAAAAAAKjWQAAAAAAAdsZAAAAAAAB4zkAAAAAAADLJQAAAAAAAwMJAAAAAAAAR0kAAAAAAAMDSQAAAAAAAtNRAAAAAAAAk00AAAAAAAILEQAAAAAAADMdAAAAAAAAS1kAAAAAAAPLCQAAAAAAADMdAAAAAAACOwkAAAAAAAMjJQAAAAAAALMpAAAAAAACEvEAAAAAAAJDKQAAAAAAAutNAAAAAAADUx0AAAAAAAE/QQAAAAAAAwLJAAAAAAADywkAAAAAAAPjRQAAAAAAAUsxAAAAAAADOyEAAAAAAANTXQAAAAAAAMMFAAAAAAABe2kAAAAAAABjFQAAAAAAA1MdAAAAAAACW2UAAAAAAAFjLQAAAAAAAutNAAAAAAAD+wEAAAAAAAETGQAAAAAAA8sJAAAAAAAA+10AAAAAAAOjMQAAAAAAAMslAAAAAAABqyEAAAAAAAMjJQAAAAAAAIMxAAAAAAAAMt0AAAAAAAPLCQAAAAAAAtsxAAAAAAAC6w0AAAAAAACTTQAAAAAAAUMRAAAAAAAAS1kAAAAAAALrDQAAAAAAAAJlAAAAAAACoxkAAAAAAALbMQAAAAAAAzNBAAAAAAADUx0AAAAAAAEDPQAAAAAAAmtBAAAAAAABYu0AAAAAAACzKQAAAAAAAlNFAAAAAAAAOz0AAAAAAADjIQAAAAAAAILxAAAAAAACO0kAAAAAAAPLSQAAAAAAAnMhAAAAAAADozEA=",
          "dtype": "f8"
         }
        },
        {
         "marker": {
          "color": "blue",
          "size": 12,
          "symbol": "x"
         },
         "mode": "markers",
         "name": "Центр Выборки Оригинал (Train)",
         "type": "scatter",
         "x": [
          150019.375
         ],
         "y": [
          14100
         ]
        },
        {
         "marker": {
          "color": "red"
         },
         "mode": "markers",
         "name": "Выборка Центрированная (Train)",
         "type": "scatter",
         "x": {
          "bdata": "XkhRnzTf2b+UkHg51oTUP5A8Ny0DVPS/pvtnEIGt8L8Z9nJ0nSHsPyEhPLeBQvW/LMc8TQwz7r+ciE7Gdougv0XB3tFUReG/obghDC8I7L/IsxihOk/rv4x4CuEE9cs/3pAq9lbe+r/pR4QPJQr7v/SPfwZz/uu/TWYdc71cz789VICveyLtvy2tzvSTjvo/BOgkw8/L+L+VAzmltxfiP+titFy/h/k/aquNs+GG2j9LIpf8vTrcv9CR10xj//e/jnj5EEC/+j+xEMfIi9X4v1zGqGJmTPs/Dp9+3J33+L/FQfYiyejHv7ojJBrHp/e/q215vi3e4r9Chm0wiozqv8DK5D1LMN0/lJB4OdaE1D8wdW5auH7Sv7oUPEnap+Y/UjIfIkOotb9qq42z4YbaP0drUBrdhes/5IrIrE5u8T8h0L4GoED5v4P7TqQac9a/BW5AGcTv5r9DXxlu9D3fPwr+MjkPVuy/1QVarWZr4D8SyZb6JHXovxeQmHLZOPY/vBiekjsD9b8oHdzUSCj1P6f9aXdQA/q/NtGEyRKc4D/U/4axrtT7P7KH+k2T+fU/Ni+KaE+Y6D9ATxgx5RZvvxjI1mwr3cu/4MublyGX8b97Rbd/biDxP+CIM/NFhrq/+KOc5ado1z9Pg75yrhXkv25mR6/ozOo/+D7gtQeRvb82bawuHgn0PxIaFKsGd+S/mu29Shnp77/Hoi5pfvnwP/9uAKe9h9M/e0W3f24g8T/DQQfzjR75v1inFsxqc+4/jdT8SK1l+T9+c0K3Gy/QP7plufm7qeI/Wrhef+l41L9SmAr0y8bMv2uJOSgdwPe/BFTjkBCBxD/lLsV04cfyP7fMQrm09OM//RE7ei4I+r9rOLx3O777v5/BpSzrVuW/kWLtASl29T8sy69mMsTtP80nmwE+u/M/9rsI11C38T94CER31BHxPyVRyVX+pu0/8kv5j3Pc6D/OHBV6shbxP1ZOIjTENOC/ouJK+nq73D94yiGxBaHlP+ZQCDDhWPS/lHu4BjAEkj9mYL/3BW/Cv1BcarAYx9g/sknYh8SI6j/H8h78tAS0PzlZoobWFfg/n8UYRhHo5D8xqKwdOZvvv/SPfwZz/uu/c+U+x7Kn5L+S7xvGgq3Wv0XS2dnV0Ow/lsGjxcIV978MRizJNAnvv4vdgGlptPI/6DicPjgK6j83/NxZR5bevzSl+/g04/q/RwnYYXr4478q1DOH7hLnPxCvOXJxBsY/WDa2Qhvm9T8dFQULmfr4P6wvV/hebfe/5oFEjJIf+D+GKdrbx4H1v8uhf6tJl+U/EwKouV0o+j8exuc8Sf7hv+Q5S/xsbPU/SlHR8Z+r5r92gigh4O3iP5hHvxu3OeW/1/zVjKoc5z+8C7goHlntP32nHmgMeOe/WiCqMwSd8D9hLtJ29wTFv7lDdj68GNE/IdC+BqBA+b/HIHVc6zDxv3NDRGbvo+y/JaLvjt9aZb9GTYB4A4bJP9QfyAXfD/S/teJOyMs96T8n9yUAIwb0v+rrgNe3Y/y/wGT5a8IR1r/9M48F887cP22JKFhYisa/PR3P0tR0wL8LIHb0Dufdv2weTh/DGeg/uIqt2b/y+L/e1ME8GzbvPzsQ+jh8AOo/qryWjH3a+T83/NxZR5bev8KdCiv7xPe/iVdlE3WQ5D9/84oRWLzpP9GsGGrCssc/DiE46TDA+D8=",
          "dtype": "f8"
         },
         "y": {
          "bdata": "vcUuiIZ6478KbO1IP1bQv5nNCvo5Ium/wnulLKal678AgY14yGrfvw3HKBvPa/S/cB9wx82e5r+ZzQr6OSK5P/vKFtSoP+e/riRYE/Bj2r+ZzQr6OSK5P+spQF8SKd6/IR52NIWt9b/AIGpaFpD3v2F+mVI3iO2/vcUuiIZ6479HcdWUYRvkvwFuZCUswAFADccoG89r9L/rKUBfEinev3AfcMfNnsY/HsM6YvWX0T/Ce6UspqXbv3XV5mvtye6/CmztSD9W0L/AIGpaFpD3v9IcfKE8vPQ/+8oW1Kg/97+pbuFu0Djiv9fS8kVc5+y/XMgirhdd5b/PwUDPrKbwv0dx1ZRhG8Q/MxqIe6vZ4j9wH3DHzZ7WP3AfcMfNntY/cB9wx82exj/SHHyhPLz0P+spQF8SKd6/SswQZ/Ew+D/rKUBfEinuv0dx1ZRhG5Q/5nPJuvL95b9HcdWUYRvkP64kWBPwY+q/wnulLKalyz9HcdWUYRvEvwFuZCUswAFA0hx8oTy85L/F1uD+Nbv/P3N6q5ldtPq/RRaawtEF8D+wf5Plf3n+P9IcfKE8vOQ/0hx8oTy85D9HcdWUYRvkP+spQF8SKc6/19LyRVzn3L9wH3DHzZ7WPx7DOmL1l9E/6ylAXxIpzr9MJ0w5gUbsvzMaiHur2fI/hXa94IPg57/kGI7oYujxP5QXlFUa9+C/WW3n24dH8b9HcdWUYRvUPwAAAAAAAAAAcB9wx82exr/4b9sBGSrzv5nNCvo5Ivk/5BiO6GLoAUB11eZr7cnuP64kWBPwY+o/wnulLKalyz8PImTtXoHoPx7DOmL1l/G/DyJk7V6B6D/rKUBfEinuPwCBjXjIat8/wnulLKal+793wr0YUR8BwOspQF8SKc4/riRYE/Bj2r8ewzpi9ZfRP+Zzybry/eU/AW5kJSzAAUBwH3DHzZ7Wv/vKFtSoP/c/MxqIe6vZ4j8SfZ+/7pb8Pwps7Ug/VuC/MxqIe6vZ0j/rKUBfEinOv0wnTDmBRuy/wnulLKal6z9FFprC0QXwP6vJHEFgTvY/WW3n24dH8T9wH3DHzZ7mv9fS8kVc59y/c3qrmV20+j/Ce6UspqXrv9fS8kVc59y/19LyRVzn7L9wH3DHzZ7Gvx7DOmL1l8G/XMgirhdd9b+ZzQr6OSK5v/hv2wEZKvM/hXa94IPg178KbO1IP1bgP5woRszJN/2/wnulLKal67840P4fywTrP0dx1ZRhG7Q/HsM6YvWX0b8nwcOFCC4AQM/BQM+spvC/Khz/V5hDBEDSHHyhPLzkv4V2veCD4Ne/FsWxPuIBA0BHcdWUYRuUv/hv2wEZKvM/lBeUVRr38L+UF5RVGvfgv8J7pSympeu/sH+T5X95/j8ewzpi9ZfBP+spQF8SKc6/R3HVlGEb1L9wH3DHzZ7Gv+spQF8SKa4/JHmxBhXD+b/Ce6UspqXrv+spQF8SKb4/mc0K+jki6b9Zbefbh0fxP/vKFtSoP+e/c3qrmV20+j+ZzQr6OSLpv6BwWEu9ogPAAIGNeMhq37/rKUBfEim+P73FLoiGeuM/hXa94IPg17+Fdr3gg+DXP6lu4W7QOOI/q8kcQWBO9r8ewzpi9ZfBvw8iZO1egeg/cB9wx82e1j9cyCKuF13VvyEedjSFrfW/ddXma+3J7j/PwUDPrKbwPzMaiHur2dK/HsM6YvWXwT8=",
          "dtype": "f8"
         }
        },
        {
         "marker": {
          "color": "red",
          "size": 12,
          "symbol": "x"
         },
         "mode": "markers",
         "name": "Центр Выборки Центрированная (Train)",
         "type": "scatter",
         "x": [
          2.2204460492503132e-17
         ],
         "y": [
          2.7755575615628915e-18
         ]
        }
       ],
       "layout": {
        "height": 900,
        "template": {
         "data": {
          "bar": [
           {
            "error_x": {
             "color": "#2a3f5f"
            },
            "error_y": {
             "color": "#2a3f5f"
            },
            "marker": {
             "line": {
              "color": "#E5ECF6",
              "width": 0.5
             },
             "pattern": {
              "fillmode": "overlay",
              "size": 10,
              "solidity": 0.2
             }
            },
            "type": "bar"
           }
          ],
          "barpolar": [
           {
            "marker": {
             "line": {
              "color": "#E5ECF6",
              "width": 0.5
             },
             "pattern": {
              "fillmode": "overlay",
              "size": 10,
              "solidity": 0.2
             }
            },
            "type": "barpolar"
           }
          ],
          "carpet": [
           {
            "aaxis": {
             "endlinecolor": "#2a3f5f",
             "gridcolor": "white",
             "linecolor": "white",
             "minorgridcolor": "white",
             "startlinecolor": "#2a3f5f"
            },
            "baxis": {
             "endlinecolor": "#2a3f5f",
             "gridcolor": "white",
             "linecolor": "white",
             "minorgridcolor": "white",
             "startlinecolor": "#2a3f5f"
            },
            "type": "carpet"
           }
          ],
          "choropleth": [
           {
            "colorbar": {
             "outlinewidth": 0,
             "ticks": ""
            },
            "type": "choropleth"
           }
          ],
          "contour": [
           {
            "colorbar": {
             "outlinewidth": 0,
             "ticks": ""
            },
            "colorscale": [
             [
              0,
              "#0d0887"
             ],
             [
              0.1111111111111111,
              "#46039f"
             ],
             [
              0.2222222222222222,
              "#7201a8"
             ],
             [
              0.3333333333333333,
              "#9c179e"
             ],
             [
              0.4444444444444444,
              "#bd3786"
             ],
             [
              0.5555555555555556,
              "#d8576b"
             ],
             [
              0.6666666666666666,
              "#ed7953"
             ],
             [
              0.7777777777777778,
              "#fb9f3a"
             ],
             [
              0.8888888888888888,
              "#fdca26"
             ],
             [
              1,
              "#f0f921"
             ]
            ],
            "type": "contour"
           }
          ],
          "contourcarpet": [
           {
            "colorbar": {
             "outlinewidth": 0,
             "ticks": ""
            },
            "type": "contourcarpet"
           }
          ],
          "heatmap": [
           {
            "colorbar": {
             "outlinewidth": 0,
             "ticks": ""
            },
            "colorscale": [
             [
              0,
              "#0d0887"
             ],
             [
              0.1111111111111111,
              "#46039f"
             ],
             [
              0.2222222222222222,
              "#7201a8"
             ],
             [
              0.3333333333333333,
              "#9c179e"
             ],
             [
              0.4444444444444444,
              "#bd3786"
             ],
             [
              0.5555555555555556,
              "#d8576b"
             ],
             [
              0.6666666666666666,
              "#ed7953"
             ],
             [
              0.7777777777777778,
              "#fb9f3a"
             ],
             [
              0.8888888888888888,
              "#fdca26"
             ],
             [
              1,
              "#f0f921"
             ]
            ],
            "type": "heatmap"
           }
          ],
          "histogram": [
           {
            "marker": {
             "pattern": {
              "fillmode": "overlay",
              "size": 10,
              "solidity": 0.2
             }
            },
            "type": "histogram"
           }
          ],
          "histogram2d": [
           {
            "colorbar": {
             "outlinewidth": 0,
             "ticks": ""
            },
            "colorscale": [
             [
              0,
              "#0d0887"
             ],
             [
              0.1111111111111111,
              "#46039f"
             ],
             [
              0.2222222222222222,
              "#7201a8"
             ],
             [
              0.3333333333333333,
              "#9c179e"
             ],
             [
              0.4444444444444444,
              "#bd3786"
             ],
             [
              0.5555555555555556,
              "#d8576b"
             ],
             [
              0.6666666666666666,
              "#ed7953"
             ],
             [
              0.7777777777777778,
              "#fb9f3a"
             ],
             [
              0.8888888888888888,
              "#fdca26"
             ],
             [
              1,
              "#f0f921"
             ]
            ],
            "type": "histogram2d"
           }
          ],
          "histogram2dcontour": [
           {
            "colorbar": {
             "outlinewidth": 0,
             "ticks": ""
            },
            "colorscale": [
             [
              0,
              "#0d0887"
             ],
             [
              0.1111111111111111,
              "#46039f"
             ],
             [
              0.2222222222222222,
              "#7201a8"
             ],
             [
              0.3333333333333333,
              "#9c179e"
             ],
             [
              0.4444444444444444,
              "#bd3786"
             ],
             [
              0.5555555555555556,
              "#d8576b"
             ],
             [
              0.6666666666666666,
              "#ed7953"
             ],
             [
              0.7777777777777778,
              "#fb9f3a"
             ],
             [
              0.8888888888888888,
              "#fdca26"
             ],
             [
              1,
              "#f0f921"
             ]
            ],
            "type": "histogram2dcontour"
           }
          ],
          "mesh3d": [
           {
            "colorbar": {
             "outlinewidth": 0,
             "ticks": ""
            },
            "type": "mesh3d"
           }
          ],
          "parcoords": [
           {
            "line": {
             "colorbar": {
              "outlinewidth": 0,
              "ticks": ""
             }
            },
            "type": "parcoords"
           }
          ],
          "pie": [
           {
            "automargin": true,
            "type": "pie"
           }
          ],
          "scatter": [
           {
            "fillpattern": {
             "fillmode": "overlay",
             "size": 10,
             "solidity": 0.2
            },
            "type": "scatter"
           }
          ],
          "scatter3d": [
           {
            "line": {
             "colorbar": {
              "outlinewidth": 0,
              "ticks": ""
             }
            },
            "marker": {
             "colorbar": {
              "outlinewidth": 0,
              "ticks": ""
             }
            },
            "type": "scatter3d"
           }
          ],
          "scattercarpet": [
           {
            "marker": {
             "colorbar": {
              "outlinewidth": 0,
              "ticks": ""
             }
            },
            "type": "scattercarpet"
           }
          ],
          "scattergeo": [
           {
            "marker": {
             "colorbar": {
              "outlinewidth": 0,
              "ticks": ""
             }
            },
            "type": "scattergeo"
           }
          ],
          "scattergl": [
           {
            "marker": {
             "colorbar": {
              "outlinewidth": 0,
              "ticks": ""
             }
            },
            "type": "scattergl"
           }
          ],
          "scattermap": [
           {
            "marker": {
             "colorbar": {
              "outlinewidth": 0,
              "ticks": ""
             }
            },
            "type": "scattermap"
           }
          ],
          "scattermapbox": [
           {
            "marker": {
             "colorbar": {
              "outlinewidth": 0,
              "ticks": ""
             }
            },
            "type": "scattermapbox"
           }
          ],
          "scatterpolar": [
           {
            "marker": {
             "colorbar": {
              "outlinewidth": 0,
              "ticks": ""
             }
            },
            "type": "scatterpolar"
           }
          ],
          "scatterpolargl": [
           {
            "marker": {
             "colorbar": {
              "outlinewidth": 0,
              "ticks": ""
             }
            },
            "type": "scatterpolargl"
           }
          ],
          "scatterternary": [
           {
            "marker": {
             "colorbar": {
              "outlinewidth": 0,
              "ticks": ""
             }
            },
            "type": "scatterternary"
           }
          ],
          "surface": [
           {
            "colorbar": {
             "outlinewidth": 0,
             "ticks": ""
            },
            "colorscale": [
             [
              0,
              "#0d0887"
             ],
             [
              0.1111111111111111,
              "#46039f"
             ],
             [
              0.2222222222222222,
              "#7201a8"
             ],
             [
              0.3333333333333333,
              "#9c179e"
             ],
             [
              0.4444444444444444,
              "#bd3786"
             ],
             [
              0.5555555555555556,
              "#d8576b"
             ],
             [
              0.6666666666666666,
              "#ed7953"
             ],
             [
              0.7777777777777778,
              "#fb9f3a"
             ],
             [
              0.8888888888888888,
              "#fdca26"
             ],
             [
              1,
              "#f0f921"
             ]
            ],
            "type": "surface"
           }
          ],
          "table": [
           {
            "cells": {
             "fill": {
              "color": "#EBF0F8"
             },
             "line": {
              "color": "white"
             }
            },
            "header": {
             "fill": {
              "color": "#C8D4E3"
             },
             "line": {
              "color": "white"
             }
            },
            "type": "table"
           }
          ]
         },
         "layout": {
          "annotationdefaults": {
           "arrowcolor": "#2a3f5f",
           "arrowhead": 0,
           "arrowwidth": 1
          },
          "autotypenumbers": "strict",
          "coloraxis": {
           "colorbar": {
            "outlinewidth": 0,
            "ticks": ""
           }
          },
          "colorscale": {
           "diverging": [
            [
             0,
             "#8e0152"
            ],
            [
             0.1,
             "#c51b7d"
            ],
            [
             0.2,
             "#de77ae"
            ],
            [
             0.3,
             "#f1b6da"
            ],
            [
             0.4,
             "#fde0ef"
            ],
            [
             0.5,
             "#f7f7f7"
            ],
            [
             0.6,
             "#e6f5d0"
            ],
            [
             0.7,
             "#b8e186"
            ],
            [
             0.8,
             "#7fbc41"
            ],
            [
             0.9,
             "#4d9221"
            ],
            [
             1,
             "#276419"
            ]
           ],
           "sequential": [
            [
             0,
             "#0d0887"
            ],
            [
             0.1111111111111111,
             "#46039f"
            ],
            [
             0.2222222222222222,
             "#7201a8"
            ],
            [
             0.3333333333333333,
             "#9c179e"
            ],
            [
             0.4444444444444444,
             "#bd3786"
            ],
            [
             0.5555555555555556,
             "#d8576b"
            ],
            [
             0.6666666666666666,
             "#ed7953"
            ],
            [
             0.7777777777777778,
             "#fb9f3a"
            ],
            [
             0.8888888888888888,
             "#fdca26"
            ],
            [
             1,
             "#f0f921"
            ]
           ],
           "sequentialminus": [
            [
             0,
             "#0d0887"
            ],
            [
             0.1111111111111111,
             "#46039f"
            ],
            [
             0.2222222222222222,
             "#7201a8"
            ],
            [
             0.3333333333333333,
             "#9c179e"
            ],
            [
             0.4444444444444444,
             "#bd3786"
            ],
            [
             0.5555555555555556,
             "#d8576b"
            ],
            [
             0.6666666666666666,
             "#ed7953"
            ],
            [
             0.7777777777777778,
             "#fb9f3a"
            ],
            [
             0.8888888888888888,
             "#fdca26"
            ],
            [
             1,
             "#f0f921"
            ]
           ]
          },
          "colorway": [
           "#636efa",
           "#EF553B",
           "#00cc96",
           "#ab63fa",
           "#FFA15A",
           "#19d3f3",
           "#FF6692",
           "#B6E880",
           "#FF97FF",
           "#FECB52"
          ],
          "font": {
           "color": "#2a3f5f"
          },
          "geo": {
           "bgcolor": "white",
           "lakecolor": "white",
           "landcolor": "#E5ECF6",
           "showlakes": true,
           "showland": true,
           "subunitcolor": "white"
          },
          "hoverlabel": {
           "align": "left"
          },
          "hovermode": "closest",
          "mapbox": {
           "style": "light"
          },
          "paper_bgcolor": "white",
          "plot_bgcolor": "#E5ECF6",
          "polar": {
           "angularaxis": {
            "gridcolor": "white",
            "linecolor": "white",
            "ticks": ""
           },
           "bgcolor": "#E5ECF6",
           "radialaxis": {
            "gridcolor": "white",
            "linecolor": "white",
            "ticks": ""
           }
          },
          "scene": {
           "xaxis": {
            "backgroundcolor": "#E5ECF6",
            "gridcolor": "white",
            "gridwidth": 2,
            "linecolor": "white",
            "showbackground": true,
            "ticks": "",
            "zerolinecolor": "white"
           },
           "yaxis": {
            "backgroundcolor": "#E5ECF6",
            "gridcolor": "white",
            "gridwidth": 2,
            "linecolor": "white",
            "showbackground": true,
            "ticks": "",
            "zerolinecolor": "white"
           },
           "zaxis": {
            "backgroundcolor": "#E5ECF6",
            "gridcolor": "white",
            "gridwidth": 2,
            "linecolor": "white",
            "showbackground": true,
            "ticks": "",
            "zerolinecolor": "white"
           }
          },
          "shapedefaults": {
           "line": {
            "color": "#2a3f5f"
           }
          },
          "ternary": {
           "aaxis": {
            "gridcolor": "white",
            "linecolor": "white",
            "ticks": ""
           },
           "baxis": {
            "gridcolor": "white",
            "linecolor": "white",
            "ticks": ""
           },
           "bgcolor": "#E5ECF6",
           "caxis": {
            "gridcolor": "white",
            "linecolor": "white",
            "ticks": ""
           }
          },
          "title": {
           "x": 0.05
          },
          "xaxis": {
           "automargin": true,
           "gridcolor": "white",
           "linecolor": "white",
           "ticks": "",
           "title": {
            "standoff": 15
           },
           "zerolinecolor": "white",
           "zerolinewidth": 2
          },
          "yaxis": {
           "automargin": true,
           "gridcolor": "white",
           "linecolor": "white",
           "ticks": "",
           "title": {
            "standoff": 15
           },
           "zerolinecolor": "white",
           "zerolinewidth": 2
          }
         }
        },
        "title": {
         "text": "Зависимость между \"Инвестициями в рекламу на TV\" и \"Продажами\" (Train)"
        },
        "width": 1400,
        "xaxis": {
         "title": {
          "text": "TV Spent $"
         }
        },
        "yaxis": {
         "title": {
          "text": "Sales"
         }
        }
       }
      }
     },
     "metadata": {},
     "output_type": "display_data"
    }
   ],
   "source": [
    "import plotly.express as px\n",
    "import plotly.graph_objects as go\n",
    "from plotly.subplots import make_subplots\n",
    "\n",
    "# визуализируем оригинальную и центрированную выборки\n",
    "fig = go.Figure()\n",
    "\n",
    "# оригинальные данные\n",
    "fig.add_scatter(\n",
    "    x=X_train, y=y_train, mode='markers',\n",
    "    name='Выборка Оригинал (Train)'\n",
    ")\n",
    "\n",
    "# добавим точу центра выборки\n",
    "fig.add_scatter(\n",
    "    x=[X_train_mean], y=[y_train_mean], mode='markers',\n",
    "    marker=dict(size=12, color='blue', symbol='x'),\n",
    "    name='Центр Выборки Оригинал (Train)'\n",
    ")\n",
    "\n",
    "# масштабированные/центрированные данные\n",
    "fig.add_scatter(\n",
    "    x=X_train_scaled.flatten(),\n",
    "    y=y_train_scaled.flatten(), mode='markers',\n",
    "    name='Выборка Центрированная (Train)',\n",
    "    marker=dict(color='red')\n",
    ")\n",
    "\n",
    "# добавим точу центра выборки\n",
    "fig.add_scatter(\n",
    "    x=[X_train_scaled_mean], y=[y_train_scaled_mean], mode='markers',\n",
    "    marker=dict(size=12, color='red', symbol='x'),\n",
    "    name='Центр Выборки Центрированная (Train)'\n",
    ")\n",
    "\n",
    "\n",
    "fig.update_layout(\n",
    "    title='Зависимость между \"Инвестициями в рекламу на TV\" и \"Продажами\" (Train)',\n",
    "    xaxis_title='TV Spent $',\n",
    "    yaxis_title='Sales',\n",
    "    height=900,\n",
    "    width=1400,\n",
    ")\n",
    "\n",
    "fig.show()"
   ]
  },
  {
   "cell_type": "markdown",
   "id": "84767238",
   "metadata": {},
   "source": [
    "Хорошо видно, что при центрировании данных облако точек смещается в центр координат — там, где признаки равны нулю, выборка симметрична относительно нуля! В случае нецентрированных данных эта точка очень сильно смещена. Причём, чем больше выбросов в выборке, тем сильнее проявляется это смещение."
   ]
  },
  {
   "cell_type": "code",
   "execution_count": 22,
   "id": "801f7c6f",
   "metadata": {},
   "outputs": [
    {
     "name": "stdout",
     "output_type": "stream",
     "text": [
      "MSE ->  0.7680648451209262\n",
      "MSE ->  0.6486591162369593\n",
      "MSE ->  0.5689428997607954\n",
      "MSE ->  0.5157237181631535\n",
      "MSE ->  0.48019416827828587\n",
      "MSE ->  0.45647435754227794\n",
      "MSE ->  0.44063882280639693\n",
      "MSE ->  0.430066893579718\n",
      "MSE ->  0.4230089893511565\n",
      "MSE ->  0.4182970762242849\n",
      "MSE ->  0.41515136545856796\n",
      "MSE ->  0.4130512638745395\n",
      "MSE ->  0.4116492193155466\n",
      "MSE ->  0.41071320319120697\n",
      "MSE ->  0.41008831136490664\n",
      "MSE ->  0.4096711286001839\n",
      "MSE ->  0.40939261406077615\n",
      "MSE ->  0.4092066755340179\n",
      "MSE ->  0.4090825414912976\n",
      "MSE ->  0.40899966861481135\n",
      "MSE ->  0.40894434202182695\n",
      "MSE ->  0.4089074055473005\n",
      "MSE ->  0.4088827464624581\n",
      "MSE ->  0.40886628386084106\n",
      "MSE ->  0.4088552932967658\n",
      "MSE ->  0.40884795590857503\n",
      "MSE ->  0.40884305740972693\n",
      "MSE ->  0.4088397871328464\n",
      "MSE ->  0.4088376038699312\n",
      "MSE ->  0.40883614630620446\n",
      "MSE ->  0.4088351732250411\n",
      "MSE ->  0.40883452358829936\n",
      "MSE ->  0.4088340898856318\n",
      "MSE ->  0.4088338003422735\n",
      "MSE ->  0.4088336070408194\n",
      "MSE ->  0.40883347799122766\n",
      "MSE ->  0.40883339183669154\n",
      "MSE ->  0.4088333343192363\n",
      "MSE ->  0.40883329592012474\n",
      "MSE ->  0.4088332702845718\n",
      "MSE ->  0.4088332531700722\n",
      "MSE ->  0.40883324174429597\n",
      "MSE ->  0.4088332341163565\n",
      "MSE ->  0.4088332290238833\n",
      "MSE ->  0.40883322562410773\n",
      "MSE ->  0.4088332233543904\n",
      "MSE ->  0.40883322183910914\n",
      "MSE ->  0.4088332208274951\n",
      "MSE ->  0.4088332201521336\n",
      "MSE ->  0.4088332197012569\n",
      "MSE ->  0.4088332194002479\n",
      "MSE ->  0.40883321919929205\n",
      "MSE ->  0.40883321906513226\n",
      "MSE ->  0.4088332189755661\n",
      "MSE ->  0.408833218915771\n",
      "MSE ->  0.40883321887585133\n",
      "MSE ->  0.4088332188492007\n",
      "MSE ->  0.4088332188314084\n",
      "\n",
      "Число итераций (Градиентный Спуск):  590\n",
      "Оптимальный вес:  0.7688688251290724\n"
     ]
    }
   ],
   "source": [
    "# запустим алгоритм снова\n",
    "x = X_train_scaled.reshape(-1)  # вектор размерности (160, )\n",
    "y = y_train_scaled.reshape(-1)  # вектор размерности (160, )\n",
    "\n",
    "# основные параметры алгоритма\n",
    "weights_history = [0.05]\n",
    "mse_history = []\n",
    "eta = 1e-2\n",
    "eps = 1e-7\n",
    "i = 0\n",
    "weights_diff = 100\n",
    "show_loss = True\n",
    "\n",
    "# логика алгоритма\n",
    "while weights_diff > eps:\n",
    "\n",
    "    # прогнозируем\n",
    "    y_pred = weights_history[-1] * x\n",
    "    \n",
    "    # вычисляем MSE\n",
    "    mse = np.mean((y - y_pred)**2)\n",
    "\n",
    "    # вычисляем градиент ошибки\n",
    "    mse_grad = calculate_gradient_mse(x=x, y=y, y_pred=y_pred)\n",
    "\n",
    "    # вычисляем новые веса (формула градиентного спуска)\n",
    "    w_new = weights_history[-1] - eta * mse_grad\n",
    "\n",
    "    # вычисляем раницу между весами (чтобы понимать когда останавливать алгоритм градиентного спуска)\n",
    "    weights_diff = np.abs(w_new - weights_history[-1])\n",
    "\n",
    "    # сохраянем веса модели и ошибку\n",
    "    weights_history.append(w_new)\n",
    "    mse_history.append(mse)\n",
    "    i += 1\n",
    "\n",
    "    if show_loss:\n",
    "        if i % 10 == 0:\n",
    "            print('MSE -> ', mse)\n",
    "\n",
    "# выведем информацию о числе итераций\n",
    "print('\\nЧисло итераций (Градиентный Спуск): ', len(weights_history))\n",
    "print('Оптимальный вес: ', weights_history[-1])"
   ]
  },
  {
   "cell_type": "markdown",
   "id": "5b26a390",
   "metadata": {},
   "source": [
    "- Алгоритм сходится, количество итераций алгоритма зависит от параметров: `eta` и `eps`\n",
    "- Полученный вес отличается от того что мы видели раньше, но это вполне ожидаемо так как теперь мы обучали модель на отмасштабированных данных!"
   ]
  },
  {
   "cell_type": "code",
   "execution_count": 23,
   "id": "2fa135f4",
   "metadata": {},
   "outputs": [
    {
     "data": {
      "application/vnd.plotly.v1+json": {
       "config": {
        "plotlyServerURL": "https://plot.ly"
       },
       "data": [
        {
         "mode": "lines",
         "name": "Веса модели",
         "type": "scatter",
         "xaxis": "x",
         "y": [
          0.05,
          0.06437747419057274,
          0.07846739889733403,
          0.0922755251099601,
          0.10580748879833364,
          0.11906881321293972,
          0.13206491113925367,
          0.14480108710704134,
          0.15728253955547325,
          0.16951436295493652,
          0.18150154988641054,
          0.19324899307925508,
          0.20476148740824274,
          0.21604373185065062,
          0.22710033140421035,
          0.2379357989666989,
          0.24855455717793765,
          0.25896094022495164,
          0.26915919561102536,
          0.2791534858893776,
          0.2889478903621628,
          0.29854640674549227,
          0.30795295280115514,
          0.3171713679357048,
          0.32620541476756343,
          0.3350587806627849,
          0.34373507924010194,
          0.35223785184587264,
          0.36057056899952794,
          0.3687366318101101,
          0.37673937336448066,
          0.3845820600877638,
          0.3922678930765813,
          0.3998000094056224,
          0.4071814834080827,
          0.4144153279304938,
          0.42150449556245667,
          0.4284518798417803,
          0.43526031643551744,
          0.4419325842973798,
          0.448471406802005,
          0.45487945285653764,
          0.4611593379899796,
          0.4673136254207528,
          0.4733448271029105,
          0.47925540475142503,
          0.48504777084696926,
          0.4907242896206026,
          0.4962872780187633,
          0.5017390066489608,
          0.5070817007065543,
          0.512317540882996,
          0.5174486642559087,
          0.5224771651613633,
          0.5274050960487088,
          0.5322344683183073,
          0.5369672531425139,
          0.5416053822702364,
          0.5461507488154044,
          0.5506052080296691,
          0.5549705780596484,
          0.5592486406890282,
          0.5634411420658204,
          0.5675497934150767,
          0.5715762717373479,
          0.5755222204931737,
          0.579389250273883,
          0.583178939458978,
          0.5868928348603712,
          0.5905324523537365,
          0.5940992774972346,
          0.5975947661378627,
          0.6010203450056781,
          0.6043774122961373,
          0.6076673382407873,
          0.6108914656665443,
          0.6140511105437861,
          0.6171475625234831,
          0.6201820854635862,
          0.6231559179448872,
          0.6260702737765622,
          0.6289263424916037,
          0.6317252898323444,
          0.6344682582262703,
          0.6371563672523176,
          0.639790714097844,
          0.64237237400646,
          0.6449024007169035,
          0.6473818268931382,
          0.6498116645458482,
          0.6521929054455039,
          0.6545265215271666,
          0.656813465287196,
          0.6590546701720248,
          0.661251050959157,
          0.6634035041305466,
          0.6655129082385084,
          0.667580124264311,
          0.6696059959695976,
          0.6715913502407783,
          0.6735369974265355,
          0.6754437316685775,
          0.6773123312257787,
          0.6791435587918359,
          0.6809381618065719,
          0.6826968727610132,
          0.6844204094963657,
          0.6861094754970112,
          0.6877647601776437,
          0.6893869391646635,
          0.690976674571943,
          0.6925346152710768,
          0.694061397156228,
          0.6955576434036762,
          0.6970239647261754,
          0.6984609596222247,
          0.6998692146203529,
          0.7012493045185186,
          0.702601792618721,
          0.7039272309569193,
          0.7052261605283537,
          0.7064991115083594,
          0.707746603468765,
          0.7089691455899624,
          0.7101672368687358,
          0.7113413663219339,
          0.7124920131860679,
          0.7136196471129193,
          0.7147247283612336,
          0.7158077079845816,
          0.7168690280154627,
          0.7179091216457262,
          0.7189284134033844,
          0.7199273193258895,
          0.7209062471299444,
          0.7218655963779183,
          0.7228057586409327,
          0.7237271176586868,
          0.7246300494960858,
          0.7255149226967368,
          0.7263820984333748,
          0.72723193065528,
          0.7280647662327472,
          0.728880945098665,
          0.7296808003872645,
          0.7304646585700919,
          0.7312328395892628,
          0.7319856569880503,
          0.732723418038862,
          0.7334464238686574,
          0.734154969581857,
          0.7348493443807926,
          0.7355298316837495,
          0.7361967092406473,
          0.7368502492464071,
          0.7374907184520517,
          0.7381183782735834,
          0.7387334848986845,
          0.7393362893912836,
          0.7399270377940307,
          0.7405059712287229,
          0.7410733259947212,
          0.7416293336653995,
          0.7421742211826643,
          0.7427082109495837,
          0.7432315209211648,
          0.7437443646933143,
          0.7442469515900207,
          0.7447394867487931,
          0.7452221712043899,
          0.7456952019708749,
          0.7461587721220302,
          0.7466130708701624,
          0.7470582836433318,
          0.747494592161038,
          0.7479221745083899,
          0.7483412052087949,
          0.7487518552951917,
          0.7491542923798606,
          0.7495486807228362,
          0.7499351812989522,
          0.7503139518635459,
          0.7506851470168477,
          0.7510489182670835,
          0.7514054140923146,
          0.7517547800010411,
          0.7520971585915931,
          0.7524326896103339,
          0.7527615100087,
          0.7530837539990987,
          0.7533995531096894,
          0.7537090362380684,
          0.7540123297038798,
          0.754309557300375,
          0.7546008403449402,
          0.7548862977286142,
          0.7551660459646146,
          0.755440199235895,
          0.7557088694417499,
          0.7559721662434876,
          0.7562301971091906,
          0.7564830673575795,
          0.7567308802010007,
          0.7569737367875534,
          0.7572117362423751,
          0.7574449757081004,
          0.7576735503845111,
          0.7578975535673936,
          0.7581170766866185,
          0.7583322093434589,
          0.7585430393471625,
          0.758749652750792,
          0.7589521338863489,
          0.7591505653991947,
          0.7593450282817835,
          0.7595356019067206,
          0.7597223640591589,
          0.7599053909685485,
          0.7600847573397502,
          0.760260536383528,
          0.7604327998464302,
          0.7606016180400743,
          0.7607670598698456,
          0.7609291928630214,
          0.7610880831963337,
          0.7612437957229797,
          0.7613963939990929,
          0.7615459403096838,
          0.7616924956940628,
          0.7618361199707543,
          0.761976871761912,
          0.7621148085172464,
          0.7622499865374742,
          0.7623824609972975,
          0.7625122859679242,
          0.7626395144391385,
          0.7627641983409285,
          0.7628863885646826,
          0.7630061349839617,
          0.7631234864748553,
          0.7632384909359309,
          0.7633511953077851,
          0.7634616455922021,
          0.7635698868709307,
          0.7636759633240848,
          0.7637799182481759,
          0.7638817940737852,
          0.7639816323828822,
          0.7640794739257973,
          0.7641753586378541,
          0.7642693256556697,
          0.7643614133331291,
          0.7644516592570393,
          0.7645401002624712,
          0.7646267724477945,
          0.7647117111894114,
          0.7647949511561959,
          0.7648765263236447,
          0.7649564699877445,
          0.7650348147785623,
          0.7651115926735638,
          0.7651868350106652,
          0.7652605725010246,
          0.7653328352415769,
          0.7654036527273181,
          0.7654730538633445,
          0.7655410669766504,
          0.76560771982769,
          0.765673039621709,
          0.7657370530198475,
          0.7657997861500233,
          0.7658612646175956,
          0.7659215135158165,
          0.765980557436073,
          0.7660384204779243,
          0.7660951262589385,
          0.7661506979243324,
          0.7662051581564185,
          0.766258529183863,
          0.7663108327907584,
          0.7663620903255159,
          0.7664123227095784,
          0.7664615504459595,
          0.7665097936276131,
          0.7665570719456336,
          0.7666034046972937,
          0.7666488107939206,
          0.7666933087686149,
          0.7667369167838153,
          0.7667796526387117,
          0.7668215337765102,
          0.7668625772915527,
          0.7669027999362944,
          0.7669422181281412,
          0.7669808479561512,
          0.7670187051876008,
          0.7670558052744215,
          0.7670921633595058,
          0.7671277942828885,
          0.7671627125878034,
          0.7671969325266201,
          0.7672304680666605,
          0.7672633328959001,
          0.7672955404285549,
          0.7673271038105565,
          0.7673580359249181,
          0.7673883493969925,
          0.7674180565996254,
          0.7674471696582056,
          0.7674757004556142,
          0.7675036606370746,
          0.7675310616149059,
          0.7675579145731806,
          0.7675842304722897,
          0.7676100200534167,
          0.7676352938429212,
          0.7676600621566355,
          0.7676843351040755,
          0.7677081225925667,
          0.7677314343312881,
          0.767754279835235,
          0.7677766684291031,
          0.7677986092510938,
          0.7678201112566446,
          0.7678411832220845,
          0.7678618337482156,
          0.767882071263824,
          0.7679019040291203,
          0.7679213401391106,
          0.7679403875269012,
          0.7679590539669359,
          0.7679773470781699,
          0.7679952743271793,
          0.7680128430312084,
          0.768030060361157,
          0.7680469333445066,
          0.7680634688681892,
          0.7680796736813982,
          0.768095554398343,
          0.7681111175009488,
          0.7681263693415026,
          0.7681413161452453,
          0.7681559640129131,
          0.7681703189232275,
          0.7681843867353357,
          0.7681981731912018,
          0.7682116839179505,
          0.7682249244301642,
          0.7682379001321337,
          0.7682506163200638,
          0.7682630781842352,
          0.7682752908111232,
          0.7682872591854735,
          0.7682989881923368,
          0.7683104826190628,
          0.7683217471572542,
          0.7683327864046818,
          0.7683436048671609,
          0.7683542069603905,
          0.7683645970117554,
          0.7683747792620931,
          0.768384757867424,
          0.7683945369006483,
          0.768404120353208,
          0.7684135121367166,
          0.768422716084555,
          0.7684317359534367,
          0.7684405754249407,
          0.7684492381070146,
          0.768457727535447,
          0.7684660471753109,
          0.7684742004223774,
          0.7684821906045025,
          0.7684900209829852,
          0.7684976947538983,
          0.7685052150493931,
          0.7685125849389779,
          0.7685198074307711,
          0.7685268854727284,
          0.7685338219538466,
          0.7685406197053424,
          0.7685472815018083,
          0.7685538100623449,
          0.7685602080516708,
          0.7685664780812101,
          0.7685726227101587,
          0.7685786444465282,
          0.7685845457481704,
          0.7685903290237797,
          0.7685959966338768,
          0.768601550891772,
          0.7686069940645093,
          0.7686123283737918,
          0.7686175559968887,
          0.7686226790675237,
          0.7686276996767459,
          0.7686326198737837,
          0.7686374416668807,
          0.7686421670241159,
          0.7686467978742063,
          0.768651336107295,
          0.7686557835757218,
          0.7686601420947802,
          0.7686644134434573,
          0.7686685993651609,
          0.7686727015684304,
          0.7686767217276345,
          0.7686806614836545,
          0.7686845224445542,
          0.7686883061862358,
          0.7686920142530839,
          0.7686956481585949,
          0.7686992093859958,
          0.7687026993888486,
          0.7687061195916444,
          0.7687094713903843,
          0.7687127561531493,
          0.768715975220659,
          0.7687191299068186,
          0.768722221499255,
          0.7687252512598426,
          0.7687282204252185,
          0.7687311302072869,
          0.7687339817937139,
          0.7687367763484123,
          0.7687395150120168,
          0.7687421989023492,
          0.768744829114875,
          0.7687474067231502,
          0.76874993277926,
          0.7687524083142475,
          0.7687548343385353,
          0.7687572118423374,
          0.7687595417960633,
          0.7687618251507148,
          0.7687640628382733,
          0.7687662557720806,
          0.7687684048472118,
          0.7687705109408403,
          0.7687725749125962,
          0.7687745976049171,
          0.7687765798433914,
          0.7687785224370963,
          0.7687804261789272,
          0.7687822918459214,
          0.7687841201995758,
          0.768785911986157,
          0.7687876679370066,
          0.7687893887688392,
          0.7687910751840351,
          0.7687927278709271,
          0.7687943475040813,
          0.7687959347445724,
          0.7687974902402537,
          0.7687990146260214,
          0.7688005085240737,
          0.7688019725441649,
          0.7688034072838544,
          0.7688048133287501,
          0.7688061912527479,
          0.7688075416182656,
          0.768808864976473,
          0.7688101618675164,
          0.7688114328207388,
          0.7688126783548968,
          0.7688138989783716,
          0.768815095189377,
          0.7688162674761622,
          0.7688174163172117,
          0.7688185421814402,
          0.7688196455283841,
          0.7688207268083892,
          0.7688217864627942,
          0.768822824924111,
          0.7688238426162015,
          0.7688248399544503,
          0.768825817345934,
          0.7688267751895881,
          0.7688277138763691,
          0.7688286337894145,
          0.768829535304199,
          0.7688304187886877,
          0.7688312846034867,
          0.7688321331019897,
          0.7688329646305226,
          0.768833779528485,
          0.768834578128488,
          0.768835360756491,
          0.7688361277319339,
          0.7688368793678679,
          0.7688376159710834,
          0.7688383378422344,
          0.7688390452759625,
          0.768839738561016,
          0.7688404179803684,
          0.7688410838113338,
          0.7688417363256799,
          0.768842375789739,
          0.768843002464517,
          0.7688436166057994,
          0.7688442184642561,
          0.7688448082855437,
          0.7688453863104056,
          0.7688459527747702,
          0.7688465079098475,
          0.7688470519422234,
          0.7688475850939517,
          0.7688481075826454,
          0.7688486196215653,
          0.7688491214197067,
          0.7688496131818854,
          0.7688500951088204,
          0.7688505673972168,
          0.7688510302398452,
          0.7688514838256211,
          0.7688519283396814,
          0.7688523639634606,
          0.7688527908747641,
          0.7688532092478416,
          0.7688536192534575,
          0.7688540210589612,
          0.7688544148283547,
          0.7688548007223603,
          0.7688551788984859,
          0.7688555495110889,
          0.7688559127114399,
          0.7688562686477839,
          0.7688566174654009,
          0.7688569593066656,
          0.768857294311105,
          0.7688576226154556,
          0.7688579443537192,
          0.7688582596572175,
          0.768858568654646,
          0.7688588714721258,
          0.7688591682332561,
          0.7688594590591636,
          0.7688597440685531,
          0.7688600233777547,
          0.7688602971007724,
          0.7688605653493297,
          0.7688608282329158,
          0.7688610858588302,
          0.7688613383322264,
          0.7688615857561546,
          0.7688618282316042,
          0.7688620658575449,
          0.7688622987309668,
          0.7688625269469201,
          0.7688627505985545,
          0.7688629697771561,
          0.7688631845721857,
          0.7688633950713147,
          0.7688636013604612,
          0.7688638035238247,
          0.7688640016439209,
          0.7688641958016152,
          0.7688643860761557,
          0.7688645725452053,
          0.768864755284874,
          0.7688649343697492,
          0.768865109872927,
          0.7688652818660412,
          0.7688654504192931,
          0.76886561560148,
          0.7688657774800232,
          0.7688659361209954,
          0.7688660915891482,
          0.768866243947938,
          0.768866393259552,
          0.7688665395849337,
          0.7688666829838078,
          0.7688668235147044,
          0.768866961234983,
          0.768867096200856,
          0.7688672284674116,
          0.7688673580886362,
          0.7688674851174362,
          0.7688676096056603,
          0.7688677316041198,
          0.7688678511626101,
          0.7688679683299307,
          0.7688680831539048,
          0.7688681956813994,
          0.7688683059583442,
          0.76886841402975,
          0.7688685199397278,
          0.768868623731506,
          0.7688687254474487,
          0.7688688251290724
         ],
         "yaxis": "y"
        },
        {
         "mode": "lines",
         "name": "MSE",
         "type": "scatter",
         "xaxis": "x2",
         "y": [
          0.9256126290471363,
          0.9051481644011783,
          0.8854940925552004,
          0.8666183219543232,
          0.8484900318692405,
          0.8310796220715272,
          0.8143586645018033,
          0.7982998568518406,
          0.7828769779848164,
          0.7680648451209262,
          0.7538392727184463,
          0.7401770329831044,
          0.727055817941282,
          0.714454203015116,
          0.7023516120400259,
          0.6907282836675497,
          0.6795652390986234,
          0.6688442510946265,
          0.6585478142155878,
          0.6486591162369593,
          0.6391620106982844,
          0.630040990538941,
          0.6212811627779076,
          0.6128682241962111,
          0.6047884379823497,
          0.5970286113025574,
          0.5895760737592847,
          0.5824186567027257,
          0.5755446733616064,
          0.5689428997607954,
          0.5626025563945765,
          0.55651329062566,
          0.5506651597811925,
          0.5450486149181659,
          0.5396544852317152,
          0.5344739630808479,
          0.529498589607155,
          0.5247202409230203,
          0.5201311148467773,
          0.5157237181631535,
          0.5114908543882013,
          0.5074256120187373,
          0.5035213532471039,
          0.49977170312282715,
          0.49617053914347176,
          0.492711981257699,
          0.48939038226420273,
          0.486200318590849,
          0.48313658143896,
          0.48019416827828587,
          0.47736827467877435,
          0.47465428646580354,
          0.4720477721860664,
          0.4695444758718068,
          0.4671403100915919,
          0.46483134927627356,
          0.4626138233092417,
          0.4604841113705044,
          0.45843873602454116,
          0.45647435754227794,
          0.4545877684479123,
          0.4527758882816837,
          0.45103575857003764,
          0.4493645379949728,
          0.4477594977546805,
          0.4462180171079038,
          0.4447375790947395,
          0.4433157664268964,
          0.4419502575407,
          0.44063882280639693,
          0.43937932088757226,
          0.438169695244733,
          0.43700797077735026,
          0.4358922505988758,
          0.4348207129394689,
          0.4337916081713747,
          0.43280325595209684,
          0.4318540424807026,
          0.4309424178627753,
          0.430066893579718,
          0.4292260400582698,
          0.428418484336271,
          0.4276429078208633,
          0.42689804413546567,
          0.42618267705201,
          0.42549563850505906,
          0.42483580668456733,
          0.4242021042041671,
          0.4235934963419908,
          0.4230089893511565,
          0.4224476288371594,
          0.4219084981995165,
          0.4213907171351243,
          0.42089344020088204,
          0.42041585543323573,
          0.4199571830223883,
          0.41951667403901033,
          0.4190936092113741,
          0.41868729775091246,
          0.4182970762242849,
          0.41792230747011183,
          0.41756237955860415,
          0.4172167047923921,
          0.416884718746922,
          0.41656587934885253,
          0.41625966599094644,
          0.41596557868201367,
          0.41568313723051464,
          0.41541188046049493,
          0.41515136545856796,
          0.4149011668507173,
          0.4146608761077375,
          0.4144301008781798,
          0.4142084643477125,
          0.41399560462385165,
          0.41379117414505584,
          0.4135948391132203,
          0.41340627894864534,
          0.4132251857665876,
          0.4130512638745395,
          0.41288422928941637,
          0.4127238092738641,
          0.41256974189092777,
          0.4124217755763556,
          0.4122796687278406,
          0.41214318931052685,
          0.4120121144781385,
          0.4118862302091129,
          0.41176533095714063,
          0.4116492193155466,
          0.41153770569495957,
          0.4114306080137478,
          0.411327751400712,
          0.41122896790955255,
          0.41113409624464287,
          0.4110429814976636,
          0.4109554748946648,
          0.4108714335531447,
          0.4107907202487489,
          0.41071320319120697,
          0.41063875580914394,
          0.41056725654341053,
          0.4104985886486,
          0.4104326400024242,
          0.4103693029226367,
          0.41030847399120896,
          0.41025005388546576,
          0.4101939472159099,
          0.4101400623704686,
          0.41008831136490664,
          0.41003860969916506,
          0.40999087621938674,
          0.40994503298540763,
          0.40990100514349415,
          0.4098587208041204,
          0.40981811092458587,
          0.40977910919628097,
          0.4097416519364169,
          0.40970567798404345,
          0.4096711286001839,
          0.40963794737192527,
          0.40960608012030575,
          0.4095754748118502,
          0.40954608147360955,
          0.40951785211156333,
          0.4094907406322541,
          0.40946470276752545,
          0.40943969600224006,
          0.4094156795048599,
          0.40939261406077615,
          0.40937046200827804,
          0.4093491871770589,
          0.409328754829156,
          0.4093091316022301,
          0.4092902854550905,
          0.4092721856153775,
          0.4092548025293172,
          0.40923810781346487,
          0.40922207420836026,
          0.4092066755340179,
          0.40919188664717937,
          0.4091776834002598,
          0.4091640426019181,
          0.40915094197919083,
          0.4091383601411235,
          0.40912627654384365,
          0.4091146714570161,
          0.40910352593162685,
          0.4090928217690431,
          0.4090825414912976,
          0.409072668312551,
          0.4090631861116826,
          0.4090540794059686,
          0.4090453333258008,
          0.4090369335904077,
          0.4090288664845364,
          0.40902111883605724,
          0.40901367799445804,
          0.4090065318101862,
          0.40899966861481135,
          0.40899307720197353,
          0.4089867468090841,
          0.408980667099753,
          0.40897482814691133,
          0.4089692204166024,
          0.40896383475241355,
          0.4089586623605266,
          0.4089536947953585,
          0.4089489239457708,
          0.40894434202182695,
          0.40893994154207125,
          0.4089357153213139,
          0.40893165645889856,
          0.4089277583274347,
          0.4089240145619769,
          0.40892041904963133,
          0.4089169659195745,
          0.4089136495334681,
          0.40891046447625135,
          0.4089074055473005,
          0.408904467751936,
          0.4089016462932681,
          0.40889893656436327,
          0.40889633414072313,
          0.4088938347730591,
          0.40889143438035463,
          0.4088891290432012,
          0.40888691499739915,
          0.40888478862781075,
          0.4088827464624581,
          0.4088807851668534,
          0.40887890153855466,
          0.40887709250193643,
          0.40887535510316847,
          0.40887368650539163,
          0.40887208398408675,
          0.40887054492262564,
          0.4088690668079983,
          0.40886764722671015,
          0.40886628386084106,
          0.4088649744842604,
          0.4088637169589924,
          0.40886250923172496,
          0.40886134933045726,
          0.40886023536127974,
          0.40885916550528173,
          0.40885813801558124,
          0.40885715121447286,
          0.4088562034906884,
          0.4088552932967658,
          0.4088544191465225,
          0.4088535796126288,
          0.4088527733242774,
          0.4088519989649447,
          0.4088512552702414,
          0.4088505410258486,
          0.4088498550655336,
          0.4088491962692471,
          0.4088485635612935,
          0.40884795590857503,
          0.40884737231890417,
          0.4088468118393841,
          0.4088462735548532,
          0.4088457565863896,
          0.40884526008987726,
          0.4088447832546267,
          0.40884432530205217,
          0.4088438854843995,
          0.408843463083526,
          0.40884305740972693,
          0.40884266780061046,
          0.408842293620015,
          0.40884193425697096,
          0.4088415891247036,
          0.408841257659674,
          0.40884093932065946,
          0.40884063358787,
          0.408840339962099,
          0.40884005796390854,
          0.4088397871328464,
          0.40883952702669435,
          0.40883927722074587,
          0.408839037307113,
          0.40883880689405994,
          0.40883858560536385,
          0.4088383730797,
          0.4088381689700526,
          0.40883797294314717,
          0.4088377846789072,
          0.4088376038699312,
          0.4088374302209905,
          0.40883726344854787,
          0.40883710328029405,
          0.408836949454703,
          0.40883680172060544,
          0.4088366598367781,
          0.40883652357155037,
          0.40883639270242556,
          0.4088362670157181,
          0.40883614630620446,
          0.4088360303767874,
          0.4088359190381752,
          0.40883581210857206,
          0.4088357094133814,
          0.4088356107849201,
          0.4088355160621459,
          0.4088354250903935,
          0.40883533772112257,
          0.4088352538116748,
          0.4088351732250411,
          0.4088350958296381,
          0.4088350214990931,
          0.40883495011203763,
          0.40883488155190956,
          0.4088348157067626,
          0.4088347524690835,
          0.4088346917356164,
          0.40883463340719467,
          0.4088345773885784,
          0.40883452358829936,
          0.40883447191851136,
          0.4088344222948469,
          0.4088343746362796,
          0.40883432886499166,
          0.40883428490624657,
          0.40883424268826785,
          0.4088342021421211,
          0.4088341632016018,
          0.4088341258031269,
          0.4088340898856318,
          0.4088340553904694,
          0.40883402226131543,
          0.4088339904440761,
          0.40883395988679927,
          0.4088339305395906,
          0.40883390235453143,
          0.4088338752856007,
          0.40883384928859956,
          0.4088338243210797,
          0.4088338003422735,
          0.40883377731302817,
          0.4088337551957409,
          0.4088337339542981,
          0.40883371355401665,
          0.40883369396158625,
          0.40883367514501606,
          0.40883365707358205,
          0.40883363971777686,
          0.4088336230492615,
          0.4088336070408194,
          0.4088335916663116,
          0.4088335769006344,
          0.40883356271967786,
          0.4088335491002873,
          0.40883353602022454,
          0.4088335234581323,
          0.4088335113934988,
          0.408833499806625,
          0.4088334886785912,
          0.40883347799122766,
          0.4088334677270836,
          0.4088334578693999,
          0.4088334484020802,
          0.4088334393096666,
          0.40883343057731236,
          0.4088334221907594,
          0.408833414136314,
          0.40883340640082466,
          0.4088333989716606,
          0.40883339183669154,
          0.40883338498426713,
          0.40883337840319883,
          0.4088333720827408,
          0.408833366012573,
          0.4088333601827837,
          0.4088333545838541,
          0.40883334920664216,
          0.40883334404236776,
          0.40883333908259856,
          0.4088333343192363,
          0.40883332974450326,
          0.4088333253509296,
          0.40883332113134135,
          0.40883331707884885,
          0.40883331318683513,
          0.40883330944894514,
          0.40883330585907557,
          0.40883330241136484,
          0.4088332991001834,
          0.40883329592012474,
          0.40883329286599646,
          0.4088332899328117,
          0.40883328711578093,
          0.40883328441030475,
          0.4088332818119652,
          0.40883327931652,
          0.4088332769198946,
          0.4088332746181753,
          0.4088332724076042,
          0.4088332702845718,
          0.4088332682456114,
          0.4088332662873938,
          0.4088332644067217,
          0.4088332626005241,
          0.40883326086585203,
          0.40883325919987284,
          0.4088332575998666,
          0.4088332560632205,
          0.40883325458742564,
          0.4088332531700722,
          0.40883325180884605,
          0.4088332505015243,
          0.40883324924597264,
          0.40883324804014076,
          0.40883324688205985,
          0.40883324576983887,
          0.4088332447016619,
          0.4088332436757847,
          0.4088332426905324,
          0.40883324174429597,
          0.40883324083553035,
          0.40883323996275206,
          0.40883323912453573,
          0.40883323831951285,
          0.40883323754636863,
          0.40883323680384115,
          0.40883323609071776,
          0.40883323540583383,
          0.40883323474807154,
          0.4088332341163565,
          0.4088332335096575,
          0.40883323292698365,
          0.4088332323673837,
          0.40883323182994397,
          0.4088332313137869,
          0.40883323081806955,
          0.40883323034198266,
          0.40883322988474885,
          0.40883322944562134,
          0.4088332290238833,
          0.40883322861884624,
          0.40883322822984863,
          0.4088332278562552,
          0.40883322749745615,
          0.4088332271528656,
          0.4088332268219207,
          0.40883322650408127,
          0.4088332261988283,
          0.40883322590566334,
          0.40883322562410773,
          0.40883322535370165,
          0.40883322509400377,
          0.4088332248445899,
          0.40883322460505267,
          0.40883322437500136,
          0.4088332241540599,
          0.40883322394186783,
          0.40883322373807846,
          0.4088332235423592,
          0.4088332233543904,
          0.40883322317386517,
          0.40883322300048885,
          0.40883322283397805,
          0.40883322267406125,
          0.408833222520477,
          0.4088332223729747,
          0.40883322223131363,
          0.4088332220952623,
          0.4088332219645984,
          0.40883322183910914,
          0.40883322171858894,
          0.4088332216028415,
          0.4088332214916776,
          0.40883322138491585,
          0.40883322128238175,
          0.4088332211839082,
          0.40883322108933406,
          0.408833220998505,
          0.40883322091127283,
          0.4088332208274951,
          0.408833220747035,
          0.408833220669761,
          0.40883322059554705,
          0.40883322052427207,
          0.40883322045581955,
          0.40883322039007775,
          0.40883322032693936,
          0.4088332202663011,
          0.40883322020806434,
          0.4088332201521336,
          0.4088332200984177,
          0.40883322004682904,
          0.4088332199972832,
          0.40883321994969946,
          0.408833219904,
          0.4088332198601103,
          0.4088332198179586,
          0.40883321977747605,
          0.40883321973859654,
          0.4088332197012569,
          0.40883321966539576,
          0.40883321963095476,
          0.40883321959787755,
          0.4088332195661103,
          0.408833219535601,
          0.4088332195062998,
          0.4088332194781589,
          0.4088332194511325,
          0.40883321942517625,
          0.4088332194002479,
          0.40883321937630673,
          0.40883321935331374,
          0.4088332193312311,
          0.40883321931002303,
          0.40883321928965477,
          0.40883321927009303,
          0.408833219251306,
          0.40883321923326293,
          0.4088332192159344,
          0.40883321919929205,
          0.40883321918330867,
          0.40883321916795834,
          0.40883321915321585,
          0.408833219139057,
          0.408833219125459,
          0.4088332191123996,
          0.4088332190998572,
          0.40883321908781145,
          0.40883321907624276,
          0.40883321906513226,
          0.4088332190544617,
          0.4088332190442136,
          0.40883321903437136,
          0.4088332190249188,
          0.40883321901584074,
          0.4088332190071221,
          0.40883321899874875,
          0.4088332189907069,
          0.4088332189829836,
          0.4088332189755661,
          0.4088332189684423,
          0.4088332189616006,
          0.40883321895502994,
          0.4088332189487193,
          0.4088332189426588,
          0.4088332189368381,
          0.4088332189312479,
          0.4088332189258791,
          0.40883321892072305,
          0.408833218915771,
          0.4088332189110151,
          0.4088332189064475,
          0.4088332189020608,
          0.40883321889784796,
          0.40883321889380186,
          0.40883321888991586,
          0.40883321888618385,
          0.4088332188825996,
          0.4088332188791573,
          0.40883321887585133,
          0.40883321887267626,
          0.408833218869627,
          0.4088332188666984,
          0.4088332188638857,
          0.40883321886118457,
          0.40883321885859025,
          0.4088332188560987,
          0.4088332188537058,
          0.4088332188514078,
          0.4088332188492007,
          0.408833218847081,
          0.4088332188450451,
          0.40883321884309004,
          0.40883321884121226,
          0.40883321883940893,
          0.40883321883767704,
          0.4088332188360136,
          0.4088332188344161,
          0.4088332188328819,
          0.4088332188314084,
          0.40883321882999335,
          0.4088332188286342,
          0.408833218827329,
          0.4088332188260754,
          0.4088332188248714,
          0.40883321882371515,
          0.40883321882260465,
          0.4088332188215381,
          0.4088332188205139
         ],
         "yaxis": "y2"
        }
       ],
       "layout": {
        "annotations": [
         {
          "font": {
           "size": 16
          },
          "showarrow": false,
          "text": "Изменение весов модели",
          "x": 0.5,
          "xanchor": "center",
          "xref": "paper",
          "y": 1,
          "yanchor": "bottom",
          "yref": "paper"
         },
         {
          "font": {
           "size": 16
          },
          "showarrow": false,
          "text": "Изменение ошибки MSE (Train)",
          "x": 0.5,
          "xanchor": "center",
          "xref": "paper",
          "y": 0.45,
          "yanchor": "bottom",
          "yref": "paper"
         }
        ],
        "height": 700,
        "showlegend": false,
        "template": {
         "data": {
          "bar": [
           {
            "error_x": {
             "color": "#2a3f5f"
            },
            "error_y": {
             "color": "#2a3f5f"
            },
            "marker": {
             "line": {
              "color": "#E5ECF6",
              "width": 0.5
             },
             "pattern": {
              "fillmode": "overlay",
              "size": 10,
              "solidity": 0.2
             }
            },
            "type": "bar"
           }
          ],
          "barpolar": [
           {
            "marker": {
             "line": {
              "color": "#E5ECF6",
              "width": 0.5
             },
             "pattern": {
              "fillmode": "overlay",
              "size": 10,
              "solidity": 0.2
             }
            },
            "type": "barpolar"
           }
          ],
          "carpet": [
           {
            "aaxis": {
             "endlinecolor": "#2a3f5f",
             "gridcolor": "white",
             "linecolor": "white",
             "minorgridcolor": "white",
             "startlinecolor": "#2a3f5f"
            },
            "baxis": {
             "endlinecolor": "#2a3f5f",
             "gridcolor": "white",
             "linecolor": "white",
             "minorgridcolor": "white",
             "startlinecolor": "#2a3f5f"
            },
            "type": "carpet"
           }
          ],
          "choropleth": [
           {
            "colorbar": {
             "outlinewidth": 0,
             "ticks": ""
            },
            "type": "choropleth"
           }
          ],
          "contour": [
           {
            "colorbar": {
             "outlinewidth": 0,
             "ticks": ""
            },
            "colorscale": [
             [
              0,
              "#0d0887"
             ],
             [
              0.1111111111111111,
              "#46039f"
             ],
             [
              0.2222222222222222,
              "#7201a8"
             ],
             [
              0.3333333333333333,
              "#9c179e"
             ],
             [
              0.4444444444444444,
              "#bd3786"
             ],
             [
              0.5555555555555556,
              "#d8576b"
             ],
             [
              0.6666666666666666,
              "#ed7953"
             ],
             [
              0.7777777777777778,
              "#fb9f3a"
             ],
             [
              0.8888888888888888,
              "#fdca26"
             ],
             [
              1,
              "#f0f921"
             ]
            ],
            "type": "contour"
           }
          ],
          "contourcarpet": [
           {
            "colorbar": {
             "outlinewidth": 0,
             "ticks": ""
            },
            "type": "contourcarpet"
           }
          ],
          "heatmap": [
           {
            "colorbar": {
             "outlinewidth": 0,
             "ticks": ""
            },
            "colorscale": [
             [
              0,
              "#0d0887"
             ],
             [
              0.1111111111111111,
              "#46039f"
             ],
             [
              0.2222222222222222,
              "#7201a8"
             ],
             [
              0.3333333333333333,
              "#9c179e"
             ],
             [
              0.4444444444444444,
              "#bd3786"
             ],
             [
              0.5555555555555556,
              "#d8576b"
             ],
             [
              0.6666666666666666,
              "#ed7953"
             ],
             [
              0.7777777777777778,
              "#fb9f3a"
             ],
             [
              0.8888888888888888,
              "#fdca26"
             ],
             [
              1,
              "#f0f921"
             ]
            ],
            "type": "heatmap"
           }
          ],
          "histogram": [
           {
            "marker": {
             "pattern": {
              "fillmode": "overlay",
              "size": 10,
              "solidity": 0.2
             }
            },
            "type": "histogram"
           }
          ],
          "histogram2d": [
           {
            "colorbar": {
             "outlinewidth": 0,
             "ticks": ""
            },
            "colorscale": [
             [
              0,
              "#0d0887"
             ],
             [
              0.1111111111111111,
              "#46039f"
             ],
             [
              0.2222222222222222,
              "#7201a8"
             ],
             [
              0.3333333333333333,
              "#9c179e"
             ],
             [
              0.4444444444444444,
              "#bd3786"
             ],
             [
              0.5555555555555556,
              "#d8576b"
             ],
             [
              0.6666666666666666,
              "#ed7953"
             ],
             [
              0.7777777777777778,
              "#fb9f3a"
             ],
             [
              0.8888888888888888,
              "#fdca26"
             ],
             [
              1,
              "#f0f921"
             ]
            ],
            "type": "histogram2d"
           }
          ],
          "histogram2dcontour": [
           {
            "colorbar": {
             "outlinewidth": 0,
             "ticks": ""
            },
            "colorscale": [
             [
              0,
              "#0d0887"
             ],
             [
              0.1111111111111111,
              "#46039f"
             ],
             [
              0.2222222222222222,
              "#7201a8"
             ],
             [
              0.3333333333333333,
              "#9c179e"
             ],
             [
              0.4444444444444444,
              "#bd3786"
             ],
             [
              0.5555555555555556,
              "#d8576b"
             ],
             [
              0.6666666666666666,
              "#ed7953"
             ],
             [
              0.7777777777777778,
              "#fb9f3a"
             ],
             [
              0.8888888888888888,
              "#fdca26"
             ],
             [
              1,
              "#f0f921"
             ]
            ],
            "type": "histogram2dcontour"
           }
          ],
          "mesh3d": [
           {
            "colorbar": {
             "outlinewidth": 0,
             "ticks": ""
            },
            "type": "mesh3d"
           }
          ],
          "parcoords": [
           {
            "line": {
             "colorbar": {
              "outlinewidth": 0,
              "ticks": ""
             }
            },
            "type": "parcoords"
           }
          ],
          "pie": [
           {
            "automargin": true,
            "type": "pie"
           }
          ],
          "scatter": [
           {
            "fillpattern": {
             "fillmode": "overlay",
             "size": 10,
             "solidity": 0.2
            },
            "type": "scatter"
           }
          ],
          "scatter3d": [
           {
            "line": {
             "colorbar": {
              "outlinewidth": 0,
              "ticks": ""
             }
            },
            "marker": {
             "colorbar": {
              "outlinewidth": 0,
              "ticks": ""
             }
            },
            "type": "scatter3d"
           }
          ],
          "scattercarpet": [
           {
            "marker": {
             "colorbar": {
              "outlinewidth": 0,
              "ticks": ""
             }
            },
            "type": "scattercarpet"
           }
          ],
          "scattergeo": [
           {
            "marker": {
             "colorbar": {
              "outlinewidth": 0,
              "ticks": ""
             }
            },
            "type": "scattergeo"
           }
          ],
          "scattergl": [
           {
            "marker": {
             "colorbar": {
              "outlinewidth": 0,
              "ticks": ""
             }
            },
            "type": "scattergl"
           }
          ],
          "scattermap": [
           {
            "marker": {
             "colorbar": {
              "outlinewidth": 0,
              "ticks": ""
             }
            },
            "type": "scattermap"
           }
          ],
          "scattermapbox": [
           {
            "marker": {
             "colorbar": {
              "outlinewidth": 0,
              "ticks": ""
             }
            },
            "type": "scattermapbox"
           }
          ],
          "scatterpolar": [
           {
            "marker": {
             "colorbar": {
              "outlinewidth": 0,
              "ticks": ""
             }
            },
            "type": "scatterpolar"
           }
          ],
          "scatterpolargl": [
           {
            "marker": {
             "colorbar": {
              "outlinewidth": 0,
              "ticks": ""
             }
            },
            "type": "scatterpolargl"
           }
          ],
          "scatterternary": [
           {
            "marker": {
             "colorbar": {
              "outlinewidth": 0,
              "ticks": ""
             }
            },
            "type": "scatterternary"
           }
          ],
          "surface": [
           {
            "colorbar": {
             "outlinewidth": 0,
             "ticks": ""
            },
            "colorscale": [
             [
              0,
              "#0d0887"
             ],
             [
              0.1111111111111111,
              "#46039f"
             ],
             [
              0.2222222222222222,
              "#7201a8"
             ],
             [
              0.3333333333333333,
              "#9c179e"
             ],
             [
              0.4444444444444444,
              "#bd3786"
             ],
             [
              0.5555555555555556,
              "#d8576b"
             ],
             [
              0.6666666666666666,
              "#ed7953"
             ],
             [
              0.7777777777777778,
              "#fb9f3a"
             ],
             [
              0.8888888888888888,
              "#fdca26"
             ],
             [
              1,
              "#f0f921"
             ]
            ],
            "type": "surface"
           }
          ],
          "table": [
           {
            "cells": {
             "fill": {
              "color": "#EBF0F8"
             },
             "line": {
              "color": "white"
             }
            },
            "header": {
             "fill": {
              "color": "#C8D4E3"
             },
             "line": {
              "color": "white"
             }
            },
            "type": "table"
           }
          ]
         },
         "layout": {
          "annotationdefaults": {
           "arrowcolor": "#2a3f5f",
           "arrowhead": 0,
           "arrowwidth": 1
          },
          "autotypenumbers": "strict",
          "coloraxis": {
           "colorbar": {
            "outlinewidth": 0,
            "ticks": ""
           }
          },
          "colorscale": {
           "diverging": [
            [
             0,
             "#8e0152"
            ],
            [
             0.1,
             "#c51b7d"
            ],
            [
             0.2,
             "#de77ae"
            ],
            [
             0.3,
             "#f1b6da"
            ],
            [
             0.4,
             "#fde0ef"
            ],
            [
             0.5,
             "#f7f7f7"
            ],
            [
             0.6,
             "#e6f5d0"
            ],
            [
             0.7,
             "#b8e186"
            ],
            [
             0.8,
             "#7fbc41"
            ],
            [
             0.9,
             "#4d9221"
            ],
            [
             1,
             "#276419"
            ]
           ],
           "sequential": [
            [
             0,
             "#0d0887"
            ],
            [
             0.1111111111111111,
             "#46039f"
            ],
            [
             0.2222222222222222,
             "#7201a8"
            ],
            [
             0.3333333333333333,
             "#9c179e"
            ],
            [
             0.4444444444444444,
             "#bd3786"
            ],
            [
             0.5555555555555556,
             "#d8576b"
            ],
            [
             0.6666666666666666,
             "#ed7953"
            ],
            [
             0.7777777777777778,
             "#fb9f3a"
            ],
            [
             0.8888888888888888,
             "#fdca26"
            ],
            [
             1,
             "#f0f921"
            ]
           ],
           "sequentialminus": [
            [
             0,
             "#0d0887"
            ],
            [
             0.1111111111111111,
             "#46039f"
            ],
            [
             0.2222222222222222,
             "#7201a8"
            ],
            [
             0.3333333333333333,
             "#9c179e"
            ],
            [
             0.4444444444444444,
             "#bd3786"
            ],
            [
             0.5555555555555556,
             "#d8576b"
            ],
            [
             0.6666666666666666,
             "#ed7953"
            ],
            [
             0.7777777777777778,
             "#fb9f3a"
            ],
            [
             0.8888888888888888,
             "#fdca26"
            ],
            [
             1,
             "#f0f921"
            ]
           ]
          },
          "colorway": [
           "#636efa",
           "#EF553B",
           "#00cc96",
           "#ab63fa",
           "#FFA15A",
           "#19d3f3",
           "#FF6692",
           "#B6E880",
           "#FF97FF",
           "#FECB52"
          ],
          "font": {
           "color": "#2a3f5f"
          },
          "geo": {
           "bgcolor": "white",
           "lakecolor": "white",
           "landcolor": "#E5ECF6",
           "showlakes": true,
           "showland": true,
           "subunitcolor": "white"
          },
          "hoverlabel": {
           "align": "left"
          },
          "hovermode": "closest",
          "mapbox": {
           "style": "light"
          },
          "paper_bgcolor": "white",
          "plot_bgcolor": "#E5ECF6",
          "polar": {
           "angularaxis": {
            "gridcolor": "white",
            "linecolor": "white",
            "ticks": ""
           },
           "bgcolor": "#E5ECF6",
           "radialaxis": {
            "gridcolor": "white",
            "linecolor": "white",
            "ticks": ""
           }
          },
          "scene": {
           "xaxis": {
            "backgroundcolor": "#E5ECF6",
            "gridcolor": "white",
            "gridwidth": 2,
            "linecolor": "white",
            "showbackground": true,
            "ticks": "",
            "zerolinecolor": "white"
           },
           "yaxis": {
            "backgroundcolor": "#E5ECF6",
            "gridcolor": "white",
            "gridwidth": 2,
            "linecolor": "white",
            "showbackground": true,
            "ticks": "",
            "zerolinecolor": "white"
           },
           "zaxis": {
            "backgroundcolor": "#E5ECF6",
            "gridcolor": "white",
            "gridwidth": 2,
            "linecolor": "white",
            "showbackground": true,
            "ticks": "",
            "zerolinecolor": "white"
           }
          },
          "shapedefaults": {
           "line": {
            "color": "#2a3f5f"
           }
          },
          "ternary": {
           "aaxis": {
            "gridcolor": "white",
            "linecolor": "white",
            "ticks": ""
           },
           "baxis": {
            "gridcolor": "white",
            "linecolor": "white",
            "ticks": ""
           },
           "bgcolor": "#E5ECF6",
           "caxis": {
            "gridcolor": "white",
            "linecolor": "white",
            "ticks": ""
           }
          },
          "title": {
           "x": 0.05
          },
          "xaxis": {
           "automargin": true,
           "gridcolor": "white",
           "linecolor": "white",
           "ticks": "",
           "title": {
            "standoff": 15
           },
           "zerolinecolor": "white",
           "zerolinewidth": 2
          },
          "yaxis": {
           "automargin": true,
           "gridcolor": "white",
           "linecolor": "white",
           "ticks": "",
           "title": {
            "standoff": 15
           },
           "zerolinecolor": "white",
           "zerolinewidth": 2
          }
         }
        },
        "title": {
         "text": "Динамика обучения модели (Градиентный спуск)"
        },
        "width": 800,
        "xaxis": {
         "anchor": "y",
         "domain": [
          0,
          1
         ],
         "matches": "x2",
         "showticklabels": false
        },
        "xaxis2": {
         "anchor": "y2",
         "domain": [
          0,
          1
         ],
         "title": {
          "text": "Номер итерации"
         }
        },
        "yaxis": {
         "anchor": "x",
         "domain": [
          0.55,
          1
         ],
         "title": {
          "text": "Вес"
         }
        },
        "yaxis2": {
         "anchor": "x2",
         "domain": [
          0,
          0.45
         ],
         "title": {
          "text": "Ошибка"
         }
        }
       }
      }
     },
     "metadata": {},
     "output_type": "display_data"
    }
   ],
   "source": [
    "# создаём фигуру с двумя подграфиками\n",
    "fig = make_subplots(\n",
    "    rows=2, cols=1,\n",
    "    shared_xaxes=True,               # общая ось X для обоих графиков\n",
    "    vertical_spacing=0.1,            # расстояние между графиками\n",
    "    subplot_titles=(\"Изменение весов модели\", \"Изменение ошибки MSE (Train)\")\n",
    ")\n",
    "\n",
    "# добавляем график - \"Изменения весов модели\"\n",
    "fig.add_trace(\n",
    "    go.Scatter(\n",
    "        y=weights_history,              # значения весов по оси Y\n",
    "        mode='lines',                   # тип графика — линия\n",
    "        name='Веса модели'\n",
    "    ),\n",
    "    row=1, col=1                        # расположение графика - поместить в 1-ю строку, 1-й столбец\n",
    ")                    \n",
    "\n",
    "# добавляем график - \"Изменения ошибки\"\n",
    "fig.add_trace(\n",
    "    go.Scatter(\n",
    "        y=mse_history,                  # значения ошибок по оси Y\n",
    "        mode='lines',                   # тип графика — линия\n",
    "        name='MSE'\n",
    "    ),\n",
    "    row=2, col=1\n",
    ")\n",
    "\n",
    "# общие настройки макета графика\n",
    "fig.update_layout(\n",
    "    height=700, width=800,\n",
    "    title_text=\"Динамика обучения модели (Градиентный спуск)\",\n",
    "    showlegend=False\n",
    ")\n",
    "\n",
    "# добавляем подписи осей\n",
    "fig.update_xaxes(title_text=\"Номер итерации\", row=2, col=1)\n",
    "fig.update_yaxes(title_text=\"Вес\", row=1, col=1)\n",
    "fig.update_yaxes(title_text=\"Ошибка\", row=2, col=1)\n",
    "\n",
    "# отображаем график\n",
    "fig.show()"
   ]
  },
  {
   "cell_type": "markdown",
   "id": "253ddd9e",
   "metadata": {},
   "source": [
    "Можно сделать следующие выводы:\n",
    "- Градиентный спуск успешно сошёлся примерно за 300 итераций.\n",
    "- Дальнейшие итерации не дают прироста в качестве, но и не вредят — это хороший признак стабильности.\n",
    "- Выбранная скорость обучения `η` подходит — не вызывает ни колебаний, ни слишком долгого обучения."
   ]
  },
  {
   "cell_type": "code",
   "execution_count": 28,
   "id": "6fd2d8e6",
   "metadata": {},
   "outputs": [
    {
     "name": "stdout",
     "output_type": "stream",
     "text": [
      "RMSE (Train) ->  0.6394006715820137\n",
      "RMSE (Test) ->  0.6272577065406721\n"
     ]
    }
   ],
   "source": [
    "# теперь используем вычисленный вес методом градиентного спуска в модели и измеряем качество\n",
    "weight = weights_history[-1]\n",
    "model = LinearRegression(fit_intercept=False)\n",
    "\n",
    "# вручную задаем коэффициенты\n",
    "model.coef_ = np.array([weight])\n",
    "model.intercept_ = 0.0  # так как fit_intercept=False\n",
    "\n",
    "# измеряем качество на обучении (train) и тестовых данных (test)\n",
    "preds_train = model.predict(X_train_scaled)\n",
    "preds_test = model.predict(X_test_scaled)\n",
    "\n",
    "# измеряем ошибки (без квадратов, используя RMSE)\n",
    "rmse_train = rmse(y_train_scaled, preds_train)\n",
    "rmse_test = rmse(y_test_scaled, preds_test)\n",
    "\n",
    "print('RMSE (Train) -> ', rmse_train)\n",
    "print('RMSE (Test) -> ', rmse_test)"
   ]
  },
  {
   "cell_type": "markdown",
   "id": "4ffc4f3a",
   "metadata": {},
   "source": [
    "Модель ошибается на 0.62$ на тестовой выборке. Вау, замечательный результат! 🎉 Однако не спеши радоваться, ты получил результат на отмасштабированных данных, <u>и это не доллары, а еденицы стандартного отклонения таргета!</u> - так как мы масштабировали его! Если хочешь узнать ошибку модели на реальных долларах, то тебе необходимо инвертировать результат масштабирования!"
   ]
  },
  {
   "cell_type": "code",
   "execution_count": 29,
   "id": "00c88c44",
   "metadata": {},
   "outputs": [
    {
     "name": "stdout",
     "output_type": "stream",
     "text": [
      "RMSE (Train) ->  3256.3170256607445\n",
      "RMSE (Test) ->  3194.475764674437\n"
     ]
    }
   ],
   "source": [
    "# инвертируем предсказания\n",
    "preds_train = scaler_target.inverse_transform(preds_train.reshape(-1, 1))\n",
    "preds_test = scaler_target.inverse_transform(preds_test.reshape(-1, 1))\n",
    "\n",
    "rmse_train = rmse(y_train, preds_train)\n",
    "rmse_test = rmse(y_test, preds_test)\n",
    "\n",
    "print('RMSE (Train) -> ', rmse_train)\n",
    "print('RMSE (Test) -> ', rmse_test)"
   ]
  },
  {
   "cell_type": "markdown",
   "id": "a458ba24",
   "metadata": {},
   "source": [
    "Вот теперь ты смотришь на реальные значения ошибки модели в долларах. \n",
    "- На обучении модель в среднем ошибается на 3256$, а на тестовых данных на 3194$.\n",
    "- Методы которые мы использовали для получения оптимальных весов модели принесли разные результаты:\n",
    "    - ✍️ _Аналитическое решение:_ RMSE (Test) -> 4930$\n",
    "    - 📉 _Градиентный спуск:_ RMSE (Test) -> 3194$\n",
    "\n",
    "Можно предположить, что масштабирование выборки позволило лучше сойтись методу градиентного спуска, чем аналитическое решение. Градиентный спуск дал на ~35.2% меньше RMSE, чем аналитическое решение — по тестовой выборке. Это круто! Вот возможные причины:\n",
    "- Градиентный спуск — не дошёл до \"аналитического\" минимума, а остановился раньше. \n",
    "    - Например, из-за `eps` или малой скорости обучения. Это могло случайно защитить от переобучения — своего рода \"early stopping\".\n",
    "- Аналитическое решение очень точно подогнало модель под тренировочные данные, включая шум, что ухудшило обобщающую способность (overfitting).\n",
    "- Масштабирование признаков `X` и `y` улучшило численную стабильность градиентного спуска, а аналитическое решение — страдало от численных ошибок - особенно если диапазон признака `TV` большой."
   ]
  },
  {
   "cell_type": "markdown",
   "id": "9e0fc07e",
   "metadata": {},
   "source": [
    "## 🧪 Base-line модели\n",
    "Base-line (базовая) модель — это простейшая модель, с которой мы сравниваем качество всех последующих, более сложных моделей. Она играет роль отправной точки в процессе построения ML-системы.\n",
    "\n",
    "Скорее всего у тебя возникает вопрос: \"А зачем их использовать?\"\n",
    "- Адекватность модели: позволяет убедиться, что более сложная модель действительно учится чему-то полезному.\n",
    "- Оценка метрик: новая модель должна действительно работать лучше предыдущей\n",
    "- Диагностика данных: если даже простая модель работает плохо — возможно у тебя проблемы в данных (много шума, плохое качество)\n",
    "\n",
    "Окей, а какие base-line модели обычно используют — простые, поэтому они так и называются \"base-line\". Во список base-line моделей применяемых для регресии:\n",
    "- Среднее значение\n",
    "    - $\\hat{y} = \\bar{y}_{\\text{train}}$  \n",
    "- Медианное значение\n",
    "    - $\\hat{y} = median({y}_{\\text{train}})$\n",
    "- Линейная регрессия без сложного препроцессинга данных и отбора признаков\n",
    "\n",
    "Если ты потратил кучу времени и сил на обучение модели, а затем оказывается, что она работает чуть лучше или даже хуже, чем base-line, то значит ты где-то \"накосячил\". В таком случае тебе необходимо будет проверить все этапы с самого начала и найти ошибку. Если модель слишком сложная, то скорее всего ты переобучаешься.\n",
    "\n",
    "## 🐣 Sklearn DummyRegressor\n",
    "В sklearn уже работает все из коробки. Для прогнозирования средним или медианой, используй [DummyRegressor](https://scikit-learn.org/stable/modules/generated/sklearn.dummy.DummyRegressor.html). Данный регрессор поддерживает множество различный вариантов построения base-line моделей: смотри параметр `strategy`"
   ]
  },
  {
   "cell_type": "code",
   "execution_count": 30,
   "id": "6ad193ba",
   "metadata": {},
   "outputs": [
    {
     "name": "stdout",
     "output_type": "stream",
     "text": [
      "RMSE | Mean Model | Train ->  5092.76447521383\n",
      "RMSE | Mean Model | Test ->  5631.496248777939\n",
      "\n",
      "RMSE | Median Model | Train ->  5171.677677504661\n",
      "RMSE | Median Model | Test ->  5641.475870727447\n"
     ]
    }
   ],
   "source": [
    "from sklearn.dummy import DummyRegressor\n",
    "\n",
    "# определим 2 base-line модели\n",
    "mean_model = DummyRegressor(strategy='mean')\n",
    "median_model = DummyRegressor(strategy='median')\n",
    "\n",
    "# обучим модели на тренировочной выборке\n",
    "mean_model.fit(X_train_matrix, y_train)\n",
    "median_model.fit(X_train_matrix, y_train)\n",
    "\n",
    "# провалидируем модели на тестовой выборке\n",
    "mean_preds_train = mean_model.predict(X_train_matrix)\n",
    "median_preds_train = median_model.predict(X_train_matrix)\n",
    "mean_preds_test = mean_model.predict(X_test_matrix)\n",
    "median_preds_test = median_model.predict(X_test_matrix)\n",
    "\n",
    "# измерим качество моделей\n",
    "rmse_mean_train = rmse(y_train, mean_preds_train)\n",
    "rmse_median_train = rmse(y_train, median_preds_train)\n",
    "rmse_mean_test = rmse(y_test, mean_preds_test)\n",
    "rmse_median_test = rmse(y_test, median_preds_test)\n",
    "\n",
    "print('RMSE | Mean Model | Train -> ', rmse_mean_train)\n",
    "print('RMSE | Mean Model | Test -> ', rmse_mean_test)\n",
    "print('\\nRMSE | Median Model | Train -> ', rmse_median_train)\n",
    "print('RMSE | Median Model | Test -> ', rmse_median_test)"
   ]
  },
  {
   "cell_type": "markdown",
   "id": "a7e12d54",
   "metadata": {},
   "source": [
    "- Так как в данных не особо много выбросов, то модели практически не отличаются друг от друга по качеству.\n",
    "\n",
    "Основная цель построения base-line моделей это понимать примерный рост качества последующих моделей или улучшений, то давай сравним, насколько модель линейной регрессии превосходит простую модель, которая всегда предсказывает среднее значение таргета. Вот так я посчитал процентное улучшение _модели B_ относительно _модели A_:\n",
    "\n",
    "$$\n",
    "\\text{Улучшение (\\%)} = \\left( \\frac{\\text{MSE}_\\text{A} - \\text{MSE}_\\text{B}}{\\text{MSE}_\\text{A}} \\right) \\cdot 100\n",
    "$$\n",
    "\n",
    "Разумеется, вместо _MSE_ можно использовать любу метрику: _RMSE_, _MAE_, ..."
   ]
  },
  {
   "cell_type": "code",
   "execution_count": 34,
   "id": "5bb0e90b",
   "metadata": {},
   "outputs": [
    {
     "name": "stdout",
     "output_type": "stream",
     "text": [
      "Процентное улучшение модели B относительно модели A: 43.27%\n"
     ]
    }
   ],
   "source": [
    "# закодим метрику\n",
    "def calculate_percentage_improvement(metric_a, metric_b):\n",
    "    return (metric_a - metric_b) / metric_a * 100\n",
    "\n",
    "# рассчитаем процентное улучшение модели B относительно модели A\n",
    "imporvement_pct = calculate_percentage_improvement(\n",
    "    metric_a=rmse_mean_test, metric_b=rmse_test\n",
    ")\n",
    "\n",
    "print(f'Процентное улучшение модели B относительно модели A: {imporvement_pct:.2f}%')"
   ]
  },
  {
   "cell_type": "markdown",
   "id": "aeb1157a",
   "metadata": {},
   "source": [
    "- Если сравнить построенную модель с base-line, то заметим, что модель дает на 43% лучшее качество чем base-line - круто! 💪"
   ]
  },
  {
   "cell_type": "markdown",
   "id": "d2748222",
   "metadata": {},
   "source": [
    "## Визуализация моделей 🎨\n",
    "Теперь давай посмотрим как выглядит зависимость между признаком `TV` и `Sales` и визуально сравним наши модели. Напоминаю, я показал 2 способа обучения: аналитическое и численное. Возникает вопрос: \"А какую выборку использовать чтобы оценить как хорошо модель обучилась?\". Ну, так как мы обучаем модель на тренировочной выборке, то именно на ней и необходимо посмотреть как модель подстроилась под данные."
   ]
  },
  {
   "cell_type": "code",
   "execution_count": 35,
   "id": "fecfce0a",
   "metadata": {},
   "outputs": [],
   "source": [
    "# аналитическое решение\n",
    "preds_train_analytical = regression_model.predict(X_train.to_frame())\n",
    "preds_test_analytical = regression_model.predict(X_test.to_frame())\n",
    "\n",
    "# градиентный спуск\n",
    "preds_train_gradient = model.predict(X_train_scaled)\n",
    "preds_test_gradient = model.predict(X_test_scaled)\n",
    "\n",
    "preds_train_gradient = scaler_target.inverse_transform(preds_train_gradient.reshape(-1, 1)).reshape(-1)\n",
    "preds_test_gradient = scaler_target.inverse_transform(preds_test_gradient.reshape(-1, 1)).reshape(-1)"
   ]
  },
  {
   "cell_type": "code",
   "execution_count": 36,
   "id": "6c8ca9f1",
   "metadata": {},
   "outputs": [
    {
     "data": {
      "application/vnd.plotly.v1+json": {
       "config": {
        "plotlyServerURL": "https://plot.ly"
       },
       "data": [
        {
         "mode": "markers",
         "name": "Выборка (Train)",
         "type": "scatter",
         "x": {
          "bdata": "AAAAAABS/EAAAAAAQJsFQQAAAACAC+VAAAAAAIBr7kAAAAAAAFgLQQAAAAAAp+JAAAAAAIA88UAAAAAAIPsBQQAAAACAiflAAAAAAMCg8kAAAAAAgBfzQAAAAACAjgRBAAAAAAD+wEAAAAAAAHi+QAAAAAAAp/JAAAAAAICX/0AAAAAAgOvxQAAAAACQrhFBAAAAAAAk00AAAAAAAB8IQQAAAAAwWhFBAAAAACCSBkEAAAAAQJD7QAAAAAAAPtdAAAAAADC+EUEAAAAAAPLSQAAAAACA6xFBAAAAAABD0kAAAAAA4GQAQQAAAAAAANlAAAAAAACD+EAAAAAAgJTzQAAAAACA/wZBAAAAAECbBUEAAAAAQLD+QAAAAAAAlglBAAAAAKBxAUEAAAAAIJIGQQAAAAAAJgtBAAAAACCBDUEAAAAAAMzQQAAAAABAa/1AAAAAAEDm9UAAAAAA4FMHQQAAAADAbvJAAAAAAICVB0EAAAAAQOz0QAAAAABQShBBAAAAAIBJ40AAAAAAoOUPQQAAAAAAyMlAAAAAACClB0EAAAAAQBcSQQAAAAAANhBBAAAAAGA1CkEAAAAAIEYCQQAAAACgEwBBAAAAAIAT7EAAAAAAIE8NQQAAAACgPwFBAAAAAAASBkEAAAAAALv3QAAAAACg6gpBAAAAAGAgAUEAAAAAQC0PQQAAAACAfPdAAAAAAEAj8EAAAAAAIDYNQQAAAACgcgVBAAAAACBPDUEAAAAAAHvRQAAAAACgFgxBAAAAAEBPEUEAAAAAIOkEQQAAAADgTQhBAAAAAMAN/kAAAAAA4AAAQQAAAAAAg9hAAAAAAGD1A0EAAAAAAF8OQQAAAAAguAhBAAAAAACWyUAAAAAAAASwQAAAAADA7PZAAAAAANALEEEAAAAAYN4LQQAAAABA+w5BAAAAAACwDUEAAAAAwEUNQQAAAAAA1QtBAAAAAEBLCkEAAAAA4EgNQQAAAACAOPpAAAAAAMDsBkEAAAAAoEEJQQAAAAAA/+RAAAAAAGB+AkEAAAAAYNUAQQAAAABASgZBAAAAAMDUCkEAAAAAwB0DQQAAAABw4xBBAAAAAEAGCUEAAAAAQFXwQAAAAAAAp/JAAAAAAEBd90AAAAAAgFj9QAAAAABAkAtBAAAAAADu20AAAAAAALPwQAAAAACAUg5BAAAAACCsCkEAAAAAgM76QAAAAAAAzMBAAAAAAMDN90AAAAAAYLgJQQAAAACgFARBAAAAAMAvEEEAAAAA4CwRQQAAAAAALNpAAAAAAJDmEEEAAAAAgATiQAAAAACAPglBAAAAAMCNEUEAAAAAwBL5QAAAAACwCBBBAAAAAAAS9kAAAAAAwGMIQQAAAACA//ZAAAAAAIC7CUEAAAAAALwLQQAAAADAjvVAAAAAAMD6DEEAAAAAQKAAQQAAAACgDgVBAAAAAADM0EAAAAAAABrtQAAAAADAPPJAAAAAAEBJAkEAAAAAgFwEQQAAAACAuuVAAAAAAIBqCkEAAAAAgNPlQAAAAAAA4IVAAAAAAICK/UAAAAAA4O8GQQAAAAAAgQBBAAAAAAD+AEEAAAAAwAb7QAAAAADADApBAAAAAABc0kAAAAAAIFUMQQAAAAAAqQpBAAAAAMB0EUEAAAAAgM76QAAAAAAAathAAAAAACDqCEEAAAAAIJMKQQAAAAAANwRBAAAAACAaEUE=",
          "dtype": "f8"
         },
         "y": {
          "bdata": "AAAAAAB8xUAAAAAAAADJQAAAAAAAusNAAAAAAADywkAAAAAAAKjGQAAAAAAAsL1AAAAAAACCxEAAAAAAAITMQAAAAAAAUMRAAAAAAABwx0AAAAAAAITMQAAAAAAA2sZAAAAAAAAgvEAAAAAAAMi5QAAAAAAAXMJAAAAAAAB8xUAAAAAAAErFQAAAAAAAzthAAAAAAACwvUAAAAAAANrGQAAAAAAATM1AAAAAAABGzkAAAAAAAD7HQAAAAAAA+MFAAAAAAAAAyUAAAAAAAMi5QAAAAAAAN9RAAAAAAAAsukAAAAAAAODFQAAAAAAAjsJAAAAAAADmxEAAAAAAADDBQAAAAAAAGs1AAAAAAACz0EAAAAAAAA7PQAAAAAAADs9AAAAAAABMzUAAAAAAADfUQAAAAAAA2sZAAAAAAABK1UAAAAAAACrCQAAAAAAAvMtAAAAAAAC0xEAAAAAAAOXQQAAAAAAAVsNAAAAAAACwzUAAAAAAAPrJQAAAAAAAzthAAAAAAAAYxUAAAAAAAKLXQAAAAAAA4LVAAAAAAADA0kAAAAAAAD7XQAAAAAAA/tBAAAAAAAD+0EAAAAAAAOXQQAAAAAAAMslAAAAAAAAMx0AAAAAAAA7PQAAAAAAARs5AAAAAAAAyyUAAAAAAAMDCQAAAAAAAodNAAAAAAAAexEAAAAAAAFbTQAAAAAAARMZAAAAAAADMwEAAAAAAAKrOQAAAAAAAistAAAAAAADIyUAAAAAAAEC/QAAAAAAAldVAAAAAAADn2EAAAAAAAI7SQAAAAAAA39FAAAAAAACwzUAAAAAAAJTRQAAAAAAAmsBAAAAAAACU0UAAAAAAAHXSQAAAAAAANtBAAAAAAAC0tEAAAAAAAACpQAAAAAAA4s1AAAAAAABwx0AAAAAAAEbOQAAAAAAAMNFAAAAAAADO2EAAAAAAAAbIQAAAAAAA/9RAAAAAAACz0EAAAAAAAKjWQAAAAAAAdsZAAAAAAAB4zkAAAAAAADLJQAAAAAAAwMJAAAAAAAAR0kAAAAAAAMDSQAAAAAAAtNRAAAAAAAAk00AAAAAAAILEQAAAAAAADMdAAAAAAAAS1kAAAAAAAPLCQAAAAAAADMdAAAAAAACOwkAAAAAAAMjJQAAAAAAALMpAAAAAAACEvEAAAAAAAJDKQAAAAAAAutNAAAAAAADUx0AAAAAAAE/QQAAAAAAAwLJAAAAAAADywkAAAAAAAPjRQAAAAAAAUsxAAAAAAADOyEAAAAAAANTXQAAAAAAAMMFAAAAAAABe2kAAAAAAABjFQAAAAAAA1MdAAAAAAACW2UAAAAAAAFjLQAAAAAAAutNAAAAAAAD+wEAAAAAAAETGQAAAAAAA8sJAAAAAAAA+10AAAAAAAOjMQAAAAAAAMslAAAAAAABqyEAAAAAAAMjJQAAAAAAAIMxAAAAAAAAMt0AAAAAAAPLCQAAAAAAAtsxAAAAAAAC6w0AAAAAAACTTQAAAAAAAUMRAAAAAAAAS1kAAAAAAALrDQAAAAAAAAJlAAAAAAACoxkAAAAAAALbMQAAAAAAAzNBAAAAAAADUx0AAAAAAAEDPQAAAAAAAmtBAAAAAAABYu0AAAAAAACzKQAAAAAAAlNFAAAAAAAAOz0AAAAAAADjIQAAAAAAAILxAAAAAAACO0kAAAAAAAPLSQAAAAAAAnMhAAAAAAADozEA=",
          "dtype": "f8"
         }
        },
        {
         "line": {
          "color": "blue"
         },
         "mode": "lines",
         "name": "Аналитическое решение",
         "type": "scatter",
         "x": {
          "bdata": "AAAAAABS/EAAAAAAQJsFQQAAAACAC+VAAAAAAIBr7kAAAAAAAFgLQQAAAAAAp+JAAAAAAIA88UAAAAAAIPsBQQAAAACAiflAAAAAAMCg8kAAAAAAgBfzQAAAAACAjgRBAAAAAAD+wEAAAAAAAHi+QAAAAAAAp/JAAAAAAICX/0AAAAAAgOvxQAAAAACQrhFBAAAAAAAk00AAAAAAAB8IQQAAAAAwWhFBAAAAACCSBkEAAAAAQJD7QAAAAAAAPtdAAAAAADC+EUEAAAAAAPLSQAAAAACA6xFBAAAAAABD0kAAAAAA4GQAQQAAAAAAANlAAAAAAACD+EAAAAAAgJTzQAAAAACA/wZBAAAAAECbBUEAAAAAQLD+QAAAAAAAlglBAAAAAKBxAUEAAAAAIJIGQQAAAAAAJgtBAAAAACCBDUEAAAAAAMzQQAAAAABAa/1AAAAAAEDm9UAAAAAA4FMHQQAAAADAbvJAAAAAAICVB0EAAAAAQOz0QAAAAABQShBBAAAAAIBJ40AAAAAAoOUPQQAAAAAAyMlAAAAAACClB0EAAAAAQBcSQQAAAAAANhBBAAAAAGA1CkEAAAAAIEYCQQAAAACgEwBBAAAAAIAT7EAAAAAAIE8NQQAAAACgPwFBAAAAAAASBkEAAAAAALv3QAAAAACg6gpBAAAAAGAgAUEAAAAAQC0PQQAAAACAfPdAAAAAAEAj8EAAAAAAIDYNQQAAAACgcgVBAAAAACBPDUEAAAAAAHvRQAAAAACgFgxBAAAAAEBPEUEAAAAAIOkEQQAAAADgTQhBAAAAAMAN/kAAAAAA4AAAQQAAAAAAg9hAAAAAAGD1A0EAAAAAAF8OQQAAAAAguAhBAAAAAACWyUAAAAAAAASwQAAAAADA7PZAAAAAANALEEEAAAAAYN4LQQAAAABA+w5BAAAAAACwDUEAAAAAwEUNQQAAAAAA1QtBAAAAAEBLCkEAAAAA4EgNQQAAAACAOPpAAAAAAMDsBkEAAAAAoEEJQQAAAAAA/+RAAAAAAGB+AkEAAAAAYNUAQQAAAABASgZBAAAAAMDUCkEAAAAAwB0DQQAAAABw4xBBAAAAAEAGCUEAAAAAQFXwQAAAAAAAp/JAAAAAAEBd90AAAAAAgFj9QAAAAABAkAtBAAAAAADu20AAAAAAALPwQAAAAACAUg5BAAAAACCsCkEAAAAAgM76QAAAAAAAzMBAAAAAAMDN90AAAAAAYLgJQQAAAACgFARBAAAAAMAvEEEAAAAA4CwRQQAAAAAALNpAAAAAAJDmEEEAAAAAgATiQAAAAACAPglBAAAAAMCNEUEAAAAAwBL5QAAAAACwCBBBAAAAAAAS9kAAAAAAwGMIQQAAAACA//ZAAAAAAIC7CUEAAAAAALwLQQAAAADAjvVAAAAAAMD6DEEAAAAAQKAAQQAAAACgDgVBAAAAAADM0EAAAAAAABrtQAAAAADAPPJAAAAAAEBJAkEAAAAAgFwEQQAAAACAuuVAAAAAAIBqCkEAAAAAgNPlQAAAAAAA4IVAAAAAAICK/UAAAAAA4O8GQQAAAAAAgQBBAAAAAAD+AEEAAAAAwAb7QAAAAADADApBAAAAAABc0kAAAAAAIFUMQQAAAAAAqQpBAAAAAMB0EUEAAAAAgM76QAAAAAAAathAAAAAACDqCEEAAAAAIJMKQQAAAAAANwRBAAAAACAaEUE=",
          "dtype": "f8"
         },
         "y": {
          "bdata": "iQvCAXS4wkDPU/Van5DMQAghZrGT0qtA/JZpdsEbtEDcsqk2MhPSQLuhO07RqKhAx9NBgZLJtkDOJ/rWlsXHQJ3b73544cBAswMUBI6guEBXvgSFjD25QFzITeZRLctAcae1m/F2hkAENZHABCSEQLuhO07RqLhAy2cgahDixEC5HJed7rC3QOXXlIpeYNdAaPpTGRNOmUBH6eUwsuPPQHACfiHS8NZAIzYSTAHXzUAD+lsEYTjCQBCwU8M7up5A+uL3wwZ110AjChfI+AuZQLkcl53usNdAMcHBq5wkmECeB+sCgazFQD8RPE+UhqBA6OSvafMzwEADFx1QzuK5QLqDx92aZ85Az1P1Wp+QzEArfEOOM0nEQKZ5F8m76dBAEZOSd84Px0AjNhJMAdfNQLo6Cw4l8tFA2sMCyNOA00Ast3hK1zSWQEtvPQZecsNANrzQ1MbzvEAvWd5GJ9fOQG4T17JzXrhAiVR+0ektz0DdCqA+Q6m7QPmnwgdjidVAnK5B1qZ/qUCAA5j5tBXVQMnxtfHICpFAn1/hCpJCz0D1bqykxerXQF3mwVaIbtVAlJiQuhVT0UA2kNVQvijIQC4B6D4WQcVAXvX7jiOPskC3S2Sfxl/TQMyiVSa0zcZAcg7m250tzUC9CGyOfV+/QBEMz23lytFAoIyPs2OkxkCBqM9z1JvUQGfc36jcDL9AQwxLeL5VtUCmDxULQE/TQJfQ8/jpWsxAt0tkn8Zf00AdAM5mMxyXQODchWE0kdJA4a24X1zi1kDZO4yZIaXLQESFh27VENBAu3VAysjdw0AUJ3FgTCjFQOjkr2nzM6BAiSiDTeFiykDz+EEsfhPUQI1E2GQRV9BApnkXybvpkEAY9oQFbix1QKCpUP/QTr5Ao3s2IsI21UC5ldOTBWzSQF8wMUvHetRAelQXHtCf00AxlcYnlFnTQDPfNRzTZdJAI+1VfIth0UCzfFD6pFvTQBaAGo0mVcFAoKlQ/9BOzkDsDoyU9bHQQPfkFh0NwqtAgx467BtzyEA5JLQ5PEHGQMCcSnf7d81AgrcJrG+80UBfXCzPz0XJQMxHjaDTU9ZAQ+BP9LWK0ECI/IfJ2Je1QLuhO07RqLhAO8YZNozjvkA+AgIX+WXDQAP6WwRhONJARBuFsFl2okAKP9ohyhO2QOpaGuI6C9RA5vUI+5Sh0UB+6PUGTrjBQCy3eErXNIZA1+LibEd4v0A+bATVdADRQLQ+ScAxjMpAVUiaDEVm1UCyyN5H6rTWQA3i8kLjTKFA0RahRfVX1kDblDXG+9GnQGonAsLkr9BAN9pERf0010BLfnc++ZLAQJ+sIn2gMtVAcg7m250tvUDT2UwwSx/QQLqDx92aZ75AwFOOp4UC0UAho+aHTFXSQL0XpsYYgLxA/eDYagAo00DwZGNDAPvFQA3weVa11stALLd4Stc0lkAT7DukqDyzQCkjmmFZHLhAOl/p9d8syEAX2BCVN+vKQPppu83vuaxAOfi4tTN20UAc4ln2/NqsQC0eqYqD60xAYHqgPwaHw0CleGSk8lLOQMVOndCv0cVAcae1m/F2xkCkL6jUfN3BQPjWjwk7ONFAVDlg1KlFmEAL80vUhLrSQGQOfyiEn9FAFWKmHPAT10B+6PUGTrjBQNeoYNVsI6BAr7x2jR540EDVublmDpHRQOMjI9ijucpAmO5naSCc1kA=",
          "dtype": "f8"
         }
        },
        {
         "line": {
          "color": "red"
         },
         "mode": "lines",
         "name": "Градиентный спуск",
         "type": "scatter",
         "x": {
          "bdata": "AAAAAABS/EAAAAAAQJsFQQAAAACAC+VAAAAAAIBr7kAAAAAAAFgLQQAAAAAAp+JAAAAAAIA88UAAAAAAIPsBQQAAAACAiflAAAAAAMCg8kAAAAAAgBfzQAAAAACAjgRBAAAAAAD+wEAAAAAAAHi+QAAAAAAAp/JAAAAAAICX/0AAAAAAgOvxQAAAAACQrhFBAAAAAAAk00AAAAAAAB8IQQAAAAAwWhFBAAAAACCSBkEAAAAAQJD7QAAAAAAAPtdAAAAAADC+EUEAAAAAAPLSQAAAAACA6xFBAAAAAABD0kAAAAAA4GQAQQAAAAAAANlAAAAAAACD+EAAAAAAgJTzQAAAAACA/wZBAAAAAECbBUEAAAAAQLD+QAAAAAAAlglBAAAAAKBxAUEAAAAAIJIGQQAAAAAAJgtBAAAAACCBDUEAAAAAAMzQQAAAAABAa/1AAAAAAEDm9UAAAAAA4FMHQQAAAADAbvJAAAAAAICVB0EAAAAAQOz0QAAAAABQShBBAAAAAIBJ40AAAAAAoOUPQQAAAAAAyMlAAAAAACClB0EAAAAAQBcSQQAAAAAANhBBAAAAAGA1CkEAAAAAIEYCQQAAAACgEwBBAAAAAIAT7EAAAAAAIE8NQQAAAACgPwFBAAAAAAASBkEAAAAAALv3QAAAAACg6gpBAAAAAGAgAUEAAAAAQC0PQQAAAACAfPdAAAAAAEAj8EAAAAAAIDYNQQAAAACgcgVBAAAAACBPDUEAAAAAAHvRQAAAAACgFgxBAAAAAEBPEUEAAAAAIOkEQQAAAADgTQhBAAAAAMAN/kAAAAAA4AAAQQAAAAAAg9hAAAAAAGD1A0EAAAAAAF8OQQAAAAAguAhBAAAAAACWyUAAAAAAAASwQAAAAADA7PZAAAAAANALEEEAAAAAYN4LQQAAAABA+w5BAAAAAACwDUEAAAAAwEUNQQAAAAAA1QtBAAAAAEBLCkEAAAAA4EgNQQAAAACAOPpAAAAAAMDsBkEAAAAAoEEJQQAAAAAA/+RAAAAAAGB+AkEAAAAAYNUAQQAAAABASgZBAAAAAMDUCkEAAAAAwB0DQQAAAABw4xBBAAAAAEAGCUEAAAAAQFXwQAAAAAAAp/JAAAAAAEBd90AAAAAAgFj9QAAAAABAkAtBAAAAAADu20AAAAAAALPwQAAAAACAUg5BAAAAACCsCkEAAAAAgM76QAAAAAAAzMBAAAAAAMDN90AAAAAAYLgJQQAAAACgFARBAAAAAMAvEEEAAAAA4CwRQQAAAAAALNpAAAAAAJDmEEEAAAAAgATiQAAAAACAPglBAAAAAMCNEUEAAAAAwBL5QAAAAACwCBBBAAAAAAAS9kAAAAAAwGMIQQAAAACA//ZAAAAAAIC7CUEAAAAAALwLQQAAAADAjvVAAAAAAMD6DEEAAAAAQKAAQQAAAACgDgVBAAAAAADM0EAAAAAAABrtQAAAAADAPPJAAAAAAEBJAkEAAAAAgFwEQQAAAACAuuVAAAAAAIBqCkEAAAAAgNPlQAAAAAAA4IVAAAAAAICK/UAAAAAA4O8GQQAAAAAAgQBBAAAAAAD+AEEAAAAAwAb7QAAAAADADApBAAAAAABc0kAAAAAAIFUMQQAAAAAAqQpBAAAAAMB0EUEAAAAAgM76QAAAAAAAathAAAAAACDqCEEAAAAAIJMKQQAAAAAANwRBAAAAACAaEUE=",
          "dtype": "f8"
         },
         "y": {
          "bdata": "HscHfoxyyEB8RlpYsv3NQHQH1f+M0sFAmB8YvzuRw0B1l/C4kSHRQKCSWryNYMFAXssbn1RSxEAkfX4IvErLQMjwd7xUacdAiLbjf/DWxECWr3t1JAPFQFaOWb2eNc1AvE2kJ31kvUB3A7bFnDq9QFNljRNE2cRATEXZyEuqyUCN6arFeJPEQMNiLbTQHdRAeiYj5qhfv0C47eQq89zPQF7zRyEA39NAFTe36Xy1zkCNnHucbSrIQIZA6KyKEcBAucx9lnIp1EBOa3yXWla/QDczmnMuS9RAN9w0hMg1v0AgulMMSxzKQMiK1g5rO8BAgEOhgp4Hx0BwV73+qzHFQNEc6hnqBs9AfEZaWLL9zUD7AVNxN1TJQGduNzEQetBARnJUp17kykAVN7fpfLXOQB4hoxv1DtFAloQZRXbv0UBxYFI2/e++QMaA23I928hAtzS1yq8OxkA2jM+sukXPQDFAluJTxMRA2uK6yZV2z0AE5TG4oLHFQG6MnfKYFNNA7nL4O8x+wUA9bg7MdNPSQA3BSxHfNb5A0EwLrDeCz0BPwuGGwGvUQEeczrJ5BdNAnFeeZmO10EAo4GbgkYLLQIb5Fw3O38lAkFlHD5Ahw0A/Dsyn2dzRQJiFuWwlv8pAmDiKQxpWzkAlamsNLL3GQJck1yDb+NBArLEYqOGnykDdyQBI047SQDiWykjopcZAtRFIqqPpw0AUUyVZi9PRQC5mvNhz381APw7Mp9nc0UCJ75lJjxC/QKDqp9CGaNFAmA92nNvW00BRW5J3FnnNQJsr1tHY/89AYEEXcroXyUDF4B2X2NHJQNIghizJL8BAghnfeZ/DzEC3QSE/DULSQEaxLzd5J9BAd2P46TcxvkDVfKkWdI68QP/hiwRmcMZAlORbaRHm0kB+xbCfllPRQIZTs6o2fNJAhyOSGOkA0kAOiE1KXNnRQE4/MkIZUNFAYjtw64e90EB0XyIUhtrRQPgOB+N4qsdAEATwo/T4zkC1tsTnp1rQQKpYK2w50MFAbCpVQnKsy0CnTjDQC3DKQNyCeKX6f85A0UAFnLbw0EDV/CKtGCPMQEEBGDaYhtNALrr47I1E0EAMiJVHQPzDQFNljRNE2cRAQix6ZkaaxkBmdN63QtTIQJe85+mBNtFAjga5XDaBwEDvxYbuJR/EQCHkzRdmPdJAqlA2XJfh0ED9ce+6TuLHQCbwUADWX71AhnZoyCbExkDDr1zd24bQQG/tfz7j2sxAsT57i9IA00DgjCtERL3TQEu8yvpVV8BADLDByeuI00BTsrw8T0LBQE/f7x1+WdBAcbe3JWMF1EC699/GID3HQMo1stW949JAQ/xY1PgexkCT+bztEAjQQGDuiL9gd8ZAKIcxpwWI0EAjhIvzykbRQJ+lbbcd7sVAjFZZXnG90UAvs+sBf0jKQNOMhmMBlc1AcWBSNv3vvkAzsDIsa1LDQNrJSEW3scRA844QdOWEy0Coob6CZRDNQIyWHBMf88FAWKXAzSnJ0EAi9G86xvfBQPMOl91A8LtAvOorVd/myEDbspk3SPvOQELfSj07McpA9C7OT0qOykAfl+brPvfHQHZnzyZEptBAzDmIq286v0CMvkiVyn/RQEV5YZJt4NBAGkFqiMby00D9ce+6TuLHQAhy3Jh1LcBAnSd91BU60EB/lY8NSdjQQCZwypZ69MxAH3Qxzk6v00A=",
          "dtype": "f8"
         }
        },
        {
         "line": {
          "color": "green"
         },
         "mode": "lines",
         "name": "Base-line (Mean)",
         "type": "scatter",
         "x": {
          "bdata": "AAAAAABS/EAAAAAAQJsFQQAAAACAC+VAAAAAAIBr7kAAAAAAAFgLQQAAAAAAp+JAAAAAAIA88UAAAAAAIPsBQQAAAACAiflAAAAAAMCg8kAAAAAAgBfzQAAAAACAjgRBAAAAAAD+wEAAAAAAAHi+QAAAAAAAp/JAAAAAAICX/0AAAAAAgOvxQAAAAACQrhFBAAAAAAAk00AAAAAAAB8IQQAAAAAwWhFBAAAAACCSBkEAAAAAQJD7QAAAAAAAPtdAAAAAADC+EUEAAAAAAPLSQAAAAACA6xFBAAAAAABD0kAAAAAA4GQAQQAAAAAAANlAAAAAAACD+EAAAAAAgJTzQAAAAACA/wZBAAAAAECbBUEAAAAAQLD+QAAAAAAAlglBAAAAAKBxAUEAAAAAIJIGQQAAAAAAJgtBAAAAACCBDUEAAAAAAMzQQAAAAABAa/1AAAAAAEDm9UAAAAAA4FMHQQAAAADAbvJAAAAAAICVB0EAAAAAQOz0QAAAAABQShBBAAAAAIBJ40AAAAAAoOUPQQAAAAAAyMlAAAAAACClB0EAAAAAQBcSQQAAAAAANhBBAAAAAGA1CkEAAAAAIEYCQQAAAACgEwBBAAAAAIAT7EAAAAAAIE8NQQAAAACgPwFBAAAAAAASBkEAAAAAALv3QAAAAACg6gpBAAAAAGAgAUEAAAAAQC0PQQAAAACAfPdAAAAAAEAj8EAAAAAAIDYNQQAAAACgcgVBAAAAACBPDUEAAAAAAHvRQAAAAACgFgxBAAAAAEBPEUEAAAAAIOkEQQAAAADgTQhBAAAAAMAN/kAAAAAA4AAAQQAAAAAAg9hAAAAAAGD1A0EAAAAAAF8OQQAAAAAguAhBAAAAAACWyUAAAAAAAASwQAAAAADA7PZAAAAAANALEEEAAAAAYN4LQQAAAABA+w5BAAAAAACwDUEAAAAAwEUNQQAAAAAA1QtBAAAAAEBLCkEAAAAA4EgNQQAAAACAOPpAAAAAAMDsBkEAAAAAoEEJQQAAAAAA/+RAAAAAAGB+AkEAAAAAYNUAQQAAAABASgZBAAAAAMDUCkEAAAAAwB0DQQAAAABw4xBBAAAAAEAGCUEAAAAAQFXwQAAAAAAAp/JAAAAAAEBd90AAAAAAgFj9QAAAAABAkAtBAAAAAADu20AAAAAAALPwQAAAAACAUg5BAAAAACCsCkEAAAAAgM76QAAAAAAAzMBAAAAAAMDN90AAAAAAYLgJQQAAAACgFARBAAAAAMAvEEEAAAAA4CwRQQAAAAAALNpAAAAAAJDmEEEAAAAAgATiQAAAAACAPglBAAAAAMCNEUEAAAAAwBL5QAAAAACwCBBBAAAAAAAS9kAAAAAAwGMIQQAAAACA//ZAAAAAAIC7CUEAAAAAALwLQQAAAADAjvVAAAAAAMD6DEEAAAAAQKAAQQAAAACgDgVBAAAAAADM0EAAAAAAABrtQAAAAADAPPJAAAAAAEBJAkEAAAAAgFwEQQAAAACAuuVAAAAAAIBqCkEAAAAAgNPlQAAAAAAA4IVAAAAAAICK/UAAAAAA4O8GQQAAAAAAgQBBAAAAAAD+AEEAAAAAwAb7QAAAAADADApBAAAAAABc0kAAAAAAIFUMQQAAAAAAqQpBAAAAAMB0EUEAAAAAgM76QAAAAAAAathAAAAAACDqCEEAAAAAIJMKQQAAAAAANwRBAAAAACAaEUE=",
          "dtype": "f8"
         },
         "y": {
          "bdata": "AAAAAACKy0AAAAAAAIrLQAAAAAAAistAAAAAAACKy0AAAAAAAIrLQAAAAAAAistAAAAAAACKy0AAAAAAAIrLQAAAAAAAistAAAAAAACKy0AAAAAAAIrLQAAAAAAAistAAAAAAACKy0AAAAAAAIrLQAAAAAAAistAAAAAAACKy0AAAAAAAIrLQAAAAAAAistAAAAAAACKy0AAAAAAAIrLQAAAAAAAistAAAAAAACKy0AAAAAAAIrLQAAAAAAAistAAAAAAACKy0AAAAAAAIrLQAAAAAAAistAAAAAAACKy0AAAAAAAIrLQAAAAAAAistAAAAAAACKy0AAAAAAAIrLQAAAAAAAistAAAAAAACKy0AAAAAAAIrLQAAAAAAAistAAAAAAACKy0AAAAAAAIrLQAAAAAAAistAAAAAAACKy0AAAAAAAIrLQAAAAAAAistAAAAAAACKy0AAAAAAAIrLQAAAAAAAistAAAAAAACKy0AAAAAAAIrLQAAAAAAAistAAAAAAACKy0AAAAAAAIrLQAAAAAAAistAAAAAAACKy0AAAAAAAIrLQAAAAAAAistAAAAAAACKy0AAAAAAAIrLQAAAAAAAistAAAAAAACKy0AAAAAAAIrLQAAAAAAAistAAAAAAACKy0AAAAAAAIrLQAAAAAAAistAAAAAAACKy0AAAAAAAIrLQAAAAAAAistAAAAAAACKy0AAAAAAAIrLQAAAAAAAistAAAAAAACKy0AAAAAAAIrLQAAAAAAAistAAAAAAACKy0AAAAAAAIrLQAAAAAAAistAAAAAAACKy0AAAAAAAIrLQAAAAAAAistAAAAAAACKy0AAAAAAAIrLQAAAAAAAistAAAAAAACKy0AAAAAAAIrLQAAAAAAAistAAAAAAACKy0AAAAAAAIrLQAAAAAAAistAAAAAAACKy0AAAAAAAIrLQAAAAAAAistAAAAAAACKy0AAAAAAAIrLQAAAAAAAistAAAAAAACKy0AAAAAAAIrLQAAAAAAAistAAAAAAACKy0AAAAAAAIrLQAAAAAAAistAAAAAAACKy0AAAAAAAIrLQAAAAAAAistAAAAAAACKy0AAAAAAAIrLQAAAAAAAistAAAAAAACKy0AAAAAAAIrLQAAAAAAAistAAAAAAACKy0AAAAAAAIrLQAAAAAAAistAAAAAAACKy0AAAAAAAIrLQAAAAAAAistAAAAAAACKy0AAAAAAAIrLQAAAAAAAistAAAAAAACKy0AAAAAAAIrLQAAAAAAAistAAAAAAACKy0AAAAAAAIrLQAAAAAAAistAAAAAAACKy0AAAAAAAIrLQAAAAAAAistAAAAAAACKy0AAAAAAAIrLQAAAAAAAistAAAAAAACKy0AAAAAAAIrLQAAAAAAAistAAAAAAACKy0AAAAAAAIrLQAAAAAAAistAAAAAAACKy0AAAAAAAIrLQAAAAAAAistAAAAAAACKy0AAAAAAAIrLQAAAAAAAistAAAAAAACKy0AAAAAAAIrLQAAAAAAAistAAAAAAACKy0AAAAAAAIrLQAAAAAAAistAAAAAAACKy0AAAAAAAIrLQAAAAAAAistAAAAAAACKy0AAAAAAAIrLQAAAAAAAistAAAAAAACKy0AAAAAAAIrLQAAAAAAAistAAAAAAACKy0AAAAAAAIrLQAAAAAAAistAAAAAAACKy0A=",
          "dtype": "f8"
         }
        }
       ],
       "layout": {
        "height": 900,
        "template": {
         "data": {
          "bar": [
           {
            "error_x": {
             "color": "#2a3f5f"
            },
            "error_y": {
             "color": "#2a3f5f"
            },
            "marker": {
             "line": {
              "color": "#E5ECF6",
              "width": 0.5
             },
             "pattern": {
              "fillmode": "overlay",
              "size": 10,
              "solidity": 0.2
             }
            },
            "type": "bar"
           }
          ],
          "barpolar": [
           {
            "marker": {
             "line": {
              "color": "#E5ECF6",
              "width": 0.5
             },
             "pattern": {
              "fillmode": "overlay",
              "size": 10,
              "solidity": 0.2
             }
            },
            "type": "barpolar"
           }
          ],
          "carpet": [
           {
            "aaxis": {
             "endlinecolor": "#2a3f5f",
             "gridcolor": "white",
             "linecolor": "white",
             "minorgridcolor": "white",
             "startlinecolor": "#2a3f5f"
            },
            "baxis": {
             "endlinecolor": "#2a3f5f",
             "gridcolor": "white",
             "linecolor": "white",
             "minorgridcolor": "white",
             "startlinecolor": "#2a3f5f"
            },
            "type": "carpet"
           }
          ],
          "choropleth": [
           {
            "colorbar": {
             "outlinewidth": 0,
             "ticks": ""
            },
            "type": "choropleth"
           }
          ],
          "contour": [
           {
            "colorbar": {
             "outlinewidth": 0,
             "ticks": ""
            },
            "colorscale": [
             [
              0,
              "#0d0887"
             ],
             [
              0.1111111111111111,
              "#46039f"
             ],
             [
              0.2222222222222222,
              "#7201a8"
             ],
             [
              0.3333333333333333,
              "#9c179e"
             ],
             [
              0.4444444444444444,
              "#bd3786"
             ],
             [
              0.5555555555555556,
              "#d8576b"
             ],
             [
              0.6666666666666666,
              "#ed7953"
             ],
             [
              0.7777777777777778,
              "#fb9f3a"
             ],
             [
              0.8888888888888888,
              "#fdca26"
             ],
             [
              1,
              "#f0f921"
             ]
            ],
            "type": "contour"
           }
          ],
          "contourcarpet": [
           {
            "colorbar": {
             "outlinewidth": 0,
             "ticks": ""
            },
            "type": "contourcarpet"
           }
          ],
          "heatmap": [
           {
            "colorbar": {
             "outlinewidth": 0,
             "ticks": ""
            },
            "colorscale": [
             [
              0,
              "#0d0887"
             ],
             [
              0.1111111111111111,
              "#46039f"
             ],
             [
              0.2222222222222222,
              "#7201a8"
             ],
             [
              0.3333333333333333,
              "#9c179e"
             ],
             [
              0.4444444444444444,
              "#bd3786"
             ],
             [
              0.5555555555555556,
              "#d8576b"
             ],
             [
              0.6666666666666666,
              "#ed7953"
             ],
             [
              0.7777777777777778,
              "#fb9f3a"
             ],
             [
              0.8888888888888888,
              "#fdca26"
             ],
             [
              1,
              "#f0f921"
             ]
            ],
            "type": "heatmap"
           }
          ],
          "histogram": [
           {
            "marker": {
             "pattern": {
              "fillmode": "overlay",
              "size": 10,
              "solidity": 0.2
             }
            },
            "type": "histogram"
           }
          ],
          "histogram2d": [
           {
            "colorbar": {
             "outlinewidth": 0,
             "ticks": ""
            },
            "colorscale": [
             [
              0,
              "#0d0887"
             ],
             [
              0.1111111111111111,
              "#46039f"
             ],
             [
              0.2222222222222222,
              "#7201a8"
             ],
             [
              0.3333333333333333,
              "#9c179e"
             ],
             [
              0.4444444444444444,
              "#bd3786"
             ],
             [
              0.5555555555555556,
              "#d8576b"
             ],
             [
              0.6666666666666666,
              "#ed7953"
             ],
             [
              0.7777777777777778,
              "#fb9f3a"
             ],
             [
              0.8888888888888888,
              "#fdca26"
             ],
             [
              1,
              "#f0f921"
             ]
            ],
            "type": "histogram2d"
           }
          ],
          "histogram2dcontour": [
           {
            "colorbar": {
             "outlinewidth": 0,
             "ticks": ""
            },
            "colorscale": [
             [
              0,
              "#0d0887"
             ],
             [
              0.1111111111111111,
              "#46039f"
             ],
             [
              0.2222222222222222,
              "#7201a8"
             ],
             [
              0.3333333333333333,
              "#9c179e"
             ],
             [
              0.4444444444444444,
              "#bd3786"
             ],
             [
              0.5555555555555556,
              "#d8576b"
             ],
             [
              0.6666666666666666,
              "#ed7953"
             ],
             [
              0.7777777777777778,
              "#fb9f3a"
             ],
             [
              0.8888888888888888,
              "#fdca26"
             ],
             [
              1,
              "#f0f921"
             ]
            ],
            "type": "histogram2dcontour"
           }
          ],
          "mesh3d": [
           {
            "colorbar": {
             "outlinewidth": 0,
             "ticks": ""
            },
            "type": "mesh3d"
           }
          ],
          "parcoords": [
           {
            "line": {
             "colorbar": {
              "outlinewidth": 0,
              "ticks": ""
             }
            },
            "type": "parcoords"
           }
          ],
          "pie": [
           {
            "automargin": true,
            "type": "pie"
           }
          ],
          "scatter": [
           {
            "fillpattern": {
             "fillmode": "overlay",
             "size": 10,
             "solidity": 0.2
            },
            "type": "scatter"
           }
          ],
          "scatter3d": [
           {
            "line": {
             "colorbar": {
              "outlinewidth": 0,
              "ticks": ""
             }
            },
            "marker": {
             "colorbar": {
              "outlinewidth": 0,
              "ticks": ""
             }
            },
            "type": "scatter3d"
           }
          ],
          "scattercarpet": [
           {
            "marker": {
             "colorbar": {
              "outlinewidth": 0,
              "ticks": ""
             }
            },
            "type": "scattercarpet"
           }
          ],
          "scattergeo": [
           {
            "marker": {
             "colorbar": {
              "outlinewidth": 0,
              "ticks": ""
             }
            },
            "type": "scattergeo"
           }
          ],
          "scattergl": [
           {
            "marker": {
             "colorbar": {
              "outlinewidth": 0,
              "ticks": ""
             }
            },
            "type": "scattergl"
           }
          ],
          "scattermap": [
           {
            "marker": {
             "colorbar": {
              "outlinewidth": 0,
              "ticks": ""
             }
            },
            "type": "scattermap"
           }
          ],
          "scattermapbox": [
           {
            "marker": {
             "colorbar": {
              "outlinewidth": 0,
              "ticks": ""
             }
            },
            "type": "scattermapbox"
           }
          ],
          "scatterpolar": [
           {
            "marker": {
             "colorbar": {
              "outlinewidth": 0,
              "ticks": ""
             }
            },
            "type": "scatterpolar"
           }
          ],
          "scatterpolargl": [
           {
            "marker": {
             "colorbar": {
              "outlinewidth": 0,
              "ticks": ""
             }
            },
            "type": "scatterpolargl"
           }
          ],
          "scatterternary": [
           {
            "marker": {
             "colorbar": {
              "outlinewidth": 0,
              "ticks": ""
             }
            },
            "type": "scatterternary"
           }
          ],
          "surface": [
           {
            "colorbar": {
             "outlinewidth": 0,
             "ticks": ""
            },
            "colorscale": [
             [
              0,
              "#0d0887"
             ],
             [
              0.1111111111111111,
              "#46039f"
             ],
             [
              0.2222222222222222,
              "#7201a8"
             ],
             [
              0.3333333333333333,
              "#9c179e"
             ],
             [
              0.4444444444444444,
              "#bd3786"
             ],
             [
              0.5555555555555556,
              "#d8576b"
             ],
             [
              0.6666666666666666,
              "#ed7953"
             ],
             [
              0.7777777777777778,
              "#fb9f3a"
             ],
             [
              0.8888888888888888,
              "#fdca26"
             ],
             [
              1,
              "#f0f921"
             ]
            ],
            "type": "surface"
           }
          ],
          "table": [
           {
            "cells": {
             "fill": {
              "color": "#EBF0F8"
             },
             "line": {
              "color": "white"
             }
            },
            "header": {
             "fill": {
              "color": "#C8D4E3"
             },
             "line": {
              "color": "white"
             }
            },
            "type": "table"
           }
          ]
         },
         "layout": {
          "annotationdefaults": {
           "arrowcolor": "#2a3f5f",
           "arrowhead": 0,
           "arrowwidth": 1
          },
          "autotypenumbers": "strict",
          "coloraxis": {
           "colorbar": {
            "outlinewidth": 0,
            "ticks": ""
           }
          },
          "colorscale": {
           "diverging": [
            [
             0,
             "#8e0152"
            ],
            [
             0.1,
             "#c51b7d"
            ],
            [
             0.2,
             "#de77ae"
            ],
            [
             0.3,
             "#f1b6da"
            ],
            [
             0.4,
             "#fde0ef"
            ],
            [
             0.5,
             "#f7f7f7"
            ],
            [
             0.6,
             "#e6f5d0"
            ],
            [
             0.7,
             "#b8e186"
            ],
            [
             0.8,
             "#7fbc41"
            ],
            [
             0.9,
             "#4d9221"
            ],
            [
             1,
             "#276419"
            ]
           ],
           "sequential": [
            [
             0,
             "#0d0887"
            ],
            [
             0.1111111111111111,
             "#46039f"
            ],
            [
             0.2222222222222222,
             "#7201a8"
            ],
            [
             0.3333333333333333,
             "#9c179e"
            ],
            [
             0.4444444444444444,
             "#bd3786"
            ],
            [
             0.5555555555555556,
             "#d8576b"
            ],
            [
             0.6666666666666666,
             "#ed7953"
            ],
            [
             0.7777777777777778,
             "#fb9f3a"
            ],
            [
             0.8888888888888888,
             "#fdca26"
            ],
            [
             1,
             "#f0f921"
            ]
           ],
           "sequentialminus": [
            [
             0,
             "#0d0887"
            ],
            [
             0.1111111111111111,
             "#46039f"
            ],
            [
             0.2222222222222222,
             "#7201a8"
            ],
            [
             0.3333333333333333,
             "#9c179e"
            ],
            [
             0.4444444444444444,
             "#bd3786"
            ],
            [
             0.5555555555555556,
             "#d8576b"
            ],
            [
             0.6666666666666666,
             "#ed7953"
            ],
            [
             0.7777777777777778,
             "#fb9f3a"
            ],
            [
             0.8888888888888888,
             "#fdca26"
            ],
            [
             1,
             "#f0f921"
            ]
           ]
          },
          "colorway": [
           "#636efa",
           "#EF553B",
           "#00cc96",
           "#ab63fa",
           "#FFA15A",
           "#19d3f3",
           "#FF6692",
           "#B6E880",
           "#FF97FF",
           "#FECB52"
          ],
          "font": {
           "color": "#2a3f5f"
          },
          "geo": {
           "bgcolor": "white",
           "lakecolor": "white",
           "landcolor": "#E5ECF6",
           "showlakes": true,
           "showland": true,
           "subunitcolor": "white"
          },
          "hoverlabel": {
           "align": "left"
          },
          "hovermode": "closest",
          "mapbox": {
           "style": "light"
          },
          "paper_bgcolor": "white",
          "plot_bgcolor": "#E5ECF6",
          "polar": {
           "angularaxis": {
            "gridcolor": "white",
            "linecolor": "white",
            "ticks": ""
           },
           "bgcolor": "#E5ECF6",
           "radialaxis": {
            "gridcolor": "white",
            "linecolor": "white",
            "ticks": ""
           }
          },
          "scene": {
           "xaxis": {
            "backgroundcolor": "#E5ECF6",
            "gridcolor": "white",
            "gridwidth": 2,
            "linecolor": "white",
            "showbackground": true,
            "ticks": "",
            "zerolinecolor": "white"
           },
           "yaxis": {
            "backgroundcolor": "#E5ECF6",
            "gridcolor": "white",
            "gridwidth": 2,
            "linecolor": "white",
            "showbackground": true,
            "ticks": "",
            "zerolinecolor": "white"
           },
           "zaxis": {
            "backgroundcolor": "#E5ECF6",
            "gridcolor": "white",
            "gridwidth": 2,
            "linecolor": "white",
            "showbackground": true,
            "ticks": "",
            "zerolinecolor": "white"
           }
          },
          "shapedefaults": {
           "line": {
            "color": "#2a3f5f"
           }
          },
          "ternary": {
           "aaxis": {
            "gridcolor": "white",
            "linecolor": "white",
            "ticks": ""
           },
           "baxis": {
            "gridcolor": "white",
            "linecolor": "white",
            "ticks": ""
           },
           "bgcolor": "#E5ECF6",
           "caxis": {
            "gridcolor": "white",
            "linecolor": "white",
            "ticks": ""
           }
          },
          "title": {
           "x": 0.05
          },
          "xaxis": {
           "automargin": true,
           "gridcolor": "white",
           "linecolor": "white",
           "ticks": "",
           "title": {
            "standoff": 15
           },
           "zerolinecolor": "white",
           "zerolinewidth": 2
          },
          "yaxis": {
           "automargin": true,
           "gridcolor": "white",
           "linecolor": "white",
           "ticks": "",
           "title": {
            "standoff": 15
           },
           "zerolinecolor": "white",
           "zerolinewidth": 2
          }
         }
        },
        "title": {
         "text": "Зависимость между \"Инвестициями в рекламу на TV\" и \"Продажами\" (Train Data)"
        },
        "width": 1200,
        "xaxis": {
         "title": {
          "text": "TV Spent $"
         }
        },
        "yaxis": {
         "title": {
          "text": "Sales"
         }
        }
       }
      }
     },
     "metadata": {},
     "output_type": "display_data"
    }
   ],
   "source": [
    "# визуализируем\n",
    "fig = go.Figure()\n",
    "\n",
    "fig.add_scatter(\n",
    "    x=X_train, y=y_train, mode='markers',\n",
    "    name='Выборка (Train)'\n",
    ")\n",
    "\n",
    "fig.add_scatter(\n",
    "    x=X_train,\n",
    "    y=preds_train_analytical,\n",
    "    mode='lines',\n",
    "    name='Аналитическое решение',\n",
    "    line=dict(color='blue')\n",
    ")\n",
    "\n",
    "fig.add_scatter(\n",
    "    x=X_train,\n",
    "    y=preds_train_gradient,\n",
    "    mode='lines',\n",
    "    name='Градиентный спуск',\n",
    "    line=dict(color='red')\n",
    ")\n",
    "\n",
    "fig.add_scatter(\n",
    "    x=X_train,\n",
    "    y=mean_preds_train,\n",
    "    mode='lines',\n",
    "    name='Base-line (Mean)',\n",
    "    line=dict(color='green')\n",
    ")\n",
    "\n",
    "fig.update_layout(\n",
    "    title='Зависимость между \"Инвестициями в рекламу на TV\" и \"Продажами\" (Train Data)',\n",
    "    xaxis_title='TV Spent $',\n",
    "    yaxis_title='Sales',\n",
    "    height=900,\n",
    "    width=1200,\n",
    ")\n",
    "\n",
    "fig.show()"
   ]
  },
  {
   "cell_type": "markdown",
   "id": "400838fd",
   "metadata": {},
   "source": [
    "Обе модели за исключением base-line захватывают общую тенденцию: как аналитическое решение, так и градиентный спуск улавливают положительную зависимость между инвестициями в рекламу на ТВ и продажами — чем больше затраты, тем выше продажи.\n",
    "- _Аналитическое решение_ имеет более крутой наклон, что означает большую чувствительность модели к изменениям в инвестициях. Однако это может привести к переоценке продаж при высоких значениях бюджета.\n",
    "- _Градиентный спуск_ даёт более пологую линию, которая лучше проходит по центру облака точек, особенно в области высоких значений TV. Это может объяснять, почему у градиентного спуска _RMSE_ оказался ниже — он менее чувствителен к выбросам.\n",
    "\n",
    "Таким образом, несмотря на то, что _аналитическое решение_ является точным решением по формуле, _градиентный спуск_ с подобранными гиперпараметрами может дать более устойчивую модель при наличии выбросов и шума в данных."
   ]
  },
  {
   "cell_type": "markdown",
   "id": "e7c046ba",
   "metadata": {},
   "source": [
    "## 📊 Визуализация качества на тестовой выборке\n",
    "Обучающая выборка позволяет понять, насколько хорошо модель «подстраивается» под известные данные: улавливает ли она основные тренды, есть ли переобучение и т.д. Но что насчёт тестовой выборки? Как ты уже знаешь - тестовые данные используются для оценки обобщающей способности модели: насколько хорошо она справляется с новыми, не виденными ранее данными. Для визуализации качества на тестовой выборке часто применяются вот такие подходы:\n",
    "- **Scatterplot**\n",
    "    - Позволяет оценить, насколько сильно предсказания отклоняются от реальных значений. В идеале тестовые точки должны быть как можно ближе к регрессионной прямой - предсказанным значениям\n",
    "- **Distribution Analysis**\n",
    "    - Сравниваем распределение предсказанных значений с распределением реальных значений. Хорошее совпадение — признак корректной генерализации модели."
   ]
  },
  {
   "cell_type": "code",
   "execution_count": 37,
   "id": "3d1752fe",
   "metadata": {},
   "outputs": [
    {
     "data": {
      "application/vnd.plotly.v1+json": {
       "config": {
        "plotlyServerURL": "https://plot.ly"
       },
       "data": [
        {
         "marker": {
          "color": "blue",
          "opacity": 0.6
         },
         "mode": "markers",
         "name": "Фактические (Test)",
         "type": "scatter",
         "x": {
          "bdata": "AAAAACDvA0EAAAAAQNoHQQAAAACQ4BFBAAAAAADaxkAAAAAAYOQKQQAAAADAVfJAAAAAAAB3CkEAAAAAAGroQAAAAAAAJgtBAAAAAOBfBUEAAAAAAMPeQAAAAAAAcetAAAAAACCgDEEAAAAAABi1QAAAAABgBwFBAAAAAMDGBEEAAAAAAIS8QAAAAAAAHwhBAAAAAEBi8kAAAAAAwPoMQQAAAADgAwxBAAAAAICN8EAAAAAAAI7iQAAAAACgoA5BAAAAAIDY8EAAAAAAgB/qQAAAAADgDwpBAAAAACABAUEAAAAAAEr1QAAAAAAAaMBAAAAAAMBjCEEAAAAAAOXwQAAAAACgRwhBAAAAAACB0EAAAAAA8CERQQAAAADAEw1BAAAAAICV50AAAAAAkLQQQQAAAAAAnfxAAAAAAADb2kA=",
          "dtype": "f8"
         },
         "y": {
          "bdata": "AAAAAACB0EAAAAAAAODVQAAAAAAA5tRAAAAAAACEvEAAAAAAAB/YQAAAAAAAnMhAAAAAAADH1UAAAAAAAGjAQAAAAAAAdsZAAAAAAAAazUAAAAAAAI7CQAAAAAAA/sBAAAAAAAA+x0AAAAAAALS0QAAAAAAAHsRAAAAAAADaxkAAAAAAAHy1QAAAAAAANtBAAAAAAAASxkAAAAAAAHXSQAAAAAAAPdNAAAAAAABqyEAAAAAAAErFQAAAAAAArtVAAAAAAAAqwkAAAAAAAKS/QAAAAAAAMdVAAAAAAAAsykAAAAAAALTEQAAAAAAARLZAAAAAAAC0xEAAAAAAABLGQAAAAAAAJddAAAAAAAD+wEABAAAAAHLPQAAAAAAAN9RAAAAAAACoxkAAAAAAAFDUQAAAAAAAPsdAAAAAAAD0ukA=",
          "dtype": "f8"
         }
        },
        {
         "marker": {
          "color": "red",
          "opacity": 0.6
         },
         "mode": "lines+markers",
         "name": "Предсказания (Test)",
         "type": "scatter",
         "x": {
          "bdata": "AAAAACDvA0EAAAAAQNoHQQAAAACQ4BFBAAAAAADaxkAAAAAAYOQKQQAAAADAVfJAAAAAAAB3CkEAAAAAAGroQAAAAAAAJgtBAAAAAOBfBUEAAAAAAMPeQAAAAAAAcetAAAAAACCgDEEAAAAAABi1QAAAAABgBwFBAAAAAMDGBEEAAAAAAIS8QAAAAAAAHwhBAAAAAEBi8kAAAAAAwPoMQQAAAADgAwxBAAAAAICN8EAAAAAAAI7iQAAAAACgoA5BAAAAAIDY8EAAAAAAgB/qQAAAAADgDwpBAAAAACABAUEAAAAAAEr1QAAAAAAAaMBAAAAAAMBjCEEAAAAAAOXwQAAAAACgRwhBAAAAAACB0EAAAAAA8CERQQAAAADAEw1BAAAAAICV50AAAAAAkLQQQQAAAAAAnfxAAAAAAADb2kA=",
          "dtype": "f8"
         },
         "y": {
          "bdata": "7LuLUvi+zEBJ6E96xKnPQHFPyO4JQ9RASEVpwxPwvUDMdS2Nh/bQQAaF75MFu8RA7gIU9dDN0EAhJJHME3PCQB4hoxv1DtFAbU3CYn7RzUCI0/EWrsTAQEJ5qY9RA8NAD/A8gbWb0UBwPeUV8cq8QFU7ywpFlcpAmthHH39fzUCMLxUBWSO9QLjt5Crz3M9AnOJCu6y/xECMVllecb3RQD/eqhWMYdFALq2MeDARxEAKNQeV5lvBQAntls16WtJAsN6AZBstxEDeCcT8gMTCQNs+pPBtp9BAv913452QykDoIiNfhtTFQPs0qrGHVr1Ak/m87RAI0EBFPNSLwjHEQAXOgqox+89AsUdYwAfivkAaqVm/H7XTQLgRAK2/xtFAqIhM/oZLwkBewyaPsmPTQKD4+2l3jshA1oNuBJ9nwEA=",
          "dtype": "f8"
         }
        }
       ],
       "layout": {
        "height": 800,
        "template": {
         "data": {
          "bar": [
           {
            "error_x": {
             "color": "#2a3f5f"
            },
            "error_y": {
             "color": "#2a3f5f"
            },
            "marker": {
             "line": {
              "color": "#E5ECF6",
              "width": 0.5
             },
             "pattern": {
              "fillmode": "overlay",
              "size": 10,
              "solidity": 0.2
             }
            },
            "type": "bar"
           }
          ],
          "barpolar": [
           {
            "marker": {
             "line": {
              "color": "#E5ECF6",
              "width": 0.5
             },
             "pattern": {
              "fillmode": "overlay",
              "size": 10,
              "solidity": 0.2
             }
            },
            "type": "barpolar"
           }
          ],
          "carpet": [
           {
            "aaxis": {
             "endlinecolor": "#2a3f5f",
             "gridcolor": "white",
             "linecolor": "white",
             "minorgridcolor": "white",
             "startlinecolor": "#2a3f5f"
            },
            "baxis": {
             "endlinecolor": "#2a3f5f",
             "gridcolor": "white",
             "linecolor": "white",
             "minorgridcolor": "white",
             "startlinecolor": "#2a3f5f"
            },
            "type": "carpet"
           }
          ],
          "choropleth": [
           {
            "colorbar": {
             "outlinewidth": 0,
             "ticks": ""
            },
            "type": "choropleth"
           }
          ],
          "contour": [
           {
            "colorbar": {
             "outlinewidth": 0,
             "ticks": ""
            },
            "colorscale": [
             [
              0,
              "#0d0887"
             ],
             [
              0.1111111111111111,
              "#46039f"
             ],
             [
              0.2222222222222222,
              "#7201a8"
             ],
             [
              0.3333333333333333,
              "#9c179e"
             ],
             [
              0.4444444444444444,
              "#bd3786"
             ],
             [
              0.5555555555555556,
              "#d8576b"
             ],
             [
              0.6666666666666666,
              "#ed7953"
             ],
             [
              0.7777777777777778,
              "#fb9f3a"
             ],
             [
              0.8888888888888888,
              "#fdca26"
             ],
             [
              1,
              "#f0f921"
             ]
            ],
            "type": "contour"
           }
          ],
          "contourcarpet": [
           {
            "colorbar": {
             "outlinewidth": 0,
             "ticks": ""
            },
            "type": "contourcarpet"
           }
          ],
          "heatmap": [
           {
            "colorbar": {
             "outlinewidth": 0,
             "ticks": ""
            },
            "colorscale": [
             [
              0,
              "#0d0887"
             ],
             [
              0.1111111111111111,
              "#46039f"
             ],
             [
              0.2222222222222222,
              "#7201a8"
             ],
             [
              0.3333333333333333,
              "#9c179e"
             ],
             [
              0.4444444444444444,
              "#bd3786"
             ],
             [
              0.5555555555555556,
              "#d8576b"
             ],
             [
              0.6666666666666666,
              "#ed7953"
             ],
             [
              0.7777777777777778,
              "#fb9f3a"
             ],
             [
              0.8888888888888888,
              "#fdca26"
             ],
             [
              1,
              "#f0f921"
             ]
            ],
            "type": "heatmap"
           }
          ],
          "histogram": [
           {
            "marker": {
             "pattern": {
              "fillmode": "overlay",
              "size": 10,
              "solidity": 0.2
             }
            },
            "type": "histogram"
           }
          ],
          "histogram2d": [
           {
            "colorbar": {
             "outlinewidth": 0,
             "ticks": ""
            },
            "colorscale": [
             [
              0,
              "#0d0887"
             ],
             [
              0.1111111111111111,
              "#46039f"
             ],
             [
              0.2222222222222222,
              "#7201a8"
             ],
             [
              0.3333333333333333,
              "#9c179e"
             ],
             [
              0.4444444444444444,
              "#bd3786"
             ],
             [
              0.5555555555555556,
              "#d8576b"
             ],
             [
              0.6666666666666666,
              "#ed7953"
             ],
             [
              0.7777777777777778,
              "#fb9f3a"
             ],
             [
              0.8888888888888888,
              "#fdca26"
             ],
             [
              1,
              "#f0f921"
             ]
            ],
            "type": "histogram2d"
           }
          ],
          "histogram2dcontour": [
           {
            "colorbar": {
             "outlinewidth": 0,
             "ticks": ""
            },
            "colorscale": [
             [
              0,
              "#0d0887"
             ],
             [
              0.1111111111111111,
              "#46039f"
             ],
             [
              0.2222222222222222,
              "#7201a8"
             ],
             [
              0.3333333333333333,
              "#9c179e"
             ],
             [
              0.4444444444444444,
              "#bd3786"
             ],
             [
              0.5555555555555556,
              "#d8576b"
             ],
             [
              0.6666666666666666,
              "#ed7953"
             ],
             [
              0.7777777777777778,
              "#fb9f3a"
             ],
             [
              0.8888888888888888,
              "#fdca26"
             ],
             [
              1,
              "#f0f921"
             ]
            ],
            "type": "histogram2dcontour"
           }
          ],
          "mesh3d": [
           {
            "colorbar": {
             "outlinewidth": 0,
             "ticks": ""
            },
            "type": "mesh3d"
           }
          ],
          "parcoords": [
           {
            "line": {
             "colorbar": {
              "outlinewidth": 0,
              "ticks": ""
             }
            },
            "type": "parcoords"
           }
          ],
          "pie": [
           {
            "automargin": true,
            "type": "pie"
           }
          ],
          "scatter": [
           {
            "fillpattern": {
             "fillmode": "overlay",
             "size": 10,
             "solidity": 0.2
            },
            "type": "scatter"
           }
          ],
          "scatter3d": [
           {
            "line": {
             "colorbar": {
              "outlinewidth": 0,
              "ticks": ""
             }
            },
            "marker": {
             "colorbar": {
              "outlinewidth": 0,
              "ticks": ""
             }
            },
            "type": "scatter3d"
           }
          ],
          "scattercarpet": [
           {
            "marker": {
             "colorbar": {
              "outlinewidth": 0,
              "ticks": ""
             }
            },
            "type": "scattercarpet"
           }
          ],
          "scattergeo": [
           {
            "marker": {
             "colorbar": {
              "outlinewidth": 0,
              "ticks": ""
             }
            },
            "type": "scattergeo"
           }
          ],
          "scattergl": [
           {
            "marker": {
             "colorbar": {
              "outlinewidth": 0,
              "ticks": ""
             }
            },
            "type": "scattergl"
           }
          ],
          "scattermap": [
           {
            "marker": {
             "colorbar": {
              "outlinewidth": 0,
              "ticks": ""
             }
            },
            "type": "scattermap"
           }
          ],
          "scattermapbox": [
           {
            "marker": {
             "colorbar": {
              "outlinewidth": 0,
              "ticks": ""
             }
            },
            "type": "scattermapbox"
           }
          ],
          "scatterpolar": [
           {
            "marker": {
             "colorbar": {
              "outlinewidth": 0,
              "ticks": ""
             }
            },
            "type": "scatterpolar"
           }
          ],
          "scatterpolargl": [
           {
            "marker": {
             "colorbar": {
              "outlinewidth": 0,
              "ticks": ""
             }
            },
            "type": "scatterpolargl"
           }
          ],
          "scatterternary": [
           {
            "marker": {
             "colorbar": {
              "outlinewidth": 0,
              "ticks": ""
             }
            },
            "type": "scatterternary"
           }
          ],
          "surface": [
           {
            "colorbar": {
             "outlinewidth": 0,
             "ticks": ""
            },
            "colorscale": [
             [
              0,
              "#0d0887"
             ],
             [
              0.1111111111111111,
              "#46039f"
             ],
             [
              0.2222222222222222,
              "#7201a8"
             ],
             [
              0.3333333333333333,
              "#9c179e"
             ],
             [
              0.4444444444444444,
              "#bd3786"
             ],
             [
              0.5555555555555556,
              "#d8576b"
             ],
             [
              0.6666666666666666,
              "#ed7953"
             ],
             [
              0.7777777777777778,
              "#fb9f3a"
             ],
             [
              0.8888888888888888,
              "#fdca26"
             ],
             [
              1,
              "#f0f921"
             ]
            ],
            "type": "surface"
           }
          ],
          "table": [
           {
            "cells": {
             "fill": {
              "color": "#EBF0F8"
             },
             "line": {
              "color": "white"
             }
            },
            "header": {
             "fill": {
              "color": "#C8D4E3"
             },
             "line": {
              "color": "white"
             }
            },
            "type": "table"
           }
          ]
         },
         "layout": {
          "annotationdefaults": {
           "arrowcolor": "#2a3f5f",
           "arrowhead": 0,
           "arrowwidth": 1
          },
          "autotypenumbers": "strict",
          "coloraxis": {
           "colorbar": {
            "outlinewidth": 0,
            "ticks": ""
           }
          },
          "colorscale": {
           "diverging": [
            [
             0,
             "#8e0152"
            ],
            [
             0.1,
             "#c51b7d"
            ],
            [
             0.2,
             "#de77ae"
            ],
            [
             0.3,
             "#f1b6da"
            ],
            [
             0.4,
             "#fde0ef"
            ],
            [
             0.5,
             "#f7f7f7"
            ],
            [
             0.6,
             "#e6f5d0"
            ],
            [
             0.7,
             "#b8e186"
            ],
            [
             0.8,
             "#7fbc41"
            ],
            [
             0.9,
             "#4d9221"
            ],
            [
             1,
             "#276419"
            ]
           ],
           "sequential": [
            [
             0,
             "#0d0887"
            ],
            [
             0.1111111111111111,
             "#46039f"
            ],
            [
             0.2222222222222222,
             "#7201a8"
            ],
            [
             0.3333333333333333,
             "#9c179e"
            ],
            [
             0.4444444444444444,
             "#bd3786"
            ],
            [
             0.5555555555555556,
             "#d8576b"
            ],
            [
             0.6666666666666666,
             "#ed7953"
            ],
            [
             0.7777777777777778,
             "#fb9f3a"
            ],
            [
             0.8888888888888888,
             "#fdca26"
            ],
            [
             1,
             "#f0f921"
            ]
           ],
           "sequentialminus": [
            [
             0,
             "#0d0887"
            ],
            [
             0.1111111111111111,
             "#46039f"
            ],
            [
             0.2222222222222222,
             "#7201a8"
            ],
            [
             0.3333333333333333,
             "#9c179e"
            ],
            [
             0.4444444444444444,
             "#bd3786"
            ],
            [
             0.5555555555555556,
             "#d8576b"
            ],
            [
             0.6666666666666666,
             "#ed7953"
            ],
            [
             0.7777777777777778,
             "#fb9f3a"
            ],
            [
             0.8888888888888888,
             "#fdca26"
            ],
            [
             1,
             "#f0f921"
            ]
           ]
          },
          "colorway": [
           "#636efa",
           "#EF553B",
           "#00cc96",
           "#ab63fa",
           "#FFA15A",
           "#19d3f3",
           "#FF6692",
           "#B6E880",
           "#FF97FF",
           "#FECB52"
          ],
          "font": {
           "color": "#2a3f5f"
          },
          "geo": {
           "bgcolor": "white",
           "lakecolor": "white",
           "landcolor": "#E5ECF6",
           "showlakes": true,
           "showland": true,
           "subunitcolor": "white"
          },
          "hoverlabel": {
           "align": "left"
          },
          "hovermode": "closest",
          "mapbox": {
           "style": "light"
          },
          "paper_bgcolor": "white",
          "plot_bgcolor": "#E5ECF6",
          "polar": {
           "angularaxis": {
            "gridcolor": "white",
            "linecolor": "white",
            "ticks": ""
           },
           "bgcolor": "#E5ECF6",
           "radialaxis": {
            "gridcolor": "white",
            "linecolor": "white",
            "ticks": ""
           }
          },
          "scene": {
           "xaxis": {
            "backgroundcolor": "#E5ECF6",
            "gridcolor": "white",
            "gridwidth": 2,
            "linecolor": "white",
            "showbackground": true,
            "ticks": "",
            "zerolinecolor": "white"
           },
           "yaxis": {
            "backgroundcolor": "#E5ECF6",
            "gridcolor": "white",
            "gridwidth": 2,
            "linecolor": "white",
            "showbackground": true,
            "ticks": "",
            "zerolinecolor": "white"
           },
           "zaxis": {
            "backgroundcolor": "#E5ECF6",
            "gridcolor": "white",
            "gridwidth": 2,
            "linecolor": "white",
            "showbackground": true,
            "ticks": "",
            "zerolinecolor": "white"
           }
          },
          "shapedefaults": {
           "line": {
            "color": "#2a3f5f"
           }
          },
          "ternary": {
           "aaxis": {
            "gridcolor": "white",
            "linecolor": "white",
            "ticks": ""
           },
           "baxis": {
            "gridcolor": "white",
            "linecolor": "white",
            "ticks": ""
           },
           "bgcolor": "#E5ECF6",
           "caxis": {
            "gridcolor": "white",
            "linecolor": "white",
            "ticks": ""
           }
          },
          "title": {
           "x": 0.05
          },
          "xaxis": {
           "automargin": true,
           "gridcolor": "white",
           "linecolor": "white",
           "ticks": "",
           "title": {
            "standoff": 15
           },
           "zerolinecolor": "white",
           "zerolinewidth": 2
          },
          "yaxis": {
           "automargin": true,
           "gridcolor": "white",
           "linecolor": "white",
           "ticks": "",
           "title": {
            "standoff": 15
           },
           "zerolinecolor": "white",
           "zerolinewidth": 2
          }
         }
        },
        "title": {
         "text": "Сравнение фактических и предсказанных значений (Test Data)"
        },
        "width": 1100,
        "xaxis": {
         "title": {
          "text": "TV Spent $"
         }
        },
        "yaxis": {
         "title": {
          "text": "Sales"
         }
        }
       }
      }
     },
     "metadata": {},
     "output_type": "display_data"
    }
   ],
   "source": [
    "# Scatter plot\n",
    "fig = go.Figure()\n",
    "\n",
    "fig.add_trace(go.Scatter(\n",
    "    x=X_test,\n",
    "    y=y_test,\n",
    "    mode='markers',\n",
    "    name='Фактические (Test)',\n",
    "    marker=dict(color='blue', opacity=0.6),\n",
    "))\n",
    "\n",
    "fig.add_trace(go.Scatter(\n",
    "    x=X_test,\n",
    "    y=preds_test_gradient,\n",
    "    mode='lines+markers',        # можно использовать только линию (lines) или только точки (markers)\n",
    "    name='Предсказания (Test)',\n",
    "    marker=dict(color='red', opacity=0.6),\n",
    "))\n",
    "\n",
    "fig.update_layout(\n",
    "    title='Сравнение фактических и предсказанных значений (Test Data)',\n",
    "    xaxis_title='TV Spent $',\n",
    "    yaxis_title='Sales',\n",
    "    height=800,\n",
    "    width=1100,\n",
    ")\n",
    "\n",
    "fig.show()"
   ]
  },
  {
   "cell_type": "code",
   "execution_count": 39,
   "id": "af3ab496",
   "metadata": {},
   "outputs": [
    {
     "data": {
      "application/vnd.plotly.v1+json": {
       "config": {
        "plotlyServerURL": "https://plot.ly"
       },
       "data": [
        {
         "fill": "tozeroy",
         "line": {
          "color": "blue"
         },
         "mode": "lines",
         "name": "Известные",
         "opacity": 0.6,
         "type": "scatter",
         "x": {
          "bdata": "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",
          "dtype": "f8"
         },
         "y": {
          "bdata": "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",
          "dtype": "f8"
         }
        },
        {
         "fill": "tozeroy",
         "line": {
          "color": "red"
         },
         "mode": "lines",
         "name": "Прогноз",
         "opacity": 0.6,
         "type": "scatter",
         "x": {
          "bdata": "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",
          "dtype": "f8"
         },
         "y": {
          "bdata": "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",
          "dtype": "f8"
         }
        }
       ],
       "layout": {
        "height": 600,
        "template": {
         "data": {
          "bar": [
           {
            "error_x": {
             "color": "#2a3f5f"
            },
            "error_y": {
             "color": "#2a3f5f"
            },
            "marker": {
             "line": {
              "color": "#E5ECF6",
              "width": 0.5
             },
             "pattern": {
              "fillmode": "overlay",
              "size": 10,
              "solidity": 0.2
             }
            },
            "type": "bar"
           }
          ],
          "barpolar": [
           {
            "marker": {
             "line": {
              "color": "#E5ECF6",
              "width": 0.5
             },
             "pattern": {
              "fillmode": "overlay",
              "size": 10,
              "solidity": 0.2
             }
            },
            "type": "barpolar"
           }
          ],
          "carpet": [
           {
            "aaxis": {
             "endlinecolor": "#2a3f5f",
             "gridcolor": "white",
             "linecolor": "white",
             "minorgridcolor": "white",
             "startlinecolor": "#2a3f5f"
            },
            "baxis": {
             "endlinecolor": "#2a3f5f",
             "gridcolor": "white",
             "linecolor": "white",
             "minorgridcolor": "white",
             "startlinecolor": "#2a3f5f"
            },
            "type": "carpet"
           }
          ],
          "choropleth": [
           {
            "colorbar": {
             "outlinewidth": 0,
             "ticks": ""
            },
            "type": "choropleth"
           }
          ],
          "contour": [
           {
            "colorbar": {
             "outlinewidth": 0,
             "ticks": ""
            },
            "colorscale": [
             [
              0,
              "#0d0887"
             ],
             [
              0.1111111111111111,
              "#46039f"
             ],
             [
              0.2222222222222222,
              "#7201a8"
             ],
             [
              0.3333333333333333,
              "#9c179e"
             ],
             [
              0.4444444444444444,
              "#bd3786"
             ],
             [
              0.5555555555555556,
              "#d8576b"
             ],
             [
              0.6666666666666666,
              "#ed7953"
             ],
             [
              0.7777777777777778,
              "#fb9f3a"
             ],
             [
              0.8888888888888888,
              "#fdca26"
             ],
             [
              1,
              "#f0f921"
             ]
            ],
            "type": "contour"
           }
          ],
          "contourcarpet": [
           {
            "colorbar": {
             "outlinewidth": 0,
             "ticks": ""
            },
            "type": "contourcarpet"
           }
          ],
          "heatmap": [
           {
            "colorbar": {
             "outlinewidth": 0,
             "ticks": ""
            },
            "colorscale": [
             [
              0,
              "#0d0887"
             ],
             [
              0.1111111111111111,
              "#46039f"
             ],
             [
              0.2222222222222222,
              "#7201a8"
             ],
             [
              0.3333333333333333,
              "#9c179e"
             ],
             [
              0.4444444444444444,
              "#bd3786"
             ],
             [
              0.5555555555555556,
              "#d8576b"
             ],
             [
              0.6666666666666666,
              "#ed7953"
             ],
             [
              0.7777777777777778,
              "#fb9f3a"
             ],
             [
              0.8888888888888888,
              "#fdca26"
             ],
             [
              1,
              "#f0f921"
             ]
            ],
            "type": "heatmap"
           }
          ],
          "histogram": [
           {
            "marker": {
             "pattern": {
              "fillmode": "overlay",
              "size": 10,
              "solidity": 0.2
             }
            },
            "type": "histogram"
           }
          ],
          "histogram2d": [
           {
            "colorbar": {
             "outlinewidth": 0,
             "ticks": ""
            },
            "colorscale": [
             [
              0,
              "#0d0887"
             ],
             [
              0.1111111111111111,
              "#46039f"
             ],
             [
              0.2222222222222222,
              "#7201a8"
             ],
             [
              0.3333333333333333,
              "#9c179e"
             ],
             [
              0.4444444444444444,
              "#bd3786"
             ],
             [
              0.5555555555555556,
              "#d8576b"
             ],
             [
              0.6666666666666666,
              "#ed7953"
             ],
             [
              0.7777777777777778,
              "#fb9f3a"
             ],
             [
              0.8888888888888888,
              "#fdca26"
             ],
             [
              1,
              "#f0f921"
             ]
            ],
            "type": "histogram2d"
           }
          ],
          "histogram2dcontour": [
           {
            "colorbar": {
             "outlinewidth": 0,
             "ticks": ""
            },
            "colorscale": [
             [
              0,
              "#0d0887"
             ],
             [
              0.1111111111111111,
              "#46039f"
             ],
             [
              0.2222222222222222,
              "#7201a8"
             ],
             [
              0.3333333333333333,
              "#9c179e"
             ],
             [
              0.4444444444444444,
              "#bd3786"
             ],
             [
              0.5555555555555556,
              "#d8576b"
             ],
             [
              0.6666666666666666,
              "#ed7953"
             ],
             [
              0.7777777777777778,
              "#fb9f3a"
             ],
             [
              0.8888888888888888,
              "#fdca26"
             ],
             [
              1,
              "#f0f921"
             ]
            ],
            "type": "histogram2dcontour"
           }
          ],
          "mesh3d": [
           {
            "colorbar": {
             "outlinewidth": 0,
             "ticks": ""
            },
            "type": "mesh3d"
           }
          ],
          "parcoords": [
           {
            "line": {
             "colorbar": {
              "outlinewidth": 0,
              "ticks": ""
             }
            },
            "type": "parcoords"
           }
          ],
          "pie": [
           {
            "automargin": true,
            "type": "pie"
           }
          ],
          "scatter": [
           {
            "fillpattern": {
             "fillmode": "overlay",
             "size": 10,
             "solidity": 0.2
            },
            "type": "scatter"
           }
          ],
          "scatter3d": [
           {
            "line": {
             "colorbar": {
              "outlinewidth": 0,
              "ticks": ""
             }
            },
            "marker": {
             "colorbar": {
              "outlinewidth": 0,
              "ticks": ""
             }
            },
            "type": "scatter3d"
           }
          ],
          "scattercarpet": [
           {
            "marker": {
             "colorbar": {
              "outlinewidth": 0,
              "ticks": ""
             }
            },
            "type": "scattercarpet"
           }
          ],
          "scattergeo": [
           {
            "marker": {
             "colorbar": {
              "outlinewidth": 0,
              "ticks": ""
             }
            },
            "type": "scattergeo"
           }
          ],
          "scattergl": [
           {
            "marker": {
             "colorbar": {
              "outlinewidth": 0,
              "ticks": ""
             }
            },
            "type": "scattergl"
           }
          ],
          "scattermap": [
           {
            "marker": {
             "colorbar": {
              "outlinewidth": 0,
              "ticks": ""
             }
            },
            "type": "scattermap"
           }
          ],
          "scattermapbox": [
           {
            "marker": {
             "colorbar": {
              "outlinewidth": 0,
              "ticks": ""
             }
            },
            "type": "scattermapbox"
           }
          ],
          "scatterpolar": [
           {
            "marker": {
             "colorbar": {
              "outlinewidth": 0,
              "ticks": ""
             }
            },
            "type": "scatterpolar"
           }
          ],
          "scatterpolargl": [
           {
            "marker": {
             "colorbar": {
              "outlinewidth": 0,
              "ticks": ""
             }
            },
            "type": "scatterpolargl"
           }
          ],
          "scatterternary": [
           {
            "marker": {
             "colorbar": {
              "outlinewidth": 0,
              "ticks": ""
             }
            },
            "type": "scatterternary"
           }
          ],
          "surface": [
           {
            "colorbar": {
             "outlinewidth": 0,
             "ticks": ""
            },
            "colorscale": [
             [
              0,
              "#0d0887"
             ],
             [
              0.1111111111111111,
              "#46039f"
             ],
             [
              0.2222222222222222,
              "#7201a8"
             ],
             [
              0.3333333333333333,
              "#9c179e"
             ],
             [
              0.4444444444444444,
              "#bd3786"
             ],
             [
              0.5555555555555556,
              "#d8576b"
             ],
             [
              0.6666666666666666,
              "#ed7953"
             ],
             [
              0.7777777777777778,
              "#fb9f3a"
             ],
             [
              0.8888888888888888,
              "#fdca26"
             ],
             [
              1,
              "#f0f921"
             ]
            ],
            "type": "surface"
           }
          ],
          "table": [
           {
            "cells": {
             "fill": {
              "color": "#EBF0F8"
             },
             "line": {
              "color": "white"
             }
            },
            "header": {
             "fill": {
              "color": "#C8D4E3"
             },
             "line": {
              "color": "white"
             }
            },
            "type": "table"
           }
          ]
         },
         "layout": {
          "annotationdefaults": {
           "arrowcolor": "#2a3f5f",
           "arrowhead": 0,
           "arrowwidth": 1
          },
          "autotypenumbers": "strict",
          "coloraxis": {
           "colorbar": {
            "outlinewidth": 0,
            "ticks": ""
           }
          },
          "colorscale": {
           "diverging": [
            [
             0,
             "#8e0152"
            ],
            [
             0.1,
             "#c51b7d"
            ],
            [
             0.2,
             "#de77ae"
            ],
            [
             0.3,
             "#f1b6da"
            ],
            [
             0.4,
             "#fde0ef"
            ],
            [
             0.5,
             "#f7f7f7"
            ],
            [
             0.6,
             "#e6f5d0"
            ],
            [
             0.7,
             "#b8e186"
            ],
            [
             0.8,
             "#7fbc41"
            ],
            [
             0.9,
             "#4d9221"
            ],
            [
             1,
             "#276419"
            ]
           ],
           "sequential": [
            [
             0,
             "#0d0887"
            ],
            [
             0.1111111111111111,
             "#46039f"
            ],
            [
             0.2222222222222222,
             "#7201a8"
            ],
            [
             0.3333333333333333,
             "#9c179e"
            ],
            [
             0.4444444444444444,
             "#bd3786"
            ],
            [
             0.5555555555555556,
             "#d8576b"
            ],
            [
             0.6666666666666666,
             "#ed7953"
            ],
            [
             0.7777777777777778,
             "#fb9f3a"
            ],
            [
             0.8888888888888888,
             "#fdca26"
            ],
            [
             1,
             "#f0f921"
            ]
           ],
           "sequentialminus": [
            [
             0,
             "#0d0887"
            ],
            [
             0.1111111111111111,
             "#46039f"
            ],
            [
             0.2222222222222222,
             "#7201a8"
            ],
            [
             0.3333333333333333,
             "#9c179e"
            ],
            [
             0.4444444444444444,
             "#bd3786"
            ],
            [
             0.5555555555555556,
             "#d8576b"
            ],
            [
             0.6666666666666666,
             "#ed7953"
            ],
            [
             0.7777777777777778,
             "#fb9f3a"
            ],
            [
             0.8888888888888888,
             "#fdca26"
            ],
            [
             1,
             "#f0f921"
            ]
           ]
          },
          "colorway": [
           "#636efa",
           "#EF553B",
           "#00cc96",
           "#ab63fa",
           "#FFA15A",
           "#19d3f3",
           "#FF6692",
           "#B6E880",
           "#FF97FF",
           "#FECB52"
          ],
          "font": {
           "color": "#2a3f5f"
          },
          "geo": {
           "bgcolor": "white",
           "lakecolor": "white",
           "landcolor": "#E5ECF6",
           "showlakes": true,
           "showland": true,
           "subunitcolor": "white"
          },
          "hoverlabel": {
           "align": "left"
          },
          "hovermode": "closest",
          "mapbox": {
           "style": "light"
          },
          "paper_bgcolor": "white",
          "plot_bgcolor": "#E5ECF6",
          "polar": {
           "angularaxis": {
            "gridcolor": "white",
            "linecolor": "white",
            "ticks": ""
           },
           "bgcolor": "#E5ECF6",
           "radialaxis": {
            "gridcolor": "white",
            "linecolor": "white",
            "ticks": ""
           }
          },
          "scene": {
           "xaxis": {
            "backgroundcolor": "#E5ECF6",
            "gridcolor": "white",
            "gridwidth": 2,
            "linecolor": "white",
            "showbackground": true,
            "ticks": "",
            "zerolinecolor": "white"
           },
           "yaxis": {
            "backgroundcolor": "#E5ECF6",
            "gridcolor": "white",
            "gridwidth": 2,
            "linecolor": "white",
            "showbackground": true,
            "ticks": "",
            "zerolinecolor": "white"
           },
           "zaxis": {
            "backgroundcolor": "#E5ECF6",
            "gridcolor": "white",
            "gridwidth": 2,
            "linecolor": "white",
            "showbackground": true,
            "ticks": "",
            "zerolinecolor": "white"
           }
          },
          "shapedefaults": {
           "line": {
            "color": "#2a3f5f"
           }
          },
          "ternary": {
           "aaxis": {
            "gridcolor": "white",
            "linecolor": "white",
            "ticks": ""
           },
           "baxis": {
            "gridcolor": "white",
            "linecolor": "white",
            "ticks": ""
           },
           "bgcolor": "#E5ECF6",
           "caxis": {
            "gridcolor": "white",
            "linecolor": "white",
            "ticks": ""
           }
          },
          "title": {
           "x": 0.05
          },
          "xaxis": {
           "automargin": true,
           "gridcolor": "white",
           "linecolor": "white",
           "ticks": "",
           "title": {
            "standoff": 15
           },
           "zerolinecolor": "white",
           "zerolinewidth": 2
          },
          "yaxis": {
           "automargin": true,
           "gridcolor": "white",
           "linecolor": "white",
           "ticks": "",
           "title": {
            "standoff": 15
           },
           "zerolinecolor": "white",
           "zerolinewidth": 2
          }
         }
        },
        "title": {
         "text": "Сравнение плотностей распределений: Известные vs Прогноз (Test Data)"
        },
        "width": 1000,
        "xaxis": {
         "title": {
          "text": "Sales"
         }
        },
        "yaxis": {
         "title": {
          "text": "Плотность"
         }
        }
       }
      }
     },
     "metadata": {},
     "output_type": "display_data"
    }
   ],
   "source": [
    "from scipy.stats import gaussian_kde\n",
    "\n",
    "# Distribution plot\n",
    "# считаем оценку плотности для фактических и предсказанных значений\n",
    "kde_test = gaussian_kde(y_test)\n",
    "kde_pred = gaussian_kde(preds_test_gradient)\n",
    "\n",
    "# определим диапазон значений по которым бдуем строить плотности\n",
    "min_value = min(y_test.min(), preds_test_gradient.min())\n",
    "max_value = max(y_test.max(), preds_test_gradient.max())\n",
    "\n",
    "# также задаим сколько точек будем строить на графике\n",
    "n_points = 200\n",
    "\n",
    "# итоговый диапазон значений\n",
    "x_vals = np.linspace(min_value, max_value, n_points)\n",
    "\n",
    "# строим график плотностей\n",
    "fig = go.Figure()\n",
    "\n",
    "fig.add_trace(go.Scatter(\n",
    "    x=x_vals, y=kde_test(x_vals),\n",
    "    fill='tozeroy', name='Известные', mode='lines',\n",
    "    line=dict(color='blue'), opacity=0.6\n",
    "))\n",
    "\n",
    "fig.add_trace(go.Scatter(\n",
    "    x=x_vals, y=kde_pred(x_vals),\n",
    "    fill='tozeroy', name='Прогноз', mode='lines',\n",
    "    line=dict(color='red'), opacity=0.6\n",
    "))\n",
    "\n",
    "fig.update_layout(\n",
    "    title='Сравнение плотностей распределений: Известные vs Прогноз (Test Data)',\n",
    "    xaxis_title='Sales', yaxis_title='Плотность',\n",
    "    width=1000, height=600\n",
    ")\n",
    "\n",
    "fig.show()"
   ]
  },
  {
   "cell_type": "markdown",
   "id": "ba6d7260",
   "metadata": {},
   "source": [
    "Мы построили два графика. Как думаешь, какой из них даёт больше информации о модели? Как понять, глядя только на графики выше, есть ли проблемы с моделью или все хорошо? Смотри, первый график неплох, модель улавливает тренд и относительно хорошо предсказывает данные. И все, больше инсайтов сложно вытащить из данного графика. Все меняется если взглянуть на сравнение распределений. Вот основные выводы:\n",
    "- Во-первых, предсказанное распределение бимодально, что не соответствует истинному распределению \n",
    "- Модель завышает количество малых и больших значений по сравнению с реальными\n",
    "- Основной пик фактических значений модель предсказывает не с той плотностью и не в том месте.\n",
    "\n",
    "Все это свидетельствует о недостаточной обученности или переобученности модели. Однако, переобучения здесь быть не может, так как мы уже сравнили метрики на тестовой и тренировочной выборках, сильного расхождения замечено не было. Следовательно, можно сделать только один вывод - модель слишком простая (недообучена) и не может достаточно хорошо предсказывать \"Sales\", используя только один признак \"TV\". Необходимо использовать более сложную модель или использовать больше признаков."
   ]
  },
  {
   "cell_type": "markdown",
   "id": "92a43238",
   "metadata": {},
   "source": [
    "## Использование модели 🚀\n",
    "Отлично, мы обучили нашу модель и оценили ее качество. Теперь возникает вопрос: \"А как прогнозировать на новых данных?\" Прежде всего необходимо посмотреть на нашу модель:\n",
    "\n",
    "$$\n",
    "\\hat y = w_0 + w_1 \\cdot x\n",
    "$$\n",
    "\n",
    "Мы можем легко найти данные параметры в обученной модели, используя аттрибуты `.intercept_` и `.coef_` класса `LinearRegression` "
   ]
  },
  {
   "cell_type": "code",
   "execution_count": 40,
   "id": "be4d9105",
   "metadata": {},
   "outputs": [
    {
     "name": "stdout",
     "output_type": "stream",
     "text": [
      "Intercept: b0 ->  0.0\n",
      "Веса W ->  [0.76886883]\n"
     ]
    }
   ],
   "source": [
    "print('Intercept: b0 -> ', model.intercept_)\n",
    "print('Веса W -> ', model.coef_)"
   ]
  },
  {
   "cell_type": "markdown",
   "id": "55d7f881",
   "metadata": {},
   "source": [
    "Уравнение примет вид:\n",
    "$$\n",
    "\\hat y = 0.76886889 \\cdot x\n",
    "$$\n",
    "\n",
    "Теперь нас интересует вопрос:\n",
    "- \"Сколько мы получим продаж если инвестируем X долларов в рекламу на TV?\" 🤔\n",
    "\n",
    "Для этого просто необходимо подставить кол-во инвестируемых денег в уравнение выше"
   ]
  },
  {
   "cell_type": "code",
   "execution_count": 41,
   "id": "5fcb7e54",
   "metadata": {},
   "outputs": [
    {
     "name": "stdout",
     "output_type": "stream",
     "text": [
      "Размер инвестиций в рекламу на TV: 100000 $\n"
     ]
    }
   ],
   "source": [
    "# например, я хочу инвестировать 100k долларов в рекламу на TV\n",
    "tv_investment = 100_000\n",
    "print(f'Размер инвестиций в рекламу на TV: {tv_investment} $')"
   ]
  },
  {
   "cell_type": "markdown",
   "id": "4342cd11",
   "metadata": {},
   "source": [
    "**Важно** ⚠️\n",
    "- Помни, что ты обучал модель на отмасштабированных данных! Т.е. ты совершил процедуру преобразования данных перед тем как обучить модель - это называется _data transformation_. Следовательно, твоя модель ожидает аналогичный _transformation_ для любых входных данных! ☝️"
   ]
  },
  {
   "cell_type": "code",
   "execution_count": 42,
   "id": "f91f2d8e",
   "metadata": {},
   "outputs": [
    {
     "name": "stdout",
     "output_type": "stream",
     "text": [
      "Размер инвестиций в рекламу на TV (Scaled): -0.594374576598522 $\n",
      "\n",
      "Прогноз продаж \"Sales\" (Scaled): -0.594374576598522 $\n",
      "Прогноз продаж \"Sales\" (Real): 11772.626586262291 $\n"
     ]
    }
   ],
   "source": [
    "# масштабируем (скейлим)\n",
    "tv_investment_scaled = scaler_features.transform([[tv_investment]])\n",
    "print(f'Размер инвестиций в рекламу на TV (Scaled): {tv_investment_scaled.item()} $')\n",
    "\n",
    "# прогнозиурем\n",
    "sales_forecast_scaled = model.predict(tv_investment_scaled)\n",
    "sales_forecast = scaler_target.inverse_transform(sales_forecast_scaled.reshape(-1, 1))\n",
    "print(f'\\nПрогноз продаж \"Sales\" (Scaled): {tv_investment_scaled.item()} $')\n",
    "print(f'Прогноз продаж \"Sales\" (Real): {sales_forecast.item()} $')"
   ]
  },
  {
   "cell_type": "markdown",
   "id": "fe6d3d92",
   "metadata": {},
   "source": [
    "Получается, что с 100к \\$ инвестиций в рекламу на TV мы получим 11.7k \\$ продаж. Сомнительно, но окей .... 👌 Возможно не стоит вливать кучу денег только в рекламу на TV, а распределять бюджет между доступными каналами. Также модель линейной регрессии очень хорошо интерпретируется. Коэффициенты модели показывают, насколько изменятся продажи при увеличении бюджета на ТВ на единицу."
   ]
  },
  {
   "cell_type": "markdown",
   "id": "3f73d788",
   "metadata": {},
   "source": [
    "## Интерпретация масштабированных коэффициентов модели 🔍\n",
    "\n",
    "Это особенно полезно для бизнес-аналитики и объяснения модели заинтересованным сторонам 💵. В нашей модели это значение составляет 0.77 и значит, что \"при увеличении масштабированного значения расходов на рекламу на единицу, предсказанное масштабированное значение продаж увеличивается на 0.77\"\n",
    "\n",
    "На практике, это очень неудобно, так как бизнес не понимает что такое \"отмасштабированное значение\", нужно четко понимать: \n",
    "- \"Если я инвестирую X, то сколько получу на выходе??\" 🤔\n",
    "\n",
    "В таких случаях просто необходимо пересчитать полученный в модели вес/веса."
   ]
  },
  {
   "cell_type": "markdown",
   "id": "9a4894a7",
   "metadata": {},
   "source": [
    "## Алгоритм пересчета коэффициентов 🔁\n",
    "Ниже я приведу пример как пересчитываются веса модели, чтобы мы не теряли их интерпретацию и смогли объяснить \"бизнесу\". Предварителньо нужно только понимать, что мы масштабировали:\n",
    "- Только матрицу признаков $X$?\n",
    "- Матрицу признаков $X$ и таргет $y$?\n",
    "\n",
    "Это очень важно, так как влияет на формулу перерасчета коэффициентов."
   ]
  },
  {
   "cell_type": "markdown",
   "id": "7bc04cd4",
   "metadata": {},
   "source": [
    "_Пересчет коэффициентов для случая масштабирования таргета и признаков_\n",
    "\n",
    "Если вспомнить формулу по которой `StandardScaler` масштабирует данные, то получим:\n",
    "\n",
    "- **Признаки:**\n",
    "  $$\n",
    "  x_{\\text{scaled}} = \\frac{x - \\mu_x}{\\sigma_x}\n",
    "  $$\n",
    "\n",
    "- **Целевая переменная:**\n",
    "  $$\n",
    "  y_{\\text{scaled}} = \\frac{y - \\mu_y}{\\sigma_y}\n",
    "  $$\n",
    "\n",
    "После обучения модель имеет вид:\n",
    "\n",
    "$$\n",
    "\\hat{y}_{\\text{scaled}} = w_{\\text{scaled}} \\cdot x_{\\text{scaled}} + b_{\\text{scaled}}\n",
    "$$\n",
    "\n",
    "Подставим формулы обратно, чтобы выразить предсказание в исходных значениях:\n",
    "\n",
    "$$|\n",
    "y = \\sigma_y \\cdot \\left( w_{\\text{scaled}} \\cdot \\frac{x - \\mu_x}{\\sigma_x} + b_{\\text{scaled}} \\right) + \\mu_y\n",
    "$$\n",
    "\n",
    "Раскроем скобки:\n",
    "\n",
    "$$\n",
    "y = \\left( \\frac{\\sigma_y}{\\sigma_x} \\cdot w_{\\text{scaled}} \\right) \\cdot x + \\left( \\mu_y - \\frac{\\sigma_y \\cdot \\mu_x \\cdot w_{\\text{scaled}}}{\\sigma_x} + \\sigma_y \\cdot b_{\\text{scaled}} \\right)\n",
    "$$\n",
    "\n",
    "Таким образом, формулы для перерасчета весов примут вид:\n",
    "\n",
    "- **Коэффициенты:**\n",
    "\n",
    "  $$\n",
    "  w_{\\text{unscaled}} = \\frac{\\sigma_y}{\\sigma_x} \\cdot w_{\\text{scaled}}\n",
    "  $$\n",
    "\n",
    "- **Свободный член (интерцепт):**\n",
    "\n",
    "  $$\n",
    "  b_{\\text{unscaled}} = \\mu_y - \\frac{\\sigma_y \\cdot \\mu_x \\cdot w_{\\text{scaled}}}{\\sigma_x} + \\sigma_y \\cdot b_{\\text{scaled}}\n",
    "  $$"
   ]
  },
  {
   "cell_type": "code",
   "execution_count": 43,
   "id": "34630362",
   "metadata": {},
   "outputs": [],
   "source": [
    "from typing import Any, Tuple\n",
    "\n",
    "# определим функцию для пересчета коэффициентов и интерцепта из масштабированных значений в исходный масштаб\n",
    "def unscale_coefficients(\n",
    "    scaler_X: Any, scaler_y: Any, coef_scaled: np.ndarray, intercept_scaled: float\n",
    ") -> Tuple[np.ndarray, float]:\n",
    "    \"\"\"\n",
    "    Пересчитывает коэффициенты и интерцепт линейной регрессии\n",
    "    из масштабированных значений в исходный масштаб.\n",
    "\n",
    "    Paramters\n",
    "    ---------\n",
    "    scaler_X:\n",
    "        Scaler, применённый к признакам X_train.\n",
    "    scaler_y:\n",
    "        Scaler, применённый к таргету y_train.\n",
    "    coef_scaled: n.ndarray\n",
    "        Коэффициенты модели после масштабирования.\n",
    "    intercept_scaled: float\n",
    "        Интерцепт модели после масштабирования.\n",
    "    \n",
    "    Returns\n",
    "    -------\n",
    "    coef_unscaled: np.ndarray\n",
    "        Коэффициенты в исходном масштабе.\n",
    "    intercept_unscaled: float\n",
    "        Интерцепт в исходном масштабе.\n",
    "    \"\"\"\n",
    "    coef_unscaled = coef_scaled * (scaler_y.scale_ / scaler_X.scale_)\n",
    "    intercept_unscaled = scaler_y.mean_ - np.sum(coef_unscaled * scaler_X.mean_) + intercept_scaled * scaler_y.scale_\n",
    "    return coef_unscaled, intercept_unscaled"
   ]
  },
  {
   "cell_type": "code",
   "execution_count": 44,
   "id": "a532a72f",
   "metadata": {},
   "outputs": [
    {
     "name": "stdout",
     "output_type": "stream",
     "text": [
      "Коэффициент модели (Масштабированный): [0.76886883]\n",
      "Коэффициент модели (Пересчитанный): [0.04652944]\n"
     ]
    }
   ],
   "source": [
    "# осуществляем пересчет коэффициентов и интерцепта\n",
    "coef_unscaled, intercept_unscaled = unscale_coefficients(\n",
    "    scaler_X=scaler_features,\n",
    "    scaler_y=scaler_target,\n",
    "    coef_scaled=model.coef_,\n",
    "    intercept_scaled=model.intercept_\n",
    ")\n",
    "\n",
    "print('Коэффициент модели (Масштабированный):', model.coef_)\n",
    "print('Коэффициент модели (Пересчитанный):', coef_unscaled)"
   ]
  },
  {
   "cell_type": "markdown",
   "id": "addae561",
   "metadata": {},
   "source": [
    "- Получается, что реальное значение веса это 0.04, значит если инвестировать 1$ в рекламу, то мы получим 0.04$ прибыли (меньше цента). Ну такое себе 🙃"
   ]
  },
  {
   "cell_type": "markdown",
   "id": "1804a0ea",
   "metadata": {},
   "source": [
    "## Влияние дубликатов 👯‍♂️\n",
    "Так как мы использовали только один признак, то есть высокая вероятность того, что одинаковое количество инвестиций в рекламу на \"TV\" могло приводить к разным значениям продаж. Например, инвестировали 200к, но в разных локациях (rural, suburban). "
   ]
  },
  {
   "cell_type": "code",
   "execution_count": 45,
   "id": "3141d108",
   "metadata": {},
   "outputs": [
    {
     "data": {
      "text/plain": [
       "TV\n",
       "17200.0     2\n",
       "199800.0    2\n",
       "240100.0    2\n",
       "237400.0    2\n",
       "177000.0    2\n",
       "Name: count, dtype: int64"
      ]
     },
     "execution_count": 45,
     "metadata": {},
     "output_type": "execute_result"
    }
   ],
   "source": [
    "# првоерим налчие дубликатов\n",
    "data_single['TV'].value_counts().head(5)"
   ]
  },
  {
   "cell_type": "markdown",
   "id": "98fc2cbc",
   "metadata": {},
   "source": [
    "- Получается, что в наших данных есть наблюдения которые ведут к одним и тем же значениям таргета. Как думаешь это хорошо или плохо?"
   ]
  },
  {
   "cell_type": "code",
   "execution_count": 46,
   "id": "4707cf86",
   "metadata": {},
   "outputs": [
    {
     "data": {
      "text/html": [
       "<div>\n",
       "<style scoped>\n",
       "    .dataframe tbody tr th:only-of-type {\n",
       "        vertical-align: middle;\n",
       "    }\n",
       "\n",
       "    .dataframe tbody tr th {\n",
       "        vertical-align: top;\n",
       "    }\n",
       "\n",
       "    .dataframe thead th {\n",
       "        text-align: right;\n",
       "    }\n",
       "</style>\n",
       "<table border=\"1\" class=\"dataframe\">\n",
       "  <thead>\n",
       "    <tr style=\"text-align: right;\">\n",
       "      <th></th>\n",
       "      <th>TV</th>\n",
       "      <th>Radio</th>\n",
       "      <th>Newspaper</th>\n",
       "      <th>Sales</th>\n",
       "      <th>Area</th>\n",
       "    </tr>\n",
       "  </thead>\n",
       "  <tbody>\n",
       "    <tr>\n",
       "      <th>97</th>\n",
       "      <td>184900.0</td>\n",
       "      <td>21000.0</td>\n",
       "      <td>22000.0</td>\n",
       "      <td>15500.0</td>\n",
       "      <td>urban</td>\n",
       "    </tr>\n",
       "    <tr>\n",
       "      <th>139</th>\n",
       "      <td>184900.0</td>\n",
       "      <td>43900.0</td>\n",
       "      <td>1700.0</td>\n",
       "      <td>20700.0</td>\n",
       "      <td>rural</td>\n",
       "    </tr>\n",
       "  </tbody>\n",
       "</table>\n",
       "</div>"
      ],
      "text/plain": [
       "           TV    Radio  Newspaper    Sales   Area\n",
       "97   184900.0  21000.0    22000.0  15500.0  urban\n",
       "139  184900.0  43900.0     1700.0  20700.0  rural"
      ]
     },
     "execution_count": 46,
     "metadata": {},
     "output_type": "execute_result"
    }
   ],
   "source": [
    "data[data['TV'] == 184900.0]"
   ]
  },
  {
   "cell_type": "markdown",
   "id": "5a6607c7",
   "metadata": {},
   "source": [
    "- Вот и доказательство, мы вложили 184к $ и получили разное количество продаж. Просто одна реклама проходила в местности _\"urban\"_, а другая в _\"rural\"_. А как это повлияет на модель? Давай проверим, ведь мы ее уже обучили:"
   ]
  },
  {
   "cell_type": "code",
   "execution_count": 47,
   "id": "642fa2c7",
   "metadata": {},
   "outputs": [
    {
     "data": {
      "text/plain": [
       "array([[15722.97588244],\n",
       "       [15722.97588244]])"
      ]
     },
     "execution_count": 47,
     "metadata": {},
     "output_type": "execute_result"
    }
   ],
   "source": [
    "# небольшой препроцессинг\n",
    "X_duplicated = data_single[data_single['TV'] == 184900.0].drop(columns='Sales')\n",
    "X_duplicated_scaled = scaler_features.transform(X_duplicated)\n",
    "\n",
    "# предсказываем\n",
    "preds = model.predict(X_duplicated_scaled)\n",
    "preds = scaler_target.inverse_transform(preds.reshape(-1, 1))\n",
    "preds"
   ]
  },
  {
   "cell_type": "markdown",
   "id": "d0146eb1",
   "metadata": {},
   "source": [
    "- В таком случаем модель пытается предсказать что-то среднее или между этими значениями - провести прямую так чтобы ошибка между 2-мя таргетами была минимальна. В нашем случае прогноз не совсем равен среднему 2-х таргетов по этим признакам. Потому что линейная регрессия не подгоняет прямую только под эти две точки. Она оптимизирует всю выборку — то есть она пытается минимизировать сумму квадратов ошибок по всем наблюдениям, а не просто усреднить значения в этих двух 😉"
   ]
  },
  {
   "cell_type": "code",
   "execution_count": 48,
   "id": "f91e12cf",
   "metadata": {},
   "outputs": [
    {
     "data": {
      "text/plain": [
       "np.float64(18100.0)"
      ]
     },
     "execution_count": 48,
     "metadata": {},
     "output_type": "execute_result"
    }
   ],
   "source": [
    "# среднее по таргетам для дубликатов\n",
    "data[data['TV'] == 184900.0]['Sales'].mean()"
   ]
  },
  {
   "cell_type": "markdown",
   "id": "0832faed",
   "metadata": {},
   "source": [
    "## Задание 💪\n",
    "- Для закрепления материала, предлагаю тебе проделать аналогичные шаги, но только для другого признака.\n",
    "    - Какой получился вес итоговой модели?\n",
    "    - Лучше ли этот признак в сравнении с признаком `TV`?\n",
    "    - Оцени качество модели с масштабированием и без него. Есть ли различия в качестве?"
   ]
  },
  {
   "cell_type": "code",
   "execution_count": 39,
   "id": "1cbd33bf",
   "metadata": {},
   "outputs": [],
   "source": [
    "# твой код 💻"
   ]
  }
 ],
 "metadata": {
  "kernelspec": {
   "display_name": "ml-course",
   "language": "python",
   "name": "python3"
  },
  "language_info": {
   "codemirror_mode": {
    "name": "ipython",
    "version": 3
   },
   "file_extension": ".py",
   "mimetype": "text/x-python",
   "name": "python",
   "nbconvert_exporter": "python",
   "pygments_lexer": "ipython3",
   "version": "3.12.11"
  }
 },
 "nbformat": 4,
 "nbformat_minor": 5
}

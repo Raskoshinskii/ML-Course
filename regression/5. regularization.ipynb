{
 "cells": [
  {
   "cell_type": "markdown",
   "id": "8bfbeaa5",
   "metadata": {},
   "source": [
    "## Регуляризация в линейных моделях 🔒\n",
    "TODO"
   ]
  },
  {
   "cell_type": "code",
   "execution_count": null,
   "id": "1b315ad1",
   "metadata": {},
   "outputs": [],
   "source": []
  }
 ],
 "metadata": {
  "language_info": {
   "name": "python"
  }
 },
 "nbformat": 4,
 "nbformat_minor": 5
}
